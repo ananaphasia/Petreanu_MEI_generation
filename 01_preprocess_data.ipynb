{
 "cells": [
  {
   "cell_type": "code",
   "execution_count": 1,
   "metadata": {},
   "outputs": [
    {
     "name": "stdout",
     "output_type": "stream",
     "text": [
      "d:\\Python\\Anastasia\\Petreanu Lab\\Petreanu_MEI_generation\n"
     ]
    }
   ],
   "source": [
    "import os, sys\n",
    "\n",
    "os.chdir('Petreanu_MEI_generation')\n",
    "sys.path.append(os.getcwd())\n",
    "\n",
    "print(os.getcwd())"
   ]
  },
  {
   "cell_type": "code",
   "execution_count": 2,
   "metadata": {},
   "outputs": [
    {
     "name": "stdout",
     "output_type": "stream",
     "text": [
      "This will delete all files in the runs/V1_MEI_in_vivo_validation_with_grid_mean_predictor_2/data folder. Automatically continuing...\n",
      "Deleting existing folder runs/V1_MEI_in_vivo_validation_with_grid_mean_predictor_2/data\n",
      "Copying data from runs/V1_MEI_in_vivo_validation_with_grid_mean_predictor_2/data_preprocessed to runs/V1_MEI_in_vivo_validation_with_grid_mean_predictor_2/data\n",
      "Folders to process: ['runs/V1_MEI_in_vivo_validation_with_grid_mean_predictor_2/data/LPE09665/2023_03_20', 'runs/V1_MEI_in_vivo_validation_with_grid_mean_predictor_2/data/LPE10883/2023_10_23', 'runs/V1_MEI_in_vivo_validation_with_grid_mean_predictor_2/data/LPE10883/2023_10_31', 'runs/V1_MEI_in_vivo_validation_with_grid_mean_predictor_2/data/LPE10884/2023_10_12', 'runs/V1_MEI_in_vivo_validation_with_grid_mean_predictor_2/data/LPE10885/2023_10_20', 'runs/V1_MEI_in_vivo_validation_with_grid_mean_predictor_2/data/LPE10919/2023_11_09', 'runs/V1_MEI_in_vivo_validation_with_grid_mean_predictor_2/data/LPE11086/2023_12_16', 'runs/V1_MEI_in_vivo_validation_with_grid_mean_predictor_2/data/LPE11086/2024_01_09', 'runs/V1_MEI_in_vivo_validation_with_grid_mean_predictor_2/data/LPE11495/2024_02_29', 'runs/V1_MEI_in_vivo_validation_with_grid_mean_predictor_2/data/LPE11998/2024_05_08', 'runs/V1_MEI_in_vivo_validation_with_grid_mean_predictor_2/data/LPE12223/2024_06_11', 'runs/V1_MEI_in_vivo_validation_with_grid_mean_predictor_2/data/LPE13998/2025_03_10']\n",
      "Working on folder: runs/V1_MEI_in_vivo_validation_with_grid_mean_predictor_2/data/LPE09665/2023_03_20\n"
     ]
    },
    {
     "data": {
      "application/vnd.jupyter.widget-view+json": {
       "model_id": "68c2a53e6798454a9439af07145ccccd",
       "version_major": 2,
       "version_minor": 0
      },
      "text/plain": [
       "behavior:   0%|          | 0/5600 [00:00<?, ?it/s]"
      ]
     },
     "metadata": {},
     "output_type": "display_data"
    },
    {
     "data": {
      "application/vnd.jupyter.widget-view+json": {
       "model_id": "bf4be5aaee5c4ce19efc7567eba4e1b5",
       "version_major": 2,
       "version_minor": 0
      },
      "text/plain": [
       "images:   0%|          | 0/5600 [00:00<?, ?it/s]"
      ]
     },
     "metadata": {},
     "output_type": "display_data"
    },
    {
     "data": {
      "application/vnd.jupyter.widget-view+json": {
       "model_id": "adf071500d4747e38e6ae60557f8d4e3",
       "version_major": 2,
       "version_minor": 0
      },
      "text/plain": [
       "pupil_center:   0%|          | 0/5600 [00:00<?, ?it/s]"
      ]
     },
     "metadata": {},
     "output_type": "display_data"
    },
    {
     "data": {
      "application/vnd.jupyter.widget-view+json": {
       "model_id": "bf2674b8cff144f4851d92b7bc9756dc",
       "version_major": 2,
       "version_minor": 0
      },
      "text/plain": [
       "responses:   0%|          | 0/5600 [00:00<?, ?it/s]"
      ]
     },
     "metadata": {},
     "output_type": "display_data"
    },
    {
     "name": "stdout",
     "output_type": "stream",
     "text": [
      "Working on folder: runs/V1_MEI_in_vivo_validation_with_grid_mean_predictor_2/data/LPE10883/2023_10_23\n"
     ]
    },
    {
     "data": {
      "application/vnd.jupyter.widget-view+json": {
       "model_id": "a7a05fbb256d44098f4c4a7627ef7357",
       "version_major": 2,
       "version_minor": 0
      },
      "text/plain": [
       "behavior:   0%|          | 0/5600 [00:00<?, ?it/s]"
      ]
     },
     "metadata": {},
     "output_type": "display_data"
    },
    {
     "data": {
      "application/vnd.jupyter.widget-view+json": {
       "model_id": "7131a4250add4ce8b354c7d207ee40ad",
       "version_major": 2,
       "version_minor": 0
      },
      "text/plain": [
       "images:   0%|          | 0/5600 [00:00<?, ?it/s]"
      ]
     },
     "metadata": {},
     "output_type": "display_data"
    },
    {
     "data": {
      "application/vnd.jupyter.widget-view+json": {
       "model_id": "b395ba149e5f4457abfde3204f248562",
       "version_major": 2,
       "version_minor": 0
      },
      "text/plain": [
       "pupil_center:   0%|          | 0/5600 [00:00<?, ?it/s]"
      ]
     },
     "metadata": {},
     "output_type": "display_data"
    },
    {
     "data": {
      "application/vnd.jupyter.widget-view+json": {
       "model_id": "9772109575d245c58ee66c4d6d3a65b2",
       "version_major": 2,
       "version_minor": 0
      },
      "text/plain": [
       "responses:   0%|          | 0/5600 [00:00<?, ?it/s]"
      ]
     },
     "metadata": {},
     "output_type": "display_data"
    },
    {
     "name": "stdout",
     "output_type": "stream",
     "text": [
      "Working on folder: runs/V1_MEI_in_vivo_validation_with_grid_mean_predictor_2/data/LPE10883/2023_10_31\n"
     ]
    },
    {
     "data": {
      "application/vnd.jupyter.widget-view+json": {
       "model_id": "f0267ef1ef36487eb8688b581fa72ab8",
       "version_major": 2,
       "version_minor": 0
      },
      "text/plain": [
       "behavior:   0%|          | 0/5600 [00:00<?, ?it/s]"
      ]
     },
     "metadata": {},
     "output_type": "display_data"
    },
    {
     "data": {
      "application/vnd.jupyter.widget-view+json": {
       "model_id": "b8af94a060aa49e19d78a91e31129d1d",
       "version_major": 2,
       "version_minor": 0
      },
      "text/plain": [
       "images:   0%|          | 0/5600 [00:00<?, ?it/s]"
      ]
     },
     "metadata": {},
     "output_type": "display_data"
    },
    {
     "data": {
      "application/vnd.jupyter.widget-view+json": {
       "model_id": "f721b00cfac443098ed6b07c783044f6",
       "version_major": 2,
       "version_minor": 0
      },
      "text/plain": [
       "pupil_center:   0%|          | 0/5600 [00:00<?, ?it/s]"
      ]
     },
     "metadata": {},
     "output_type": "display_data"
    },
    {
     "data": {
      "application/vnd.jupyter.widget-view+json": {
       "model_id": "38d4e86ac75543d290a19ed3a2a4ce01",
       "version_major": 2,
       "version_minor": 0
      },
      "text/plain": [
       "responses:   0%|          | 0/5600 [00:00<?, ?it/s]"
      ]
     },
     "metadata": {},
     "output_type": "display_data"
    },
    {
     "name": "stdout",
     "output_type": "stream",
     "text": [
      "Working on folder: runs/V1_MEI_in_vivo_validation_with_grid_mean_predictor_2/data/LPE10884/2023_10_12\n"
     ]
    },
    {
     "data": {
      "application/vnd.jupyter.widget-view+json": {
       "model_id": "c4d37ba5cef64db4a7e1fc32d3a2d2e8",
       "version_major": 2,
       "version_minor": 0
      },
      "text/plain": [
       "behavior:   0%|          | 0/5600 [00:00<?, ?it/s]"
      ]
     },
     "metadata": {},
     "output_type": "display_data"
    },
    {
     "data": {
      "application/vnd.jupyter.widget-view+json": {
       "model_id": "61d6650cb7df42e1a55edfe9a40974ab",
       "version_major": 2,
       "version_minor": 0
      },
      "text/plain": [
       "images:   0%|          | 0/5600 [00:00<?, ?it/s]"
      ]
     },
     "metadata": {},
     "output_type": "display_data"
    },
    {
     "data": {
      "application/vnd.jupyter.widget-view+json": {
       "model_id": "b1b3f22518da422a99abac218cb287b9",
       "version_major": 2,
       "version_minor": 0
      },
      "text/plain": [
       "pupil_center:   0%|          | 0/5600 [00:00<?, ?it/s]"
      ]
     },
     "metadata": {},
     "output_type": "display_data"
    },
    {
     "data": {
      "application/vnd.jupyter.widget-view+json": {
       "model_id": "545b5f83ab7745008f042d6707d0c497",
       "version_major": 2,
       "version_minor": 0
      },
      "text/plain": [
       "responses:   0%|          | 0/5600 [00:00<?, ?it/s]"
      ]
     },
     "metadata": {},
     "output_type": "display_data"
    },
    {
     "name": "stdout",
     "output_type": "stream",
     "text": [
      "Working on folder: runs/V1_MEI_in_vivo_validation_with_grid_mean_predictor_2/data/LPE10885/2023_10_20\n"
     ]
    },
    {
     "data": {
      "application/vnd.jupyter.widget-view+json": {
       "model_id": "7e5771ef442f468da37d6b6a56bd719f",
       "version_major": 2,
       "version_minor": 0
      },
      "text/plain": [
       "behavior:   0%|          | 0/5600 [00:00<?, ?it/s]"
      ]
     },
     "metadata": {},
     "output_type": "display_data"
    },
    {
     "data": {
      "application/vnd.jupyter.widget-view+json": {
       "model_id": "5bfd872cf62049c5a88ac8550e6d4dca",
       "version_major": 2,
       "version_minor": 0
      },
      "text/plain": [
       "images:   0%|          | 0/5600 [00:00<?, ?it/s]"
      ]
     },
     "metadata": {},
     "output_type": "display_data"
    },
    {
     "data": {
      "application/vnd.jupyter.widget-view+json": {
       "model_id": "0520d380b12747d4a936abfa7fab8d36",
       "version_major": 2,
       "version_minor": 0
      },
      "text/plain": [
       "pupil_center:   0%|          | 0/5600 [00:00<?, ?it/s]"
      ]
     },
     "metadata": {},
     "output_type": "display_data"
    },
    {
     "data": {
      "application/vnd.jupyter.widget-view+json": {
       "model_id": "4fc6120b75f04759936ae7716456309b",
       "version_major": 2,
       "version_minor": 0
      },
      "text/plain": [
       "responses:   0%|          | 0/5600 [00:00<?, ?it/s]"
      ]
     },
     "metadata": {},
     "output_type": "display_data"
    },
    {
     "name": "stdout",
     "output_type": "stream",
     "text": [
      "Working on folder: runs/V1_MEI_in_vivo_validation_with_grid_mean_predictor_2/data/LPE10919/2023_11_09\n"
     ]
    },
    {
     "data": {
      "application/vnd.jupyter.widget-view+json": {
       "model_id": "e06807addd3446e5a8aeb8402028b14d",
       "version_major": 2,
       "version_minor": 0
      },
      "text/plain": [
       "behavior:   0%|          | 0/5600 [00:00<?, ?it/s]"
      ]
     },
     "metadata": {},
     "output_type": "display_data"
    },
    {
     "data": {
      "application/vnd.jupyter.widget-view+json": {
       "model_id": "0634c75b6a5843c2bc5441738d53da8c",
       "version_major": 2,
       "version_minor": 0
      },
      "text/plain": [
       "images:   0%|          | 0/5600 [00:00<?, ?it/s]"
      ]
     },
     "metadata": {},
     "output_type": "display_data"
    },
    {
     "data": {
      "application/vnd.jupyter.widget-view+json": {
       "model_id": "e213d956a7cb430db40c462be7cc58f3",
       "version_major": 2,
       "version_minor": 0
      },
      "text/plain": [
       "pupil_center:   0%|          | 0/5600 [00:00<?, ?it/s]"
      ]
     },
     "metadata": {},
     "output_type": "display_data"
    },
    {
     "data": {
      "application/vnd.jupyter.widget-view+json": {
       "model_id": "533a6f756cf54d19a210b4037b6a9368",
       "version_major": 2,
       "version_minor": 0
      },
      "text/plain": [
       "responses:   0%|          | 0/5600 [00:00<?, ?it/s]"
      ]
     },
     "metadata": {},
     "output_type": "display_data"
    },
    {
     "name": "stdout",
     "output_type": "stream",
     "text": [
      "Working on folder: runs/V1_MEI_in_vivo_validation_with_grid_mean_predictor_2/data/LPE11086/2023_12_16\n"
     ]
    },
    {
     "data": {
      "application/vnd.jupyter.widget-view+json": {
       "model_id": "c70eaab0a8954e79908d32fa49c051f4",
       "version_major": 2,
       "version_minor": 0
      },
      "text/plain": [
       "behavior:   0%|          | 0/5600 [00:00<?, ?it/s]"
      ]
     },
     "metadata": {},
     "output_type": "display_data"
    },
    {
     "data": {
      "application/vnd.jupyter.widget-view+json": {
       "model_id": "c60dbccc7f884d3fa81fc2f88a1b9f69",
       "version_major": 2,
       "version_minor": 0
      },
      "text/plain": [
       "images:   0%|          | 0/5600 [00:00<?, ?it/s]"
      ]
     },
     "metadata": {},
     "output_type": "display_data"
    },
    {
     "data": {
      "application/vnd.jupyter.widget-view+json": {
       "model_id": "b161a16874ac41eca01e522e6a5c3e32",
       "version_major": 2,
       "version_minor": 0
      },
      "text/plain": [
       "pupil_center:   0%|          | 0/5600 [00:00<?, ?it/s]"
      ]
     },
     "metadata": {},
     "output_type": "display_data"
    },
    {
     "data": {
      "application/vnd.jupyter.widget-view+json": {
       "model_id": "314d6b92df9b488c975b6129c078a247",
       "version_major": 2,
       "version_minor": 0
      },
      "text/plain": [
       "responses:   0%|          | 0/5600 [00:00<?, ?it/s]"
      ]
     },
     "metadata": {},
     "output_type": "display_data"
    },
    {
     "name": "stdout",
     "output_type": "stream",
     "text": [
      "Working on folder: runs/V1_MEI_in_vivo_validation_with_grid_mean_predictor_2/data/LPE11086/2024_01_09\n"
     ]
    },
    {
     "data": {
      "application/vnd.jupyter.widget-view+json": {
       "model_id": "44b3f61fb7a24ee6a050a39b51d4c0ff",
       "version_major": 2,
       "version_minor": 0
      },
      "text/plain": [
       "behavior:   0%|          | 0/5600 [00:00<?, ?it/s]"
      ]
     },
     "metadata": {},
     "output_type": "display_data"
    },
    {
     "data": {
      "application/vnd.jupyter.widget-view+json": {
       "model_id": "8f9f9d373d4f4fdc8c30a616ddfe79e1",
       "version_major": 2,
       "version_minor": 0
      },
      "text/plain": [
       "images:   0%|          | 0/5600 [00:00<?, ?it/s]"
      ]
     },
     "metadata": {},
     "output_type": "display_data"
    },
    {
     "data": {
      "application/vnd.jupyter.widget-view+json": {
       "model_id": "acbbc083563c44728e10735d5c08ee0c",
       "version_major": 2,
       "version_minor": 0
      },
      "text/plain": [
       "pupil_center:   0%|          | 0/5600 [00:00<?, ?it/s]"
      ]
     },
     "metadata": {},
     "output_type": "display_data"
    },
    {
     "data": {
      "application/vnd.jupyter.widget-view+json": {
       "model_id": "4634de25ed9845f89d37ae45b8603139",
       "version_major": 2,
       "version_minor": 0
      },
      "text/plain": [
       "responses:   0%|          | 0/5600 [00:00<?, ?it/s]"
      ]
     },
     "metadata": {},
     "output_type": "display_data"
    },
    {
     "name": "stdout",
     "output_type": "stream",
     "text": [
      "Working on folder: runs/V1_MEI_in_vivo_validation_with_grid_mean_predictor_2/data/LPE11495/2024_02_29\n"
     ]
    },
    {
     "data": {
      "application/vnd.jupyter.widget-view+json": {
       "model_id": "67afad30919c4280b5ea0b3fed84db40",
       "version_major": 2,
       "version_minor": 0
      },
      "text/plain": [
       "behavior:   0%|          | 0/5600 [00:00<?, ?it/s]"
      ]
     },
     "metadata": {},
     "output_type": "display_data"
    },
    {
     "data": {
      "application/vnd.jupyter.widget-view+json": {
       "model_id": "9b12f78e73ca4bf8a21321338864d6e1",
       "version_major": 2,
       "version_minor": 0
      },
      "text/plain": [
       "images:   0%|          | 0/5600 [00:00<?, ?it/s]"
      ]
     },
     "metadata": {},
     "output_type": "display_data"
    },
    {
     "data": {
      "application/vnd.jupyter.widget-view+json": {
       "model_id": "6ccb482c78f84db79498dc049d5b7ca1",
       "version_major": 2,
       "version_minor": 0
      },
      "text/plain": [
       "pupil_center:   0%|          | 0/5600 [00:00<?, ?it/s]"
      ]
     },
     "metadata": {},
     "output_type": "display_data"
    },
    {
     "data": {
      "application/vnd.jupyter.widget-view+json": {
       "model_id": "ec83135d8dcf44d4b5b220b11cccd59c",
       "version_major": 2,
       "version_minor": 0
      },
      "text/plain": [
       "responses:   0%|          | 0/5600 [00:00<?, ?it/s]"
      ]
     },
     "metadata": {},
     "output_type": "display_data"
    },
    {
     "name": "stdout",
     "output_type": "stream",
     "text": [
      "Working on folder: runs/V1_MEI_in_vivo_validation_with_grid_mean_predictor_2/data/LPE11998/2024_05_08\n"
     ]
    },
    {
     "data": {
      "application/vnd.jupyter.widget-view+json": {
       "model_id": "d02d529818e148429037d239552766b5",
       "version_major": 2,
       "version_minor": 0
      },
      "text/plain": [
       "behavior:   0%|          | 0/5600 [00:00<?, ?it/s]"
      ]
     },
     "metadata": {},
     "output_type": "display_data"
    },
    {
     "data": {
      "application/vnd.jupyter.widget-view+json": {
       "model_id": "4d8afaec68214e86b7473d63d5f4fe0d",
       "version_major": 2,
       "version_minor": 0
      },
      "text/plain": [
       "images:   0%|          | 0/5600 [00:00<?, ?it/s]"
      ]
     },
     "metadata": {},
     "output_type": "display_data"
    },
    {
     "data": {
      "application/vnd.jupyter.widget-view+json": {
       "model_id": "559df371a59e401fbd5ac86c9f735ca5",
       "version_major": 2,
       "version_minor": 0
      },
      "text/plain": [
       "pupil_center:   0%|          | 0/5600 [00:00<?, ?it/s]"
      ]
     },
     "metadata": {},
     "output_type": "display_data"
    },
    {
     "data": {
      "application/vnd.jupyter.widget-view+json": {
       "model_id": "5883cdb545a5402baacb464ebe307903",
       "version_major": 2,
       "version_minor": 0
      },
      "text/plain": [
       "responses:   0%|          | 0/5600 [00:00<?, ?it/s]"
      ]
     },
     "metadata": {},
     "output_type": "display_data"
    },
    {
     "name": "stdout",
     "output_type": "stream",
     "text": [
      "Working on folder: runs/V1_MEI_in_vivo_validation_with_grid_mean_predictor_2/data/LPE12223/2024_06_11\n"
     ]
    },
    {
     "data": {
      "application/vnd.jupyter.widget-view+json": {
       "model_id": "7650024aebab43bdaa663ed44f8c04db",
       "version_major": 2,
       "version_minor": 0
      },
      "text/plain": [
       "behavior:   0%|          | 0/5600 [00:00<?, ?it/s]"
      ]
     },
     "metadata": {},
     "output_type": "display_data"
    },
    {
     "data": {
      "application/vnd.jupyter.widget-view+json": {
       "model_id": "76e8e835266e4fa89ca7920c140b6f8f",
       "version_major": 2,
       "version_minor": 0
      },
      "text/plain": [
       "images:   0%|          | 0/5600 [00:00<?, ?it/s]"
      ]
     },
     "metadata": {},
     "output_type": "display_data"
    },
    {
     "data": {
      "application/vnd.jupyter.widget-view+json": {
       "model_id": "e28d1c0c0aa7408783585c42bf7e4f0c",
       "version_major": 2,
       "version_minor": 0
      },
      "text/plain": [
       "pupil_center:   0%|          | 0/5600 [00:00<?, ?it/s]"
      ]
     },
     "metadata": {},
     "output_type": "display_data"
    },
    {
     "data": {
      "application/vnd.jupyter.widget-view+json": {
       "model_id": "beacb63f3a544671a0f01117e72191b1",
       "version_major": 2,
       "version_minor": 0
      },
      "text/plain": [
       "responses:   0%|          | 0/5600 [00:00<?, ?it/s]"
      ]
     },
     "metadata": {},
     "output_type": "display_data"
    },
    {
     "name": "stdout",
     "output_type": "stream",
     "text": [
      "Working on folder: runs/V1_MEI_in_vivo_validation_with_grid_mean_predictor_2/data/LPE13998/2025_03_10\n"
     ]
    },
    {
     "data": {
      "application/vnd.jupyter.widget-view+json": {
       "model_id": "fca2c8df4fb04b48867d1964638b33d5",
       "version_major": 2,
       "version_minor": 0
      },
      "text/plain": [
       "behavior:   0%|          | 0/5600 [00:00<?, ?it/s]"
      ]
     },
     "metadata": {},
     "output_type": "display_data"
    },
    {
     "data": {
      "application/vnd.jupyter.widget-view+json": {
       "model_id": "3288ec5d38434b5488a21266b8b9f781",
       "version_major": 2,
       "version_minor": 0
      },
      "text/plain": [
       "images:   0%|          | 0/5600 [00:00<?, ?it/s]"
      ]
     },
     "metadata": {},
     "output_type": "display_data"
    },
    {
     "data": {
      "application/vnd.jupyter.widget-view+json": {
       "model_id": "33f08b4365194ac9a4bde29810ad4c75",
       "version_major": 2,
       "version_minor": 0
      },
      "text/plain": [
       "pupil_center:   0%|          | 0/5600 [00:00<?, ?it/s]"
      ]
     },
     "metadata": {},
     "output_type": "display_data"
    },
    {
     "data": {
      "application/vnd.jupyter.widget-view+json": {
       "model_id": "6df9a0d4d53e4454bc84f563dc784454",
       "version_major": 2,
       "version_minor": 0
      },
      "text/plain": [
       "responses:   0%|          | 0/5600 [00:00<?, ?it/s]"
      ]
     },
     "metadata": {},
     "output_type": "display_data"
    },
    {
     "name": "stdout",
     "output_type": "stream",
     "text": [
      "Working on:  runs/V1_MEI_in_vivo_validation_with_grid_mean_predictor_2/data/LPE09665/2023_03_20\n",
      "Working on:  runs/V1_MEI_in_vivo_validation_with_grid_mean_predictor_2/data/LPE10883/2023_10_23\n",
      "Working on:  runs/V1_MEI_in_vivo_validation_with_grid_mean_predictor_2/data/LPE10883/2023_10_31\n",
      "Working on:  runs/V1_MEI_in_vivo_validation_with_grid_mean_predictor_2/data/LPE10884/2023_10_12\n",
      "Working on:  runs/V1_MEI_in_vivo_validation_with_grid_mean_predictor_2/data/LPE10885/2023_10_20\n",
      "Working on:  runs/V1_MEI_in_vivo_validation_with_grid_mean_predictor_2/data/LPE10919/2023_11_09\n",
      "Working on:  runs/V1_MEI_in_vivo_validation_with_grid_mean_predictor_2/data/LPE11086/2023_12_16\n",
      "Working on:  runs/V1_MEI_in_vivo_validation_with_grid_mean_predictor_2/data/LPE11086/2024_01_09\n",
      "Working on:  runs/V1_MEI_in_vivo_validation_with_grid_mean_predictor_2/data/LPE11495/2024_02_29\n",
      "Working on:  runs/V1_MEI_in_vivo_validation_with_grid_mean_predictor_2/data/LPE11998/2024_05_08\n",
      "Working on:  runs/V1_MEI_in_vivo_validation_with_grid_mean_predictor_2/data/LPE12223/2024_06_11\n",
      "Working on:  runs/V1_MEI_in_vivo_validation_with_grid_mean_predictor_2/data/LPE13998/2025_03_10\n"
     ]
    }
   ],
   "source": [
    "import sys\n",
    "import os\n",
    "import shutil\n",
    "import numpy as np\n",
    "import glob\n",
    "from tqdm.auto import tqdm\n",
    "import datetime\n",
    "from scipy.stats import zscore\n",
    "from pathlib import Path\n",
    "from sensorium.utility.training import read_config, set_seed\n",
    "from nnfabrik.builder import get_data, get_model\n",
    "from sensorium.utility import prediction\n",
    "from sklearn.decomposition import PCA, NMF\n",
    "\n",
    "# Set working directory to root of repo\n",
    "current_path = os.getcwd()\n",
    "# Identify if path has 'molanalysis' as a folder in it\n",
    "if 'Petreanu_MEI_generation' in current_path:\n",
    "    # If so, set the path to the root of the repo\n",
    "    current_path = current_path.split('Petreanu_MEI_generation')[0] + 'Petreanu_MEI_generation'\n",
    "else:\n",
    "    raise FileNotFoundError(\n",
    "        f'This needs to be run somewhere from within the Petreanu_MEI_generation folder, not {current_path}')\n",
    "os.chdir(current_path)\n",
    "sys.path.append(current_path)\n",
    "\n",
    "run_config = read_config('run_config.yaml') # Must be set\n",
    "\n",
    "RUN_NAME = run_config['current_vals']['RUN_NAME'] # MUST be set. Creates a subfolder in the runs folder with this name, containing data, saved models, etc. IMPORTANT: all values in this folder WILL be deleted.\n",
    "RUN_FOLDER = run_config['current_vals']['RUN_FOLDER']\n",
    "INPUT_FILES = f'{RUN_FOLDER}/data_preprocessed' # relative to the root directory (Petreanu_MEI_generation)\n",
    "\n",
    "if run_config['ASK_FOR_CONFIRMATION']:\n",
    "    input(f'This will delete all files in the {RUN_FOLDER}/data folder. Press Enter to continue or Ctrl+C to cancel.')\n",
    "else:\n",
    "    print(f'This will delete all files in the {RUN_FOLDER}/data folder. Automatically continuing...')\n",
    "\n",
    "# delete all files in the run folder\n",
    "if os.path.exists(f'{RUN_FOLDER}/data'):\n",
    "    print(f'Deleting existing folder {RUN_FOLDER}/data')\n",
    "    shutil.rmtree(f'{RUN_FOLDER}/data')\n",
    "else:\n",
    "    os.makedirs(RUN_FOLDER, exist_ok=True)\n",
    "\n",
    "# copy data to the run folder\n",
    "print(f'Copying data from {INPUT_FILES} to {RUN_FOLDER}/data')\n",
    "shutil.copytree(INPUT_FILES, f'{RUN_FOLDER}/data')\n",
    "\n",
    "# Created by Anastasia Simonoff for the Leopoldo Petreanu lab at the Champalimaud Centre for the Unknown.\n",
    "# Created on 11 Oct 2024\n",
    "# Based off of work by Adrian Roggenbach\n",
    "\n",
    "# Create additional variables\n",
    "\n",
    "# ## Part 1: Merge individual trial files into one matrix\n",
    "\n",
    "# Loading data from individual files is sometimes slow on the CSCS Piz Daint. Therefore the dataloader was adapted to load in one file containing all trials.\n",
    "# \n",
    "# This notebook reads in the individual trial files and saves one larger file which contains all trials. The data is saved in the folder merged_data with the file name corresponding to the variable\n",
    "\n",
    "set_seed(4534)\n",
    "\n",
    "# Add folders two levels deep from INPUT_FILES into a list\n",
    "data_folder_in = f'{RUN_FOLDER}/data'\n",
    "folders = [os.path.join(data_folder_in, name) for name in os.listdir(\n",
    "    data_folder_in) if os.path.isdir(os.path.join(data_folder_in, name)) and not \"merged_data\" in name]\n",
    "# Second level\n",
    "folders = [os.path.join(folder, name) for folder in folders for name in os.listdir(\n",
    "    folder) if os.path.isdir(os.path.join(folder, name)) and not \"merged_data\" in name]\n",
    "folders = [x.replace(\"\\\\\", \"/\") for x in folders]\n",
    "\n",
    "print(f'Folders to process: {folders}')\n",
    "\n",
    "for folder in folders:\n",
    "    print('Working on folder: {}'.format(folder), flush=True)\n",
    "\n",
    "    # find the different data folders with individual files per trial\n",
    "    subfolders = glob.glob(os.path.join(folder, 'data', '*'))\n",
    "    subnames = [os.path.basename(f) for f in subfolders]\n",
    "    # subnames are e.g. ['behavior', 'pupil_center', 'images', 'responses']\n",
    "\n",
    "    # create new directory if it does not exist\n",
    "    save_folder = os.path.join(folder, 'merged_data')\n",
    "    if not os.path.exists(save_folder):\n",
    "        os.makedirs(save_folder)\n",
    "\n",
    "    # iterate through all folders, load individual files and save as one large matrix\n",
    "    for subname in subnames:\n",
    "        if subname == 'respmat.npy':\n",
    "            continue\n",
    "        data_folder = os.path.join(folder, 'data', subname)\n",
    "        nr_files = len(glob.glob(os.path.join(data_folder, '*')))\n",
    "        shape = np.load(os.path.join(data_folder, '0.npy')).shape\n",
    "        data = np.empty((nr_files, *shape))\n",
    "\n",
    "        for nr in tqdm(range(nr_files), desc=subname):\n",
    "            data[nr] = np.load(os.path.join(data_folder, '{}.npy'.format(nr)))\n",
    "\n",
    "        # (nr_trials, *) e.g. (5983, 3) for behavior\n",
    "        data_mat = np.array(data)\n",
    "\n",
    "        # assert no nans\n",
    "        assert not np.isnan(data_mat).any(), f'Nans in data_mat {subname}'\n",
    "        \n",
    "        np.save(os.path.join(save_folder, '{}.npy'.format(subname)), data_mat)\n",
    "\n",
    "# ## Part 2: Extract trial order from timestamps and save\n",
    "\n",
    "all_sorting = dict()\n",
    "\n",
    "for folder in folders:\n",
    "    print('Working on: ', folder)\n",
    "\n",
    "    # read and sort timestamps\n",
    "    ts_file = '/meta/trials/frame_trial_ts.npy'\n",
    "    ts_raw = np.load(os.path.join(folder + ts_file), allow_pickle=True)\n",
    "\n",
    "    ts = list()\n",
    "    for string in ts_raw:\n",
    "        t = datetime.datetime.strptime(string[11:-2], '%Y-%m-%d %H:%M:%S')\n",
    "        ts.append(t)\n",
    "    ts = np.array(ts)\n",
    "\n",
    "    ts_argsort = np.argsort(ts)\n",
    "\n",
    "    # save the trial_id and sorted_id as .npy arrays in merged_data\n",
    "    nr_trials = len(ts_argsort)\n",
    "    trial_id = np.arange(nr_trials, dtype=int)\n",
    "    # transform to 2d array for batch loader\n",
    "    trial_id = np.expand_dims(trial_id, axis=1)\n",
    "\n",
    "    sort_id = np.copy(ts_argsort)\n",
    "    # transform to 2d array for batch loader\n",
    "    sort_id = np.expand_dims(sort_id, axis=1)\n",
    "\n",
    "    # extract rank of each trial. This array maps each trial value to it's position\n",
    "    # in time. Rank value 2 means that this value occured at time 2\n",
    "    rank = np.argsort(ts_argsort)  # rank is double argsorted time\n",
    "    rank_id = np.expand_dims(rank, axis=1)\n",
    "\n",
    "    np.save(os.path.join(folder, 'merged_data', 'trial_id.npy'), trial_id)\n",
    "    np.save(os.path.join(folder, 'merged_data', 'sort_id.npy'), sort_id)\n",
    "    np.save(os.path.join(folder, 'merged_data', 'rank_id.npy'), rank_id)\n",
    "\n",
    "    # add sorting to dict to save the sorting for all keys together\n",
    "    # data_key = folder.split(\"static\")[-1].split(\"-GrayImageNet\")[0]\n",
    "    data_key = f\"{folder.split('/')[-2]}-{folder.split('/')[-2]}_{folder.split('/')[-1]}-0\"\n",
    "    all_sorting[data_key] = ts_argsort\n",
    "\n",
    "    # read in behavior data and sort as sanity check\n",
    "    behav_file = os.path.join(folder, 'merged_data/behavior.npy')\n",
    "    behav_data = np.load(behav_file)\n",
    "    sort_behav = behav_data[ts_argsort]\n",
    "\n",
    "    # plt.figure(figsize=(12, 4))\n",
    "    # plt.plot(sort_behav[0:600, 0], label='Pupil')\n",
    "    # plt.plot(sort_behav[0:600, 2] * 10, label='Running 10x')\n",
    "    # plt.legend()\n",
    "\n",
    "data_folder = os.path.dirname(folder)  # go back to main data directory\n",
    "data_folder = Path(data_folder).parents[1]\n",
    "data_folder = str(data_folder)\n",
    "np.save(os.path.join(data_folder, 'dataset_sortings.npy'), all_sorting)\n",
    "\n",
    "# ## Part 3: Create additional regressors\n",
    "\n",
    "# ### First pass the neural activity through model for correct normalization\n"
   ]
  },
  {
   "cell_type": "code",
   "execution_count": 3,
   "metadata": {},
   "outputs": [],
   "source": [
    "\n",
    "dataset_fn = 'sensorium.datasets.static_loaders'\n",
    "dataset_config = {'paths': folders,\n",
    "                  'normalize': True,\n",
    "                  'include_behavior': True,\n",
    "                  'include_eye_position': True,\n",
    "                  'batch_size': 128,\n",
    "                  'scale': .25,\n",
    "                  'preload_from_merged_data': True,\n",
    "                  'adjusted_normalization': True,  # new normalization for behavior variables\n",
    "                  'include_trial_id': True,\n",
    "                  }\n"
   ]
  },
  {
   "cell_type": "code",
   "execution_count": 4,
   "metadata": {},
   "outputs": [],
   "source": [
    "dataset_config['paths'] = dataset_config['paths']"
   ]
  },
  {
   "cell_type": "code",
   "execution_count": 5,
   "metadata": {},
   "outputs": [
    {
     "name": "stderr",
     "output_type": "stream",
     "text": [
      "d:\\Python\\Anastasia\\Petreanu Lab\\Petreanu_MEI_generation\\neuralpredictors\\data\\transforms.py:335: RuntimeWarning: Mean of empty slice.\n",
      "  threshold = 0.01 * s.mean()\n",
      "d:\\anaconda3\\envs\\molanalysis\\lib\\site-packages\\numpy\\core\\_methods.py:192: RuntimeWarning: invalid value encountered in scalar divide\n",
      "  ret = ret.dtype.type(ret / rcount)\n"
     ]
    },
    {
     "name": "stdout",
     "output_type": "stream",
     "text": [
      "[]\n",
      "[]\n",
      "[]\n"
     ]
    },
    {
     "ename": "UnboundLocalError",
     "evalue": "local variable 'data_key' referenced before assignment",
     "output_type": "error",
     "traceback": [
      "\u001b[1;31m---------------------------------------------------------------------------\u001b[0m",
      "\u001b[1;31mUnboundLocalError\u001b[0m                         Traceback (most recent call last)",
      "Cell \u001b[1;32mIn[5], line 1\u001b[0m\n\u001b[1;32m----> 1\u001b[0m dataloaders \u001b[38;5;241m=\u001b[39m \u001b[43mget_data\u001b[49m\u001b[43m(\u001b[49m\u001b[43mdataset_fn\u001b[49m\u001b[43m,\u001b[49m\u001b[43m \u001b[49m\u001b[43mdataset_config\u001b[49m\u001b[43m)\u001b[49m\n\u001b[0;32m      2\u001b[0m dataloaders\n",
      "File \u001b[1;32md:\\anaconda3\\envs\\molanalysis\\lib\\site-packages\\nnfabrik\\builder.py:102\u001b[0m, in \u001b[0;36mget_data\u001b[1;34m(dataset_fn, dataset_config)\u001b[0m\n\u001b[0;32m     99\u001b[0m \u001b[38;5;28;01mif\u001b[39;00m \u001b[38;5;28misinstance\u001b[39m(dataset_fn, \u001b[38;5;28mstr\u001b[39m):\n\u001b[0;32m    100\u001b[0m     dataset_fn \u001b[38;5;241m=\u001b[39m resolve_data(dataset_fn)\n\u001b[1;32m--> 102\u001b[0m \u001b[38;5;28;01mreturn\u001b[39;00m \u001b[43mdataset_fn\u001b[49m\u001b[43m(\u001b[49m\u001b[38;5;241;43m*\u001b[39;49m\u001b[38;5;241;43m*\u001b[39;49m\u001b[43mdataset_config\u001b[49m\u001b[43m)\u001b[49m\n",
      "File \u001b[1;32md:\\Python\\Anastasia\\Petreanu Lab\\Petreanu_MEI_generation\\sensorium\\datasets\\mouse_loaders.py:433\u001b[0m, in \u001b[0;36mstatic_loaders\u001b[1;34m(paths, batch_size, seed, areas, layers, tier, neuron_ids, neuron_n, exclude_neuron_n, neuron_base_seed, image_ids, image_n, image_base_seed, cuda, normalize, include_behavior, add_behavior_as_channels, exclude, select_input_channel, file_tree, image_condition, inputs_mean, inputs_std, scale, include_eye_position, add_eye_pos_as_channels, include_trial_info_keys, overwrite_data_path, include_px_position, image_reshape_list, trial_idx_selection, preload_from_merged_data, include_trial_id, include_rank_id, include_history, include_behav_state, adjusted_normalization, use_ensemble_tier, ensemble_nr)\u001b[0m\n\u001b[0;32m    430\u001b[0m \u001b[38;5;28;01mif\u001b[39;00m (overwrite_data_path) \u001b[38;5;129;01mand\u001b[39;00m (os\u001b[38;5;241m.\u001b[39mpath\u001b[38;5;241m.\u001b[39mexists(basepath)):\n\u001b[0;32m    431\u001b[0m     path \u001b[38;5;241m=\u001b[39m os\u001b[38;5;241m.\u001b[39mpath\u001b[38;5;241m.\u001b[39mjoin(basepath, path)\n\u001b[1;32m--> 433\u001b[0m out \u001b[38;5;241m=\u001b[39m \u001b[43mstatic_loader\u001b[49m\u001b[43m(\u001b[49m\n\u001b[0;32m    434\u001b[0m \u001b[43m    \u001b[49m\u001b[43mpath\u001b[49m\u001b[43m,\u001b[49m\n\u001b[0;32m    435\u001b[0m \u001b[43m    \u001b[49m\u001b[43mbatch_size\u001b[49m\u001b[43m,\u001b[49m\n\u001b[0;32m    436\u001b[0m \u001b[43m    \u001b[49m\u001b[43mareas\u001b[49m\u001b[38;5;241;43m=\u001b[39;49m\u001b[43mareas\u001b[49m\u001b[43m,\u001b[49m\n\u001b[0;32m    437\u001b[0m \u001b[43m    \u001b[49m\u001b[43mlayers\u001b[49m\u001b[38;5;241;43m=\u001b[39;49m\u001b[43mlayers\u001b[49m\u001b[43m,\u001b[49m\n\u001b[0;32m    438\u001b[0m \u001b[43m    \u001b[49m\u001b[43mcuda\u001b[49m\u001b[38;5;241;43m=\u001b[39;49m\u001b[43mcuda\u001b[49m\u001b[43m,\u001b[49m\n\u001b[0;32m    439\u001b[0m \u001b[43m    \u001b[49m\u001b[43mtier\u001b[49m\u001b[38;5;241;43m=\u001b[39;49m\u001b[43mtier\u001b[49m\u001b[43m,\u001b[49m\n\u001b[0;32m    440\u001b[0m \u001b[43m    \u001b[49m\u001b[43mget_key\u001b[49m\u001b[38;5;241;43m=\u001b[39;49m\u001b[38;5;28;43;01mTrue\u001b[39;49;00m\u001b[43m,\u001b[49m\n\u001b[0;32m    441\u001b[0m \u001b[43m    \u001b[49m\u001b[43mneuron_ids\u001b[49m\u001b[38;5;241;43m=\u001b[39;49m\u001b[43mneuron_id\u001b[49m\u001b[43m,\u001b[49m\n\u001b[0;32m    442\u001b[0m \u001b[43m    \u001b[49m\u001b[43mneuron_n\u001b[49m\u001b[38;5;241;43m=\u001b[39;49m\u001b[43mneuron_n\u001b[49m\u001b[43m,\u001b[49m\n\u001b[0;32m    443\u001b[0m \u001b[43m    \u001b[49m\u001b[43mexclude_neuron_n\u001b[49m\u001b[38;5;241;43m=\u001b[39;49m\u001b[43mexclude_neuron_n\u001b[49m\u001b[43m,\u001b[49m\n\u001b[0;32m    444\u001b[0m \u001b[43m    \u001b[49m\u001b[43mneuron_base_seed\u001b[49m\u001b[38;5;241;43m=\u001b[39;49m\u001b[43mneuron_base_seed\u001b[49m\u001b[43m,\u001b[49m\n\u001b[0;32m    445\u001b[0m \u001b[43m    \u001b[49m\u001b[43mimage_ids\u001b[49m\u001b[38;5;241;43m=\u001b[39;49m\u001b[43mimage_id\u001b[49m\u001b[43m,\u001b[49m\n\u001b[0;32m    446\u001b[0m \u001b[43m    \u001b[49m\u001b[43mimage_n\u001b[49m\u001b[38;5;241;43m=\u001b[39;49m\u001b[43mimage_n\u001b[49m\u001b[43m,\u001b[49m\n\u001b[0;32m    447\u001b[0m \u001b[43m    \u001b[49m\u001b[43mimage_base_seed\u001b[49m\u001b[38;5;241;43m=\u001b[39;49m\u001b[43mimage_base_seed\u001b[49m\u001b[43m,\u001b[49m\n\u001b[0;32m    448\u001b[0m \u001b[43m    \u001b[49m\u001b[43mnormalize\u001b[49m\u001b[38;5;241;43m=\u001b[39;49m\u001b[43mnormalize\u001b[49m\u001b[43m,\u001b[49m\n\u001b[0;32m    449\u001b[0m \u001b[43m    \u001b[49m\u001b[43minclude_behavior\u001b[49m\u001b[38;5;241;43m=\u001b[39;49m\u001b[43minclude_behavior\u001b[49m\u001b[43m,\u001b[49m\n\u001b[0;32m    450\u001b[0m \u001b[43m    \u001b[49m\u001b[43madd_behavior_as_channels\u001b[49m\u001b[38;5;241;43m=\u001b[39;49m\u001b[43madd_behavior_as_channels\u001b[49m\u001b[43m,\u001b[49m\n\u001b[0;32m    451\u001b[0m \u001b[43m    \u001b[49m\u001b[43mexclude\u001b[49m\u001b[38;5;241;43m=\u001b[39;49m\u001b[43mexclude\u001b[49m\u001b[43m,\u001b[49m\n\u001b[0;32m    452\u001b[0m \u001b[43m    \u001b[49m\u001b[43mselect_input_channel\u001b[49m\u001b[38;5;241;43m=\u001b[39;49m\u001b[43mselect_input_channel\u001b[49m\u001b[43m,\u001b[49m\n\u001b[0;32m    453\u001b[0m \u001b[43m    \u001b[49m\u001b[43mfile_tree\u001b[49m\u001b[38;5;241;43m=\u001b[39;49m\u001b[43mfile_tree\u001b[49m\u001b[43m,\u001b[49m\n\u001b[0;32m    454\u001b[0m \u001b[43m    \u001b[49m\u001b[43mimage_condition\u001b[49m\u001b[38;5;241;43m=\u001b[39;49m\u001b[43mimage_condition\u001b[49m\u001b[43m,\u001b[49m\n\u001b[0;32m    455\u001b[0m \u001b[43m    \u001b[49m\u001b[43minputs_mean\u001b[49m\u001b[38;5;241;43m=\u001b[39;49m\u001b[43minputs_mean\u001b[49m\u001b[43m,\u001b[49m\n\u001b[0;32m    456\u001b[0m \u001b[43m    \u001b[49m\u001b[43minputs_std\u001b[49m\u001b[38;5;241;43m=\u001b[39;49m\u001b[43minputs_std\u001b[49m\u001b[43m,\u001b[49m\n\u001b[0;32m    457\u001b[0m \u001b[43m    \u001b[49m\u001b[43mscale\u001b[49m\u001b[38;5;241;43m=\u001b[39;49m\u001b[43mscale\u001b[49m\u001b[43m,\u001b[49m\n\u001b[0;32m    458\u001b[0m \u001b[43m    \u001b[49m\u001b[43minclude_eye_position\u001b[49m\u001b[38;5;241;43m=\u001b[39;49m\u001b[43minclude_eye_position\u001b[49m\u001b[43m,\u001b[49m\n\u001b[0;32m    459\u001b[0m \u001b[43m    \u001b[49m\u001b[43madd_eye_pos_as_channels\u001b[49m\u001b[38;5;241;43m=\u001b[39;49m\u001b[43madd_eye_pos_as_channels\u001b[49m\u001b[43m,\u001b[49m\n\u001b[0;32m    460\u001b[0m \u001b[43m    \u001b[49m\u001b[43minclude_trial_info_keys\u001b[49m\u001b[38;5;241;43m=\u001b[39;49m\u001b[43minclude_trial_info_keys\u001b[49m\u001b[43m,\u001b[49m\n\u001b[0;32m    461\u001b[0m \u001b[43m    \u001b[49m\u001b[43minclude_px_position\u001b[49m\u001b[38;5;241;43m=\u001b[39;49m\u001b[43minclude_px_position\u001b[49m\u001b[43m,\u001b[49m\n\u001b[0;32m    462\u001b[0m \u001b[43m    \u001b[49m\u001b[43mimage_reshape_list\u001b[49m\u001b[38;5;241;43m=\u001b[39;49m\u001b[43mimage_reshape_list\u001b[49m\u001b[43m,\u001b[49m\n\u001b[0;32m    463\u001b[0m \u001b[43m    \u001b[49m\u001b[43mtrial_idx_selection\u001b[49m\u001b[38;5;241;43m=\u001b[39;49m\u001b[43mtrial_idx_selection\u001b[49m\u001b[43m,\u001b[49m\n\u001b[0;32m    464\u001b[0m \u001b[43m    \u001b[49m\u001b[43mpreload_from_merged_data\u001b[49m\u001b[38;5;241;43m=\u001b[39;49m\u001b[43mpreload_from_merged_data\u001b[49m\u001b[43m,\u001b[49m\n\u001b[0;32m    465\u001b[0m \u001b[43m    \u001b[49m\u001b[43minclude_trial_id\u001b[49m\u001b[38;5;241;43m=\u001b[39;49m\u001b[43minclude_trial_id\u001b[49m\u001b[43m,\u001b[49m\n\u001b[0;32m    466\u001b[0m \u001b[43m    \u001b[49m\u001b[43minclude_rank_id\u001b[49m\u001b[38;5;241;43m=\u001b[39;49m\u001b[43minclude_rank_id\u001b[49m\u001b[43m,\u001b[49m\n\u001b[0;32m    467\u001b[0m \u001b[43m    \u001b[49m\u001b[43minclude_history\u001b[49m\u001b[38;5;241;43m=\u001b[39;49m\u001b[43minclude_history\u001b[49m\u001b[43m,\u001b[49m\n\u001b[0;32m    468\u001b[0m \u001b[43m    \u001b[49m\u001b[43minclude_behav_state\u001b[49m\u001b[38;5;241;43m=\u001b[39;49m\u001b[43minclude_behav_state\u001b[49m\u001b[43m,\u001b[49m\n\u001b[0;32m    469\u001b[0m \u001b[43m    \u001b[49m\u001b[43madjusted_normalization\u001b[49m\u001b[38;5;241;43m=\u001b[39;49m\u001b[43madjusted_normalization\u001b[49m\u001b[43m,\u001b[49m\n\u001b[0;32m    470\u001b[0m \u001b[43m    \u001b[49m\u001b[43muse_ensemble_tier\u001b[49m\u001b[38;5;241;43m=\u001b[39;49m\u001b[43muse_ensemble_tier\u001b[49m\u001b[43m,\u001b[49m\n\u001b[0;32m    471\u001b[0m \u001b[43m    \u001b[49m\u001b[43mensemble_nr\u001b[49m\u001b[38;5;241;43m=\u001b[39;49m\u001b[43mensemble_nr\u001b[49m\u001b[43m,\u001b[49m\n\u001b[0;32m    472\u001b[0m \u001b[43m\u001b[49m\u001b[43m)\u001b[49m\n\u001b[0;32m    473\u001b[0m \u001b[38;5;28;01mfor\u001b[39;00m k \u001b[38;5;129;01min\u001b[39;00m dls:\n\u001b[0;32m    474\u001b[0m     dls[k][out[\u001b[38;5;241m0\u001b[39m]] \u001b[38;5;241m=\u001b[39m out[\u001b[38;5;241m1\u001b[39m][k]\n",
      "File \u001b[1;32md:\\Python\\Anastasia\\Petreanu Lab\\Petreanu_MEI_generation\\sensorium\\datasets\\mouse_loaders.py:333\u001b[0m, in \u001b[0;36mstatic_loader\u001b[1;34m(path, batch_size, areas, layers, tier, neuron_ids, neuron_n, exclude_neuron_n, neuron_base_seed, image_ids, image_n, image_base_seed, get_key, cuda, normalize, exclude, include_behavior, add_behavior_as_channels, select_input_channel, file_tree, image_condition, inputs_mean, inputs_std, scale, include_eye_position, add_eye_pos_as_channels, include_trial_info_keys, include_px_position, image_reshape_list, trial_idx_selection, preload_from_merged_data, include_trial_id, include_rank_id, include_history, include_behav_state, adjusted_normalization, use_ensemble_tier, ensemble_nr)\u001b[0m\n\u001b[0;32m    328\u001b[0m     g\u001b[38;5;241m.\u001b[39mmanual_seed(\u001b[38;5;241m8654\u001b[39m)\n\u001b[0;32m    330\u001b[0m     dataloaders[tier] \u001b[38;5;241m=\u001b[39m DataLoader(dat, sampler\u001b[38;5;241m=\u001b[39msampler, batch_size\u001b[38;5;241m=\u001b[39mbatch_size,\n\u001b[0;32m    331\u001b[0m                                   worker_init_fn\u001b[38;5;241m=\u001b[39mseed_worker, generator\u001b[38;5;241m=\u001b[39mg)\n\u001b[1;32m--> 333\u001b[0m \u001b[38;5;28;01mreturn\u001b[39;00m (\u001b[43mdata_key\u001b[49m, dataloaders) \u001b[38;5;28;01mif\u001b[39;00m get_key \u001b[38;5;28;01melse\u001b[39;00m dataloaders\n",
      "\u001b[1;31mUnboundLocalError\u001b[0m: local variable 'data_key' referenced before assignment"
     ]
    }
   ],
   "source": [
    "dataloaders = get_data(dataset_fn, dataset_config)\n",
    "dataloaders"
   ]
  }
 ],
 "metadata": {
  "kernelspec": {
   "display_name": "molanalysis",
   "language": "python",
   "name": "python3"
  },
  "language_info": {
   "codemirror_mode": {
    "name": "ipython",
    "version": 3
   },
   "file_extension": ".py",
   "mimetype": "text/x-python",
   "name": "python",
   "nbconvert_exporter": "python",
   "pygments_lexer": "ipython3",
   "version": "3.8.12"
  }
 },
 "nbformat": 4,
 "nbformat_minor": 2
}
