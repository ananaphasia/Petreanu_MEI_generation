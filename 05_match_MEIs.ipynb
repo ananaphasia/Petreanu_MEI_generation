{
 "cells": [
  {
   "cell_type": "code",
   "execution_count": 1,
   "metadata": {},
   "outputs": [
    {
     "name": "stdout",
     "output_type": "stream",
     "text": [
      "d:\\Python\\Anastasia\\Petreanu Lab\\Petreanu_MEI_generation\n"
     ]
    }
   ],
   "source": [
    "import os, sys\n",
    "\n",
    "os.chdir('Petreanu_MEI_generation')\n",
    "sys.path.append(os.getcwd())\n",
    "\n",
    "print(os.getcwd())"
   ]
  },
  {
   "cell_type": "code",
   "execution_count": 2,
   "metadata": {},
   "outputs": [],
   "source": [
    "MEI_validation_session = [['LPE13959', '2025_02_26']]\n",
    "session_reference = [['LPE13959', '2025_02_24']]\n",
    "MEI_validation_session_input_folder = 'D:/Procdata/IM'"
   ]
  },
  {
   "cell_type": "code",
   "execution_count": 3,
   "metadata": {},
   "outputs": [
    {
     "name": "stdout",
     "output_type": "stream",
     "text": [
      "Working directory: d:\\Python\\Anastasia\\Petreanu Lab\\Petreanu_MEI_generation\n",
      "Starting evaluation for runs/V1_MEI_in_vivo_validation_with_grid_mean_predictor with area of interest PM\n",
      "{'data_sets': ['all'], 'dataset_fn': 'sensorium.datasets.static_loaders', 'dataset_config': {'normalize': True, 'include_behavior': True, 'include_eye_position': True, 'batch_size': 128, 'scale': 0.25, 'preload_from_merged_data': True, 'include_trial_id': True, 'include_rank_id': True, 'include_history': True, 'include_behav_state': True, 'adjusted_normalization': True, 'use_ensemble_tier': True, 'ensemble_nr': 0}, 'model_fn': 'sensorium.models.modulated_stacked_core_full_gauss_readout', 'model_seed': 100, 'model_config': {'pad_input': False, 'stack': -1, 'layers': 4, 'input_kern': 9, 'gamma_input': 9.8, 'gamma_readout': 0.48, 'hidden_kern': 10, 'hidden_channels': 64, 'depth_separable': True, 'grid_mean_predictor': {'type': 'cortex', 'input_dimensions': 2, 'hidden_layers': 4, 'hidden_features': 20, 'nonlinearity': 'ReLU', 'final_tanh': True}, 'init_sigma': 0.14, 'init_mu_range': 0.8, 'gauss_type': 'full', 'max_jitter': 0.111, 'max_jitter_x': 0, 'max_jitter_y': 0, 'shifter': True, 'with_modulator': True, 'modulator_type': 'HistoryStateGain', 'modulator_params': {'include_gain': True, 'gain_kernel_std': 30, 'diff_reg': 100, 'include_history': True, 'nr_history': 5, 'behav_state': True, 'nr_behav_state': 10, 'per_neuron_gain_adjust': True, 'gain_adjust_alpha': 0.3, 'alpha_behav': 0.3, 'alpha_hist': 0.3}, 'data_path': 'runs/PM_MEI_in_vivo_validation_dark_reared/data'}, 'use_pretrained_core': False, 'pretrained_model_file': 'no_file', 'trainer_fn': 'sensorium.training.standard_trainer', 'trainer_config': {'max_iter': 200, 'verbose': True, 'lr_decay_steps': 4, 'avg_loss': False, 'lr_init': 0.009, 'track_training': True, 'disable_tqdm': True}, 'verbose': 3, 'save_csv': True, 'save_predictions_npy': True}\n",
      "['runs/PM_MEI_in_vivo_validation_dark_reared/data/LPE09665/2023_03_20', 'runs/PM_MEI_in_vivo_validation_dark_reared/data/LPE10883/2023_10_23', 'runs/PM_MEI_in_vivo_validation_dark_reared/data/LPE10883/2023_10_31', 'runs/PM_MEI_in_vivo_validation_dark_reared/data/LPE10884/2023_10_12', 'runs/PM_MEI_in_vivo_validation_dark_reared/data/LPE10885/2023_10_20', 'runs/PM_MEI_in_vivo_validation_dark_reared/data/LPE10919/2023_11_09', 'runs/PM_MEI_in_vivo_validation_dark_reared/data/LPE11086/2023_12_16', 'runs/PM_MEI_in_vivo_validation_dark_reared/data/LPE11086/2024_01_09', 'runs/PM_MEI_in_vivo_validation_dark_reared/data/LPE11495/2024_02_29', 'runs/PM_MEI_in_vivo_validation_dark_reared/data/LPE11998/2024_05_08', 'runs/PM_MEI_in_vivo_validation_dark_reared/data/LPE12223/2024_06_11', 'runs/PM_MEI_in_vivo_validation_dark_reared/data/LPE13998/2025_03_10']\n"
     ]
    }
   ],
   "source": [
    "import sys\n",
    "import os\n",
    "import torch\n",
    "import numpy as np\n",
    "import pandas as pd\n",
    "import matplotlib.pyplot as plt\n",
    "import seaborn as sns\n",
    "from tqdm.auto import tqdm\n",
    "import warnings\n",
    "from sensorium.utility.training import read_config\n",
    "from sensorium.utility import submission\n",
    "from nnfabrik.builder import get_data, get_model\n",
    "from sensorium.models.ensemble import EnsemblePrediction\n",
    "from sensorium.utility import get_correlations\n",
    "from sensorium.utility.measure_helpers import get_df_for_scores\n",
    "from loaddata.session_info import load_sessions\n",
    "from utils.plotting_style import *  # get all the fixed color schemes\n",
    "from utils.imagelib import load_natural_images\n",
    "from loaddata.get_data_folder import get_local_drive\n",
    "from utils.pair_lib import compute_pairwise_anatomical_distance\n",
    "from utils.rf_lib import *\n",
    "import pickle as pkl\n",
    "\n",
    "# Set working directory to root of repo\n",
    "current_path = os.getcwd()\n",
    "# Identify if path has 'molanalysis' as a folder in it\n",
    "if 'Petreanu_MEI_generation' in current_path:\n",
    "    # If so, set the path to the root of the repo\n",
    "    current_path = current_path.split('Petreanu_MEI_generation')[0] + 'Petreanu_MEI_generation'\n",
    "else:\n",
    "    raise FileNotFoundError(\n",
    "        f'This needs to be run somewhere from within the Petreanu_MEI_generation folder, not {current_path}')\n",
    "os.chdir(current_path)\n",
    "sys.path.append(current_path)\n",
    "\n",
    "print('Working directory:', os.getcwd())\n",
    "\n",
    "run_config = read_config('run_config.yaml') # Must be set\n",
    "\n",
    "# RUN_NAME = run_config['current_vals']['RUN_NAME'] # MUST be set. Creates a subfolder in the runs folder with this name, containing data, saved models, etc. IMPORTANT: all values in this folder WILL be deleted.\n",
    "RUN_NAME = 'runs/V1_MEI_in_vivo_validation_with_grid_mean_predictor'\n",
    "RUN_FOLDER = run_config['current_vals']['RUN_FOLDER']\n",
    "area_of_interest = run_config['current_vals']['data']['area_of_interest']\n",
    "# INPUT_FOLDER = run_config['data']['INPUT_FOLDER']\n",
    "INPUT_FOLDER = 'Z:/Users/Anastasia/Data/Data_for_analysis'\n",
    "# sessions_to_keep = run_config['data']['sessions_to_keep']\n",
    "sessions_to_keep = [['LPE09665', '2023_03_20'],\n",
    "       ['LPE10883', '2023_10_23'],\n",
    "       ['LPE10883', '2023_10_31'],\n",
    "       ['LPE10884', '2023_10_12'],\n",
    "       ['LPE10885', '2023_10_20'],\n",
    "       ['LPE10919', '2023_11_09'],\n",
    "       ['LPE11086', '2023_12_16'],\n",
    "       ['LPE11086', '2024_01_09'],\n",
    "       ['LPE11495', '2024_02_29'],\n",
    "       ['LPE11998', '2024_05_08'],\n",
    "       ['LPE12223', '2024_06_11'],\n",
    "       ['LPE13959', '2025_02_17'],\n",
    "       ['LPE13959', '2025_02_24'],\n",
    "       ['LPE13959', '2025_02_26']]\n",
    "num_models = run_config['dev']['num_models']\n",
    "\n",
    "print(f'Starting evaluation for {RUN_NAME} with area of interest {area_of_interest}')\n",
    "\n",
    "warnings.filterwarnings('ignore')\n",
    "# ### Load configuration for model\n",
    "\n",
    "# Loading config only for ensemble 0, because all 5 models have the same config (except\n",
    "# for the seed and dataloader train/validation split)\n",
    "\n",
    "config_file = f'{RUN_FOLDER}/config_m4_ens0/config.yaml'\n",
    "config = read_config(config_file)\n",
    "config['model_config']['data_path'] = f'{RUN_FOLDER}/data'\n",
    "print(config)\n",
    "# ### Prepare dataloader\n",
    "\n",
    "# Use only one dataloader, since test and final_test are the same for all ensembles\n",
    "# basepath = \"notebooks/data/\"\n",
    "# filenames = [os.path.join(basepath, file) for file in os.listdir(basepath) if \".zip\" in file ]\n",
    "# filenames = [file for file in filenames if 'static26872-17-20' not in file]\n",
    "\n",
    "basepath = f'{RUN_FOLDER}/data'\n",
    "# Add Add folders two levels deep from basepath into a list\n",
    "# First level\n",
    "folders = [os.path.join(basepath, name) for name in os.listdir(\n",
    "    basepath) if os.path.isdir(os.path.join(basepath, name)) and not \"merged_data\" in name]\n",
    "# Second level\n",
    "folders = [os.path.join(folder, name) for folder in folders for name in os.listdir(\n",
    "    folder) if os.path.isdir(os.path.join(folder, name)) and not \"merged_data\" in name]\n",
    "folders = [x.replace(\"\\\\\", \"/\") for x in folders]\n",
    "print(folders)"
   ]
  },
  {
   "cell_type": "code",
   "execution_count": 4,
   "metadata": {},
   "outputs": [
    {
     "name": "stdout",
     "output_type": "stream",
     "text": [
      "[['LPE13959' '2025_02_17']\n",
      " ['LPE13959' '2025_02_24']\n",
      " ['LPE13959' '2025_02_26']\n",
      " ['LPE09665' '2023_03_20']\n",
      " ['LPE10883' '2023_10_23']\n",
      " ['LPE10883' '2023_10_31']\n",
      " ['LPE10884' '2023_10_12']\n",
      " ['LPE10885' '2023_10_20']\n",
      " ['LPE10919' '2023_11_09']\n",
      " ['LPE11086' '2023_12_16']\n",
      " ['LPE11086' '2024_01_09']\n",
      " ['LPE11495' '2024_02_29']\n",
      " ['LPE11998' '2024_05_08']\n",
      " ['LPE12223' '2024_06_11']]\n"
     ]
    }
   ],
   "source": [
    "try: \n",
    "    session_folders\n",
    "except NameError:\n",
    "    # First level\n",
    "    session_folders = [os.path.join(INPUT_FOLDER, name) for name in os.listdir(\n",
    "        INPUT_FOLDER) if os.path.isdir(os.path.join(INPUT_FOLDER, name)) and not \"merged_data\" in name]\n",
    "    session_folders = [x.replace(\"\\\\\", \"/\") for x in session_folders]\n",
    "    # Second level\n",
    "    files = [[session_folder, os.path.join(session_folder, name).replace('\\\\', '/')] for session_folder in session_folders for name in os.listdir(\n",
    "        session_folder) if os.path.isdir(os.path.join(session_folder, name)) and not \"merged_data\" in name]\n",
    "    # only get last value after /\n",
    "    session_list = [[session_folder.split(\"/\")[-1], name.split(\"/\")[-1]]\n",
    "                    for session_folder, name in files]\n",
    "\n",
    "    # drop ['LPE10919', '2023_11_08'] because the data is not converted yet\n",
    "    session_list = [x for x in session_list if x != ['LPE10919', '2023_11_08']]\n",
    "\n",
    "if not isinstance(sessions_to_keep, str):\n",
    "    sessions_to_keep = [tuple(x) for x in sessions_to_keep]\n",
    "    session_list = [tuple(x) for x in session_list]\n",
    "    session_list = [x for x in session_list if x in sessions_to_keep]\n",
    "    session_list = [list(x) for x in session_list]\n",
    "elif sessions_to_keep == 'all':\n",
    "    pass\n",
    "\n",
    "session_list = np.array(session_list)\n",
    "\n",
    "print(session_list)"
   ]
  },
  {
   "cell_type": "code",
   "execution_count": 5,
   "metadata": {},
   "outputs": [
    {
     "data": {
      "application/vnd.jupyter.widget-view+json": {
       "model_id": "a487c1b19942444598e5f07d46f86927",
       "version_major": 2,
       "version_minor": 0
      },
      "text/plain": [
       "Computing average response for response matrix:   0%|          | 0/5600 [00:00<?, ?it/s]"
      ]
     },
     "metadata": {},
     "output_type": "display_data"
    },
    {
     "data": {
      "application/vnd.jupyter.widget-view+json": {
       "model_id": "9dfcb2b14afd4690a86edfc0064e085b",
       "version_major": 2,
       "version_minor": 0
      },
      "text/plain": [
       "Computing average response for runspeed:   0%|          | 0/5600 [00:00<?, ?it/s]"
      ]
     },
     "metadata": {},
     "output_type": "display_data"
    },
    {
     "data": {
      "application/vnd.jupyter.widget-view+json": {
       "model_id": "55a93bb077784aa985fe617bd2dee3f7",
       "version_major": 2,
       "version_minor": 0
      },
      "text/plain": [
       "Computing average response for motion energy:   0%|          | 0/5600 [00:00<?, ?it/s]"
      ]
     },
     "metadata": {},
     "output_type": "display_data"
    },
    {
     "data": {
      "application/vnd.jupyter.widget-view+json": {
       "model_id": "5bf34f0af35b4a9bb602ef2555939dba",
       "version_major": 2,
       "version_minor": 0
      },
      "text/plain": [
       "Computing average response for pupil x position:   0%|          | 0/5600 [00:00<?, ?it/s]"
      ]
     },
     "metadata": {},
     "output_type": "display_data"
    },
    {
     "data": {
      "application/vnd.jupyter.widget-view+json": {
       "model_id": "bed5bf32c7444d238b3f6d4b2676f1f0",
       "version_major": 2,
       "version_minor": 0
      },
      "text/plain": [
       "Computing average response for pupil y position:   0%|          | 0/5600 [00:00<?, ?it/s]"
      ]
     },
     "metadata": {},
     "output_type": "display_data"
    },
    {
     "data": {
      "application/vnd.jupyter.widget-view+json": {
       "model_id": "d46a546877aa47d1afa05713091c7395",
       "version_major": 2,
       "version_minor": 0
      },
      "text/plain": [
       "Computing average response for pupil area:   0%|          | 0/5600 [00:00<?, ?it/s]"
      ]
     },
     "metadata": {},
     "output_type": "display_data"
    },
    {
     "data": {
      "application/vnd.jupyter.widget-view+json": {
       "model_id": "589a23da981349eda452e745ab8c0912",
       "version_major": 2,
       "version_minor": 0
      },
      "text/plain": [
       "Computing average response for response matrix:   0%|          | 0/5600 [00:00<?, ?it/s]"
      ]
     },
     "metadata": {},
     "output_type": "display_data"
    },
    {
     "data": {
      "application/vnd.jupyter.widget-view+json": {
       "model_id": "7c0075d4c123412a8fc363c72b077dfb",
       "version_major": 2,
       "version_minor": 0
      },
      "text/plain": [
       "Computing average response for runspeed:   0%|          | 0/5600 [00:00<?, ?it/s]"
      ]
     },
     "metadata": {},
     "output_type": "display_data"
    },
    {
     "data": {
      "application/vnd.jupyter.widget-view+json": {
       "model_id": "b555e2b1c07e40dab887de8def19aeb4",
       "version_major": 2,
       "version_minor": 0
      },
      "text/plain": [
       "Computing average response for motion energy:   0%|          | 0/5600 [00:00<?, ?it/s]"
      ]
     },
     "metadata": {},
     "output_type": "display_data"
    },
    {
     "data": {
      "application/vnd.jupyter.widget-view+json": {
       "model_id": "0112f2a6dde24281bdb35203bc2b1a32",
       "version_major": 2,
       "version_minor": 0
      },
      "text/plain": [
       "Computing average response for pupil x position:   0%|          | 0/5600 [00:00<?, ?it/s]"
      ]
     },
     "metadata": {},
     "output_type": "display_data"
    },
    {
     "data": {
      "application/vnd.jupyter.widget-view+json": {
       "model_id": "51d310b38c8145099c1682bc5f4b3953",
       "version_major": 2,
       "version_minor": 0
      },
      "text/plain": [
       "Computing average response for pupil y position:   0%|          | 0/5600 [00:00<?, ?it/s]"
      ]
     },
     "metadata": {},
     "output_type": "display_data"
    },
    {
     "data": {
      "application/vnd.jupyter.widget-view+json": {
       "model_id": "4574e900c97e40aaa1af7d54beaf792f",
       "version_major": 2,
       "version_minor": 0
      },
      "text/plain": [
       "Computing average response for pupil area:   0%|          | 0/5600 [00:00<?, ?it/s]"
      ]
     },
     "metadata": {},
     "output_type": "display_data"
    },
    {
     "data": {
      "application/vnd.jupyter.widget-view+json": {
       "model_id": "64e42d7f764949d691468a3bc25f87a9",
       "version_major": 2,
       "version_minor": 0
      },
      "text/plain": [
       "Computing average response for response matrix:   0%|          | 0/5740 [00:00<?, ?it/s]"
      ]
     },
     "metadata": {},
     "output_type": "display_data"
    },
    {
     "data": {
      "application/vnd.jupyter.widget-view+json": {
       "model_id": "17f3b9c12da7427caae5ec185acfd5c9",
       "version_major": 2,
       "version_minor": 0
      },
      "text/plain": [
       "Computing average response for runspeed:   0%|          | 0/5740 [00:00<?, ?it/s]"
      ]
     },
     "metadata": {},
     "output_type": "display_data"
    },
    {
     "data": {
      "application/vnd.jupyter.widget-view+json": {
       "model_id": "97290d3e390046fcb04bb4ba4a976d2a",
       "version_major": 2,
       "version_minor": 0
      },
      "text/plain": [
       "Computing average response for motion energy:   0%|          | 0/5740 [00:00<?, ?it/s]"
      ]
     },
     "metadata": {},
     "output_type": "display_data"
    },
    {
     "data": {
      "application/vnd.jupyter.widget-view+json": {
       "model_id": "9b352a1d11f140ed854fa3f091106004",
       "version_major": 2,
       "version_minor": 0
      },
      "text/plain": [
       "Computing average response for pupil x position:   0%|          | 0/5740 [00:00<?, ?it/s]"
      ]
     },
     "metadata": {},
     "output_type": "display_data"
    },
    {
     "data": {
      "application/vnd.jupyter.widget-view+json": {
       "model_id": "3855a77b955e40dab48183467d5ac301",
       "version_major": 2,
       "version_minor": 0
      },
      "text/plain": [
       "Computing average response for pupil y position:   0%|          | 0/5740 [00:00<?, ?it/s]"
      ]
     },
     "metadata": {},
     "output_type": "display_data"
    },
    {
     "data": {
      "application/vnd.jupyter.widget-view+json": {
       "model_id": "40bf59ccec7a4ba3a7e78287c57a401d",
       "version_major": 2,
       "version_minor": 0
      },
      "text/plain": [
       "Computing average response for pupil area:   0%|          | 0/5740 [00:00<?, ?it/s]"
      ]
     },
     "metadata": {},
     "output_type": "display_data"
    },
    {
     "data": {
      "application/vnd.jupyter.widget-view+json": {
       "model_id": "f7ff996e845c485ba6999578dc6fd69e",
       "version_major": 2,
       "version_minor": 0
      },
      "text/plain": [
       "Computing average response for response matrix:   0%|          | 0/5600 [00:00<?, ?it/s]"
      ]
     },
     "metadata": {},
     "output_type": "display_data"
    },
    {
     "data": {
      "application/vnd.jupyter.widget-view+json": {
       "model_id": "d3f600857f524ba5ad508135afe1ce4b",
       "version_major": 2,
       "version_minor": 0
      },
      "text/plain": [
       "Computing average response for runspeed:   0%|          | 0/5600 [00:00<?, ?it/s]"
      ]
     },
     "metadata": {},
     "output_type": "display_data"
    },
    {
     "data": {
      "application/vnd.jupyter.widget-view+json": {
       "model_id": "2149e22ad2694e40a247a370dd0cdc87",
       "version_major": 2,
       "version_minor": 0
      },
      "text/plain": [
       "Computing average response for motion energy:   0%|          | 0/5600 [00:00<?, ?it/s]"
      ]
     },
     "metadata": {},
     "output_type": "display_data"
    },
    {
     "data": {
      "application/vnd.jupyter.widget-view+json": {
       "model_id": "2b98b2230ff646cb8fbd7aede0397095",
       "version_major": 2,
       "version_minor": 0
      },
      "text/plain": [
       "Computing average response for pupil x position:   0%|          | 0/5600 [00:00<?, ?it/s]"
      ]
     },
     "metadata": {},
     "output_type": "display_data"
    },
    {
     "data": {
      "application/vnd.jupyter.widget-view+json": {
       "model_id": "0db3ef9dc1c14002a98b2e9ac3f4015b",
       "version_major": 2,
       "version_minor": 0
      },
      "text/plain": [
       "Computing average response for pupil y position:   0%|          | 0/5600 [00:00<?, ?it/s]"
      ]
     },
     "metadata": {},
     "output_type": "display_data"
    },
    {
     "data": {
      "application/vnd.jupyter.widget-view+json": {
       "model_id": "80bbb5ae185047119949466b9c81414b",
       "version_major": 2,
       "version_minor": 0
      },
      "text/plain": [
       "Computing average response for pupil area:   0%|          | 0/5600 [00:00<?, ?it/s]"
      ]
     },
     "metadata": {},
     "output_type": "display_data"
    },
    {
     "data": {
      "application/vnd.jupyter.widget-view+json": {
       "model_id": "fd657ca0b0a74975a30a9f615d946124",
       "version_major": 2,
       "version_minor": 0
      },
      "text/plain": [
       "Computing average response for response matrix:   0%|          | 0/5600 [00:00<?, ?it/s]"
      ]
     },
     "metadata": {},
     "output_type": "display_data"
    },
    {
     "data": {
      "application/vnd.jupyter.widget-view+json": {
       "model_id": "b8e7d8b131434ec08508797bb0e367e6",
       "version_major": 2,
       "version_minor": 0
      },
      "text/plain": [
       "Computing average response for runspeed:   0%|          | 0/5600 [00:00<?, ?it/s]"
      ]
     },
     "metadata": {},
     "output_type": "display_data"
    },
    {
     "data": {
      "application/vnd.jupyter.widget-view+json": {
       "model_id": "13df9b04756c488681ab1a7ae7f75637",
       "version_major": 2,
       "version_minor": 0
      },
      "text/plain": [
       "Computing average response for motion energy:   0%|          | 0/5600 [00:00<?, ?it/s]"
      ]
     },
     "metadata": {},
     "output_type": "display_data"
    },
    {
     "data": {
      "application/vnd.jupyter.widget-view+json": {
       "model_id": "bd85fe5cb0fd4b3d9f4a37449b86a094",
       "version_major": 2,
       "version_minor": 0
      },
      "text/plain": [
       "Computing average response for pupil x position:   0%|          | 0/5600 [00:00<?, ?it/s]"
      ]
     },
     "metadata": {},
     "output_type": "display_data"
    },
    {
     "data": {
      "application/vnd.jupyter.widget-view+json": {
       "model_id": "83ecad8835fc404c87b8ba6ed4b33722",
       "version_major": 2,
       "version_minor": 0
      },
      "text/plain": [
       "Computing average response for pupil y position:   0%|          | 0/5600 [00:00<?, ?it/s]"
      ]
     },
     "metadata": {},
     "output_type": "display_data"
    },
    {
     "data": {
      "application/vnd.jupyter.widget-view+json": {
       "model_id": "d4e42739eb534d43b9bf4e888cbc2112",
       "version_major": 2,
       "version_minor": 0
      },
      "text/plain": [
       "Computing average response for pupil area:   0%|          | 0/5600 [00:00<?, ?it/s]"
      ]
     },
     "metadata": {},
     "output_type": "display_data"
    },
    {
     "data": {
      "application/vnd.jupyter.widget-view+json": {
       "model_id": "ccbf06cb6c284e6482cb34e68a2ac94f",
       "version_major": 2,
       "version_minor": 0
      },
      "text/plain": [
       "Computing average response for response matrix:   0%|          | 0/5600 [00:00<?, ?it/s]"
      ]
     },
     "metadata": {},
     "output_type": "display_data"
    },
    {
     "data": {
      "application/vnd.jupyter.widget-view+json": {
       "model_id": "e41ae0ba6f864bb7ba7fa5f54cfafb68",
       "version_major": 2,
       "version_minor": 0
      },
      "text/plain": [
       "Computing average response for runspeed:   0%|          | 0/5600 [00:00<?, ?it/s]"
      ]
     },
     "metadata": {},
     "output_type": "display_data"
    },
    {
     "data": {
      "application/vnd.jupyter.widget-view+json": {
       "model_id": "6f9cc23468774651b1aede465701dd60",
       "version_major": 2,
       "version_minor": 0
      },
      "text/plain": [
       "Computing average response for motion energy:   0%|          | 0/5600 [00:00<?, ?it/s]"
      ]
     },
     "metadata": {},
     "output_type": "display_data"
    },
    {
     "data": {
      "application/vnd.jupyter.widget-view+json": {
       "model_id": "3b2b1bfe00154b4199cdd7c044e174c1",
       "version_major": 2,
       "version_minor": 0
      },
      "text/plain": [
       "Computing average response for pupil x position:   0%|          | 0/5600 [00:00<?, ?it/s]"
      ]
     },
     "metadata": {},
     "output_type": "display_data"
    },
    {
     "data": {
      "application/vnd.jupyter.widget-view+json": {
       "model_id": "4a0d08b2761046eaada263f032aff418",
       "version_major": 2,
       "version_minor": 0
      },
      "text/plain": [
       "Computing average response for pupil y position:   0%|          | 0/5600 [00:00<?, ?it/s]"
      ]
     },
     "metadata": {},
     "output_type": "display_data"
    },
    {
     "data": {
      "application/vnd.jupyter.widget-view+json": {
       "model_id": "d82554936da148f4b7ecaad89613f75d",
       "version_major": 2,
       "version_minor": 0
      },
      "text/plain": [
       "Computing average response for pupil area:   0%|          | 0/5600 [00:00<?, ?it/s]"
      ]
     },
     "metadata": {},
     "output_type": "display_data"
    },
    {
     "data": {
      "application/vnd.jupyter.widget-view+json": {
       "model_id": "4229a655ed8d40818f4e022315cde08a",
       "version_major": 2,
       "version_minor": 0
      },
      "text/plain": [
       "Computing average response for response matrix:   0%|          | 0/5600 [00:00<?, ?it/s]"
      ]
     },
     "metadata": {},
     "output_type": "display_data"
    },
    {
     "data": {
      "application/vnd.jupyter.widget-view+json": {
       "model_id": "f4cd58130e764bceac09078ed0bae830",
       "version_major": 2,
       "version_minor": 0
      },
      "text/plain": [
       "Computing average response for runspeed:   0%|          | 0/5600 [00:00<?, ?it/s]"
      ]
     },
     "metadata": {},
     "output_type": "display_data"
    },
    {
     "data": {
      "application/vnd.jupyter.widget-view+json": {
       "model_id": "f0978227661e4995a009de37300c886b",
       "version_major": 2,
       "version_minor": 0
      },
      "text/plain": [
       "Computing average response for motion energy:   0%|          | 0/5600 [00:00<?, ?it/s]"
      ]
     },
     "metadata": {},
     "output_type": "display_data"
    },
    {
     "data": {
      "application/vnd.jupyter.widget-view+json": {
       "model_id": "f94138b8fab74f9399c48e7844494027",
       "version_major": 2,
       "version_minor": 0
      },
      "text/plain": [
       "Computing average response for pupil x position:   0%|          | 0/5600 [00:00<?, ?it/s]"
      ]
     },
     "metadata": {},
     "output_type": "display_data"
    },
    {
     "data": {
      "application/vnd.jupyter.widget-view+json": {
       "model_id": "76d3a95c784542d49b4acf8a06e0e6b4",
       "version_major": 2,
       "version_minor": 0
      },
      "text/plain": [
       "Computing average response for pupil y position:   0%|          | 0/5600 [00:00<?, ?it/s]"
      ]
     },
     "metadata": {},
     "output_type": "display_data"
    },
    {
     "data": {
      "application/vnd.jupyter.widget-view+json": {
       "model_id": "75a2e196eafb49999c28cf9cd6e0147b",
       "version_major": 2,
       "version_minor": 0
      },
      "text/plain": [
       "Computing average response for pupil area:   0%|          | 0/5600 [00:00<?, ?it/s]"
      ]
     },
     "metadata": {},
     "output_type": "display_data"
    },
    {
     "data": {
      "application/vnd.jupyter.widget-view+json": {
       "model_id": "39bcd9aa41b143b588d4e9803d7465cd",
       "version_major": 2,
       "version_minor": 0
      },
      "text/plain": [
       "Computing average response for response matrix:   0%|          | 0/5600 [00:00<?, ?it/s]"
      ]
     },
     "metadata": {},
     "output_type": "display_data"
    },
    {
     "data": {
      "application/vnd.jupyter.widget-view+json": {
       "model_id": "c79020d76efd454f8f5354b103a9c768",
       "version_major": 2,
       "version_minor": 0
      },
      "text/plain": [
       "Computing average response for runspeed:   0%|          | 0/5600 [00:00<?, ?it/s]"
      ]
     },
     "metadata": {},
     "output_type": "display_data"
    },
    {
     "data": {
      "application/vnd.jupyter.widget-view+json": {
       "model_id": "92e77e9d2a834f668227bc9e9300c31a",
       "version_major": 2,
       "version_minor": 0
      },
      "text/plain": [
       "Computing average response for motion energy:   0%|          | 0/5600 [00:00<?, ?it/s]"
      ]
     },
     "metadata": {},
     "output_type": "display_data"
    },
    {
     "data": {
      "application/vnd.jupyter.widget-view+json": {
       "model_id": "e703048d265540c7be0b3b7dddd90765",
       "version_major": 2,
       "version_minor": 0
      },
      "text/plain": [
       "Computing average response for pupil x position:   0%|          | 0/5600 [00:00<?, ?it/s]"
      ]
     },
     "metadata": {},
     "output_type": "display_data"
    },
    {
     "data": {
      "application/vnd.jupyter.widget-view+json": {
       "model_id": "fc9ffc218f3441a3af47c61cc07a0ae9",
       "version_major": 2,
       "version_minor": 0
      },
      "text/plain": [
       "Computing average response for pupil y position:   0%|          | 0/5600 [00:00<?, ?it/s]"
      ]
     },
     "metadata": {},
     "output_type": "display_data"
    },
    {
     "data": {
      "application/vnd.jupyter.widget-view+json": {
       "model_id": "cce7fe0e85064d95aa3f16a717ab92e2",
       "version_major": 2,
       "version_minor": 0
      },
      "text/plain": [
       "Computing average response for pupil area:   0%|          | 0/5600 [00:00<?, ?it/s]"
      ]
     },
     "metadata": {},
     "output_type": "display_data"
    },
    {
     "data": {
      "application/vnd.jupyter.widget-view+json": {
       "model_id": "032b48f618d14dd69cfa16de22032368",
       "version_major": 2,
       "version_minor": 0
      },
      "text/plain": [
       "Computing average response for response matrix:   0%|          | 0/5600 [00:00<?, ?it/s]"
      ]
     },
     "metadata": {},
     "output_type": "display_data"
    },
    {
     "data": {
      "application/vnd.jupyter.widget-view+json": {
       "model_id": "29218f8bc15a479ca0abdb0fe6540516",
       "version_major": 2,
       "version_minor": 0
      },
      "text/plain": [
       "Computing average response for runspeed:   0%|          | 0/5600 [00:00<?, ?it/s]"
      ]
     },
     "metadata": {},
     "output_type": "display_data"
    },
    {
     "data": {
      "application/vnd.jupyter.widget-view+json": {
       "model_id": "59831d3393c1447494a49aaeb43291c0",
       "version_major": 2,
       "version_minor": 0
      },
      "text/plain": [
       "Computing average response for motion energy:   0%|          | 0/5600 [00:00<?, ?it/s]"
      ]
     },
     "metadata": {},
     "output_type": "display_data"
    },
    {
     "data": {
      "application/vnd.jupyter.widget-view+json": {
       "model_id": "8c777f1d2a314c768dbb9c218b92fd11",
       "version_major": 2,
       "version_minor": 0
      },
      "text/plain": [
       "Computing average response for pupil x position:   0%|          | 0/5600 [00:00<?, ?it/s]"
      ]
     },
     "metadata": {},
     "output_type": "display_data"
    },
    {
     "data": {
      "application/vnd.jupyter.widget-view+json": {
       "model_id": "c33b2782735e483ca6eee63ecb60a154",
       "version_major": 2,
       "version_minor": 0
      },
      "text/plain": [
       "Computing average response for pupil y position:   0%|          | 0/5600 [00:00<?, ?it/s]"
      ]
     },
     "metadata": {},
     "output_type": "display_data"
    },
    {
     "data": {
      "application/vnd.jupyter.widget-view+json": {
       "model_id": "61dab5750e894923a505f25758361505",
       "version_major": 2,
       "version_minor": 0
      },
      "text/plain": [
       "Computing average response for pupil area:   0%|          | 0/5600 [00:00<?, ?it/s]"
      ]
     },
     "metadata": {},
     "output_type": "display_data"
    },
    {
     "data": {
      "application/vnd.jupyter.widget-view+json": {
       "model_id": "43ae74e3f72a44f28a4e5ed8e6395aff",
       "version_major": 2,
       "version_minor": 0
      },
      "text/plain": [
       "Computing average response for response matrix:   0%|          | 0/5600 [00:00<?, ?it/s]"
      ]
     },
     "metadata": {},
     "output_type": "display_data"
    },
    {
     "data": {
      "application/vnd.jupyter.widget-view+json": {
       "model_id": "28ff86a4d78f4750b5da0bf9c6cfdc08",
       "version_major": 2,
       "version_minor": 0
      },
      "text/plain": [
       "Computing average response for runspeed:   0%|          | 0/5600 [00:00<?, ?it/s]"
      ]
     },
     "metadata": {},
     "output_type": "display_data"
    },
    {
     "data": {
      "application/vnd.jupyter.widget-view+json": {
       "model_id": "8de808fc455942b3b6cf96f0478e54fd",
       "version_major": 2,
       "version_minor": 0
      },
      "text/plain": [
       "Computing average response for motion energy:   0%|          | 0/5600 [00:00<?, ?it/s]"
      ]
     },
     "metadata": {},
     "output_type": "display_data"
    },
    {
     "data": {
      "application/vnd.jupyter.widget-view+json": {
       "model_id": "68dd0c721e5145178a334dc1ac15844f",
       "version_major": 2,
       "version_minor": 0
      },
      "text/plain": [
       "Computing average response for pupil x position:   0%|          | 0/5600 [00:00<?, ?it/s]"
      ]
     },
     "metadata": {},
     "output_type": "display_data"
    },
    {
     "data": {
      "application/vnd.jupyter.widget-view+json": {
       "model_id": "20952fd66561420c9f5fbec1db0ad1a6",
       "version_major": 2,
       "version_minor": 0
      },
      "text/plain": [
       "Computing average response for pupil y position:   0%|          | 0/5600 [00:00<?, ?it/s]"
      ]
     },
     "metadata": {},
     "output_type": "display_data"
    },
    {
     "data": {
      "application/vnd.jupyter.widget-view+json": {
       "model_id": "f264a504d29c4c218806680edf285daf",
       "version_major": 2,
       "version_minor": 0
      },
      "text/plain": [
       "Computing average response for pupil area:   0%|          | 0/5600 [00:00<?, ?it/s]"
      ]
     },
     "metadata": {},
     "output_type": "display_data"
    },
    {
     "data": {
      "application/vnd.jupyter.widget-view+json": {
       "model_id": "ee27626e4d494bf78bba47f0d818d51c",
       "version_major": 2,
       "version_minor": 0
      },
      "text/plain": [
       "Computing average response for response matrix:   0%|          | 0/5600 [00:00<?, ?it/s]"
      ]
     },
     "metadata": {},
     "output_type": "display_data"
    },
    {
     "data": {
      "application/vnd.jupyter.widget-view+json": {
       "model_id": "3bf5715e176c443a87ec699063969382",
       "version_major": 2,
       "version_minor": 0
      },
      "text/plain": [
       "Computing average response for runspeed:   0%|          | 0/5600 [00:00<?, ?it/s]"
      ]
     },
     "metadata": {},
     "output_type": "display_data"
    },
    {
     "data": {
      "application/vnd.jupyter.widget-view+json": {
       "model_id": "ac8dc734266c4d60a90464b2ee01ad03",
       "version_major": 2,
       "version_minor": 0
      },
      "text/plain": [
       "Computing average response for motion energy:   0%|          | 0/5600 [00:00<?, ?it/s]"
      ]
     },
     "metadata": {},
     "output_type": "display_data"
    },
    {
     "data": {
      "application/vnd.jupyter.widget-view+json": {
       "model_id": "5844ae2f5dc64516a8b6e18df44e9caf",
       "version_major": 2,
       "version_minor": 0
      },
      "text/plain": [
       "Computing average response for pupil x position:   0%|          | 0/5600 [00:00<?, ?it/s]"
      ]
     },
     "metadata": {},
     "output_type": "display_data"
    },
    {
     "data": {
      "application/vnd.jupyter.widget-view+json": {
       "model_id": "16acf6eb76804a63b8355416ece044cf",
       "version_major": 2,
       "version_minor": 0
      },
      "text/plain": [
       "Computing average response for pupil y position:   0%|          | 0/5600 [00:00<?, ?it/s]"
      ]
     },
     "metadata": {},
     "output_type": "display_data"
    },
    {
     "data": {
      "application/vnd.jupyter.widget-view+json": {
       "model_id": "b7a6bfe03cf74012901961df1144a51b",
       "version_major": 2,
       "version_minor": 0
      },
      "text/plain": [
       "Computing average response for pupil area:   0%|          | 0/5600 [00:00<?, ?it/s]"
      ]
     },
     "metadata": {},
     "output_type": "display_data"
    },
    {
     "data": {
      "application/vnd.jupyter.widget-view+json": {
       "model_id": "604a9eee97924c2eb7cd1ae476546829",
       "version_major": 2,
       "version_minor": 0
      },
      "text/plain": [
       "Computing average response for response matrix:   0%|          | 0/5600 [00:00<?, ?it/s]"
      ]
     },
     "metadata": {},
     "output_type": "display_data"
    },
    {
     "data": {
      "application/vnd.jupyter.widget-view+json": {
       "model_id": "745a4478067d403ab4ce8be3a888e2af",
       "version_major": 2,
       "version_minor": 0
      },
      "text/plain": [
       "Computing average response for runspeed:   0%|          | 0/5600 [00:00<?, ?it/s]"
      ]
     },
     "metadata": {},
     "output_type": "display_data"
    },
    {
     "data": {
      "application/vnd.jupyter.widget-view+json": {
       "model_id": "6107f7c65d044230a45988f53d45ddf9",
       "version_major": 2,
       "version_minor": 0
      },
      "text/plain": [
       "Computing average response for motion energy:   0%|          | 0/5600 [00:00<?, ?it/s]"
      ]
     },
     "metadata": {},
     "output_type": "display_data"
    },
    {
     "data": {
      "application/vnd.jupyter.widget-view+json": {
       "model_id": "73b4e123fbdf43efbef16ae559bd1c60",
       "version_major": 2,
       "version_minor": 0
      },
      "text/plain": [
       "Computing average response for pupil x position:   0%|          | 0/5600 [00:00<?, ?it/s]"
      ]
     },
     "metadata": {},
     "output_type": "display_data"
    },
    {
     "data": {
      "application/vnd.jupyter.widget-view+json": {
       "model_id": "034e8bc9358a41248755c7ed3d320a90",
       "version_major": 2,
       "version_minor": 0
      },
      "text/plain": [
       "Computing average response for pupil y position:   0%|          | 0/5600 [00:00<?, ?it/s]"
      ]
     },
     "metadata": {},
     "output_type": "display_data"
    },
    {
     "data": {
      "application/vnd.jupyter.widget-view+json": {
       "model_id": "e8e3c1e2fc534eda9604357afc736bb7",
       "version_major": 2,
       "version_minor": 0
      },
      "text/plain": [
       "Computing average response for pupil area:   0%|          | 0/5600 [00:00<?, ?it/s]"
      ]
     },
     "metadata": {},
     "output_type": "display_data"
    },
    {
     "data": {
      "application/vnd.jupyter.widget-view+json": {
       "model_id": "dd4c852b1e0c48049f46206d7635c79a",
       "version_major": 2,
       "version_minor": 0
      },
      "text/plain": [
       "Computing average response for response matrix:   0%|          | 0/5600 [00:00<?, ?it/s]"
      ]
     },
     "metadata": {},
     "output_type": "display_data"
    },
    {
     "data": {
      "application/vnd.jupyter.widget-view+json": {
       "model_id": "c3249bb30cf0488e81d5b1e67d07aba3",
       "version_major": 2,
       "version_minor": 0
      },
      "text/plain": [
       "Computing average response for runspeed:   0%|          | 0/5600 [00:00<?, ?it/s]"
      ]
     },
     "metadata": {},
     "output_type": "display_data"
    },
    {
     "data": {
      "application/vnd.jupyter.widget-view+json": {
       "model_id": "341c3fda96764027b0eac8722a0b34f4",
       "version_major": 2,
       "version_minor": 0
      },
      "text/plain": [
       "Computing average response for motion energy:   0%|          | 0/5600 [00:00<?, ?it/s]"
      ]
     },
     "metadata": {},
     "output_type": "display_data"
    },
    {
     "data": {
      "application/vnd.jupyter.widget-view+json": {
       "model_id": "93af0ed928084bb69a9f967103a78d6a",
       "version_major": 2,
       "version_minor": 0
      },
      "text/plain": [
       "Computing average response for pupil x position:   0%|          | 0/5600 [00:00<?, ?it/s]"
      ]
     },
     "metadata": {},
     "output_type": "display_data"
    },
    {
     "data": {
      "application/vnd.jupyter.widget-view+json": {
       "model_id": "b1e0feb57391452396386fdcd3e51a37",
       "version_major": 2,
       "version_minor": 0
      },
      "text/plain": [
       "Computing average response for pupil y position:   0%|          | 0/5600 [00:00<?, ?it/s]"
      ]
     },
     "metadata": {},
     "output_type": "display_data"
    },
    {
     "data": {
      "application/vnd.jupyter.widget-view+json": {
       "model_id": "f00e40f8f1224e4c94e8c9f59e8be66a",
       "version_major": 2,
       "version_minor": 0
      },
      "text/plain": [
       "Computing average response for pupil area:   0%|          | 0/5600 [00:00<?, ?it/s]"
      ]
     },
     "metadata": {},
     "output_type": "display_data"
    },
    {
     "data": {
      "application/vnd.jupyter.widget-view+json": {
       "model_id": "9848fd4957454a93aa04c51e88675b82",
       "version_major": 2,
       "version_minor": 0
      },
      "text/plain": [
       "Computing average response for response matrix:   0%|          | 0/5600 [00:00<?, ?it/s]"
      ]
     },
     "metadata": {},
     "output_type": "display_data"
    },
    {
     "data": {
      "application/vnd.jupyter.widget-view+json": {
       "model_id": "1604a37a8b454580a6727426b2b14184",
       "version_major": 2,
       "version_minor": 0
      },
      "text/plain": [
       "Computing average response for runspeed:   0%|          | 0/5600 [00:00<?, ?it/s]"
      ]
     },
     "metadata": {},
     "output_type": "display_data"
    },
    {
     "data": {
      "application/vnd.jupyter.widget-view+json": {
       "model_id": "9f8ae5749c2240eaa8d8d7d9bbbcbbae",
       "version_major": 2,
       "version_minor": 0
      },
      "text/plain": [
       "Computing average response for motion energy:   0%|          | 0/5600 [00:00<?, ?it/s]"
      ]
     },
     "metadata": {},
     "output_type": "display_data"
    },
    {
     "data": {
      "application/vnd.jupyter.widget-view+json": {
       "model_id": "315b5c4c0df7400388fd845fa8a6b230",
       "version_major": 2,
       "version_minor": 0
      },
      "text/plain": [
       "Computing average response for pupil x position:   0%|          | 0/5600 [00:00<?, ?it/s]"
      ]
     },
     "metadata": {},
     "output_type": "display_data"
    },
    {
     "data": {
      "application/vnd.jupyter.widget-view+json": {
       "model_id": "7509ab93d2b24991ba8f969a885611f3",
       "version_major": 2,
       "version_minor": 0
      },
      "text/plain": [
       "Computing average response for pupil y position:   0%|          | 0/5600 [00:00<?, ?it/s]"
      ]
     },
     "metadata": {},
     "output_type": "display_data"
    },
    {
     "data": {
      "application/vnd.jupyter.widget-view+json": {
       "model_id": "b948a155d24545f5a0c3eec119f2e7e7",
       "version_major": 2,
       "version_minor": 0
      },
      "text/plain": [
       "Computing average response for pupil area:   0%|          | 0/5600 [00:00<?, ?it/s]"
      ]
     },
     "metadata": {},
     "output_type": "display_data"
    },
    {
     "name": "stderr",
     "output_type": "stream",
     "text": [
      "Computing pairwise anatomical distance for each session: 100%|██████████| 14/14 [00:01<00:00,  9.31it/s]\n",
      "Smoothed interpolation of missing RF: 100%|██████████| 14/14 [00:04<00:00,  2.98it/s]\n",
      "Setting outlier RFs to NaN: 100%|██████████| 14/14 [00:00<?, ?it/s]\n"
     ]
    }
   ],
   "source": [
    "sessions, nSessions = load_sessions(protocol='IM', session_list=session_list, data_folder = INPUT_FOLDER)\n",
    "\n",
    "for ises in range(nSessions):    # Load proper data and compute average trial responses:\n",
    "    sessions[ises].load_respmat(calciumversion='deconv', keepraw=False)\n",
    "\n",
    "sessions = compute_pairwise_anatomical_distance(sessions)\n",
    "sessions = smooth_rf(sessions,radius=75,rf_type='Fneu')\n",
    "sessions = exclude_outlier_rf(sessions) \n",
    "sessions = replace_smooth_with_Fsig(sessions) "
   ]
  },
  {
   "cell_type": "code",
   "execution_count": 93,
   "metadata": {},
   "outputs": [
    {
     "data": {
      "text/plain": [
       "(1, 2)"
      ]
     },
     "execution_count": 93,
     "metadata": {},
     "output_type": "execute_result"
    }
   ],
   "source": [
    "session_reference_idx = np.argwhere(np.all(session_list == session_reference, axis=-1))[0, 0]\n",
    "session_MEI_idx = np.argwhere(np.all(session_list == MEI_validation_session, axis=-1))[0, 0]\n",
    "session_reference_idx, session_MEI_idx"
   ]
  },
  {
   "cell_type": "code",
   "execution_count": 94,
   "metadata": {},
   "outputs": [],
   "source": [
    "sess_ref = sessions[session_reference_idx]\n",
    "sess_MEI = sessions[session_MEI_idx]"
   ]
  },
  {
   "cell_type": "code",
   "execution_count": 95,
   "metadata": {},
   "outputs": [
    {
     "data": {
      "text/plain": [
       "Index(['iscell', 'iscell_prob', 'skew', 'radius', 'npix_soma', 'npix', 'xloc', 'yloc', 'redcell', 'frac_of_ROI_red', 'frac_red_in_ROI', 'chan2_prob', 'nredcells', 'plane_idx', 'roi_idx', 'plane_in_roi_idx', 'roi_name', 'depth', 'power_mw', 'labeled', 'arealabel', 'rf_az_F', 'rf_el_F', 'rf_sx_F', 'rf_sy_F', 'rf_r2_F', 'rf_az_Fneu', 'rf_el_Fneu', 'rf_sx_Fneu', 'rf_sy_Fneu', 'rf_r2_Fneu', 'meanF', 'meanF_chan2', 'noise_level', 'event_rate', 'cell_id', 'layer', 'recombinase', 'session_id', 'rf_az_Fsmooth', 'rf_el_Fsmooth', 'rf_sx_Fsmooth', 'rf_sy_Fsmooth', 'rf_r2_Fsmooth'], dtype='object')"
      ]
     },
     "execution_count": 95,
     "metadata": {},
     "output_type": "execute_result"
    }
   ],
   "source": [
    "sess_ref.celldata.columns"
   ]
  },
  {
   "cell_type": "code",
   "execution_count": 96,
   "metadata": {},
   "outputs": [
    {
     "name": "stdout",
     "output_type": "stream",
     "text": [
      "713\n"
     ]
    }
   ],
   "source": [
    "celldata_overlapping = sess_MEI.celldata[~sess_MEI.celldata['ref_cell_id'].isna()]\n",
    "sess_MEI_ids = celldata_overlapping['cell_id'].values\n",
    "sess_ref_ids = celldata_overlapping['ref_cell_id'].values\n",
    "print(len(sess_MEI_ids))"
   ]
  },
  {
   "cell_type": "code",
   "execution_count": 97,
   "metadata": {},
   "outputs": [
    {
     "data": {
      "text/html": [
       "<div>\n",
       "<style scoped>\n",
       "    .dataframe tbody tr th:only-of-type {\n",
       "        vertical-align: middle;\n",
       "    }\n",
       "\n",
       "    .dataframe tbody tr th {\n",
       "        vertical-align: top;\n",
       "    }\n",
       "\n",
       "    .dataframe thead th {\n",
       "        text-align: right;\n",
       "    }\n",
       "</style>\n",
       "<table border=\"1\" class=\"dataframe\">\n",
       "  <thead>\n",
       "    <tr style=\"text-align: right;\">\n",
       "      <th></th>\n",
       "      <th>iscell</th>\n",
       "      <th>iscell_prob</th>\n",
       "      <th>skew</th>\n",
       "      <th>radius</th>\n",
       "      <th>npix_soma</th>\n",
       "      <th>npix</th>\n",
       "      <th>xloc</th>\n",
       "      <th>...</th>\n",
       "      <th>event_rate</th>\n",
       "      <th>cell_id</th>\n",
       "      <th>ref_cell_id</th>\n",
       "      <th>layer</th>\n",
       "      <th>recombinase</th>\n",
       "      <th>session_id</th>\n",
       "      <th>index</th>\n",
       "    </tr>\n",
       "  </thead>\n",
       "  <tbody>\n",
       "    <tr>\n",
       "      <th>1</th>\n",
       "      <td>1.0</td>\n",
       "      <td>0.991325</td>\n",
       "      <td>6.497065</td>\n",
       "      <td>6.761200</td>\n",
       "      <td>95.0</td>\n",
       "      <td>118.0</td>\n",
       "      <td>421.875000</td>\n",
       "      <td>...</td>\n",
       "      <td>0.037844</td>\n",
       "      <td>LPE13959_2025_02_26_0_0001</td>\n",
       "      <td>LPE13959_2025_02_24_0_0190</td>\n",
       "      <td>L2/3</td>\n",
       "      <td>non</td>\n",
       "      <td>LPE13959_2025_02_26</td>\n",
       "      <td>1</td>\n",
       "    </tr>\n",
       "    <tr>\n",
       "      <th>2</th>\n",
       "      <td>1.0</td>\n",
       "      <td>0.982721</td>\n",
       "      <td>3.808386</td>\n",
       "      <td>6.495364</td>\n",
       "      <td>128.0</td>\n",
       "      <td>258.0</td>\n",
       "      <td>379.687500</td>\n",
       "      <td>...</td>\n",
       "      <td>0.045876</td>\n",
       "      <td>LPE13959_2025_02_26_0_0002</td>\n",
       "      <td>LPE13959_2025_02_24_0_0012</td>\n",
       "      <td>L2/3</td>\n",
       "      <td>cre</td>\n",
       "      <td>LPE13959_2025_02_26</td>\n",
       "      <td>2</td>\n",
       "    </tr>\n",
       "    <tr>\n",
       "      <th>4</th>\n",
       "      <td>1.0</td>\n",
       "      <td>0.979013</td>\n",
       "      <td>12.317529</td>\n",
       "      <td>5.441282</td>\n",
       "      <td>101.0</td>\n",
       "      <td>116.0</td>\n",
       "      <td>393.750000</td>\n",
       "      <td>...</td>\n",
       "      <td>0.011430</td>\n",
       "      <td>LPE13959_2025_02_26_0_0004</td>\n",
       "      <td>LPE13959_2025_02_24_0_0143</td>\n",
       "      <td>L2/3</td>\n",
       "      <td>cre</td>\n",
       "      <td>LPE13959_2025_02_26</td>\n",
       "      <td>4</td>\n",
       "    </tr>\n",
       "    <tr>\n",
       "      <th>5</th>\n",
       "      <td>1.0</td>\n",
       "      <td>0.964768</td>\n",
       "      <td>6.689018</td>\n",
       "      <td>5.174721</td>\n",
       "      <td>105.0</td>\n",
       "      <td>137.0</td>\n",
       "      <td>239.062500</td>\n",
       "      <td>...</td>\n",
       "      <td>0.032283</td>\n",
       "      <td>LPE13959_2025_02_26_0_0005</td>\n",
       "      <td>LPE13959_2025_02_24_0_0148</td>\n",
       "      <td>L2/3</td>\n",
       "      <td>non</td>\n",
       "      <td>LPE13959_2025_02_26</td>\n",
       "      <td>5</td>\n",
       "    </tr>\n",
       "    <tr>\n",
       "      <th>6</th>\n",
       "      <td>1.0</td>\n",
       "      <td>0.993477</td>\n",
       "      <td>12.783983</td>\n",
       "      <td>6.294384</td>\n",
       "      <td>115.0</td>\n",
       "      <td>143.0</td>\n",
       "      <td>154.687500</td>\n",
       "      <td>...</td>\n",
       "      <td>0.022552</td>\n",
       "      <td>LPE13959_2025_02_26_0_0006</td>\n",
       "      <td>LPE13959_2025_02_24_0_0145</td>\n",
       "      <td>L2/3</td>\n",
       "      <td>cre</td>\n",
       "      <td>LPE13959_2025_02_26</td>\n",
       "      <td>6</td>\n",
       "    </tr>\n",
       "    <tr>\n",
       "      <th>...</th>\n",
       "      <td>...</td>\n",
       "      <td>...</td>\n",
       "      <td>...</td>\n",
       "      <td>...</td>\n",
       "      <td>...</td>\n",
       "      <td>...</td>\n",
       "      <td>...</td>\n",
       "      <td>...</td>\n",
       "      <td>...</td>\n",
       "      <td>...</td>\n",
       "      <td>...</td>\n",
       "      <td>...</td>\n",
       "      <td>...</td>\n",
       "      <td>...</td>\n",
       "      <td>...</td>\n",
       "    </tr>\n",
       "    <tr>\n",
       "      <th>4383</th>\n",
       "      <td>1.0</td>\n",
       "      <td>0.738768</td>\n",
       "      <td>0.544026</td>\n",
       "      <td>6.201679</td>\n",
       "      <td>126.0</td>\n",
       "      <td>163.0</td>\n",
       "      <td>468.750000</td>\n",
       "      <td>...</td>\n",
       "      <td>0.126974</td>\n",
       "      <td>LPE13959_2025_02_26_7_0527</td>\n",
       "      <td>LPE13959_2025_02_24_7_0061</td>\n",
       "      <td>L5</td>\n",
       "      <td>non</td>\n",
       "      <td>LPE13959_2025_02_26</td>\n",
       "      <td>4383</td>\n",
       "    </tr>\n",
       "    <tr>\n",
       "      <th>4391</th>\n",
       "      <td>1.0</td>\n",
       "      <td>0.566869</td>\n",
       "      <td>0.349815</td>\n",
       "      <td>6.416200</td>\n",
       "      <td>108.0</td>\n",
       "      <td>136.0</td>\n",
       "      <td>510.937500</td>\n",
       "      <td>...</td>\n",
       "      <td>0.135315</td>\n",
       "      <td>LPE13959_2025_02_26_7_0580</td>\n",
       "      <td>LPE13959_2025_02_24_7_0067</td>\n",
       "      <td>L5</td>\n",
       "      <td>non</td>\n",
       "      <td>LPE13959_2025_02_26</td>\n",
       "      <td>4391</td>\n",
       "    </tr>\n",
       "    <tr>\n",
       "      <th>4398</th>\n",
       "      <td>1.0</td>\n",
       "      <td>0.855500</td>\n",
       "      <td>0.392847</td>\n",
       "      <td>6.627314</td>\n",
       "      <td>120.0</td>\n",
       "      <td>131.0</td>\n",
       "      <td>295.312500</td>\n",
       "      <td>...</td>\n",
       "      <td>0.142421</td>\n",
       "      <td>LPE13959_2025_02_26_7_0618</td>\n",
       "      <td>LPE13959_2025_02_24_7_0242</td>\n",
       "      <td>L5</td>\n",
       "      <td>non</td>\n",
       "      <td>LPE13959_2025_02_26</td>\n",
       "      <td>4398</td>\n",
       "    </tr>\n",
       "    <tr>\n",
       "      <th>4402</th>\n",
       "      <td>1.0</td>\n",
       "      <td>0.746844</td>\n",
       "      <td>0.567436</td>\n",
       "      <td>5.626392</td>\n",
       "      <td>103.0</td>\n",
       "      <td>108.0</td>\n",
       "      <td>351.562500</td>\n",
       "      <td>...</td>\n",
       "      <td>0.131145</td>\n",
       "      <td>LPE13959_2025_02_26_7_0666</td>\n",
       "      <td>LPE13959_2025_02_24_7_0248</td>\n",
       "      <td>L5</td>\n",
       "      <td>non</td>\n",
       "      <td>LPE13959_2025_02_26</td>\n",
       "      <td>4402</td>\n",
       "    </tr>\n",
       "    <tr>\n",
       "      <th>4408</th>\n",
       "      <td>1.0</td>\n",
       "      <td>0.504473</td>\n",
       "      <td>0.604436</td>\n",
       "      <td>4.939365</td>\n",
       "      <td>67.0</td>\n",
       "      <td>78.0</td>\n",
       "      <td>413.671875</td>\n",
       "      <td>...</td>\n",
       "      <td>0.132381</td>\n",
       "      <td>LPE13959_2025_02_26_7_0731</td>\n",
       "      <td>LPE13959_2025_02_24_7_0232</td>\n",
       "      <td>L5</td>\n",
       "      <td>non</td>\n",
       "      <td>LPE13959_2025_02_26</td>\n",
       "      <td>4408</td>\n",
       "    </tr>\n",
       "  </tbody>\n",
       "</table>\n",
       "<p>713 rows × 31 columns</p>\n",
       "</div>"
      ],
      "text/plain": [
       "      iscell  iscell_prob       skew    radius  npix_soma   npix        xloc  ...  event_rate                     cell_id                 ref_cell_id  layer  recombinase           session_id  index\n",
       "1        1.0     0.991325   6.497065  6.761200       95.0  118.0  421.875000  ...    0.037844  LPE13959_2025_02_26_0_0001  LPE13959_2025_02_24_0_0190   L2/3          non  LPE13959_2025_02_26      1\n",
       "2        1.0     0.982721   3.808386  6.495364      128.0  258.0  379.687500  ...    0.045876  LPE13959_2025_02_26_0_0002  LPE13959_2025_02_24_0_0012   L2/3          cre  LPE13959_2025_02_26      2\n",
       "4        1.0     0.979013  12.317529  5.441282      101.0  116.0  393.750000  ...    0.011430  LPE13959_2025_02_26_0_0004  LPE13959_2025_02_24_0_0143   L2/3          cre  LPE13959_2025_02_26      4\n",
       "5        1.0     0.964768   6.689018  5.174721      105.0  137.0  239.062500  ...    0.032283  LPE13959_2025_02_26_0_0005  LPE13959_2025_02_24_0_0148   L2/3          non  LPE13959_2025_02_26      5\n",
       "6        1.0     0.993477  12.783983  6.294384      115.0  143.0  154.687500  ...    0.022552  LPE13959_2025_02_26_0_0006  LPE13959_2025_02_24_0_0145   L2/3          cre  LPE13959_2025_02_26      6\n",
       "...      ...          ...        ...       ...        ...    ...         ...  ...         ...                         ...                         ...    ...          ...                  ...    ...\n",
       "4383     1.0     0.738768   0.544026  6.201679      126.0  163.0  468.750000  ...    0.126974  LPE13959_2025_02_26_7_0527  LPE13959_2025_02_24_7_0061     L5          non  LPE13959_2025_02_26   4383\n",
       "4391     1.0     0.566869   0.349815  6.416200      108.0  136.0  510.937500  ...    0.135315  LPE13959_2025_02_26_7_0580  LPE13959_2025_02_24_7_0067     L5          non  LPE13959_2025_02_26   4391\n",
       "4398     1.0     0.855500   0.392847  6.627314      120.0  131.0  295.312500  ...    0.142421  LPE13959_2025_02_26_7_0618  LPE13959_2025_02_24_7_0242     L5          non  LPE13959_2025_02_26   4398\n",
       "4402     1.0     0.746844   0.567436  5.626392      103.0  108.0  351.562500  ...    0.131145  LPE13959_2025_02_26_7_0666  LPE13959_2025_02_24_7_0248     L5          non  LPE13959_2025_02_26   4402\n",
       "4408     1.0     0.504473   0.604436  4.939365       67.0   78.0  413.671875  ...    0.132381  LPE13959_2025_02_26_7_0731  LPE13959_2025_02_24_7_0232     L5          non  LPE13959_2025_02_26   4408\n",
       "\n",
       "[713 rows x 31 columns]"
      ]
     },
     "execution_count": 97,
     "metadata": {},
     "output_type": "execute_result"
    }
   ],
   "source": [
    "celldata_overlapping['index'] = celldata_overlapping.index\n",
    "celldata_overlapping"
   ]
  },
  {
   "cell_type": "code",
   "execution_count": 98,
   "metadata": {},
   "outputs": [
    {
     "data": {
      "text/html": [
       "<div>\n",
       "<style scoped>\n",
       "    .dataframe tbody tr th:only-of-type {\n",
       "        vertical-align: middle;\n",
       "    }\n",
       "\n",
       "    .dataframe tbody tr th {\n",
       "        vertical-align: top;\n",
       "    }\n",
       "\n",
       "    .dataframe thead th {\n",
       "        text-align: right;\n",
       "    }\n",
       "</style>\n",
       "<table border=\"1\" class=\"dataframe\">\n",
       "  <thead>\n",
       "    <tr style=\"text-align: right;\">\n",
       "      <th></th>\n",
       "      <th>index</th>\n",
       "      <th>image_id</th>\n",
       "      <th>trial_ids_ref</th>\n",
       "      <th>trial_ids_MEI</th>\n",
       "    </tr>\n",
       "  </thead>\n",
       "  <tbody>\n",
       "    <tr>\n",
       "      <th>0</th>\n",
       "      <td>1</td>\n",
       "      <td>227</td>\n",
       "      <td>[1, 172, 1736, 2530, 3086, 3241, 3750, 3851, 4...</td>\n",
       "      <td>[1186, 1334, 1557, 1591, 1655, 2469, 2637, 318...</td>\n",
       "    </tr>\n",
       "    <tr>\n",
       "      <th>1</th>\n",
       "      <td>22</td>\n",
       "      <td>1232</td>\n",
       "      <td>[22, 4735]</td>\n",
       "      <td>[311, 1036, 1199, 1367, 2376, 2911, 3249, 4194...</td>\n",
       "    </tr>\n",
       "    <tr>\n",
       "      <th>2</th>\n",
       "      <td>32</td>\n",
       "      <td>1450</td>\n",
       "      <td>[32, 4819]</td>\n",
       "      <td>[390, 866, 1112, 1392, 3713, 3805, 4406, 4883,...</td>\n",
       "    </tr>\n",
       "    <tr>\n",
       "      <th>3</th>\n",
       "      <td>35</td>\n",
       "      <td>1699</td>\n",
       "      <td>[35, 3220]</td>\n",
       "      <td>[1135, 1166, 1356, 1871, 2025, 2055, 2085, 241...</td>\n",
       "    </tr>\n",
       "    <tr>\n",
       "      <th>4</th>\n",
       "      <td>42</td>\n",
       "      <td>2390</td>\n",
       "      <td>[42, 581, 945, 1455, 1569, 2860, 4111, 4138, 5...</td>\n",
       "      <td>[1231, 1468, 1853, 2667, 2673, 3284, 3346, 489...</td>\n",
       "    </tr>\n",
       "    <tr>\n",
       "      <th>...</th>\n",
       "      <td>...</td>\n",
       "      <td>...</td>\n",
       "      <td>...</td>\n",
       "      <td>...</td>\n",
       "    </tr>\n",
       "    <tr>\n",
       "      <th>255</th>\n",
       "      <td>2378</td>\n",
       "      <td>1835</td>\n",
       "      <td>[5002, 5057]</td>\n",
       "      <td>[773, 1401, 1461, 2344, 2632, 2776, 3287, 3855...</td>\n",
       "    </tr>\n",
       "    <tr>\n",
       "      <th>256</th>\n",
       "      <td>2381</td>\n",
       "      <td>1229</td>\n",
       "      <td>[5049, 5532]</td>\n",
       "      <td>[280, 716, 2173, 2768, 2771, 4666, 4795, 4991,...</td>\n",
       "    </tr>\n",
       "    <tr>\n",
       "      <th>257</th>\n",
       "      <td>2387</td>\n",
       "      <td>2115</td>\n",
       "      <td>[5132, 5276]</td>\n",
       "      <td>[146, 1527, 1894, 2224, 2286, 3019, 3533, 4242...</td>\n",
       "    </tr>\n",
       "    <tr>\n",
       "      <th>258</th>\n",
       "      <td>2392</td>\n",
       "      <td>1640</td>\n",
       "      <td>[5313, 5564]</td>\n",
       "      <td>[567, 704, 1070, 1212, 2202, 3360, 4253, 4427,...</td>\n",
       "    </tr>\n",
       "    <tr>\n",
       "      <th>259</th>\n",
       "      <td>2395</td>\n",
       "      <td>1880</td>\n",
       "      <td>[5349, 5488]</td>\n",
       "      <td>[920, 1315, 1463, 1525, 1605, 1930, 2473, 3209...</td>\n",
       "    </tr>\n",
       "  </tbody>\n",
       "</table>\n",
       "<p>260 rows × 4 columns</p>\n",
       "</div>"
      ],
      "text/plain": [
       "     index  image_id                                      trial_ids_ref                                      trial_ids_MEI\n",
       "0        1       227  [1, 172, 1736, 2530, 3086, 3241, 3750, 3851, 4...  [1186, 1334, 1557, 1591, 1655, 2469, 2637, 318...\n",
       "1       22      1232                                         [22, 4735]  [311, 1036, 1199, 1367, 2376, 2911, 3249, 4194...\n",
       "2       32      1450                                         [32, 4819]  [390, 866, 1112, 1392, 3713, 3805, 4406, 4883,...\n",
       "3       35      1699                                         [35, 3220]  [1135, 1166, 1356, 1871, 2025, 2055, 2085, 241...\n",
       "4       42      2390  [42, 581, 945, 1455, 1569, 2860, 4111, 4138, 5...  [1231, 1468, 1853, 2667, 2673, 3284, 3346, 489...\n",
       "..     ...       ...                                                ...                                                ...\n",
       "255   2378      1835                                       [5002, 5057]  [773, 1401, 1461, 2344, 2632, 2776, 3287, 3855...\n",
       "256   2381      1229                                       [5049, 5532]  [280, 716, 2173, 2768, 2771, 4666, 4795, 4991,...\n",
       "257   2387      2115                                       [5132, 5276]  [146, 1527, 1894, 2224, 2286, 3019, 3533, 4242...\n",
       "258   2392      1640                                       [5313, 5564]  [567, 704, 1070, 1212, 2202, 3360, 4253, 4427,...\n",
       "259   2395      1880                                       [5349, 5488]  [920, 1315, 1463, 1525, 1605, 1930, 2473, 3209...\n",
       "\n",
       "[260 rows x 4 columns]"
      ]
     },
     "execution_count": 98,
     "metadata": {},
     "output_type": "execute_result"
    }
   ],
   "source": [
    "presented_natural_images = pd.DataFrame(sess_ref.trialdata['ImageNumber'].unique(), columns=['image_id'])\n",
    "\n",
    "def find_image_presentation_image_nums(row, trialdata):\n",
    "    image_of_interest = row['image_id']\n",
    "    indices = trialdata.loc[trialdata['ImageNumber'] == image_of_interest].index.to_list()\n",
    "    return indices if indices else None\n",
    "\n",
    "presented_natural_images['trial_ids_ref'] = presented_natural_images.apply(lambda x: find_image_presentation_image_nums(x, sess_ref.trialdata), axis=1)\n",
    "presented_natural_images['trial_ids_MEI'] = presented_natural_images.apply(lambda x: find_image_presentation_image_nums(x, sess_MEI.trialdata), axis=1)\n",
    "presented_natural_images.dropna(subset='trial_ids_MEI', inplace=True)\n",
    "presented_natural_images.reset_index(inplace=True)\n",
    "presented_natural_images"
   ]
  },
  {
   "cell_type": "code",
   "execution_count": 137,
   "metadata": {},
   "outputs": [
    {
     "name": "stderr",
     "output_type": "stream",
     "text": [
      "100%|██████████| 5600/5600 [00:00<00:00, 5778.19it/s]\n",
      "100%|██████████| 5600/5600 [00:07<00:00, 708.81it/s]\n"
     ]
    },
    {
     "data": {
      "text/plain": [
       "((2899, 5600), (4414, 5740))"
      ]
     },
     "execution_count": 137,
     "metadata": {},
     "output_type": "execute_result"
    }
   ],
   "source": [
    "import glob\n",
    "\n",
    "def get_respmat(data_folder):\n",
    "    nr_files = len(glob.glob(os.path.join(data_folder, '*')))\n",
    "    shape = np.load(os.path.join(data_folder, '0.npy')).shape\n",
    "    data = np.empty((nr_files, *shape))\n",
    "\n",
    "    for nr in tqdm(range(nr_files)):\n",
    "        data[nr] = np.load(os.path.join(data_folder, '{}.npy'.format(nr)))\n",
    "\n",
    "    assert not np.isnan(data).any(), f'Nans in data_mat {subname}'\n",
    "\n",
    "    return data.T\n",
    "\n",
    "data_folder = 'runs/V1_MEI_in_vivo_validation_with_grid_mean_predictor/data_preprocessed/LPE13959/2025_02_24/data/responses'\n",
    "\n",
    "respmat_V1 = get_respmat('runs/V1_MEI_in_vivo_validation_with_grid_mean_predictor/data_preprocessed/LPE13959/2025_02_24/data/responses')\n",
    "respmat_PM = get_respmat('runs/PM_MEI_in_vivo_validation_with_grid_mean_predictor/data_preprocessed/LPE13959/2025_02_24/data/responses')\n",
    "\n",
    "respmat_ref.shape, respmat_MEI.shape\n",
    "\n",
    "# np.save(os.path.join(save_folder, '{}.npy'.format(subname)), data_mat)"
   ]
  },
  {
   "cell_type": "code",
   "execution_count": 134,
   "metadata": {},
   "outputs": [
    {
     "data": {
      "text/plain": [
       "(5600, 2899)"
      ]
     },
     "execution_count": 134,
     "metadata": {},
     "output_type": "execute_result"
    }
   ],
   "source": [
    "data_mat.shape"
   ]
  },
  {
   "cell_type": "code",
   "execution_count": 184,
   "metadata": {},
   "outputs": [],
   "source": [
    "respmat_ref = sess_ref.respmat\n",
    "respmat_MEI = sess_MEI.respmat\n",
    "\n",
    "# z score normalization\n",
    "\n",
    "# respmat_ref = (respmat_ref - np.mean(respmat_ref, axis = 1, keepdims=True)) / np.std(respmat_ref, axis=1, keepdims=True)\n",
    "# respmat_MEI = (respmat_MEI - np.mean(respmat_MEI, axis = 1, keepdims=True)) / np.std(respmat_MEI, axis=1, keepdims=True)\n",
    "\n",
    "# linearly normalize each row such that the min response is at 0 and the max response is at 1\n",
    "\n",
    "respmat_ref = (respmat_ref - np.min(respmat_ref, axis = 1, keepdims=True)) / (np.max(respmat_ref, axis=1, keepdims=True) - np.min(respmat_ref, axis=1, keepdims=True))\n",
    "respmat_MEI = (respmat_MEI - np.min(respmat_MEI, axis = 1, keepdims=True)) / (np.max(respmat_MEI, axis=1, keepdims=True) - np.min(respmat_MEI, axis=1, keepdims=True))"
   ]
  },
  {
   "cell_type": "code",
   "execution_count": 185,
   "metadata": {},
   "outputs": [
    {
     "data": {
      "text/html": [
       "<div>\n",
       "<style scoped>\n",
       "    .dataframe tbody tr th:only-of-type {\n",
       "        vertical-align: middle;\n",
       "    }\n",
       "\n",
       "    .dataframe tbody tr th {\n",
       "        vertical-align: top;\n",
       "    }\n",
       "\n",
       "    .dataframe thead th {\n",
       "        text-align: right;\n",
       "    }\n",
       "</style>\n",
       "<table border=\"1\" class=\"dataframe\">\n",
       "  <thead>\n",
       "    <tr style=\"text-align: right;\">\n",
       "      <th></th>\n",
       "      <th>iscell</th>\n",
       "      <th>iscell_prob</th>\n",
       "      <th>skew</th>\n",
       "      <th>radius</th>\n",
       "      <th>npix_soma</th>\n",
       "      <th>npix</th>\n",
       "      <th>xloc</th>\n",
       "      <th>...</th>\n",
       "      <th>session_id</th>\n",
       "      <th>rf_az_Fsmooth</th>\n",
       "      <th>rf_el_Fsmooth</th>\n",
       "      <th>rf_sx_Fsmooth</th>\n",
       "      <th>rf_sy_Fsmooth</th>\n",
       "      <th>rf_r2_Fsmooth</th>\n",
       "      <th>index</th>\n",
       "    </tr>\n",
       "  </thead>\n",
       "  <tbody>\n",
       "    <tr>\n",
       "      <th>0</th>\n",
       "      <td>1.0</td>\n",
       "      <td>0.917326</td>\n",
       "      <td>5.980925</td>\n",
       "      <td>8.389091</td>\n",
       "      <td>157.0</td>\n",
       "      <td>172.0</td>\n",
       "      <td>465.234375</td>\n",
       "      <td>...</td>\n",
       "      <td>LPE13959_2025_02_24</td>\n",
       "      <td>99.513110</td>\n",
       "      <td>31.205298</td>\n",
       "      <td>NaN</td>\n",
       "      <td>NaN</td>\n",
       "      <td>1.000000</td>\n",
       "      <td>0</td>\n",
       "    </tr>\n",
       "    <tr>\n",
       "      <th>1</th>\n",
       "      <td>1.0</td>\n",
       "      <td>0.988401</td>\n",
       "      <td>8.282103</td>\n",
       "      <td>7.690224</td>\n",
       "      <td>143.0</td>\n",
       "      <td>172.0</td>\n",
       "      <td>118.359375</td>\n",
       "      <td>...</td>\n",
       "      <td>LPE13959_2025_02_24</td>\n",
       "      <td>73.542776</td>\n",
       "      <td>28.001962</td>\n",
       "      <td>NaN</td>\n",
       "      <td>NaN</td>\n",
       "      <td>1.000000</td>\n",
       "      <td>1</td>\n",
       "    </tr>\n",
       "    <tr>\n",
       "      <th>2</th>\n",
       "      <td>1.0</td>\n",
       "      <td>0.996226</td>\n",
       "      <td>9.465027</td>\n",
       "      <td>5.839460</td>\n",
       "      <td>106.0</td>\n",
       "      <td>127.0</td>\n",
       "      <td>235.546875</td>\n",
       "      <td>...</td>\n",
       "      <td>LPE13959_2025_02_24</td>\n",
       "      <td>77.532161</td>\n",
       "      <td>30.886447</td>\n",
       "      <td>NaN</td>\n",
       "      <td>NaN</td>\n",
       "      <td>1.000000</td>\n",
       "      <td>2</td>\n",
       "    </tr>\n",
       "    <tr>\n",
       "      <th>3</th>\n",
       "      <td>1.0</td>\n",
       "      <td>0.971806</td>\n",
       "      <td>7.692322</td>\n",
       "      <td>6.673438</td>\n",
       "      <td>105.0</td>\n",
       "      <td>136.0</td>\n",
       "      <td>544.921875</td>\n",
       "      <td>...</td>\n",
       "      <td>LPE13959_2025_02_24</td>\n",
       "      <td>91.780238</td>\n",
       "      <td>33.942454</td>\n",
       "      <td>38.915069</td>\n",
       "      <td>6.41469</td>\n",
       "      <td>0.231648</td>\n",
       "      <td>3</td>\n",
       "    </tr>\n",
       "    <tr>\n",
       "      <th>4</th>\n",
       "      <td>1.0</td>\n",
       "      <td>0.984217</td>\n",
       "      <td>6.789249</td>\n",
       "      <td>6.524613</td>\n",
       "      <td>122.0</td>\n",
       "      <td>145.0</td>\n",
       "      <td>385.546875</td>\n",
       "      <td>...</td>\n",
       "      <td>LPE13959_2025_02_24</td>\n",
       "      <td>92.686224</td>\n",
       "      <td>31.389018</td>\n",
       "      <td>NaN</td>\n",
       "      <td>NaN</td>\n",
       "      <td>1.000000</td>\n",
       "      <td>4</td>\n",
       "    </tr>\n",
       "    <tr>\n",
       "      <th>...</th>\n",
       "      <td>...</td>\n",
       "      <td>...</td>\n",
       "      <td>...</td>\n",
       "      <td>...</td>\n",
       "      <td>...</td>\n",
       "      <td>...</td>\n",
       "      <td>...</td>\n",
       "      <td>...</td>\n",
       "      <td>...</td>\n",
       "      <td>...</td>\n",
       "      <td>...</td>\n",
       "      <td>...</td>\n",
       "      <td>...</td>\n",
       "      <td>...</td>\n",
       "      <td>...</td>\n",
       "    </tr>\n",
       "    <tr>\n",
       "      <th>3631</th>\n",
       "      <td>1.0</td>\n",
       "      <td>0.627150</td>\n",
       "      <td>1.241703</td>\n",
       "      <td>4.294106</td>\n",
       "      <td>65.0</td>\n",
       "      <td>77.0</td>\n",
       "      <td>452.343750</td>\n",
       "      <td>...</td>\n",
       "      <td>LPE13959_2025_02_24</td>\n",
       "      <td>NaN</td>\n",
       "      <td>NaN</td>\n",
       "      <td>NaN</td>\n",
       "      <td>NaN</td>\n",
       "      <td>NaN</td>\n",
       "      <td>3631</td>\n",
       "    </tr>\n",
       "    <tr>\n",
       "      <th>3632</th>\n",
       "      <td>1.0</td>\n",
       "      <td>0.851016</td>\n",
       "      <td>0.618288</td>\n",
       "      <td>5.141607</td>\n",
       "      <td>80.0</td>\n",
       "      <td>132.0</td>\n",
       "      <td>441.796875</td>\n",
       "      <td>...</td>\n",
       "      <td>LPE13959_2025_02_24</td>\n",
       "      <td>NaN</td>\n",
       "      <td>NaN</td>\n",
       "      <td>NaN</td>\n",
       "      <td>NaN</td>\n",
       "      <td>NaN</td>\n",
       "      <td>3632</td>\n",
       "    </tr>\n",
       "    <tr>\n",
       "      <th>3633</th>\n",
       "      <td>1.0</td>\n",
       "      <td>0.628065</td>\n",
       "      <td>1.073125</td>\n",
       "      <td>5.056850</td>\n",
       "      <td>56.0</td>\n",
       "      <td>68.0</td>\n",
       "      <td>450.000000</td>\n",
       "      <td>...</td>\n",
       "      <td>LPE13959_2025_02_24</td>\n",
       "      <td>NaN</td>\n",
       "      <td>NaN</td>\n",
       "      <td>NaN</td>\n",
       "      <td>NaN</td>\n",
       "      <td>NaN</td>\n",
       "      <td>3633</td>\n",
       "    </tr>\n",
       "    <tr>\n",
       "      <th>3634</th>\n",
       "      <td>1.0</td>\n",
       "      <td>0.836071</td>\n",
       "      <td>0.616728</td>\n",
       "      <td>5.054649</td>\n",
       "      <td>76.0</td>\n",
       "      <td>106.0</td>\n",
       "      <td>360.937500</td>\n",
       "      <td>...</td>\n",
       "      <td>LPE13959_2025_02_24</td>\n",
       "      <td>NaN</td>\n",
       "      <td>NaN</td>\n",
       "      <td>NaN</td>\n",
       "      <td>NaN</td>\n",
       "      <td>NaN</td>\n",
       "      <td>3634</td>\n",
       "    </tr>\n",
       "    <tr>\n",
       "      <th>3635</th>\n",
       "      <td>1.0</td>\n",
       "      <td>0.598486</td>\n",
       "      <td>1.135679</td>\n",
       "      <td>5.087752</td>\n",
       "      <td>64.0</td>\n",
       "      <td>78.0</td>\n",
       "      <td>487.500000</td>\n",
       "      <td>...</td>\n",
       "      <td>LPE13959_2025_02_24</td>\n",
       "      <td>NaN</td>\n",
       "      <td>NaN</td>\n",
       "      <td>NaN</td>\n",
       "      <td>NaN</td>\n",
       "      <td>NaN</td>\n",
       "      <td>3635</td>\n",
       "    </tr>\n",
       "  </tbody>\n",
       "</table>\n",
       "<p>3636 rows × 45 columns</p>\n",
       "</div>"
      ],
      "text/plain": [
       "      iscell  iscell_prob      skew    radius  npix_soma   npix        xloc  ...           session_id  rf_az_Fsmooth  rf_el_Fsmooth  rf_sx_Fsmooth  rf_sy_Fsmooth  rf_r2_Fsmooth  index\n",
       "0        1.0     0.917326  5.980925  8.389091      157.0  172.0  465.234375  ...  LPE13959_2025_02_24      99.513110      31.205298            NaN            NaN       1.000000      0\n",
       "1        1.0     0.988401  8.282103  7.690224      143.0  172.0  118.359375  ...  LPE13959_2025_02_24      73.542776      28.001962            NaN            NaN       1.000000      1\n",
       "2        1.0     0.996226  9.465027  5.839460      106.0  127.0  235.546875  ...  LPE13959_2025_02_24      77.532161      30.886447            NaN            NaN       1.000000      2\n",
       "3        1.0     0.971806  7.692322  6.673438      105.0  136.0  544.921875  ...  LPE13959_2025_02_24      91.780238      33.942454      38.915069        6.41469       0.231648      3\n",
       "4        1.0     0.984217  6.789249  6.524613      122.0  145.0  385.546875  ...  LPE13959_2025_02_24      92.686224      31.389018            NaN            NaN       1.000000      4\n",
       "...      ...          ...       ...       ...        ...    ...         ...  ...                  ...            ...            ...            ...            ...            ...    ...\n",
       "3631     1.0     0.627150  1.241703  4.294106       65.0   77.0  452.343750  ...  LPE13959_2025_02_24            NaN            NaN            NaN            NaN            NaN   3631\n",
       "3632     1.0     0.851016  0.618288  5.141607       80.0  132.0  441.796875  ...  LPE13959_2025_02_24            NaN            NaN            NaN            NaN            NaN   3632\n",
       "3633     1.0     0.628065  1.073125  5.056850       56.0   68.0  450.000000  ...  LPE13959_2025_02_24            NaN            NaN            NaN            NaN            NaN   3633\n",
       "3634     1.0     0.836071  0.616728  5.054649       76.0  106.0  360.937500  ...  LPE13959_2025_02_24            NaN            NaN            NaN            NaN            NaN   3634\n",
       "3635     1.0     0.598486  1.135679  5.087752       64.0   78.0  487.500000  ...  LPE13959_2025_02_24            NaN            NaN            NaN            NaN            NaN   3635\n",
       "\n",
       "[3636 rows x 45 columns]"
      ]
     },
     "execution_count": 185,
     "metadata": {},
     "output_type": "execute_result"
    }
   ],
   "source": [
    "celldata_ref = sess_ref.celldata\n",
    "celldata_MEI = sess_MEI.celldata\n",
    "\n",
    "celldata_ref['index'] = celldata_ref.index\n",
    "celldata_MEI['index'] = celldata_MEI.index\n",
    "\n",
    "celldata_ref"
   ]
  },
  {
   "cell_type": "code",
   "execution_count": 256,
   "metadata": {},
   "outputs": [
    {
     "data": {
      "text/html": [
       "<div>\n",
       "<style scoped>\n",
       "    .dataframe tbody tr th:only-of-type {\n",
       "        vertical-align: middle;\n",
       "    }\n",
       "\n",
       "    .dataframe tbody tr th {\n",
       "        vertical-align: top;\n",
       "    }\n",
       "\n",
       "    .dataframe thead th {\n",
       "        text-align: right;\n",
       "    }\n",
       "</style>\n",
       "<table border=\"1\" class=\"dataframe\">\n",
       "  <thead>\n",
       "    <tr style=\"text-align: right;\">\n",
       "      <th></th>\n",
       "      <th>cell_id</th>\n",
       "      <th>neuron_idx_orig</th>\n",
       "      <th>neuron_idx</th>\n",
       "      <th>index</th>\n",
       "    </tr>\n",
       "  </thead>\n",
       "  <tbody>\n",
       "    <tr>\n",
       "      <th>32</th>\n",
       "      <td>LPE13959_2025_02_24_0_0000</td>\n",
       "      <td>0</td>\n",
       "      <td>542</td>\n",
       "      <td>0</td>\n",
       "    </tr>\n",
       "    <tr>\n",
       "      <th>74</th>\n",
       "      <td>LPE13959_2025_02_24_0_0001</td>\n",
       "      <td>1</td>\n",
       "      <td>2724</td>\n",
       "      <td>1</td>\n",
       "    </tr>\n",
       "    <tr>\n",
       "      <th>13</th>\n",
       "      <td>LPE13959_2025_02_24_0_0002</td>\n",
       "      <td>2</td>\n",
       "      <td>37</td>\n",
       "      <td>2</td>\n",
       "    </tr>\n",
       "    <tr>\n",
       "      <th>8</th>\n",
       "      <td>LPE13959_2025_02_24_0_0003</td>\n",
       "      <td>3</td>\n",
       "      <td>10</td>\n",
       "      <td>3</td>\n",
       "    </tr>\n",
       "    <tr>\n",
       "      <th>65</th>\n",
       "      <td>LPE13959_2025_02_24_0_0004</td>\n",
       "      <td>4</td>\n",
       "      <td>2188</td>\n",
       "      <td>4</td>\n",
       "    </tr>\n",
       "    <tr>\n",
       "      <th>...</th>\n",
       "      <td>...</td>\n",
       "      <td>...</td>\n",
       "      <td>...</td>\n",
       "      <td>...</td>\n",
       "    </tr>\n",
       "    <tr>\n",
       "      <th>77</th>\n",
       "      <td>LPE13959_2025_02_24_7_0168</td>\n",
       "      <td>612</td>\n",
       "      <td>3511</td>\n",
       "      <td>152</td>\n",
       "    </tr>\n",
       "    <tr>\n",
       "      <th>54</th>\n",
       "      <td>LPE13959_2025_02_24_7_0187</td>\n",
       "      <td>626</td>\n",
       "      <td>3359</td>\n",
       "      <td>153</td>\n",
       "    </tr>\n",
       "    <tr>\n",
       "      <th>45</th>\n",
       "      <td>LPE13959_2025_02_24_7_0190</td>\n",
       "      <td>629</td>\n",
       "      <td>3177</td>\n",
       "      <td>154</td>\n",
       "    </tr>\n",
       "    <tr>\n",
       "      <th>80</th>\n",
       "      <td>LPE13959_2025_02_24_7_0242</td>\n",
       "      <td>658</td>\n",
       "      <td>3557</td>\n",
       "      <td>155</td>\n",
       "    </tr>\n",
       "    <tr>\n",
       "      <th>79</th>\n",
       "      <td>LPE13959_2025_02_24_7_0601</td>\n",
       "      <td>727</td>\n",
       "      <td>3528</td>\n",
       "      <td>156</td>\n",
       "    </tr>\n",
       "  </tbody>\n",
       "</table>\n",
       "<p>157 rows × 4 columns</p>\n",
       "</div>"
      ],
      "text/plain": [
       "                       cell_id  neuron_idx_orig  neuron_idx  index\n",
       "32  LPE13959_2025_02_24_0_0000                0         542      0\n",
       "74  LPE13959_2025_02_24_0_0001                1        2724      1\n",
       "13  LPE13959_2025_02_24_0_0002                2          37      2\n",
       "8   LPE13959_2025_02_24_0_0003                3          10      3\n",
       "65  LPE13959_2025_02_24_0_0004                4        2188      4\n",
       "..                         ...              ...         ...    ...\n",
       "77  LPE13959_2025_02_24_7_0168              612        3511    152\n",
       "54  LPE13959_2025_02_24_7_0187              626        3359    153\n",
       "45  LPE13959_2025_02_24_7_0190              629        3177    154\n",
       "80  LPE13959_2025_02_24_7_0242              658        3557    155\n",
       "79  LPE13959_2025_02_24_7_0601              727        3528    156\n",
       "\n",
       "[157 rows x 4 columns]"
      ]
     },
     "execution_count": 256,
     "metadata": {},
     "output_type": "execute_result"
    }
   ],
   "source": [
    "MEI_cell_ids_V1 = pd.read_csv('runs/V1_MEI_in_vivo_validation_with_grid_mean_predictor/results/cell_ids.csv')\n",
    "MEI_cell_ids_PM = pd.read_csv('runs/PM_MEI_in_vivo_validation_with_grid_mean_predictor/results/cell_ids.csv')\n",
    "\n",
    "MEI_cell_ids_V1.rename(columns={'neuron_idx': 'neuron_idx_orig'}, inplace=True)\n",
    "MEI_cell_ids_PM.rename(columns={'neuron_idx': 'neuron_idx_orig'}, inplace=True)\n",
    "\n",
    "MEI_cell_ids_V1['neuron_idx'] = celldata_ref.merge(MEI_cell_ids_V1, on='cell_id', how='inner')['index'].values\n",
    "MEI_cell_ids_PM['neuron_idx'] = celldata_ref.merge(MEI_cell_ids_PM, on='cell_id', how='inner')['index'].values\n",
    "\n",
    "MEI_cell_ids = pd.concat([MEI_cell_ids_V1, MEI_cell_ids_PM])\n",
    "# MEI_cell_ids['index'] = MEI_cell_ids.index\n",
    "# MEI_cell_ids['index'] = \n",
    "MEI_cell_ids = MEI_cell_ids.sort_values('cell_id')#.reset_index(drop=True)\n",
    "MEI_cell_ids['index'] = np.arange(len(MEI_cell_ids))\n",
    "MEI_cell_ids"
   ]
  },
  {
   "cell_type": "code",
   "execution_count": 257,
   "metadata": {},
   "outputs": [],
   "source": [
    "for i, row in enumerate(respmat_ref):\n",
    "    respmat_ref[i] = (row - np.mean(row, keepdims=True)) / np.std(row, keepdims=True)\n",
    "\n",
    "for i, row in enumerate(respmat_MEI):\n",
    "    respmat_MEI[i] = (row - np.mean(row, keepdims=True)) / np.std(row, keepdims=True)"
   ]
  },
  {
   "cell_type": "code",
   "execution_count": 258,
   "metadata": {},
   "outputs": [],
   "source": [
    "num_neurons_ref = len(celldata_ref)\n",
    "num_neurons_MEI = len(celldata_MEI)\n",
    "num_overlapping_nat_images = len(presented_natural_images)"
   ]
  },
  {
   "cell_type": "code",
   "execution_count": 259,
   "metadata": {},
   "outputs": [
    {
     "name": "stderr",
     "output_type": "stream",
     "text": [
      "100%|██████████| 260/260 [00:00<00:00, 2131.57it/s]\n"
     ]
    }
   ],
   "source": [
    "respmat_nat_images_ref = np.zeros((num_neurons_ref, num_overlapping_nat_images))  # responses of neuron n to image i\n",
    "respmat_nat_images_MEI = np.zeros((num_neurons_MEI, num_overlapping_nat_images))\n",
    "\n",
    "for i in tqdm(range(num_overlapping_nat_images)):  # images\n",
    "    # Extract the trial IDs for the current image\n",
    "    trial_ids_ref = presented_natural_images.iloc[i]['trial_ids_ref']\n",
    "    trial_ids_MEI = presented_natural_images.iloc[i]['trial_ids_MEI']\n",
    "    \n",
    "    # Compute mean responses for all neurons at once for the current image\n",
    "    respmat_nat_images_ref[:, i] = np.mean(respmat_ref[:, trial_ids_ref], axis=1)\n",
    "    respmat_nat_images_MEI[:, i] = np.mean(respmat_MEI[:, trial_ids_MEI], axis=1)"
   ]
  },
  {
   "cell_type": "code",
   "execution_count": 260,
   "metadata": {},
   "outputs": [
    {
     "data": {
      "text/plain": [
       "array([-0.04590194, -0.0731588 , -0.09322129, ..., -0.03793563,\n",
       "        0.09249645,  0.05912595])"
      ]
     },
     "execution_count": 260,
     "metadata": {},
     "output_type": "execute_result"
    }
   ],
   "source": [
    "corr_mat = np.corrcoef(respmat_nat_images_ref, respmat_nat_images_MEI)\n",
    "cross_corr = corr_mat[:num_neurons_ref, num_neurons_ref:]\n",
    "cross_corr = np.diag(cross_corr)\n",
    "cross_corr"
   ]
  },
  {
   "cell_type": "code",
   "execution_count": 261,
   "metadata": {},
   "outputs": [
    {
     "data": {
      "text/plain": [
       "(3636,)"
      ]
     },
     "execution_count": 261,
     "metadata": {},
     "output_type": "execute_result"
    }
   ],
   "source": [
    "cross_corr.shape"
   ]
  },
  {
   "cell_type": "code",
   "execution_count": 262,
   "metadata": {},
   "outputs": [
    {
     "data": {
      "text/plain": [
       "(3636, 4414)"
      ]
     },
     "execution_count": 262,
     "metadata": {},
     "output_type": "execute_result"
    }
   ],
   "source": [
    "num_neurons_ref, num_neurons_MEI"
   ]
  },
  {
   "cell_type": "markdown",
   "metadata": {},
   "source": [
    "only matched neurons lol"
   ]
  },
  {
   "cell_type": "code",
   "execution_count": 263,
   "metadata": {},
   "outputs": [
    {
     "data": {
      "image/png": "[encoded data removed]",
      "text/plain": [
       "<Figure size 640x480 with 1 Axes>"
      ]
     },
     "metadata": {},
     "output_type": "display_data"
    }
   ],
   "source": [
    "plt.hist(cross_corr.flatten(), bins = 100)\n",
    "plt.show()"
   ]
  },
  {
   "cell_type": "code",
   "execution_count": 264,
   "metadata": {},
   "outputs": [],
   "source": [
    "idx_MEIs_start = 2800 # TODO: change this to be 0-indexed on Bonsai"
   ]
  },
  {
   "cell_type": "code",
   "execution_count": 302,
   "metadata": {},
   "outputs": [
    {
     "name": "stdout",
     "output_type": "stream",
     "text": [
      "41\n"
     ]
    },
    {
     "data": {
      "text/html": [
       "<div>\n",
       "<style scoped>\n",
       "    .dataframe tbody tr th:only-of-type {\n",
       "        vertical-align: middle;\n",
       "    }\n",
       "\n",
       "    .dataframe tbody tr th {\n",
       "        vertical-align: top;\n",
       "    }\n",
       "\n",
       "    .dataframe thead th {\n",
       "        text-align: right;\n",
       "    }\n",
       "</style>\n",
       "<table border=\"1\" class=\"dataframe\">\n",
       "  <thead>\n",
       "    <tr style=\"text-align: right;\">\n",
       "      <th></th>\n",
       "      <th>cell_id_ref</th>\n",
       "      <th>neuron_idx_orig</th>\n",
       "      <th>neuron_idx_ref</th>\n",
       "      <th>index_MEI_order_ref</th>\n",
       "      <th>cell_id_MEI</th>\n",
       "      <th>neuron_idx_MEI</th>\n",
       "      <th>image_number_MEI</th>\n",
       "    </tr>\n",
       "  </thead>\n",
       "  <tbody>\n",
       "    <tr>\n",
       "      <th>0</th>\n",
       "      <td>LPE13959_2025_02_24_0_0000</td>\n",
       "      <td>0</td>\n",
       "      <td>542</td>\n",
       "      <td>0</td>\n",
       "      <td>LPE13959_2025_02_26_0_0085</td>\n",
       "      <td>85</td>\n",
       "      <td>2800</td>\n",
       "    </tr>\n",
       "    <tr>\n",
       "      <th>1</th>\n",
       "      <td>LPE13959_2025_02_24_0_0005</td>\n",
       "      <td>5</td>\n",
       "      <td>538</td>\n",
       "      <td>5</td>\n",
       "      <td>LPE13959_2025_02_26_0_0028</td>\n",
       "      <td>28</td>\n",
       "      <td>2805</td>\n",
       "    </tr>\n",
       "    <tr>\n",
       "      <th>2</th>\n",
       "      <td>LPE13959_2025_02_24_0_0006</td>\n",
       "      <td>6</td>\n",
       "      <td>582</td>\n",
       "      <td>6</td>\n",
       "      <td>LPE13959_2025_02_26_0_0012</td>\n",
       "      <td>12</td>\n",
       "      <td>2806</td>\n",
       "    </tr>\n",
       "    <tr>\n",
       "      <th>3</th>\n",
       "      <td>LPE13959_2025_02_24_0_0034</td>\n",
       "      <td>34</td>\n",
       "      <td>894</td>\n",
       "      <td>12</td>\n",
       "      <td>LPE13959_2025_02_26_0_0302</td>\n",
       "      <td>300</td>\n",
       "      <td>2812</td>\n",
       "    </tr>\n",
       "    <tr>\n",
       "      <th>4</th>\n",
       "      <td>LPE13959_2025_02_24_0_0037</td>\n",
       "      <td>37</td>\n",
       "      <td>1198</td>\n",
       "      <td>13</td>\n",
       "      <td>LPE13959_2025_02_26_0_0024</td>\n",
       "      <td>24</td>\n",
       "      <td>2813</td>\n",
       "    </tr>\n",
       "    <tr>\n",
       "      <th>5</th>\n",
       "      <td>LPE13959_2025_02_24_0_0041</td>\n",
       "      <td>41</td>\n",
       "      <td>666</td>\n",
       "      <td>14</td>\n",
       "      <td>LPE13959_2025_02_26_0_0277</td>\n",
       "      <td>276</td>\n",
       "      <td>2814</td>\n",
       "    </tr>\n",
       "    <tr>\n",
       "      <th>6</th>\n",
       "      <td>LPE13959_2025_02_24_0_0095</td>\n",
       "      <td>95</td>\n",
       "      <td>552</td>\n",
       "      <td>18</td>\n",
       "      <td>LPE13959_2025_02_26_0_0052</td>\n",
       "      <td>52</td>\n",
       "      <td>2818</td>\n",
       "    </tr>\n",
       "    <tr>\n",
       "      <th>7</th>\n",
       "      <td>LPE13959_2025_02_24_0_0096</td>\n",
       "      <td>96</td>\n",
       "      <td>1296</td>\n",
       "      <td>19</td>\n",
       "      <td>LPE13959_2025_02_26_0_0244</td>\n",
       "      <td>244</td>\n",
       "      <td>2819</td>\n",
       "    </tr>\n",
       "    <tr>\n",
       "      <th>8</th>\n",
       "      <td>LPE13959_2025_02_24_0_0126</td>\n",
       "      <td>126</td>\n",
       "      <td>2704</td>\n",
       "      <td>20</td>\n",
       "      <td>LPE13959_2025_02_26_0_0065</td>\n",
       "      <td>65</td>\n",
       "      <td>2820</td>\n",
       "    </tr>\n",
       "    <tr>\n",
       "      <th>9</th>\n",
       "      <td>LPE13959_2025_02_24_0_0174</td>\n",
       "      <td>174</td>\n",
       "      <td>1835</td>\n",
       "      <td>24</td>\n",
       "      <td>LPE13959_2025_02_26_0_0183</td>\n",
       "      <td>183</td>\n",
       "      <td>2824</td>\n",
       "    </tr>\n",
       "    <tr>\n",
       "      <th>10</th>\n",
       "      <td>LPE13959_2025_02_24_1_0002</td>\n",
       "      <td>540</td>\n",
       "      <td>544</td>\n",
       "      <td>30</td>\n",
       "      <td>LPE13959_2025_02_26_1_0280</td>\n",
       "      <td>946</td>\n",
       "      <td>2830</td>\n",
       "    </tr>\n",
       "    <tr>\n",
       "      <th>11</th>\n",
       "      <td>LPE13959_2025_02_24_1_0004</td>\n",
       "      <td>542</td>\n",
       "      <td>1833</td>\n",
       "      <td>32</td>\n",
       "      <td>LPE13959_2025_02_26_1_0123</td>\n",
       "      <td>789</td>\n",
       "      <td>2832</td>\n",
       "    </tr>\n",
       "    <tr>\n",
       "      <th>12</th>\n",
       "      <td>LPE13959_2025_02_24_1_0006</td>\n",
       "      <td>544</td>\n",
       "      <td>5</td>\n",
       "      <td>33</td>\n",
       "      <td>LPE13959_2025_02_26_1_0083</td>\n",
       "      <td>749</td>\n",
       "      <td>2833</td>\n",
       "    </tr>\n",
       "    <tr>\n",
       "      <th>13</th>\n",
       "      <td>LPE13959_2025_02_24_1_0009</td>\n",
       "      <td>547</td>\n",
       "      <td>34</td>\n",
       "      <td>36</td>\n",
       "      <td>LPE13959_2025_02_26_1_0115</td>\n",
       "      <td>781</td>\n",
       "      <td>2836</td>\n",
       "    </tr>\n",
       "    <tr>\n",
       "      <th>14</th>\n",
       "      <td>LPE13959_2025_02_24_1_0200</td>\n",
       "      <td>737</td>\n",
       "      <td>1611</td>\n",
       "      <td>43</td>\n",
       "      <td>LPE13959_2025_02_26_1_0444</td>\n",
       "      <td>1105</td>\n",
       "      <td>2843</td>\n",
       "    </tr>\n",
       "    <tr>\n",
       "      <th>15</th>\n",
       "      <td>LPE13959_2025_02_24_2_0005</td>\n",
       "      <td>1198</td>\n",
       "      <td>3</td>\n",
       "      <td>49</td>\n",
       "      <td>LPE13959_2025_02_26_2_0000</td>\n",
       "      <td>1411</td>\n",
       "      <td>2849</td>\n",
       "    </tr>\n",
       "    <tr>\n",
       "      <th>16</th>\n",
       "      <td>LPE13959_2025_02_24_2_0008</td>\n",
       "      <td>1201</td>\n",
       "      <td>136</td>\n",
       "      <td>50</td>\n",
       "      <td>LPE13959_2025_02_26_2_0207</td>\n",
       "      <td>1617</td>\n",
       "      <td>2850</td>\n",
       "    </tr>\n",
       "    <tr>\n",
       "      <th>17</th>\n",
       "      <td>LPE13959_2025_02_24_2_0011</td>\n",
       "      <td>1204</td>\n",
       "      <td>126</td>\n",
       "      <td>51</td>\n",
       "      <td>LPE13959_2025_02_26_2_0065</td>\n",
       "      <td>1475</td>\n",
       "      <td>2851</td>\n",
       "    </tr>\n",
       "    <tr>\n",
       "      <th>18</th>\n",
       "      <td>LPE13959_2025_02_24_2_0198</td>\n",
       "      <td>1389</td>\n",
       "      <td>539</td>\n",
       "      <td>55</td>\n",
       "      <td>LPE13959_2025_02_26_2_0003</td>\n",
       "      <td>1414</td>\n",
       "      <td>2855</td>\n",
       "    </tr>\n",
       "    <tr>\n",
       "      <th>19</th>\n",
       "      <td>LPE13959_2025_02_24_4_0004</td>\n",
       "      <td>2465</td>\n",
       "      <td>390</td>\n",
       "      <td>69</td>\n",
       "      <td>LPE13959_2025_02_26_4_0007</td>\n",
       "      <td>2867</td>\n",
       "      <td>2869</td>\n",
       "    </tr>\n",
       "    <tr>\n",
       "      <th>20</th>\n",
       "      <td>LPE13959_2025_02_24_4_0251</td>\n",
       "      <td>2703</td>\n",
       "      <td>41</td>\n",
       "      <td>72</td>\n",
       "      <td>LPE13959_2025_02_26_4_0595</td>\n",
       "      <td>3338</td>\n",
       "      <td>2872</td>\n",
       "    </tr>\n",
       "    <tr>\n",
       "      <th>21</th>\n",
       "      <td>LPE13959_2025_02_24_5_0005</td>\n",
       "      <td>5</td>\n",
       "      <td>2936</td>\n",
       "      <td>77</td>\n",
       "      <td>LPE13959_2025_02_26_5_0086</td>\n",
       "      <td>3485</td>\n",
       "      <td>2877</td>\n",
       "    </tr>\n",
       "    <tr>\n",
       "      <th>22</th>\n",
       "      <td>LPE13959_2025_02_24_5_0007</td>\n",
       "      <td>7</td>\n",
       "      <td>2912</td>\n",
       "      <td>79</td>\n",
       "      <td>LPE13959_2025_02_26_5_0012</td>\n",
       "      <td>3415</td>\n",
       "      <td>2879</td>\n",
       "    </tr>\n",
       "    <tr>\n",
       "      <th>23</th>\n",
       "      <td>LPE13959_2025_02_24_5_0041</td>\n",
       "      <td>40</td>\n",
       "      <td>2915</td>\n",
       "      <td>91</td>\n",
       "      <td>LPE13959_2025_02_26_5_0025</td>\n",
       "      <td>3428</td>\n",
       "      <td>2891</td>\n",
       "    </tr>\n",
       "    <tr>\n",
       "      <th>24</th>\n",
       "      <td>LPE13959_2025_02_24_6_0001</td>\n",
       "      <td>188</td>\n",
       "      <td>3092</td>\n",
       "      <td>95</td>\n",
       "      <td>LPE13959_2025_02_26_6_0075</td>\n",
       "      <td>3758</td>\n",
       "      <td>2895</td>\n",
       "    </tr>\n",
       "    <tr>\n",
       "      <th>25</th>\n",
       "      <td>LPE13959_2025_02_24_6_0002</td>\n",
       "      <td>189</td>\n",
       "      <td>2939</td>\n",
       "      <td>96</td>\n",
       "      <td>LPE13959_2025_02_26_6_0147</td>\n",
       "      <td>3828</td>\n",
       "      <td>2896</td>\n",
       "    </tr>\n",
       "    <tr>\n",
       "      <th>26</th>\n",
       "      <td>LPE13959_2025_02_24_6_0003</td>\n",
       "      <td>190</td>\n",
       "      <td>2970</td>\n",
       "      <td>97</td>\n",
       "      <td>LPE13959_2025_02_26_6_0013</td>\n",
       "      <td>3698</td>\n",
       "      <td>2897</td>\n",
       "    </tr>\n",
       "    <tr>\n",
       "      <th>27</th>\n",
       "      <td>LPE13959_2025_02_24_6_0005</td>\n",
       "      <td>192</td>\n",
       "      <td>3086</td>\n",
       "      <td>99</td>\n",
       "      <td>LPE13959_2025_02_26_6_0014</td>\n",
       "      <td>3699</td>\n",
       "      <td>2899</td>\n",
       "    </tr>\n",
       "    <tr>\n",
       "      <th>28</th>\n",
       "      <td>LPE13959_2025_02_24_6_0009</td>\n",
       "      <td>196</td>\n",
       "      <td>3104</td>\n",
       "      <td>101</td>\n",
       "      <td>LPE13959_2025_02_26_6_0006</td>\n",
       "      <td>3691</td>\n",
       "      <td>2901</td>\n",
       "    </tr>\n",
       "    <tr>\n",
       "      <th>29</th>\n",
       "      <td>LPE13959_2025_02_24_6_0014</td>\n",
       "      <td>201</td>\n",
       "      <td>2909</td>\n",
       "      <td>104</td>\n",
       "      <td>LPE13959_2025_02_26_6_0056</td>\n",
       "      <td>3739</td>\n",
       "      <td>2904</td>\n",
       "    </tr>\n",
       "    <tr>\n",
       "      <th>30</th>\n",
       "      <td>LPE13959_2025_02_24_6_0015</td>\n",
       "      <td>202</td>\n",
       "      <td>3367</td>\n",
       "      <td>105</td>\n",
       "      <td>LPE13959_2025_02_26_6_0005</td>\n",
       "      <td>3690</td>\n",
       "      <td>2905</td>\n",
       "    </tr>\n",
       "    <tr>\n",
       "      <th>31</th>\n",
       "      <td>LPE13959_2025_02_24_6_0017</td>\n",
       "      <td>204</td>\n",
       "      <td>3429</td>\n",
       "      <td>107</td>\n",
       "      <td>LPE13959_2025_02_26_6_0026</td>\n",
       "      <td>3710</td>\n",
       "      <td>2907</td>\n",
       "    </tr>\n",
       "    <tr>\n",
       "      <th>32</th>\n",
       "      <td>LPE13959_2025_02_24_6_0018</td>\n",
       "      <td>205</td>\n",
       "      <td>3468</td>\n",
       "      <td>108</td>\n",
       "      <td>LPE13959_2025_02_26_6_0099</td>\n",
       "      <td>3782</td>\n",
       "      <td>2908</td>\n",
       "    </tr>\n",
       "    <tr>\n",
       "      <th>33</th>\n",
       "      <td>LPE13959_2025_02_24_6_0024</td>\n",
       "      <td>211</td>\n",
       "      <td>3113</td>\n",
       "      <td>111</td>\n",
       "      <td>LPE13959_2025_02_26_6_0196</td>\n",
       "      <td>3871</td>\n",
       "      <td>2911</td>\n",
       "    </tr>\n",
       "    <tr>\n",
       "      <th>34</th>\n",
       "      <td>LPE13959_2025_02_24_6_0027</td>\n",
       "      <td>214</td>\n",
       "      <td>2919</td>\n",
       "      <td>114</td>\n",
       "      <td>LPE13959_2025_02_26_6_0003</td>\n",
       "      <td>3688</td>\n",
       "      <td>2914</td>\n",
       "    </tr>\n",
       "    <tr>\n",
       "      <th>35</th>\n",
       "      <td>LPE13959_2025_02_24_6_0036</td>\n",
       "      <td>223</td>\n",
       "      <td>3110</td>\n",
       "      <td>115</td>\n",
       "      <td>LPE13959_2025_02_26_6_0198</td>\n",
       "      <td>3873</td>\n",
       "      <td>2915</td>\n",
       "    </tr>\n",
       "    <tr>\n",
       "      <th>36</th>\n",
       "      <td>LPE13959_2025_02_24_7_0007</td>\n",
       "      <td>455</td>\n",
       "      <td>3108</td>\n",
       "      <td>127</td>\n",
       "      <td>LPE13959_2025_02_26_7_0023</td>\n",
       "      <td>4085</td>\n",
       "      <td>2927</td>\n",
       "    </tr>\n",
       "    <tr>\n",
       "      <th>37</th>\n",
       "      <td>LPE13959_2025_02_24_7_0028</td>\n",
       "      <td>476</td>\n",
       "      <td>3377</td>\n",
       "      <td>132</td>\n",
       "      <td>LPE13959_2025_02_26_7_0132</td>\n",
       "      <td>4192</td>\n",
       "      <td>2932</td>\n",
       "    </tr>\n",
       "    <tr>\n",
       "      <th>38</th>\n",
       "      <td>LPE13959_2025_02_24_7_0045</td>\n",
       "      <td>493</td>\n",
       "      <td>3141</td>\n",
       "      <td>137</td>\n",
       "      <td>LPE13959_2025_02_26_7_0075</td>\n",
       "      <td>4135</td>\n",
       "      <td>2937</td>\n",
       "    </tr>\n",
       "    <tr>\n",
       "      <th>39</th>\n",
       "      <td>LPE13959_2025_02_24_7_0050</td>\n",
       "      <td>498</td>\n",
       "      <td>3626</td>\n",
       "      <td>138</td>\n",
       "      <td>LPE13959_2025_02_26_7_0233</td>\n",
       "      <td>4276</td>\n",
       "      <td>2938</td>\n",
       "    </tr>\n",
       "    <tr>\n",
       "      <th>40</th>\n",
       "      <td>LPE13959_2025_02_24_7_0242</td>\n",
       "      <td>658</td>\n",
       "      <td>3557</td>\n",
       "      <td>155</td>\n",
       "      <td>LPE13959_2025_02_26_7_0618</td>\n",
       "      <td>4398</td>\n",
       "      <td>2955</td>\n",
       "    </tr>\n",
       "  </tbody>\n",
       "</table>\n",
       "</div>"
      ],
      "text/plain": [
       "                   cell_id_ref  neuron_idx_orig  neuron_idx_ref  index_MEI_order_ref                 cell_id_MEI  neuron_idx_MEI  image_number_MEI\n",
       "0   LPE13959_2025_02_24_0_0000                0             542                    0  LPE13959_2025_02_26_0_0085              85              2800\n",
       "1   LPE13959_2025_02_24_0_0005                5             538                    5  LPE13959_2025_02_26_0_0028              28              2805\n",
       "2   LPE13959_2025_02_24_0_0006                6             582                    6  LPE13959_2025_02_26_0_0012              12              2806\n",
       "3   LPE13959_2025_02_24_0_0034               34             894                   12  LPE13959_2025_02_26_0_0302             300              2812\n",
       "4   LPE13959_2025_02_24_0_0037               37            1198                   13  LPE13959_2025_02_26_0_0024              24              2813\n",
       "5   LPE13959_2025_02_24_0_0041               41             666                   14  LPE13959_2025_02_26_0_0277             276              2814\n",
       "6   LPE13959_2025_02_24_0_0095               95             552                   18  LPE13959_2025_02_26_0_0052              52              2818\n",
       "7   LPE13959_2025_02_24_0_0096               96            1296                   19  LPE13959_2025_02_26_0_0244             244              2819\n",
       "8   LPE13959_2025_02_24_0_0126              126            2704                   20  LPE13959_2025_02_26_0_0065              65              2820\n",
       "9   LPE13959_2025_02_24_0_0174              174            1835                   24  LPE13959_2025_02_26_0_0183             183              2824\n",
       "10  LPE13959_2025_02_24_1_0002              540             544                   30  LPE13959_2025_02_26_1_0280             946              2830\n",
       "11  LPE13959_2025_02_24_1_0004              542            1833                   32  LPE13959_2025_02_26_1_0123             789              2832\n",
       "12  LPE13959_2025_02_24_1_0006              544               5                   33  LPE13959_2025_02_26_1_0083             749              2833\n",
       "13  LPE13959_2025_02_24_1_0009              547              34                   36  LPE13959_2025_02_26_1_0115             781              2836\n",
       "14  LPE13959_2025_02_24_1_0200              737            1611                   43  LPE13959_2025_02_26_1_0444            1105              2843\n",
       "15  LPE13959_2025_02_24_2_0005             1198               3                   49  LPE13959_2025_02_26_2_0000            1411              2849\n",
       "16  LPE13959_2025_02_24_2_0008             1201             136                   50  LPE13959_2025_02_26_2_0207            1617              2850\n",
       "17  LPE13959_2025_02_24_2_0011             1204             126                   51  LPE13959_2025_02_26_2_0065            1475              2851\n",
       "18  LPE13959_2025_02_24_2_0198             1389             539                   55  LPE13959_2025_02_26_2_0003            1414              2855\n",
       "19  LPE13959_2025_02_24_4_0004             2465             390                   69  LPE13959_2025_02_26_4_0007            2867              2869\n",
       "20  LPE13959_2025_02_24_4_0251             2703              41                   72  LPE13959_2025_02_26_4_0595            3338              2872\n",
       "21  LPE13959_2025_02_24_5_0005                5            2936                   77  LPE13959_2025_02_26_5_0086            3485              2877\n",
       "22  LPE13959_2025_02_24_5_0007                7            2912                   79  LPE13959_2025_02_26_5_0012            3415              2879\n",
       "23  LPE13959_2025_02_24_5_0041               40            2915                   91  LPE13959_2025_02_26_5_0025            3428              2891\n",
       "24  LPE13959_2025_02_24_6_0001              188            3092                   95  LPE13959_2025_02_26_6_0075            3758              2895\n",
       "25  LPE13959_2025_02_24_6_0002              189            2939                   96  LPE13959_2025_02_26_6_0147            3828              2896\n",
       "26  LPE13959_2025_02_24_6_0003              190            2970                   97  LPE13959_2025_02_26_6_0013            3698              2897\n",
       "27  LPE13959_2025_02_24_6_0005              192            3086                   99  LPE13959_2025_02_26_6_0014            3699              2899\n",
       "28  LPE13959_2025_02_24_6_0009              196            3104                  101  LPE13959_2025_02_26_6_0006            3691              2901\n",
       "29  LPE13959_2025_02_24_6_0014              201            2909                  104  LPE13959_2025_02_26_6_0056            3739              2904\n",
       "30  LPE13959_2025_02_24_6_0015              202            3367                  105  LPE13959_2025_02_26_6_0005            3690              2905\n",
       "31  LPE13959_2025_02_24_6_0017              204            3429                  107  LPE13959_2025_02_26_6_0026            3710              2907\n",
       "32  LPE13959_2025_02_24_6_0018              205            3468                  108  LPE13959_2025_02_26_6_0099            3782              2908\n",
       "33  LPE13959_2025_02_24_6_0024              211            3113                  111  LPE13959_2025_02_26_6_0196            3871              2911\n",
       "34  LPE13959_2025_02_24_6_0027              214            2919                  114  LPE13959_2025_02_26_6_0003            3688              2914\n",
       "35  LPE13959_2025_02_24_6_0036              223            3110                  115  LPE13959_2025_02_26_6_0198            3873              2915\n",
       "36  LPE13959_2025_02_24_7_0007              455            3108                  127  LPE13959_2025_02_26_7_0023            4085              2927\n",
       "37  LPE13959_2025_02_24_7_0028              476            3377                  132  LPE13959_2025_02_26_7_0132            4192              2932\n",
       "38  LPE13959_2025_02_24_7_0045              493            3141                  137  LPE13959_2025_02_26_7_0075            4135              2937\n",
       "39  LPE13959_2025_02_24_7_0050              498            3626                  138  LPE13959_2025_02_26_7_0233            4276              2938\n",
       "40  LPE13959_2025_02_24_7_0242              658            3557                  155  LPE13959_2025_02_26_7_0618            4398              2955"
      ]
     },
     "execution_count": 302,
     "metadata": {},
     "output_type": "execute_result"
    }
   ],
   "source": [
    "validatable_MEIs = MEI_cell_ids.loc[MEI_cell_ids['cell_id'].isin(sess_ref_ids)]\n",
    "validatable_MEIs.rename({\"cell_id\": \"cell_id_ref\", \"neuron_idx\": \"neuron_idx_ref\", \"index\": \"index_MEI_order_ref\"}, axis=1, inplace=True)\n",
    "validatable_MEIs = validatable_MEIs.merge(celldata_overlapping[['cell_id', 'ref_cell_id', 'index']], how='left', left_on='cell_id_ref', right_on='ref_cell_id')\n",
    "validatable_MEIs.rename({\"cell_id\": \"cell_id_MEI\", \"index\": \"neuron_idx_MEI\"}, axis=1, inplace=True)\n",
    "validatable_MEIs.drop('ref_cell_id', axis=1, inplace=True)\n",
    "validatable_MEIs.sort_values('index_MEI_order_ref', inplace=True)\n",
    "validatable_MEIs['image_number_MEI'] = validatable_MEIs['index_MEI_order_ref'] + idx_MEIs_start\n",
    "validatable_MEIs.reset_index(inplace=True, drop=True)\n",
    "\n",
    "num_validatable_MEIs = len(validatable_MEIs)\n",
    "print(num_validatable_MEIs)\n",
    "validatable_MEIs"
   ]
  },
  {
   "cell_type": "code",
   "execution_count": 303,
   "metadata": {},
   "outputs": [
    {
     "data": {
      "text/plain": [
       "((4414, 5740), (41, 5740))"
      ]
     },
     "execution_count": 303,
     "metadata": {},
     "output_type": "execute_result"
    }
   ],
   "source": [
    "respmat_MEI_trunc = respmat_MEI[validatable_MEIs['neuron_idx_MEI'].values] \n",
    "\n",
    "respmat_MEI.shape, respmat_MEI_trunc.shape"
   ]
  },
  {
   "cell_type": "code",
   "execution_count": 304,
   "metadata": {},
   "outputs": [
    {
     "data": {
      "text/html": [
       "<div>\n",
       "<style scoped>\n",
       "    .dataframe tbody tr th:only-of-type {\n",
       "        vertical-align: middle;\n",
       "    }\n",
       "\n",
       "    .dataframe tbody tr th {\n",
       "        vertical-align: top;\n",
       "    }\n",
       "\n",
       "    .dataframe thead th {\n",
       "        text-align: right;\n",
       "    }\n",
       "</style>\n",
       "<table border=\"1\" class=\"dataframe\">\n",
       "  <thead>\n",
       "    <tr style=\"text-align: right;\">\n",
       "      <th></th>\n",
       "      <th>cell_id_ref</th>\n",
       "      <th>neuron_idx_orig</th>\n",
       "      <th>neuron_idx_ref</th>\n",
       "      <th>index_MEI_order_ref</th>\n",
       "      <th>cell_id_MEI</th>\n",
       "      <th>neuron_idx_MEI</th>\n",
       "      <th>image_number_MEI</th>\n",
       "      <th>trial_numbers_MEI</th>\n",
       "    </tr>\n",
       "  </thead>\n",
       "  <tbody>\n",
       "    <tr>\n",
       "      <th>0</th>\n",
       "      <td>LPE13959_2025_02_24_0_0000</td>\n",
       "      <td>0</td>\n",
       "      <td>542</td>\n",
       "      <td>0</td>\n",
       "      <td>LPE13959_2025_02_26_0_0085</td>\n",
       "      <td>85</td>\n",
       "      <td>2800</td>\n",
       "      <td>[155, 179, 326, 400, 545, 949, 1868, 1992, 229...</td>\n",
       "    </tr>\n",
       "    <tr>\n",
       "      <th>1</th>\n",
       "      <td>LPE13959_2025_02_24_0_0005</td>\n",
       "      <td>5</td>\n",
       "      <td>538</td>\n",
       "      <td>5</td>\n",
       "      <td>LPE13959_2025_02_26_0_0028</td>\n",
       "      <td>28</td>\n",
       "      <td>2805</td>\n",
       "      <td>[248, 474, 575, 633, 858, 1146, 1616, 1775, 20...</td>\n",
       "    </tr>\n",
       "    <tr>\n",
       "      <th>2</th>\n",
       "      <td>LPE13959_2025_02_24_0_0006</td>\n",
       "      <td>6</td>\n",
       "      <td>582</td>\n",
       "      <td>6</td>\n",
       "      <td>LPE13959_2025_02_26_0_0012</td>\n",
       "      <td>12</td>\n",
       "      <td>2806</td>\n",
       "      <td>[107, 363, 443, 706, 1118, 1331, 1360, 1579, 1...</td>\n",
       "    </tr>\n",
       "    <tr>\n",
       "      <th>3</th>\n",
       "      <td>LPE13959_2025_02_24_0_0034</td>\n",
       "      <td>34</td>\n",
       "      <td>894</td>\n",
       "      <td>12</td>\n",
       "      <td>LPE13959_2025_02_26_0_0302</td>\n",
       "      <td>300</td>\n",
       "      <td>2812</td>\n",
       "      <td>[871, 1024, 1384, 1385, 1906, 2092, 2799, 2905...</td>\n",
       "    </tr>\n",
       "    <tr>\n",
       "      <th>4</th>\n",
       "      <td>LPE13959_2025_02_24_0_0037</td>\n",
       "      <td>37</td>\n",
       "      <td>1198</td>\n",
       "      <td>13</td>\n",
       "      <td>LPE13959_2025_02_26_0_0024</td>\n",
       "      <td>24</td>\n",
       "      <td>2813</td>\n",
       "      <td>[185, 398, 475, 504, 523, 598, 955, 2044, 2074...</td>\n",
       "    </tr>\n",
       "    <tr>\n",
       "      <th>5</th>\n",
       "      <td>LPE13959_2025_02_24_0_0041</td>\n",
       "      <td>41</td>\n",
       "      <td>666</td>\n",
       "      <td>14</td>\n",
       "      <td>LPE13959_2025_02_26_0_0277</td>\n",
       "      <td>276</td>\n",
       "      <td>2814</td>\n",
       "      <td>[531, 1049, 1221, 1721, 2365, 2395, 3272, 3384...</td>\n",
       "    </tr>\n",
       "    <tr>\n",
       "      <th>6</th>\n",
       "      <td>LPE13959_2025_02_24_0_0095</td>\n",
       "      <td>95</td>\n",
       "      <td>552</td>\n",
       "      <td>18</td>\n",
       "      <td>LPE13959_2025_02_26_0_0052</td>\n",
       "      <td>52</td>\n",
       "      <td>2818</td>\n",
       "      <td>[341, 458, 649, 850, 1489, 1806, 1918, 2748, 2...</td>\n",
       "    </tr>\n",
       "    <tr>\n",
       "      <th>7</th>\n",
       "      <td>LPE13959_2025_02_24_0_0096</td>\n",
       "      <td>96</td>\n",
       "      <td>1296</td>\n",
       "      <td>19</td>\n",
       "      <td>LPE13959_2025_02_26_0_0244</td>\n",
       "      <td>244</td>\n",
       "      <td>2819</td>\n",
       "      <td>[206, 484, 693, 1396, 1608, 1727, 2002, 2036, ...</td>\n",
       "    </tr>\n",
       "    <tr>\n",
       "      <th>8</th>\n",
       "      <td>LPE13959_2025_02_24_0_0126</td>\n",
       "      <td>126</td>\n",
       "      <td>2704</td>\n",
       "      <td>20</td>\n",
       "      <td>LPE13959_2025_02_26_0_0065</td>\n",
       "      <td>65</td>\n",
       "      <td>2820</td>\n",
       "      <td>[525, 650, 1075, 1113, 1326, 1716, 1759, 1863,...</td>\n",
       "    </tr>\n",
       "    <tr>\n",
       "      <th>9</th>\n",
       "      <td>LPE13959_2025_02_24_0_0174</td>\n",
       "      <td>174</td>\n",
       "      <td>1835</td>\n",
       "      <td>24</td>\n",
       "      <td>LPE13959_2025_02_26_0_0183</td>\n",
       "      <td>183</td>\n",
       "      <td>2824</td>\n",
       "      <td>[125, 595, 803, 941, 1725, 1889, 1903, 2079, 2...</td>\n",
       "    </tr>\n",
       "    <tr>\n",
       "      <th>10</th>\n",
       "      <td>LPE13959_2025_02_24_1_0002</td>\n",
       "      <td>540</td>\n",
       "      <td>544</td>\n",
       "      <td>30</td>\n",
       "      <td>LPE13959_2025_02_26_1_0280</td>\n",
       "      <td>946</td>\n",
       "      <td>2830</td>\n",
       "      <td>[45, 119, 257, 330, 410, 665, 882, 1159, 1684,...</td>\n",
       "    </tr>\n",
       "    <tr>\n",
       "      <th>11</th>\n",
       "      <td>LPE13959_2025_02_24_1_0004</td>\n",
       "      <td>542</td>\n",
       "      <td>1833</td>\n",
       "      <td>32</td>\n",
       "      <td>LPE13959_2025_02_26_1_0123</td>\n",
       "      <td>789</td>\n",
       "      <td>2832</td>\n",
       "      <td>[213, 856, 899, 969, 1796, 2348, 2801, 2932, 2...</td>\n",
       "    </tr>\n",
       "    <tr>\n",
       "      <th>12</th>\n",
       "      <td>LPE13959_2025_02_24_1_0006</td>\n",
       "      <td>544</td>\n",
       "      <td>5</td>\n",
       "      <td>33</td>\n",
       "      <td>LPE13959_2025_02_26_1_0083</td>\n",
       "      <td>749</td>\n",
       "      <td>2833</td>\n",
       "      <td>[183, 436, 1085, 1498, 1520, 1535, 1635, 1986,...</td>\n",
       "    </tr>\n",
       "    <tr>\n",
       "      <th>13</th>\n",
       "      <td>LPE13959_2025_02_24_1_0009</td>\n",
       "      <td>547</td>\n",
       "      <td>34</td>\n",
       "      <td>36</td>\n",
       "      <td>LPE13959_2025_02_26_1_0115</td>\n",
       "      <td>781</td>\n",
       "      <td>2836</td>\n",
       "      <td>[522, 808, 1494, 1547, 2318, 2343, 2948, 3796,...</td>\n",
       "    </tr>\n",
       "    <tr>\n",
       "      <th>14</th>\n",
       "      <td>LPE13959_2025_02_24_1_0200</td>\n",
       "      <td>737</td>\n",
       "      <td>1611</td>\n",
       "      <td>43</td>\n",
       "      <td>LPE13959_2025_02_26_1_0444</td>\n",
       "      <td>1105</td>\n",
       "      <td>2843</td>\n",
       "      <td>[121, 467, 518, 611, 751, 769, 1352, 1429, 153...</td>\n",
       "    </tr>\n",
       "    <tr>\n",
       "      <th>15</th>\n",
       "      <td>LPE13959_2025_02_24_2_0005</td>\n",
       "      <td>1198</td>\n",
       "      <td>3</td>\n",
       "      <td>49</td>\n",
       "      <td>LPE13959_2025_02_26_2_0000</td>\n",
       "      <td>1411</td>\n",
       "      <td>2849</td>\n",
       "      <td>[70, 114, 315, 1039, 1793, 1866, 1985, 2050, 2...</td>\n",
       "    </tr>\n",
       "    <tr>\n",
       "      <th>16</th>\n",
       "      <td>LPE13959_2025_02_24_2_0008</td>\n",
       "      <td>1201</td>\n",
       "      <td>136</td>\n",
       "      <td>50</td>\n",
       "      <td>LPE13959_2025_02_26_2_0207</td>\n",
       "      <td>1617</td>\n",
       "      <td>2850</td>\n",
       "      <td>[344, 509, 972, 1130, 1288, 1473, 1761, 3054, ...</td>\n",
       "    </tr>\n",
       "    <tr>\n",
       "      <th>17</th>\n",
       "      <td>LPE13959_2025_02_24_2_0011</td>\n",
       "      <td>1204</td>\n",
       "      <td>126</td>\n",
       "      <td>51</td>\n",
       "      <td>LPE13959_2025_02_26_2_0065</td>\n",
       "      <td>1475</td>\n",
       "      <td>2851</td>\n",
       "      <td>[126, 768, 984, 1538, 1756, 1833, 2109, 2334, ...</td>\n",
       "    </tr>\n",
       "    <tr>\n",
       "      <th>18</th>\n",
       "      <td>LPE13959_2025_02_24_2_0198</td>\n",
       "      <td>1389</td>\n",
       "      <td>539</td>\n",
       "      <td>55</td>\n",
       "      <td>LPE13959_2025_02_26_2_0003</td>\n",
       "      <td>1414</td>\n",
       "      <td>2855</td>\n",
       "      <td>[188, 240, 268, 884, 1286, 1506, 1922, 2212, 2...</td>\n",
       "    </tr>\n",
       "    <tr>\n",
       "      <th>19</th>\n",
       "      <td>LPE13959_2025_02_24_4_0004</td>\n",
       "      <td>2465</td>\n",
       "      <td>390</td>\n",
       "      <td>69</td>\n",
       "      <td>LPE13959_2025_02_26_4_0007</td>\n",
       "      <td>2867</td>\n",
       "      <td>2869</td>\n",
       "      <td>[20, 38, 408, 641, 1661, 1677, 2125, 2574, 318...</td>\n",
       "    </tr>\n",
       "    <tr>\n",
       "      <th>20</th>\n",
       "      <td>LPE13959_2025_02_24_4_0251</td>\n",
       "      <td>2703</td>\n",
       "      <td>41</td>\n",
       "      <td>72</td>\n",
       "      <td>LPE13959_2025_02_26_4_0595</td>\n",
       "      <td>3338</td>\n",
       "      <td>2872</td>\n",
       "      <td>[2, 562, 619, 690, 830, 1060, 1157, 1245, 1301...</td>\n",
       "    </tr>\n",
       "    <tr>\n",
       "      <th>21</th>\n",
       "      <td>LPE13959_2025_02_24_5_0005</td>\n",
       "      <td>5</td>\n",
       "      <td>2936</td>\n",
       "      <td>77</td>\n",
       "      <td>LPE13959_2025_02_26_5_0086</td>\n",
       "      <td>3485</td>\n",
       "      <td>2877</td>\n",
       "      <td>[254, 382, 1084, 1802, 1972, 2187, 2222, 2994,...</td>\n",
       "    </tr>\n",
       "    <tr>\n",
       "      <th>22</th>\n",
       "      <td>LPE13959_2025_02_24_5_0007</td>\n",
       "      <td>7</td>\n",
       "      <td>2912</td>\n",
       "      <td>79</td>\n",
       "      <td>LPE13959_2025_02_26_5_0012</td>\n",
       "      <td>3415</td>\n",
       "      <td>2879</td>\n",
       "      <td>[80, 100, 230, 511, 747, 940, 1859, 2106, 2362...</td>\n",
       "    </tr>\n",
       "    <tr>\n",
       "      <th>23</th>\n",
       "      <td>LPE13959_2025_02_24_5_0041</td>\n",
       "      <td>40</td>\n",
       "      <td>2915</td>\n",
       "      <td>91</td>\n",
       "      <td>LPE13959_2025_02_26_5_0025</td>\n",
       "      <td>3428</td>\n",
       "      <td>2891</td>\n",
       "      <td>[95, 215, 657, 963, 1051, 1374, 1907, 2129, 22...</td>\n",
       "    </tr>\n",
       "    <tr>\n",
       "      <th>24</th>\n",
       "      <td>LPE13959_2025_02_24_6_0001</td>\n",
       "      <td>188</td>\n",
       "      <td>3092</td>\n",
       "      <td>95</td>\n",
       "      <td>LPE13959_2025_02_26_6_0075</td>\n",
       "      <td>3758</td>\n",
       "      <td>2895</td>\n",
       "      <td>[620, 640, 656, 961, 981, 1513, 1610, 2152, 27...</td>\n",
       "    </tr>\n",
       "    <tr>\n",
       "      <th>25</th>\n",
       "      <td>LPE13959_2025_02_24_6_0002</td>\n",
       "      <td>189</td>\n",
       "      <td>2939</td>\n",
       "      <td>96</td>\n",
       "      <td>LPE13959_2025_02_26_6_0147</td>\n",
       "      <td>3828</td>\n",
       "      <td>2896</td>\n",
       "      <td>[42, 43, 74, 156, 182, 745, 760, 1000, 1149, 1...</td>\n",
       "    </tr>\n",
       "    <tr>\n",
       "      <th>26</th>\n",
       "      <td>LPE13959_2025_02_24_6_0003</td>\n",
       "      <td>190</td>\n",
       "      <td>2970</td>\n",
       "      <td>97</td>\n",
       "      <td>LPE13959_2025_02_26_6_0013</td>\n",
       "      <td>3698</td>\n",
       "      <td>2897</td>\n",
       "      <td>[234, 369, 433, 673, 801, 974, 982, 1058, 1593...</td>\n",
       "    </tr>\n",
       "    <tr>\n",
       "      <th>27</th>\n",
       "      <td>LPE13959_2025_02_24_6_0005</td>\n",
       "      <td>192</td>\n",
       "      <td>3086</td>\n",
       "      <td>99</td>\n",
       "      <td>LPE13959_2025_02_26_6_0014</td>\n",
       "      <td>3699</td>\n",
       "      <td>2899</td>\n",
       "      <td>[14, 684, 932, 1161, 2115, 2127, 3187, 3313, 3...</td>\n",
       "    </tr>\n",
       "    <tr>\n",
       "      <th>28</th>\n",
       "      <td>LPE13959_2025_02_24_6_0009</td>\n",
       "      <td>196</td>\n",
       "      <td>3104</td>\n",
       "      <td>101</td>\n",
       "      <td>LPE13959_2025_02_26_6_0006</td>\n",
       "      <td>3691</td>\n",
       "      <td>2901</td>\n",
       "      <td>[52, 289, 293, 362, 1268, 2493, 2537, 3036, 31...</td>\n",
       "    </tr>\n",
       "    <tr>\n",
       "      <th>29</th>\n",
       "      <td>LPE13959_2025_02_24_6_0014</td>\n",
       "      <td>201</td>\n",
       "      <td>2909</td>\n",
       "      <td>104</td>\n",
       "      <td>LPE13959_2025_02_26_6_0056</td>\n",
       "      <td>3739</td>\n",
       "      <td>2904</td>\n",
       "      <td>[292, 372, 667, 775, 888, 896, 1134, 1270, 210...</td>\n",
       "    </tr>\n",
       "    <tr>\n",
       "      <th>30</th>\n",
       "      <td>LPE13959_2025_02_24_6_0015</td>\n",
       "      <td>202</td>\n",
       "      <td>3367</td>\n",
       "      <td>105</td>\n",
       "      <td>LPE13959_2025_02_26_6_0005</td>\n",
       "      <td>3690</td>\n",
       "      <td>2905</td>\n",
       "      <td>[284, 342, 2047, 2114, 2315, 2364, 3784, 3879,...</td>\n",
       "    </tr>\n",
       "    <tr>\n",
       "      <th>31</th>\n",
       "      <td>LPE13959_2025_02_24_6_0017</td>\n",
       "      <td>204</td>\n",
       "      <td>3429</td>\n",
       "      <td>107</td>\n",
       "      <td>LPE13959_2025_02_26_6_0026</td>\n",
       "      <td>3710</td>\n",
       "      <td>2907</td>\n",
       "      <td>[132, 244, 827, 946, 947, 1363, 1499, 1584, 19...</td>\n",
       "    </tr>\n",
       "    <tr>\n",
       "      <th>32</th>\n",
       "      <td>LPE13959_2025_02_24_6_0018</td>\n",
       "      <td>205</td>\n",
       "      <td>3468</td>\n",
       "      <td>108</td>\n",
       "      <td>LPE13959_2025_02_26_6_0099</td>\n",
       "      <td>3782</td>\n",
       "      <td>2908</td>\n",
       "      <td>[193, 1307, 1435, 1464, 1778, 2402, 2641, 2950...</td>\n",
       "    </tr>\n",
       "    <tr>\n",
       "      <th>33</th>\n",
       "      <td>LPE13959_2025_02_24_6_0024</td>\n",
       "      <td>211</td>\n",
       "      <td>3113</td>\n",
       "      <td>111</td>\n",
       "      <td>LPE13959_2025_02_26_6_0196</td>\n",
       "      <td>3871</td>\n",
       "      <td>2911</td>\n",
       "      <td>[216, 609, 1322, 1563, 1747, 1884, 1938, 2554,...</td>\n",
       "    </tr>\n",
       "    <tr>\n",
       "      <th>34</th>\n",
       "      <td>LPE13959_2025_02_24_6_0027</td>\n",
       "      <td>214</td>\n",
       "      <td>2919</td>\n",
       "      <td>114</td>\n",
       "      <td>LPE13959_2025_02_26_6_0003</td>\n",
       "      <td>3688</td>\n",
       "      <td>2914</td>\n",
       "      <td>[448, 496, 822, 1022, 1604, 1882, 1981, 2896, ...</td>\n",
       "    </tr>\n",
       "    <tr>\n",
       "      <th>35</th>\n",
       "      <td>LPE13959_2025_02_24_6_0036</td>\n",
       "      <td>223</td>\n",
       "      <td>3110</td>\n",
       "      <td>115</td>\n",
       "      <td>LPE13959_2025_02_26_6_0198</td>\n",
       "      <td>3873</td>\n",
       "      <td>2915</td>\n",
       "      <td>[5, 110, 153, 175, 539, 702, 1017, 1163, 1672,...</td>\n",
       "    </tr>\n",
       "    <tr>\n",
       "      <th>36</th>\n",
       "      <td>LPE13959_2025_02_24_7_0007</td>\n",
       "      <td>455</td>\n",
       "      <td>3108</td>\n",
       "      <td>127</td>\n",
       "      <td>LPE13959_2025_02_26_7_0023</td>\n",
       "      <td>4085</td>\n",
       "      <td>2927</td>\n",
       "      <td>[116, 266, 454, 790, 1842, 2508, 2796, 2812, 3...</td>\n",
       "    </tr>\n",
       "    <tr>\n",
       "      <th>37</th>\n",
       "      <td>LPE13959_2025_02_24_7_0028</td>\n",
       "      <td>476</td>\n",
       "      <td>3377</td>\n",
       "      <td>132</td>\n",
       "      <td>LPE13959_2025_02_26_7_0132</td>\n",
       "      <td>4192</td>\n",
       "      <td>2932</td>\n",
       "      <td>[6, 218, 358, 973, 1122, 1202, 1480, 1763, 190...</td>\n",
       "    </tr>\n",
       "    <tr>\n",
       "      <th>38</th>\n",
       "      <td>LPE13959_2025_02_24_7_0045</td>\n",
       "      <td>493</td>\n",
       "      <td>3141</td>\n",
       "      <td>137</td>\n",
       "      <td>LPE13959_2025_02_26_7_0075</td>\n",
       "      <td>4135</td>\n",
       "      <td>2937</td>\n",
       "      <td>[44, 328, 482, 613, 653, 1410, 1486, 1786, 227...</td>\n",
       "    </tr>\n",
       "    <tr>\n",
       "      <th>39</th>\n",
       "      <td>LPE13959_2025_02_24_7_0050</td>\n",
       "      <td>498</td>\n",
       "      <td>3626</td>\n",
       "      <td>138</td>\n",
       "      <td>LPE13959_2025_02_26_7_0233</td>\n",
       "      <td>4276</td>\n",
       "      <td>2938</td>\n",
       "      <td>[124, 270, 422, 912, 1328, 1541, 1791, 2486, 2...</td>\n",
       "    </tr>\n",
       "    <tr>\n",
       "      <th>40</th>\n",
       "      <td>LPE13959_2025_02_24_7_0242</td>\n",
       "      <td>658</td>\n",
       "      <td>3557</td>\n",
       "      <td>155</td>\n",
       "      <td>LPE13959_2025_02_26_7_0618</td>\n",
       "      <td>4398</td>\n",
       "      <td>2955</td>\n",
       "      <td>[98, 759, 1067, 1609, 2669, 2857, 2923, 3103, ...</td>\n",
       "    </tr>\n",
       "  </tbody>\n",
       "</table>\n",
       "</div>"
      ],
      "text/plain": [
       "                   cell_id_ref  neuron_idx_orig  neuron_idx_ref  index_MEI_order_ref                 cell_id_MEI  neuron_idx_MEI  image_number_MEI                                  trial_numbers_MEI\n",
       "0   LPE13959_2025_02_24_0_0000                0             542                    0  LPE13959_2025_02_26_0_0085              85              2800  [155, 179, 326, 400, 545, 949, 1868, 1992, 229...\n",
       "1   LPE13959_2025_02_24_0_0005                5             538                    5  LPE13959_2025_02_26_0_0028              28              2805  [248, 474, 575, 633, 858, 1146, 1616, 1775, 20...\n",
       "2   LPE13959_2025_02_24_0_0006                6             582                    6  LPE13959_2025_02_26_0_0012              12              2806  [107, 363, 443, 706, 1118, 1331, 1360, 1579, 1...\n",
       "3   LPE13959_2025_02_24_0_0034               34             894                   12  LPE13959_2025_02_26_0_0302             300              2812  [871, 1024, 1384, 1385, 1906, 2092, 2799, 2905...\n",
       "4   LPE13959_2025_02_24_0_0037               37            1198                   13  LPE13959_2025_02_26_0_0024              24              2813  [185, 398, 475, 504, 523, 598, 955, 2044, 2074...\n",
       "5   LPE13959_2025_02_24_0_0041               41             666                   14  LPE13959_2025_02_26_0_0277             276              2814  [531, 1049, 1221, 1721, 2365, 2395, 3272, 3384...\n",
       "6   LPE13959_2025_02_24_0_0095               95             552                   18  LPE13959_2025_02_26_0_0052              52              2818  [341, 458, 649, 850, 1489, 1806, 1918, 2748, 2...\n",
       "7   LPE13959_2025_02_24_0_0096               96            1296                   19  LPE13959_2025_02_26_0_0244             244              2819  [206, 484, 693, 1396, 1608, 1727, 2002, 2036, ...\n",
       "8   LPE13959_2025_02_24_0_0126              126            2704                   20  LPE13959_2025_02_26_0_0065              65              2820  [525, 650, 1075, 1113, 1326, 1716, 1759, 1863,...\n",
       "9   LPE13959_2025_02_24_0_0174              174            1835                   24  LPE13959_2025_02_26_0_0183             183              2824  [125, 595, 803, 941, 1725, 1889, 1903, 2079, 2...\n",
       "10  LPE13959_2025_02_24_1_0002              540             544                   30  LPE13959_2025_02_26_1_0280             946              2830  [45, 119, 257, 330, 410, 665, 882, 1159, 1684,...\n",
       "11  LPE13959_2025_02_24_1_0004              542            1833                   32  LPE13959_2025_02_26_1_0123             789              2832  [213, 856, 899, 969, 1796, 2348, 2801, 2932, 2...\n",
       "12  LPE13959_2025_02_24_1_0006              544               5                   33  LPE13959_2025_02_26_1_0083             749              2833  [183, 436, 1085, 1498, 1520, 1535, 1635, 1986,...\n",
       "13  LPE13959_2025_02_24_1_0009              547              34                   36  LPE13959_2025_02_26_1_0115             781              2836  [522, 808, 1494, 1547, 2318, 2343, 2948, 3796,...\n",
       "14  LPE13959_2025_02_24_1_0200              737            1611                   43  LPE13959_2025_02_26_1_0444            1105              2843  [121, 467, 518, 611, 751, 769, 1352, 1429, 153...\n",
       "15  LPE13959_2025_02_24_2_0005             1198               3                   49  LPE13959_2025_02_26_2_0000            1411              2849  [70, 114, 315, 1039, 1793, 1866, 1985, 2050, 2...\n",
       "16  LPE13959_2025_02_24_2_0008             1201             136                   50  LPE13959_2025_02_26_2_0207            1617              2850  [344, 509, 972, 1130, 1288, 1473, 1761, 3054, ...\n",
       "17  LPE13959_2025_02_24_2_0011             1204             126                   51  LPE13959_2025_02_26_2_0065            1475              2851  [126, 768, 984, 1538, 1756, 1833, 2109, 2334, ...\n",
       "18  LPE13959_2025_02_24_2_0198             1389             539                   55  LPE13959_2025_02_26_2_0003            1414              2855  [188, 240, 268, 884, 1286, 1506, 1922, 2212, 2...\n",
       "19  LPE13959_2025_02_24_4_0004             2465             390                   69  LPE13959_2025_02_26_4_0007            2867              2869  [20, 38, 408, 641, 1661, 1677, 2125, 2574, 318...\n",
       "20  LPE13959_2025_02_24_4_0251             2703              41                   72  LPE13959_2025_02_26_4_0595            3338              2872  [2, 562, 619, 690, 830, 1060, 1157, 1245, 1301...\n",
       "21  LPE13959_2025_02_24_5_0005                5            2936                   77  LPE13959_2025_02_26_5_0086            3485              2877  [254, 382, 1084, 1802, 1972, 2187, 2222, 2994,...\n",
       "22  LPE13959_2025_02_24_5_0007                7            2912                   79  LPE13959_2025_02_26_5_0012            3415              2879  [80, 100, 230, 511, 747, 940, 1859, 2106, 2362...\n",
       "23  LPE13959_2025_02_24_5_0041               40            2915                   91  LPE13959_2025_02_26_5_0025            3428              2891  [95, 215, 657, 963, 1051, 1374, 1907, 2129, 22...\n",
       "24  LPE13959_2025_02_24_6_0001              188            3092                   95  LPE13959_2025_02_26_6_0075            3758              2895  [620, 640, 656, 961, 981, 1513, 1610, 2152, 27...\n",
       "25  LPE13959_2025_02_24_6_0002              189            2939                   96  LPE13959_2025_02_26_6_0147            3828              2896  [42, 43, 74, 156, 182, 745, 760, 1000, 1149, 1...\n",
       "26  LPE13959_2025_02_24_6_0003              190            2970                   97  LPE13959_2025_02_26_6_0013            3698              2897  [234, 369, 433, 673, 801, 974, 982, 1058, 1593...\n",
       "27  LPE13959_2025_02_24_6_0005              192            3086                   99  LPE13959_2025_02_26_6_0014            3699              2899  [14, 684, 932, 1161, 2115, 2127, 3187, 3313, 3...\n",
       "28  LPE13959_2025_02_24_6_0009              196            3104                  101  LPE13959_2025_02_26_6_0006            3691              2901  [52, 289, 293, 362, 1268, 2493, 2537, 3036, 31...\n",
       "29  LPE13959_2025_02_24_6_0014              201            2909                  104  LPE13959_2025_02_26_6_0056            3739              2904  [292, 372, 667, 775, 888, 896, 1134, 1270, 210...\n",
       "30  LPE13959_2025_02_24_6_0015              202            3367                  105  LPE13959_2025_02_26_6_0005            3690              2905  [284, 342, 2047, 2114, 2315, 2364, 3784, 3879,...\n",
       "31  LPE13959_2025_02_24_6_0017              204            3429                  107  LPE13959_2025_02_26_6_0026            3710              2907  [132, 244, 827, 946, 947, 1363, 1499, 1584, 19...\n",
       "32  LPE13959_2025_02_24_6_0018              205            3468                  108  LPE13959_2025_02_26_6_0099            3782              2908  [193, 1307, 1435, 1464, 1778, 2402, 2641, 2950...\n",
       "33  LPE13959_2025_02_24_6_0024              211            3113                  111  LPE13959_2025_02_26_6_0196            3871              2911  [216, 609, 1322, 1563, 1747, 1884, 1938, 2554,...\n",
       "34  LPE13959_2025_02_24_6_0027              214            2919                  114  LPE13959_2025_02_26_6_0003            3688              2914  [448, 496, 822, 1022, 1604, 1882, 1981, 2896, ...\n",
       "35  LPE13959_2025_02_24_6_0036              223            3110                  115  LPE13959_2025_02_26_6_0198            3873              2915  [5, 110, 153, 175, 539, 702, 1017, 1163, 1672,...\n",
       "36  LPE13959_2025_02_24_7_0007              455            3108                  127  LPE13959_2025_02_26_7_0023            4085              2927  [116, 266, 454, 790, 1842, 2508, 2796, 2812, 3...\n",
       "37  LPE13959_2025_02_24_7_0028              476            3377                  132  LPE13959_2025_02_26_7_0132            4192              2932  [6, 218, 358, 973, 1122, 1202, 1480, 1763, 190...\n",
       "38  LPE13959_2025_02_24_7_0045              493            3141                  137  LPE13959_2025_02_26_7_0075            4135              2937  [44, 328, 482, 613, 653, 1410, 1486, 1786, 227...\n",
       "39  LPE13959_2025_02_24_7_0050              498            3626                  138  LPE13959_2025_02_26_7_0233            4276              2938  [124, 270, 422, 912, 1328, 1541, 1791, 2486, 2...\n",
       "40  LPE13959_2025_02_24_7_0242              658            3557                  155  LPE13959_2025_02_26_7_0618            4398              2955  [98, 759, 1067, 1609, 2669, 2857, 2923, 3103, ..."
      ]
     },
     "execution_count": 304,
     "metadata": {},
     "output_type": "execute_result"
    }
   ],
   "source": [
    "def find_mei_presentation_image_nums(row, trialdata):\n",
    "    MEI_of_interest = row['image_number_MEI']\n",
    "    indices = trialdata.loc[trialdata['ImageNumber'] == MEI_of_interest].index.to_list()\n",
    "    return indices\n",
    "\n",
    "validatable_MEIs['trial_numbers_MEI'] = validatable_MEIs.apply(lambda x: find_mei_presentation_image_nums(x, sess_MEI.trialdata), axis=1)\n",
    "validatable_MEIs"
   ]
  },
  {
   "cell_type": "code",
   "execution_count": 269,
   "metadata": {},
   "outputs": [],
   "source": [
    "num_validatable_neurons = num_validatable_MEIs # TODO: make this be settable"
   ]
  },
  {
   "cell_type": "code",
   "execution_count": 314,
   "metadata": {},
   "outputs": [
    {
     "name": "stderr",
     "output_type": "stream",
     "text": [
      "100%|██████████| 41/41 [00:00<00:00, 16283.16it/s]\n"
     ]
    }
   ],
   "source": [
    "# Initialize the result matrix\n",
    "respmat_MEI_trunc_mean = np.zeros((num_validatable_neurons, num_validatable_MEIs))  # responses of neuron n to image i\n",
    "\n",
    "# Looping over the images\n",
    "for i in tqdm(range(num_validatable_MEIs)):  # images\n",
    "    # Extract the list of trial numbers for the current image\n",
    "    trial_numbers_MEI = validatable_MEIs.iloc[i]['trial_numbers_MEI']\n",
    "    \n",
    "    # Vectorized mean computation for all neurons for the current image\n",
    "    respmat_MEI_trunc_mean[:, i] = np.mean(respmat_MEI_trunc[:, trial_numbers_MEI], axis=1)\n"
   ]
  },
  {
   "cell_type": "code",
   "execution_count": 315,
   "metadata": {},
   "outputs": [
    {
     "data": {
      "text/plain": [
       "[]"
      ]
     },
     "execution_count": 315,
     "metadata": {},
     "output_type": "execute_result"
    }
   ],
   "source": [
    "# identify if any rows are duplicates and then remove them in the respmat_MEI_trunc_mean. duplicates if the differences are less than epsilon\n",
    "\n",
    "epsilon = 0.1\n",
    "\n",
    "duplicate_idx = []\n",
    "\n",
    "for i in range(num_validatable_neurons):\n",
    "    for j in range(i+1, num_validatable_neurons):\n",
    "        if np.all(np.abs(respmat_MEI_trunc_mean[i] - respmat_MEI_trunc_mean[j]) < epsilon):\n",
    "            duplicate_idx.append(j)\n",
    "\n",
    "duplicate_idx"
   ]
  },
  {
   "cell_type": "code",
   "execution_count": 316,
   "metadata": {},
   "outputs": [
    {
     "data": {
      "text/plain": [
       "[]"
      ]
     },
     "execution_count": 316,
     "metadata": {},
     "output_type": "execute_result"
    }
   ],
   "source": [
    "duplicate_col_idx = []\n",
    "\n",
    "for i in range(num_validatable_MEIs):\n",
    "    for j in range(i+1, num_validatable_MEIs):\n",
    "        if np.all(np.abs(respmat_MEI_trunc_mean[:, i] - respmat_MEI_trunc_mean[:, j]) < epsilon):\n",
    "            duplicate_col_idx.append(j)\n",
    "\n",
    "duplicate_col_idx"
   ]
  },
  {
   "cell_type": "code",
   "execution_count": 317,
   "metadata": {},
   "outputs": [
    {
     "data": {
      "image/png": "[encoded data removed]",
      "text/plain": [
       "<Figure size 640x480 with 1 Axes>"
      ]
     },
     "metadata": {},
     "output_type": "display_data"
    }
   ],
   "source": [
    "plt.imshow(respmat_MEI_trunc_mean)\n",
    "plt.xlabel('MEI image idx')\n",
    "plt.ylabel('MEI Neuron idx')\n",
    "# plt.xticks(np.arange(respmat_MEI_trunc_mean.shape[1])) # set for number of columns, which are the count of x axis\n",
    "# plt.yticks(np.arange(respmat_MEI_trunc_mean.shape[0])) # set for number of rows, which are the count of y axis\n",
    "# plt.gca().xaxis.set_label_position('top')\n",
    "plt.suptitle('Neuronal Responses to MEIs')\n",
    "plt.show()"
   ]
  },
  {
   "cell_type": "code",
   "execution_count": 318,
   "metadata": {},
   "outputs": [
    {
     "data": {
      "image/png": "[encoded data removed]",
      "text/plain": [
       "<Figure size 800x800 with 1 Axes>"
      ]
     },
     "metadata": {},
     "output_type": "display_data"
    }
   ],
   "source": [
    "# normalize the responses\n",
    "\n",
    "for i, row in enumerate(respmat_MEI_trunc_mean):\n",
    "    respmat_MEI_trunc_mean[i] = (row - np.min(row)) / (np.max(row) - np.min(row))\n",
    "\n",
    "plt.figure(figsize=(8, 8))\n",
    "plt.imshow(respmat_MEI_trunc_mean)\n",
    "plt.xlabel('MEI image idx')\n",
    "plt.ylabel('MEI Neuron idx')\n",
    "# plt.gca().xaxis.set_label_position('top')\n",
    "plt.yticks(np.arange(respmat_MEI_trunc_mean.shape[0]), rotation=45)\n",
    "plt.suptitle('Normalized Neuronal Responses to MEIs')\n",
    "plt.show()"
   ]
  },
  {
   "cell_type": "code",
   "execution_count": 319,
   "metadata": {},
   "outputs": [
    {
     "data": {
      "image/png": "[encoded data removed]",
      "text/plain": [
       "<Figure size 1000x1000 with 1 Axes>"
      ]
     },
     "metadata": {},
     "output_type": "display_data"
    }
   ],
   "source": [
    "# sort the data such that the maximal response to the first image is the first row, then the maximal response to the second image is the second row, etc. So that the diagonal is the maximal response to each image\n",
    "\n",
    "respmat_MEI_trunc_mean_sorted = np.zeros_like(respmat_MEI_trunc_mean)\n",
    "image_order = np.zeros(num_validatable_MEIs, dtype=int)\n",
    "\n",
    "for i in range(num_validatable_MEIs):\n",
    "    max_idx = np.argmax(respmat_MEI_trunc_mean[:, i])\n",
    "    respmat_MEI_trunc_mean_sorted[i] = respmat_MEI_trunc_mean[max_idx]\n",
    "    if max_idx not in image_order:\n",
    "        image_order[i] = max_idx\n",
    "    else:\n",
    "        sorted_indices = np.argsort(respmat_MEI_trunc_mean[:, i])[::-1]\n",
    "        for idx in sorted_indices:\n",
    "            if idx not in image_order:\n",
    "                image_order[i] = idx\n",
    "                break\n",
    "\n",
    "plt.figure(figsize=(10, 10))\n",
    "plt.imshow(respmat_MEI_trunc_mean_sorted)\n",
    "plt.xlabel('MEI image idx')\n",
    "plt.ylabel('MEI Neuron idx')\n",
    "plt.xticks(np.arange(respmat_MEI_trunc_mean_sorted.shape[1]), image_order, rotation=45) # set for number of columns, which are the count of x axis\n",
    "# plt.gca().xaxis.set_label_position('top')\n",
    "plt.suptitle('Normalized Neuronal Responses to MEIs, sorted by maximal response')\n",
    "plt.show()"
   ]
  },
  {
   "cell_type": "code",
   "execution_count": 320,
   "metadata": {},
   "outputs": [
    {
     "data": {
      "image/png": "[encoded data removed]",
      "text/plain": [
       "<Figure size 800x800 with 1 Axes>"
      ]
     },
     "metadata": {},
     "output_type": "display_data"
    }
   ],
   "source": [
    "# Sort the data such that the maximal response to the first neuron is the first column,\n",
    "# then the maximal response to the second neuron is the second column, etc.\n",
    "# So that the diagonal is the maximal response to each neuron\n",
    "\n",
    "respmat_MEI_trunc_mean_sorted = np.zeros_like(respmat_MEI_trunc_mean)\n",
    "neuron_order = np.zeros(num_validatable_MEIs, dtype=int)\n",
    "\n",
    "for i in range(num_validatable_MEIs):\n",
    "    max_idx = np.argmax(respmat_MEI_trunc_mean[:, i])\n",
    "    respmat_MEI_trunc_mean_sorted[:, i] = respmat_MEI_trunc_mean[max_idx]\n",
    "    if max_idx not in neuron_order:\n",
    "        neuron_order[i] = max_idx\n",
    "    else:\n",
    "        sorted_indices = np.argsort(respmat_MEI_trunc_mean[:, i])[::-1]\n",
    "        for idx in sorted_indices:\n",
    "            if idx not in neuron_order:\n",
    "                neuron_order[i] = idx\n",
    "                break\n",
    "\n",
    "plt.figure(figsize=(8, 8))\n",
    "plt.imshow(respmat_MEI_trunc_mean_sorted)\n",
    "plt.xlabel('MEI Neuron idx')\n",
    "plt.ylabel('MEI image idx')\n",
    "plt.yticks(np.arange(respmat_MEI_trunc_mean_sorted.shape[0]), neuron_order, rotation=45)  # set for number of rows, which are the count of y axis\n",
    "plt.suptitle('Normalized Neuronal Responses to MEIs,\\nvia Maximal Responses')\n",
    "plt.show()"
   ]
  },
  {
   "cell_type": "code",
   "execution_count": null,
   "metadata": {},
   "outputs": [],
   "source": []
  }
 ],
 "metadata": {
  "kernelspec": {
   "display_name": "molanalysis",
   "language": "python",
   "name": "python3"
  },
  "language_info": {
   "codemirror_mode": {
    "name": "ipython",
    "version": 3
   },
   "file_extension": ".py",
   "mimetype": "text/x-python",
   "name": "python",
   "nbconvert_exporter": "python",
   "pygments_lexer": "ipython3",
   "version": "3.8.12"
  }
 },
 "nbformat": 4,
 "nbformat_minor": 2
}
