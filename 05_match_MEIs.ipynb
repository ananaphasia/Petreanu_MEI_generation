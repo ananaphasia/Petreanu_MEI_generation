{
 "cells": [
  {
   "cell_type": "code",
   "execution_count": 1,
   "metadata": {},
   "outputs": [
    {
     "name": "stdout",
     "output_type": "stream",
     "text": [
      "d:\\Python\\Anastasia\\Petreanu Lab\\Petreanu_MEI_generation\n"
     ]
    }
   ],
   "source": [
    "import os, sys\n",
    "\n",
    "os.chdir('Petreanu_MEI_generation')\n",
    "sys.path.append(os.getcwd())\n",
    "\n",
    "print(os.getcwd())"
   ]
  },
  {
   "cell_type": "code",
   "execution_count": 2,
   "metadata": {},
   "outputs": [],
   "source": [
    "MEI_validation_session = [['LPE13959', '2025_02_26']]\n",
    "session_reference = [['LPE13959', '2025_02_24']]\n",
    "MEI_validation_session_input_folder = 'D:/Procdata/IM'"
   ]
  },
  {
   "cell_type": "code",
   "execution_count": 3,
   "metadata": {},
   "outputs": [
    {
     "name": "stdout",
     "output_type": "stream",
     "text": [
      "Working directory: d:\\Python\\Anastasia\\Petreanu Lab\\Petreanu_MEI_generation\n",
      "Starting evaluation for runs/V1_MEI_in_vivo_validation_with_grid_mean_predictor with area of interest PM\n",
      "{'data_sets': ['all'], 'dataset_fn': 'sensorium.datasets.static_loaders', 'dataset_config': {'normalize': True, 'include_behavior': True, 'include_eye_position': True, 'batch_size': 128, 'scale': 0.25, 'preload_from_merged_data': True, 'include_trial_id': True, 'include_rank_id': True, 'include_history': True, 'include_behav_state': True, 'adjusted_normalization': True, 'use_ensemble_tier': True, 'ensemble_nr': 0}, 'model_fn': 'sensorium.models.modulated_stacked_core_full_gauss_readout', 'model_seed': 100, 'model_config': {'pad_input': False, 'stack': -1, 'layers': 4, 'input_kern': 9, 'gamma_input': 9.8, 'gamma_readout': 0.48, 'hidden_kern': 10, 'hidden_channels': 64, 'depth_separable': True, 'grid_mean_predictor': {'type': 'cortex', 'input_dimensions': 2, 'hidden_layers': 4, 'hidden_features': 20, 'nonlinearity': 'ReLU', 'final_tanh': True}, 'init_sigma': 0.14, 'init_mu_range': 0.8, 'gauss_type': 'full', 'max_jitter': 0.111, 'max_jitter_x': 0, 'max_jitter_y': 0, 'shifter': True, 'with_modulator': True, 'modulator_type': 'HistoryStateGain', 'modulator_params': {'include_gain': True, 'gain_kernel_std': 30, 'diff_reg': 100, 'include_history': True, 'nr_history': 5, 'behav_state': True, 'nr_behav_state': 10, 'per_neuron_gain_adjust': True, 'gain_adjust_alpha': 0.3, 'alpha_behav': 0.3, 'alpha_hist': 0.3}, 'data_path': 'runs/PM_MEI_in_vivo_validation_dark_reared/data'}, 'use_pretrained_core': False, 'pretrained_model_file': 'no_file', 'trainer_fn': 'sensorium.training.standard_trainer', 'trainer_config': {'max_iter': 200, 'verbose': True, 'lr_decay_steps': 4, 'avg_loss': False, 'lr_init': 0.009, 'track_training': True, 'disable_tqdm': True}, 'verbose': 3, 'save_csv': True, 'save_predictions_npy': True}\n",
      "['runs/PM_MEI_in_vivo_validation_dark_reared/data/LPE09665/2023_03_20', 'runs/PM_MEI_in_vivo_validation_dark_reared/data/LPE10883/2023_10_23', 'runs/PM_MEI_in_vivo_validation_dark_reared/data/LPE10883/2023_10_31', 'runs/PM_MEI_in_vivo_validation_dark_reared/data/LPE10884/2023_10_12', 'runs/PM_MEI_in_vivo_validation_dark_reared/data/LPE10885/2023_10_20', 'runs/PM_MEI_in_vivo_validation_dark_reared/data/LPE10919/2023_11_09', 'runs/PM_MEI_in_vivo_validation_dark_reared/data/LPE11086/2023_12_16', 'runs/PM_MEI_in_vivo_validation_dark_reared/data/LPE11086/2024_01_09', 'runs/PM_MEI_in_vivo_validation_dark_reared/data/LPE11495/2024_02_29', 'runs/PM_MEI_in_vivo_validation_dark_reared/data/LPE11998/2024_05_08', 'runs/PM_MEI_in_vivo_validation_dark_reared/data/LPE12223/2024_06_11', 'runs/PM_MEI_in_vivo_validation_dark_reared/data/LPE13998/2025_03_10']\n"
     ]
    }
   ],
   "source": [
    "import sys\n",
    "import os\n",
    "import torch\n",
    "import numpy as np\n",
    "import pandas as pd\n",
    "import matplotlib.pyplot as plt\n",
    "import seaborn as sns\n",
    "from tqdm.auto import tqdm\n",
    "import warnings\n",
    "from sensorium.utility.training import read_config\n",
    "from sensorium.utility import submission\n",
    "from nnfabrik.builder import get_data, get_model\n",
    "from sensorium.models.ensemble import EnsemblePrediction\n",
    "from sensorium.utility import get_correlations\n",
    "from sensorium.utility.measure_helpers import get_df_for_scores\n",
    "from loaddata.session_info import load_sessions\n",
    "from utils.plotting_style import *  # get all the fixed color schemes\n",
    "from utils.imagelib import load_natural_images\n",
    "from loaddata.get_data_folder import get_local_drive\n",
    "from utils.pair_lib import compute_pairwise_anatomical_distance\n",
    "from utils.rf_lib import *\n",
    "import pickle as pkl\n",
    "\n",
    "# Set working directory to root of repo\n",
    "current_path = os.getcwd()\n",
    "# Identify if path has 'molanalysis' as a folder in it\n",
    "if 'Petreanu_MEI_generation' in current_path:\n",
    "    # If so, set the path to the root of the repo\n",
    "    current_path = current_path.split('Petreanu_MEI_generation')[0] + 'Petreanu_MEI_generation'\n",
    "else:\n",
    "    raise FileNotFoundError(\n",
    "        f'This needs to be run somewhere from within the Petreanu_MEI_generation folder, not {current_path}')\n",
    "os.chdir(current_path)\n",
    "sys.path.append(current_path)\n",
    "\n",
    "print('Working directory:', os.getcwd())\n",
    "\n",
    "run_config = read_config('run_config.yaml') # Must be set\n",
    "\n",
    "# RUN_NAME = run_config['current_vals']['RUN_NAME'] # MUST be set. Creates a subfolder in the runs folder with this name, containing data, saved models, etc. IMPORTANT: all values in this folder WILL be deleted.\n",
    "RUN_NAME = 'runs/V1_MEI_in_vivo_validation_with_grid_mean_predictor'\n",
    "RUN_FOLDER = run_config['current_vals']['RUN_FOLDER']\n",
    "area_of_interest = run_config['current_vals']['data']['area_of_interest']\n",
    "# INPUT_FOLDER = run_config['data']['INPUT_FOLDER']\n",
    "INPUT_FOLDER = 'Z:/Users/Anastasia/Data/Data_for_analysis'\n",
    "# sessions_to_keep = run_config['data']['sessions_to_keep']\n",
    "sessions_to_keep = [['LPE09665', '2023_03_20'],\n",
    "       ['LPE10883', '2023_10_23'],\n",
    "       ['LPE10883', '2023_10_31'],\n",
    "       ['LPE10884', '2023_10_12'],\n",
    "       ['LPE10885', '2023_10_20'],\n",
    "       ['LPE10919', '2023_11_09'],\n",
    "       ['LPE11086', '2023_12_16'],\n",
    "       ['LPE11086', '2024_01_09'],\n",
    "       ['LPE11495', '2024_02_29'],\n",
    "       ['LPE11998', '2024_05_08'],\n",
    "       ['LPE12223', '2024_06_11'],\n",
    "       ['LPE13959', '2025_02_17'],\n",
    "       ['LPE13959', '2025_02_24'],\n",
    "       ['LPE13959', '2025_02_26']]\n",
    "num_models = run_config['dev']['num_models']\n",
    "\n",
    "print(f'Starting evaluation for {RUN_NAME} with area of interest {area_of_interest}')\n",
    "\n",
    "warnings.filterwarnings('ignore')\n",
    "# ### Load configuration for model\n",
    "\n",
    "# Loading config only for ensemble 0, because all 5 models have the same config (except\n",
    "# for the seed and dataloader train/validation split)\n",
    "\n",
    "config_file = f'{RUN_FOLDER}/config_m4_ens0/config.yaml'\n",
    "config = read_config(config_file)\n",
    "config['model_config']['data_path'] = f'{RUN_FOLDER}/data'\n",
    "print(config)\n",
    "# ### Prepare dataloader\n",
    "\n",
    "# Use only one dataloader, since test and final_test are the same for all ensembles\n",
    "# basepath = \"notebooks/data/\"\n",
    "# filenames = [os.path.join(basepath, file) for file in os.listdir(basepath) if \".zip\" in file ]\n",
    "# filenames = [file for file in filenames if 'static26872-17-20' not in file]\n",
    "\n",
    "basepath = f'{RUN_FOLDER}/data'\n",
    "# Add Add folders two levels deep from basepath into a list\n",
    "# First level\n",
    "folders = [os.path.join(basepath, name) for name in os.listdir(\n",
    "    basepath) if os.path.isdir(os.path.join(basepath, name)) and not \"merged_data\" in name]\n",
    "# Second level\n",
    "folders = [os.path.join(folder, name) for folder in folders for name in os.listdir(\n",
    "    folder) if os.path.isdir(os.path.join(folder, name)) and not \"merged_data\" in name]\n",
    "folders = [x.replace(\"\\\\\", \"/\") for x in folders]\n",
    "print(folders)"
   ]
  },
  {
   "cell_type": "code",
   "execution_count": 4,
   "metadata": {},
   "outputs": [
    {
     "name": "stdout",
     "output_type": "stream",
     "text": [
      "[['LPE13959' '2025_02_17']\n",
      " ['LPE13959' '2025_02_24']\n",
      " ['LPE13959' '2025_02_26']\n",
      " ['LPE09665' '2023_03_20']\n",
      " ['LPE10883' '2023_10_23']\n",
      " ['LPE10883' '2023_10_31']\n",
      " ['LPE10884' '2023_10_12']\n",
      " ['LPE10885' '2023_10_20']\n",
      " ['LPE10919' '2023_11_09']\n",
      " ['LPE11086' '2023_12_16']\n",
      " ['LPE11086' '2024_01_09']\n",
      " ['LPE11495' '2024_02_29']\n",
      " ['LPE11998' '2024_05_08']\n",
      " ['LPE12223' '2024_06_11']]\n"
     ]
    }
   ],
   "source": [
    "try: \n",
    "    session_folders\n",
    "except NameError:\n",
    "    # First level\n",
    "    session_folders = [os.path.join(INPUT_FOLDER, name) for name in os.listdir(\n",
    "        INPUT_FOLDER) if os.path.isdir(os.path.join(INPUT_FOLDER, name)) and not \"merged_data\" in name]\n",
    "    session_folders = [x.replace(\"\\\\\", \"/\") for x in session_folders]\n",
    "    # Second level\n",
    "    files = [[session_folder, os.path.join(session_folder, name).replace('\\\\', '/')] for session_folder in session_folders for name in os.listdir(\n",
    "        session_folder) if os.path.isdir(os.path.join(session_folder, name)) and not \"merged_data\" in name]\n",
    "    # only get last value after /\n",
    "    session_list = [[session_folder.split(\"/\")[-1], name.split(\"/\")[-1]]\n",
    "                    for session_folder, name in files]\n",
    "\n",
    "    # drop ['LPE10919', '2023_11_08'] because the data is not converted yet\n",
    "    session_list = [x for x in session_list if x != ['LPE10919', '2023_11_08']]\n",
    "\n",
    "if not isinstance(sessions_to_keep, str):\n",
    "    sessions_to_keep = [tuple(x) for x in sessions_to_keep]\n",
    "    session_list = [tuple(x) for x in session_list]\n",
    "    session_list = [x for x in session_list if x in sessions_to_keep]\n",
    "    session_list = [list(x) for x in session_list]\n",
    "elif sessions_to_keep == 'all':\n",
    "    pass\n",
    "\n",
    "session_list = np.array(session_list)\n",
    "\n",
    "print(session_list)"
   ]
  },
  {
   "cell_type": "code",
   "execution_count": 5,
   "metadata": {},
   "outputs": [
    {
     "data": {
      "application/vnd.jupyter.widget-view+json": {
       "model_id": "9d741078b92346fc981b4717a521e832",
       "version_major": 2,
       "version_minor": 0
      },
      "text/plain": [
       "Computing average response for response matrix:   0%|          | 0/5600 [00:00<?, ?it/s]"
      ]
     },
     "metadata": {},
     "output_type": "display_data"
    },
    {
     "data": {
      "application/vnd.jupyter.widget-view+json": {
       "model_id": "53b16de9d3fb46cc9bd69ce2c2d1d7dc",
       "version_major": 2,
       "version_minor": 0
      },
      "text/plain": [
       "Computing average response for runspeed:   0%|          | 0/5600 [00:00<?, ?it/s]"
      ]
     },
     "metadata": {},
     "output_type": "display_data"
    },
    {
     "data": {
      "application/vnd.jupyter.widget-view+json": {
       "model_id": "83933af5282f41edba5e033d6e79d252",
       "version_major": 2,
       "version_minor": 0
      },
      "text/plain": [
       "Computing average response for motion energy:   0%|          | 0/5600 [00:00<?, ?it/s]"
      ]
     },
     "metadata": {},
     "output_type": "display_data"
    },
    {
     "data": {
      "application/vnd.jupyter.widget-view+json": {
       "model_id": "35ef5a570cb44a1eb4590aba4ffb3b23",
       "version_major": 2,
       "version_minor": 0
      },
      "text/plain": [
       "Computing average response for pupil x position:   0%|          | 0/5600 [00:00<?, ?it/s]"
      ]
     },
     "metadata": {},
     "output_type": "display_data"
    },
    {
     "data": {
      "application/vnd.jupyter.widget-view+json": {
       "model_id": "bcd0506c331d4e85901cf668f090ba98",
       "version_major": 2,
       "version_minor": 0
      },
      "text/plain": [
       "Computing average response for pupil y position:   0%|          | 0/5600 [00:00<?, ?it/s]"
      ]
     },
     "metadata": {},
     "output_type": "display_data"
    },
    {
     "data": {
      "application/vnd.jupyter.widget-view+json": {
       "model_id": "045b417b9f314e2ba0bd86daddd37998",
       "version_major": 2,
       "version_minor": 0
      },
      "text/plain": [
       "Computing average response for pupil area:   0%|          | 0/5600 [00:00<?, ?it/s]"
      ]
     },
     "metadata": {},
     "output_type": "display_data"
    },
    {
     "data": {
      "application/vnd.jupyter.widget-view+json": {
       "model_id": "3bf36bf29b184d63898ce0233e86f9a8",
       "version_major": 2,
       "version_minor": 0
      },
      "text/plain": [
       "Computing average response for response matrix:   0%|          | 0/5600 [00:00<?, ?it/s]"
      ]
     },
     "metadata": {},
     "output_type": "display_data"
    },
    {
     "data": {
      "application/vnd.jupyter.widget-view+json": {
       "model_id": "485cb4fb94ed4eb6b4fc94bd47a524e5",
       "version_major": 2,
       "version_minor": 0
      },
      "text/plain": [
       "Computing average response for runspeed:   0%|          | 0/5600 [00:00<?, ?it/s]"
      ]
     },
     "metadata": {},
     "output_type": "display_data"
    },
    {
     "data": {
      "application/vnd.jupyter.widget-view+json": {
       "model_id": "9a42d2fb7d4441068a44736181389785",
       "version_major": 2,
       "version_minor": 0
      },
      "text/plain": [
       "Computing average response for motion energy:   0%|          | 0/5600 [00:00<?, ?it/s]"
      ]
     },
     "metadata": {},
     "output_type": "display_data"
    },
    {
     "data": {
      "application/vnd.jupyter.widget-view+json": {
       "model_id": "5f9db5c248ae41cb87e3d63a26bf9aef",
       "version_major": 2,
       "version_minor": 0
      },
      "text/plain": [
       "Computing average response for pupil x position:   0%|          | 0/5600 [00:00<?, ?it/s]"
      ]
     },
     "metadata": {},
     "output_type": "display_data"
    },
    {
     "data": {
      "application/vnd.jupyter.widget-view+json": {
       "model_id": "a074141ebb3c4340b2d92507b7de2564",
       "version_major": 2,
       "version_minor": 0
      },
      "text/plain": [
       "Computing average response for pupil y position:   0%|          | 0/5600 [00:00<?, ?it/s]"
      ]
     },
     "metadata": {},
     "output_type": "display_data"
    },
    {
     "data": {
      "application/vnd.jupyter.widget-view+json": {
       "model_id": "7d6f31569c704eb385ad3704082e32b4",
       "version_major": 2,
       "version_minor": 0
      },
      "text/plain": [
       "Computing average response for pupil area:   0%|          | 0/5600 [00:00<?, ?it/s]"
      ]
     },
     "metadata": {},
     "output_type": "display_data"
    },
    {
     "data": {
      "application/vnd.jupyter.widget-view+json": {
       "model_id": "2b9e29d31b034fbd84c05024f02b0c14",
       "version_major": 2,
       "version_minor": 0
      },
      "text/plain": [
       "Computing average response for response matrix:   0%|          | 0/5740 [00:00<?, ?it/s]"
      ]
     },
     "metadata": {},
     "output_type": "display_data"
    },
    {
     "data": {
      "application/vnd.jupyter.widget-view+json": {
       "model_id": "0f938329100c4c52b00ac1fb6685875c",
       "version_major": 2,
       "version_minor": 0
      },
      "text/plain": [
       "Computing average response for runspeed:   0%|          | 0/5740 [00:00<?, ?it/s]"
      ]
     },
     "metadata": {},
     "output_type": "display_data"
    },
    {
     "data": {
      "application/vnd.jupyter.widget-view+json": {
       "model_id": "fa86d9d8cdfb479085c76c21297465a4",
       "version_major": 2,
       "version_minor": 0
      },
      "text/plain": [
       "Computing average response for motion energy:   0%|          | 0/5740 [00:00<?, ?it/s]"
      ]
     },
     "metadata": {},
     "output_type": "display_data"
    },
    {
     "data": {
      "application/vnd.jupyter.widget-view+json": {
       "model_id": "fbf5b4cf3eae4ab199e19a18c4defcb9",
       "version_major": 2,
       "version_minor": 0
      },
      "text/plain": [
       "Computing average response for pupil x position:   0%|          | 0/5740 [00:00<?, ?it/s]"
      ]
     },
     "metadata": {},
     "output_type": "display_data"
    },
    {
     "data": {
      "application/vnd.jupyter.widget-view+json": {
       "model_id": "b4ed08fa0eb6475c8041cfeca82766bd",
       "version_major": 2,
       "version_minor": 0
      },
      "text/plain": [
       "Computing average response for pupil y position:   0%|          | 0/5740 [00:00<?, ?it/s]"
      ]
     },
     "metadata": {},
     "output_type": "display_data"
    },
    {
     "data": {
      "application/vnd.jupyter.widget-view+json": {
       "model_id": "9fdb5a7acc4444dbbcf002006c431a51",
       "version_major": 2,
       "version_minor": 0
      },
      "text/plain": [
       "Computing average response for pupil area:   0%|          | 0/5740 [00:00<?, ?it/s]"
      ]
     },
     "metadata": {},
     "output_type": "display_data"
    },
    {
     "data": {
      "application/vnd.jupyter.widget-view+json": {
       "model_id": "953e6cd3f8fd45d6a26b8e6dae1b59f3",
       "version_major": 2,
       "version_minor": 0
      },
      "text/plain": [
       "Computing average response for response matrix:   0%|          | 0/5600 [00:00<?, ?it/s]"
      ]
     },
     "metadata": {},
     "output_type": "display_data"
    },
    {
     "data": {
      "application/vnd.jupyter.widget-view+json": {
       "model_id": "3c10b05a1ee24087bd32d99972eb62d3",
       "version_major": 2,
       "version_minor": 0
      },
      "text/plain": [
       "Computing average response for runspeed:   0%|          | 0/5600 [00:00<?, ?it/s]"
      ]
     },
     "metadata": {},
     "output_type": "display_data"
    },
    {
     "data": {
      "application/vnd.jupyter.widget-view+json": {
       "model_id": "7b8f1b7d94a24fad846c65d9ed5bc12a",
       "version_major": 2,
       "version_minor": 0
      },
      "text/plain": [
       "Computing average response for motion energy:   0%|          | 0/5600 [00:00<?, ?it/s]"
      ]
     },
     "metadata": {},
     "output_type": "display_data"
    },
    {
     "data": {
      "application/vnd.jupyter.widget-view+json": {
       "model_id": "3a4c64cacee94eab8f2d88878d330d6b",
       "version_major": 2,
       "version_minor": 0
      },
      "text/plain": [
       "Computing average response for pupil x position:   0%|          | 0/5600 [00:00<?, ?it/s]"
      ]
     },
     "metadata": {},
     "output_type": "display_data"
    },
    {
     "data": {
      "application/vnd.jupyter.widget-view+json": {
       "model_id": "c45f572c75e84e02b754251be3aa0263",
       "version_major": 2,
       "version_minor": 0
      },
      "text/plain": [
       "Computing average response for pupil y position:   0%|          | 0/5600 [00:00<?, ?it/s]"
      ]
     },
     "metadata": {},
     "output_type": "display_data"
    },
    {
     "data": {
      "application/vnd.jupyter.widget-view+json": {
       "model_id": "3931b1784f464dae9dbbc0743205092c",
       "version_major": 2,
       "version_minor": 0
      },
      "text/plain": [
       "Computing average response for pupil area:   0%|          | 0/5600 [00:00<?, ?it/s]"
      ]
     },
     "metadata": {},
     "output_type": "display_data"
    },
    {
     "data": {
      "application/vnd.jupyter.widget-view+json": {
       "model_id": "1b8d15ce91da4cf49c57d0045db940f3",
       "version_major": 2,
       "version_minor": 0
      },
      "text/plain": [
       "Computing average response for response matrix:   0%|          | 0/5600 [00:00<?, ?it/s]"
      ]
     },
     "metadata": {},
     "output_type": "display_data"
    },
    {
     "data": {
      "application/vnd.jupyter.widget-view+json": {
       "model_id": "243d2318ce4a45899e77d6bef9f5184f",
       "version_major": 2,
       "version_minor": 0
      },
      "text/plain": [
       "Computing average response for runspeed:   0%|          | 0/5600 [00:00<?, ?it/s]"
      ]
     },
     "metadata": {},
     "output_type": "display_data"
    },
    {
     "data": {
      "application/vnd.jupyter.widget-view+json": {
       "model_id": "59d069d92c3444118680bdea5bb10685",
       "version_major": 2,
       "version_minor": 0
      },
      "text/plain": [
       "Computing average response for motion energy:   0%|          | 0/5600 [00:00<?, ?it/s]"
      ]
     },
     "metadata": {},
     "output_type": "display_data"
    },
    {
     "data": {
      "application/vnd.jupyter.widget-view+json": {
       "model_id": "e806e326b461491fa8d2ae72c9f1c73e",
       "version_major": 2,
       "version_minor": 0
      },
      "text/plain": [
       "Computing average response for pupil x position:   0%|          | 0/5600 [00:00<?, ?it/s]"
      ]
     },
     "metadata": {},
     "output_type": "display_data"
    },
    {
     "data": {
      "application/vnd.jupyter.widget-view+json": {
       "model_id": "fc0cf188ee3e403bb3c2618c31fa85ea",
       "version_major": 2,
       "version_minor": 0
      },
      "text/plain": [
       "Computing average response for pupil y position:   0%|          | 0/5600 [00:00<?, ?it/s]"
      ]
     },
     "metadata": {},
     "output_type": "display_data"
    },
    {
     "data": {
      "application/vnd.jupyter.widget-view+json": {
       "model_id": "2a23ca4eaa9544ebb2d4079654e6ce5a",
       "version_major": 2,
       "version_minor": 0
      },
      "text/plain": [
       "Computing average response for pupil area:   0%|          | 0/5600 [00:00<?, ?it/s]"
      ]
     },
     "metadata": {},
     "output_type": "display_data"
    },
    {
     "data": {
      "application/vnd.jupyter.widget-view+json": {
       "model_id": "e311987cca0b4fc1a93924a447a71c9e",
       "version_major": 2,
       "version_minor": 0
      },
      "text/plain": [
       "Computing average response for response matrix:   0%|          | 0/5600 [00:00<?, ?it/s]"
      ]
     },
     "metadata": {},
     "output_type": "display_data"
    },
    {
     "data": {
      "application/vnd.jupyter.widget-view+json": {
       "model_id": "679546130067474896365c62f208db24",
       "version_major": 2,
       "version_minor": 0
      },
      "text/plain": [
       "Computing average response for runspeed:   0%|          | 0/5600 [00:00<?, ?it/s]"
      ]
     },
     "metadata": {},
     "output_type": "display_data"
    },
    {
     "data": {
      "application/vnd.jupyter.widget-view+json": {
       "model_id": "2283d28ff47645a38fc30f616ded7dfc",
       "version_major": 2,
       "version_minor": 0
      },
      "text/plain": [
       "Computing average response for motion energy:   0%|          | 0/5600 [00:00<?, ?it/s]"
      ]
     },
     "metadata": {},
     "output_type": "display_data"
    },
    {
     "data": {
      "application/vnd.jupyter.widget-view+json": {
       "model_id": "7f43857d53b84a97b857a723004d6530",
       "version_major": 2,
       "version_minor": 0
      },
      "text/plain": [
       "Computing average response for pupil x position:   0%|          | 0/5600 [00:00<?, ?it/s]"
      ]
     },
     "metadata": {},
     "output_type": "display_data"
    },
    {
     "data": {
      "application/vnd.jupyter.widget-view+json": {
       "model_id": "3fc12662e47e4adb8002792a2a96ef32",
       "version_major": 2,
       "version_minor": 0
      },
      "text/plain": [
       "Computing average response for pupil y position:   0%|          | 0/5600 [00:00<?, ?it/s]"
      ]
     },
     "metadata": {},
     "output_type": "display_data"
    },
    {
     "data": {
      "application/vnd.jupyter.widget-view+json": {
       "model_id": "caf04383463b4d618c5b8f37c9c28417",
       "version_major": 2,
       "version_minor": 0
      },
      "text/plain": [
       "Computing average response for pupil area:   0%|          | 0/5600 [00:00<?, ?it/s]"
      ]
     },
     "metadata": {},
     "output_type": "display_data"
    },
    {
     "data": {
      "application/vnd.jupyter.widget-view+json": {
       "model_id": "9351ac02fe914e9babba38ccfc3e3804",
       "version_major": 2,
       "version_minor": 0
      },
      "text/plain": [
       "Computing average response for response matrix:   0%|          | 0/5600 [00:00<?, ?it/s]"
      ]
     },
     "metadata": {},
     "output_type": "display_data"
    },
    {
     "data": {
      "application/vnd.jupyter.widget-view+json": {
       "model_id": "c908b5d294db435592a4d68a57eed7e6",
       "version_major": 2,
       "version_minor": 0
      },
      "text/plain": [
       "Computing average response for runspeed:   0%|          | 0/5600 [00:00<?, ?it/s]"
      ]
     },
     "metadata": {},
     "output_type": "display_data"
    },
    {
     "data": {
      "application/vnd.jupyter.widget-view+json": {
       "model_id": "831d92c8d7e54ba292a120e4451c905d",
       "version_major": 2,
       "version_minor": 0
      },
      "text/plain": [
       "Computing average response for motion energy:   0%|          | 0/5600 [00:00<?, ?it/s]"
      ]
     },
     "metadata": {},
     "output_type": "display_data"
    },
    {
     "data": {
      "application/vnd.jupyter.widget-view+json": {
       "model_id": "9b94e04a48be474499424d896561347a",
       "version_major": 2,
       "version_minor": 0
      },
      "text/plain": [
       "Computing average response for pupil x position:   0%|          | 0/5600 [00:00<?, ?it/s]"
      ]
     },
     "metadata": {},
     "output_type": "display_data"
    },
    {
     "data": {
      "application/vnd.jupyter.widget-view+json": {
       "model_id": "b0ee156a36e249ea991e0826130bbf13",
       "version_major": 2,
       "version_minor": 0
      },
      "text/plain": [
       "Computing average response for pupil y position:   0%|          | 0/5600 [00:00<?, ?it/s]"
      ]
     },
     "metadata": {},
     "output_type": "display_data"
    },
    {
     "data": {
      "application/vnd.jupyter.widget-view+json": {
       "model_id": "f60f3f92f1c7439aabb6687dbd23a203",
       "version_major": 2,
       "version_minor": 0
      },
      "text/plain": [
       "Computing average response for pupil area:   0%|          | 0/5600 [00:00<?, ?it/s]"
      ]
     },
     "metadata": {},
     "output_type": "display_data"
    },
    {
     "data": {
      "application/vnd.jupyter.widget-view+json": {
       "model_id": "6d0197a1ee244d258f05e783d0beffff",
       "version_major": 2,
       "version_minor": 0
      },
      "text/plain": [
       "Computing average response for response matrix:   0%|          | 0/5600 [00:00<?, ?it/s]"
      ]
     },
     "metadata": {},
     "output_type": "display_data"
    },
    {
     "data": {
      "application/vnd.jupyter.widget-view+json": {
       "model_id": "a654bab242394483933dbcc3684270c2",
       "version_major": 2,
       "version_minor": 0
      },
      "text/plain": [
       "Computing average response for runspeed:   0%|          | 0/5600 [00:00<?, ?it/s]"
      ]
     },
     "metadata": {},
     "output_type": "display_data"
    },
    {
     "data": {
      "application/vnd.jupyter.widget-view+json": {
       "model_id": "19b66171c4104bfba79ed637ae2619ec",
       "version_major": 2,
       "version_minor": 0
      },
      "text/plain": [
       "Computing average response for motion energy:   0%|          | 0/5600 [00:00<?, ?it/s]"
      ]
     },
     "metadata": {},
     "output_type": "display_data"
    },
    {
     "data": {
      "application/vnd.jupyter.widget-view+json": {
       "model_id": "07ad3e625ff24f778b091cdef41dfb31",
       "version_major": 2,
       "version_minor": 0
      },
      "text/plain": [
       "Computing average response for pupil x position:   0%|          | 0/5600 [00:00<?, ?it/s]"
      ]
     },
     "metadata": {},
     "output_type": "display_data"
    },
    {
     "data": {
      "application/vnd.jupyter.widget-view+json": {
       "model_id": "6c82f0bd6e614d128d9df6c4fc4db5a1",
       "version_major": 2,
       "version_minor": 0
      },
      "text/plain": [
       "Computing average response for pupil y position:   0%|          | 0/5600 [00:00<?, ?it/s]"
      ]
     },
     "metadata": {},
     "output_type": "display_data"
    },
    {
     "data": {
      "application/vnd.jupyter.widget-view+json": {
       "model_id": "7bc1bc4e28744706bebcd50fe93a3d53",
       "version_major": 2,
       "version_minor": 0
      },
      "text/plain": [
       "Computing average response for pupil area:   0%|          | 0/5600 [00:00<?, ?it/s]"
      ]
     },
     "metadata": {},
     "output_type": "display_data"
    },
    {
     "data": {
      "application/vnd.jupyter.widget-view+json": {
       "model_id": "20ea6904aab04b4e9ea53b7fd8ae3291",
       "version_major": 2,
       "version_minor": 0
      },
      "text/plain": [
       "Computing average response for response matrix:   0%|          | 0/5600 [00:00<?, ?it/s]"
      ]
     },
     "metadata": {},
     "output_type": "display_data"
    },
    {
     "data": {
      "application/vnd.jupyter.widget-view+json": {
       "model_id": "8c80309ebe2e49d5a6f98e6b3c3716f7",
       "version_major": 2,
       "version_minor": 0
      },
      "text/plain": [
       "Computing average response for runspeed:   0%|          | 0/5600 [00:00<?, ?it/s]"
      ]
     },
     "metadata": {},
     "output_type": "display_data"
    },
    {
     "data": {
      "application/vnd.jupyter.widget-view+json": {
       "model_id": "9302385e2b264eaeafa24f0eb79c61e4",
       "version_major": 2,
       "version_minor": 0
      },
      "text/plain": [
       "Computing average response for motion energy:   0%|          | 0/5600 [00:00<?, ?it/s]"
      ]
     },
     "metadata": {},
     "output_type": "display_data"
    },
    {
     "data": {
      "application/vnd.jupyter.widget-view+json": {
       "model_id": "f6cea62ff6444f2e9ac2b987d1025b03",
       "version_major": 2,
       "version_minor": 0
      },
      "text/plain": [
       "Computing average response for pupil x position:   0%|          | 0/5600 [00:00<?, ?it/s]"
      ]
     },
     "metadata": {},
     "output_type": "display_data"
    },
    {
     "data": {
      "application/vnd.jupyter.widget-view+json": {
       "model_id": "68013eadce9a4a4c901771724f94003c",
       "version_major": 2,
       "version_minor": 0
      },
      "text/plain": [
       "Computing average response for pupil y position:   0%|          | 0/5600 [00:00<?, ?it/s]"
      ]
     },
     "metadata": {},
     "output_type": "display_data"
    },
    {
     "data": {
      "application/vnd.jupyter.widget-view+json": {
       "model_id": "d7f94c93930a4078b5de39d55ac3ee25",
       "version_major": 2,
       "version_minor": 0
      },
      "text/plain": [
       "Computing average response for pupil area:   0%|          | 0/5600 [00:00<?, ?it/s]"
      ]
     },
     "metadata": {},
     "output_type": "display_data"
    },
    {
     "data": {
      "application/vnd.jupyter.widget-view+json": {
       "model_id": "37b9d01e8f844c6baaa2bdec1c53590c",
       "version_major": 2,
       "version_minor": 0
      },
      "text/plain": [
       "Computing average response for response matrix:   0%|          | 0/5600 [00:00<?, ?it/s]"
      ]
     },
     "metadata": {},
     "output_type": "display_data"
    },
    {
     "data": {
      "application/vnd.jupyter.widget-view+json": {
       "model_id": "1560f143d6234cca9fb2f098513ee21b",
       "version_major": 2,
       "version_minor": 0
      },
      "text/plain": [
       "Computing average response for runspeed:   0%|          | 0/5600 [00:00<?, ?it/s]"
      ]
     },
     "metadata": {},
     "output_type": "display_data"
    },
    {
     "data": {
      "application/vnd.jupyter.widget-view+json": {
       "model_id": "2a1fbc821d2f4345bb2ed1d2511f34a3",
       "version_major": 2,
       "version_minor": 0
      },
      "text/plain": [
       "Computing average response for motion energy:   0%|          | 0/5600 [00:00<?, ?it/s]"
      ]
     },
     "metadata": {},
     "output_type": "display_data"
    },
    {
     "data": {
      "application/vnd.jupyter.widget-view+json": {
       "model_id": "2db462b4b5b6476bbcea4f695780700c",
       "version_major": 2,
       "version_minor": 0
      },
      "text/plain": [
       "Computing average response for pupil x position:   0%|          | 0/5600 [00:00<?, ?it/s]"
      ]
     },
     "metadata": {},
     "output_type": "display_data"
    },
    {
     "data": {
      "application/vnd.jupyter.widget-view+json": {
       "model_id": "05bd4cbfa73548f58010507cfa679947",
       "version_major": 2,
       "version_minor": 0
      },
      "text/plain": [
       "Computing average response for pupil y position:   0%|          | 0/5600 [00:00<?, ?it/s]"
      ]
     },
     "metadata": {},
     "output_type": "display_data"
    },
    {
     "data": {
      "application/vnd.jupyter.widget-view+json": {
       "model_id": "abf4e2b10dad4618922b7c3298839575",
       "version_major": 2,
       "version_minor": 0
      },
      "text/plain": [
       "Computing average response for pupil area:   0%|          | 0/5600 [00:00<?, ?it/s]"
      ]
     },
     "metadata": {},
     "output_type": "display_data"
    },
    {
     "data": {
      "application/vnd.jupyter.widget-view+json": {
       "model_id": "61ec400b6dd44b4b9587f5633d093a79",
       "version_major": 2,
       "version_minor": 0
      },
      "text/plain": [
       "Computing average response for response matrix:   0%|          | 0/5600 [00:00<?, ?it/s]"
      ]
     },
     "metadata": {},
     "output_type": "display_data"
    },
    {
     "data": {
      "application/vnd.jupyter.widget-view+json": {
       "model_id": "e3c0e904f6d24f65bacfeffc5c04d515",
       "version_major": 2,
       "version_minor": 0
      },
      "text/plain": [
       "Computing average response for runspeed:   0%|          | 0/5600 [00:00<?, ?it/s]"
      ]
     },
     "metadata": {},
     "output_type": "display_data"
    },
    {
     "data": {
      "application/vnd.jupyter.widget-view+json": {
       "model_id": "6725dda51e434b39aaa8b1dca8c060c8",
       "version_major": 2,
       "version_minor": 0
      },
      "text/plain": [
       "Computing average response for motion energy:   0%|          | 0/5600 [00:00<?, ?it/s]"
      ]
     },
     "metadata": {},
     "output_type": "display_data"
    },
    {
     "data": {
      "application/vnd.jupyter.widget-view+json": {
       "model_id": "0380b913f67744488703b1669b1e1827",
       "version_major": 2,
       "version_minor": 0
      },
      "text/plain": [
       "Computing average response for pupil x position:   0%|          | 0/5600 [00:00<?, ?it/s]"
      ]
     },
     "metadata": {},
     "output_type": "display_data"
    },
    {
     "data": {
      "application/vnd.jupyter.widget-view+json": {
       "model_id": "87328f37124e4b3ebae171a26a4f65d7",
       "version_major": 2,
       "version_minor": 0
      },
      "text/plain": [
       "Computing average response for pupil y position:   0%|          | 0/5600 [00:00<?, ?it/s]"
      ]
     },
     "metadata": {},
     "output_type": "display_data"
    },
    {
     "data": {
      "application/vnd.jupyter.widget-view+json": {
       "model_id": "b52d10953ee14cc995d63ebabe44d724",
       "version_major": 2,
       "version_minor": 0
      },
      "text/plain": [
       "Computing average response for pupil area:   0%|          | 0/5600 [00:00<?, ?it/s]"
      ]
     },
     "metadata": {},
     "output_type": "display_data"
    },
    {
     "data": {
      "application/vnd.jupyter.widget-view+json": {
       "model_id": "c2e5b071a0e8401e8a9b4be2f163dd3b",
       "version_major": 2,
       "version_minor": 0
      },
      "text/plain": [
       "Computing average response for response matrix:   0%|          | 0/5600 [00:00<?, ?it/s]"
      ]
     },
     "metadata": {},
     "output_type": "display_data"
    },
    {
     "data": {
      "application/vnd.jupyter.widget-view+json": {
       "model_id": "dac67c2089c14e9dab7207c4ed33028c",
       "version_major": 2,
       "version_minor": 0
      },
      "text/plain": [
       "Computing average response for runspeed:   0%|          | 0/5600 [00:00<?, ?it/s]"
      ]
     },
     "metadata": {},
     "output_type": "display_data"
    },
    {
     "data": {
      "application/vnd.jupyter.widget-view+json": {
       "model_id": "fd888d60e6f24e47ae4e90341fda69cb",
       "version_major": 2,
       "version_minor": 0
      },
      "text/plain": [
       "Computing average response for motion energy:   0%|          | 0/5600 [00:00<?, ?it/s]"
      ]
     },
     "metadata": {},
     "output_type": "display_data"
    },
    {
     "data": {
      "application/vnd.jupyter.widget-view+json": {
       "model_id": "77f2550ce1054db387512c4d4e3181ce",
       "version_major": 2,
       "version_minor": 0
      },
      "text/plain": [
       "Computing average response for pupil x position:   0%|          | 0/5600 [00:00<?, ?it/s]"
      ]
     },
     "metadata": {},
     "output_type": "display_data"
    },
    {
     "data": {
      "application/vnd.jupyter.widget-view+json": {
       "model_id": "c0f643859d4e4b90bb9be977e54391d5",
       "version_major": 2,
       "version_minor": 0
      },
      "text/plain": [
       "Computing average response for pupil y position:   0%|          | 0/5600 [00:00<?, ?it/s]"
      ]
     },
     "metadata": {},
     "output_type": "display_data"
    },
    {
     "data": {
      "application/vnd.jupyter.widget-view+json": {
       "model_id": "b4c372363c9b4090a3f6585765ec19f3",
       "version_major": 2,
       "version_minor": 0
      },
      "text/plain": [
       "Computing average response for pupil area:   0%|          | 0/5600 [00:00<?, ?it/s]"
      ]
     },
     "metadata": {},
     "output_type": "display_data"
    },
    {
     "data": {
      "application/vnd.jupyter.widget-view+json": {
       "model_id": "97bd0b3e5b804988bc043b9174adc8fd",
       "version_major": 2,
       "version_minor": 0
      },
      "text/plain": [
       "Computing average response for response matrix:   0%|          | 0/5600 [00:00<?, ?it/s]"
      ]
     },
     "metadata": {},
     "output_type": "display_data"
    },
    {
     "data": {
      "application/vnd.jupyter.widget-view+json": {
       "model_id": "02c580be4da24d50826c901bb807f685",
       "version_major": 2,
       "version_minor": 0
      },
      "text/plain": [
       "Computing average response for runspeed:   0%|          | 0/5600 [00:00<?, ?it/s]"
      ]
     },
     "metadata": {},
     "output_type": "display_data"
    },
    {
     "data": {
      "application/vnd.jupyter.widget-view+json": {
       "model_id": "b67c85b88b9f4b599accf1bb97fba056",
       "version_major": 2,
       "version_minor": 0
      },
      "text/plain": [
       "Computing average response for motion energy:   0%|          | 0/5600 [00:00<?, ?it/s]"
      ]
     },
     "metadata": {},
     "output_type": "display_data"
    },
    {
     "data": {
      "application/vnd.jupyter.widget-view+json": {
       "model_id": "0938d5406b384e2998e9208f68bb308c",
       "version_major": 2,
       "version_minor": 0
      },
      "text/plain": [
       "Computing average response for pupil x position:   0%|          | 0/5600 [00:00<?, ?it/s]"
      ]
     },
     "metadata": {},
     "output_type": "display_data"
    },
    {
     "data": {
      "application/vnd.jupyter.widget-view+json": {
       "model_id": "5b7a718c117c4d1abde3d26806ef942a",
       "version_major": 2,
       "version_minor": 0
      },
      "text/plain": [
       "Computing average response for pupil y position:   0%|          | 0/5600 [00:00<?, ?it/s]"
      ]
     },
     "metadata": {},
     "output_type": "display_data"
    },
    {
     "data": {
      "application/vnd.jupyter.widget-view+json": {
       "model_id": "17ab9f572b614617938fec16c91f1c7b",
       "version_major": 2,
       "version_minor": 0
      },
      "text/plain": [
       "Computing average response for pupil area:   0%|          | 0/5600 [00:00<?, ?it/s]"
      ]
     },
     "metadata": {},
     "output_type": "display_data"
    },
    {
     "data": {
      "application/vnd.jupyter.widget-view+json": {
       "model_id": "0b6ffcbdf5734978aa84cf94c3bf8596",
       "version_major": 2,
       "version_minor": 0
      },
      "text/plain": [
       "Computing average response for response matrix:   0%|          | 0/5600 [00:00<?, ?it/s]"
      ]
     },
     "metadata": {},
     "output_type": "display_data"
    },
    {
     "data": {
      "application/vnd.jupyter.widget-view+json": {
       "model_id": "b0b6083a5fd8493983187255b055417c",
       "version_major": 2,
       "version_minor": 0
      },
      "text/plain": [
       "Computing average response for runspeed:   0%|          | 0/5600 [00:00<?, ?it/s]"
      ]
     },
     "metadata": {},
     "output_type": "display_data"
    },
    {
     "data": {
      "application/vnd.jupyter.widget-view+json": {
       "model_id": "6d837d918e5f466fa9304e240eba39c4",
       "version_major": 2,
       "version_minor": 0
      },
      "text/plain": [
       "Computing average response for motion energy:   0%|          | 0/5600 [00:00<?, ?it/s]"
      ]
     },
     "metadata": {},
     "output_type": "display_data"
    },
    {
     "data": {
      "application/vnd.jupyter.widget-view+json": {
       "model_id": "3baf761d3da0498c913bc6a4406c6997",
       "version_major": 2,
       "version_minor": 0
      },
      "text/plain": [
       "Computing average response for pupil x position:   0%|          | 0/5600 [00:00<?, ?it/s]"
      ]
     },
     "metadata": {},
     "output_type": "display_data"
    },
    {
     "data": {
      "application/vnd.jupyter.widget-view+json": {
       "model_id": "eded5656cbf24059bbbbab24b5dd7a05",
       "version_major": 2,
       "version_minor": 0
      },
      "text/plain": [
       "Computing average response for pupil y position:   0%|          | 0/5600 [00:00<?, ?it/s]"
      ]
     },
     "metadata": {},
     "output_type": "display_data"
    },
    {
     "data": {
      "application/vnd.jupyter.widget-view+json": {
       "model_id": "786630092cd34b3888ca910a66f4ef2b",
       "version_major": 2,
       "version_minor": 0
      },
      "text/plain": [
       "Computing average response for pupil area:   0%|          | 0/5600 [00:00<?, ?it/s]"
      ]
     },
     "metadata": {},
     "output_type": "display_data"
    },
    {
     "name": "stderr",
     "output_type": "stream",
     "text": [
      "Computing pairwise anatomical distance for each session: 100%|██████████| 14/14 [00:01<00:00,  9.15it/s]\n",
      "Smoothed interpolation of missing RF: 100%|██████████| 14/14 [00:04<00:00,  2.98it/s]\n",
      "Setting outlier RFs to NaN: 100%|██████████| 14/14 [00:00<00:00, 889.82it/s]\n"
     ]
    }
   ],
   "source": [
    "sessions, nSessions = load_sessions(protocol='IM', session_list=session_list, data_folder = INPUT_FOLDER)\n",
    "\n",
    "for ises in range(nSessions):    # Load proper data and compute average trial responses:\n",
    "    sessions[ises].load_respmat(calciumversion='deconv', keepraw=False)\n",
    "\n",
    "sessions = compute_pairwise_anatomical_distance(sessions)\n",
    "sessions = smooth_rf(sessions,radius=75,rf_type='Fneu')\n",
    "sessions = exclude_outlier_rf(sessions) \n",
    "sessions = replace_smooth_with_Fsig(sessions) "
   ]
  },
  {
   "cell_type": "code",
   "execution_count": 7,
   "metadata": {},
   "outputs": [
    {
     "data": {
      "text/html": [
       "<div>\n",
       "<style scoped>\n",
       "    .dataframe tbody tr th:only-of-type {\n",
       "        vertical-align: middle;\n",
       "    }\n",
       "\n",
       "    .dataframe tbody tr th {\n",
       "        vertical-align: top;\n",
       "    }\n",
       "\n",
       "    .dataframe thead th {\n",
       "        text-align: right;\n",
       "    }\n",
       "</style>\n",
       "<table border=\"1\" class=\"dataframe\">\n",
       "  <thead>\n",
       "    <tr style=\"text-align: right;\">\n",
       "      <th></th>\n",
       "      <th>cell_id</th>\n",
       "      <th>neuron_idx</th>\n",
       "      <th>index</th>\n",
       "    </tr>\n",
       "  </thead>\n",
       "  <tbody>\n",
       "    <tr>\n",
       "      <th>0</th>\n",
       "      <td>LPE13959_2025_02_24_4_0009</td>\n",
       "      <td>2470</td>\n",
       "      <td>0</td>\n",
       "    </tr>\n",
       "    <tr>\n",
       "      <th>1</th>\n",
       "      <td>LPE13959_2025_02_24_1_0000</td>\n",
       "      <td>538</td>\n",
       "      <td>1</td>\n",
       "    </tr>\n",
       "    <tr>\n",
       "      <th>2</th>\n",
       "      <td>LPE13959_2025_02_24_3_0003</td>\n",
       "      <td>1835</td>\n",
       "      <td>2</td>\n",
       "    </tr>\n",
       "    <tr>\n",
       "      <th>3</th>\n",
       "      <td>LPE13959_2025_02_24_2_0005</td>\n",
       "      <td>1198</td>\n",
       "      <td>3</td>\n",
       "    </tr>\n",
       "    <tr>\n",
       "      <th>4</th>\n",
       "      <td>LPE13959_2025_02_24_1_0001</td>\n",
       "      <td>539</td>\n",
       "      <td>4</td>\n",
       "    </tr>\n",
       "    <tr>\n",
       "      <th>...</th>\n",
       "      <td>...</td>\n",
       "      <td>...</td>\n",
       "      <td>...</td>\n",
       "    </tr>\n",
       "    <tr>\n",
       "      <th>77</th>\n",
       "      <td>LPE13959_2025_02_24_7_0168</td>\n",
       "      <td>612</td>\n",
       "      <td>77</td>\n",
       "    </tr>\n",
       "    <tr>\n",
       "      <th>78</th>\n",
       "      <td>LPE13959_2025_02_24_7_0123</td>\n",
       "      <td>569</td>\n",
       "      <td>78</td>\n",
       "    </tr>\n",
       "    <tr>\n",
       "      <th>79</th>\n",
       "      <td>LPE13959_2025_02_24_7_0601</td>\n",
       "      <td>727</td>\n",
       "      <td>79</td>\n",
       "    </tr>\n",
       "    <tr>\n",
       "      <th>80</th>\n",
       "      <td>LPE13959_2025_02_24_7_0242</td>\n",
       "      <td>658</td>\n",
       "      <td>80</td>\n",
       "    </tr>\n",
       "    <tr>\n",
       "      <th>81</th>\n",
       "      <td>LPE13959_2025_02_24_7_0050</td>\n",
       "      <td>498</td>\n",
       "      <td>81</td>\n",
       "    </tr>\n",
       "  </tbody>\n",
       "</table>\n",
       "<p>157 rows × 3 columns</p>\n",
       "</div>"
      ],
      "text/plain": [
       "                       cell_id  neuron_idx  index\n",
       "0   LPE13959_2025_02_24_4_0009        2470      0\n",
       "1   LPE13959_2025_02_24_1_0000         538      1\n",
       "2   LPE13959_2025_02_24_3_0003        1835      2\n",
       "3   LPE13959_2025_02_24_2_0005        1198      3\n",
       "4   LPE13959_2025_02_24_1_0001         539      4\n",
       "..                         ...         ...    ...\n",
       "77  LPE13959_2025_02_24_7_0168         612     77\n",
       "78  LPE13959_2025_02_24_7_0123         569     78\n",
       "79  LPE13959_2025_02_24_7_0601         727     79\n",
       "80  LPE13959_2025_02_24_7_0242         658     80\n",
       "81  LPE13959_2025_02_24_7_0050         498     81\n",
       "\n",
       "[157 rows x 3 columns]"
      ]
     },
     "execution_count": 7,
     "metadata": {},
     "output_type": "execute_result"
    }
   ],
   "source": [
    "MEI_cell_ids_V1 = pd.read_csv('runs/V1_MEI_in_vivo_validation_with_grid_mean_predictor/results/cell_ids.csv')\n",
    "MEI_cell_ids_PM = pd.read_csv('runs/PM_MEI_in_vivo_validation_with_grid_mean_predictor/results/cell_ids.csv')\n",
    "\n",
    "MEI_cell_ids = pd.concat([MEI_cell_ids_V1, MEI_cell_ids_PM])\n",
    "MEI_cell_ids['index'] = MEI_cell_ids.index\n",
    "MEI_cell_ids.sort_values('cell_id').reset_index(drop=True, inplace=True)\n",
    "MEI_cell_ids"
   ]
  },
  {
   "cell_type": "code",
   "execution_count": 8,
   "metadata": {},
   "outputs": [
    {
     "data": {
      "text/plain": [
       "(1, 2)"
      ]
     },
     "execution_count": 8,
     "metadata": {},
     "output_type": "execute_result"
    }
   ],
   "source": [
    "session_reference_idx = np.argwhere(np.all(session_list == session_reference, axis=-1))[0, 0]\n",
    "session_MEI_idx = np.argwhere(np.all(session_list == MEI_validation_session, axis=-1))[0, 0]\n",
    "session_reference_idx, session_MEI_idx"
   ]
  },
  {
   "cell_type": "code",
   "execution_count": 11,
   "metadata": {},
   "outputs": [],
   "source": [
    "sess_ref = sessions[session_reference_idx]\n",
    "sess_MEI = sessions[session_MEI_idx]"
   ]
  },
  {
   "cell_type": "code",
   "execution_count": 12,
   "metadata": {},
   "outputs": [
    {
     "data": {
      "text/plain": [
       "Index(['iscell', 'iscell_prob', 'skew', 'radius', 'npix_soma', 'npix', 'xloc', 'yloc', 'redcell', 'frac_of_ROI_red', 'frac_red_in_ROI', 'chan2_prob', 'nredcells', 'plane_idx', 'roi_idx', 'plane_in_roi_idx', 'roi_name', 'depth', 'power_mw', 'labeled', 'arealabel', 'rf_az_F', 'rf_el_F', 'rf_sx_F', 'rf_sy_F', 'rf_r2_F', 'rf_az_Fneu', 'rf_el_Fneu', 'rf_sx_Fneu', 'rf_sy_Fneu', 'rf_r2_Fneu', 'meanF', 'meanF_chan2', 'noise_level', 'event_rate', 'cell_id', 'layer', 'recombinase', 'session_id', 'rf_az_Fsmooth', 'rf_el_Fsmooth', 'rf_sx_Fsmooth', 'rf_sy_Fsmooth', 'rf_r2_Fsmooth'], dtype='object')"
      ]
     },
     "execution_count": 12,
     "metadata": {},
     "output_type": "execute_result"
    }
   ],
   "source": [
    "sess_ref.celldata.columns"
   ]
  },
  {
   "cell_type": "code",
   "execution_count": 13,
   "metadata": {},
   "outputs": [
    {
     "name": "stdout",
     "output_type": "stream",
     "text": [
      "713\n"
     ]
    }
   ],
   "source": [
    "celldata_overlapping = sess_MEI.celldata[~sess_MEI.celldata['ref_cell_id'].isna()]\n",
    "sess_MEI_ids = celldata_overlapping['cell_id'].values\n",
    "sess_ref_ids = celldata_overlapping['ref_cell_id'].values\n",
    "print(len(sess_MEI_ids))"
   ]
  },
  {
   "cell_type": "code",
   "execution_count": 14,
   "metadata": {},
   "outputs": [
    {
     "data": {
      "text/html": [
       "<div>\n",
       "<style scoped>\n",
       "    .dataframe tbody tr th:only-of-type {\n",
       "        vertical-align: middle;\n",
       "    }\n",
       "\n",
       "    .dataframe tbody tr th {\n",
       "        vertical-align: top;\n",
       "    }\n",
       "\n",
       "    .dataframe thead th {\n",
       "        text-align: right;\n",
       "    }\n",
       "</style>\n",
       "<table border=\"1\" class=\"dataframe\">\n",
       "  <thead>\n",
       "    <tr style=\"text-align: right;\">\n",
       "      <th></th>\n",
       "      <th>iscell</th>\n",
       "      <th>iscell_prob</th>\n",
       "      <th>skew</th>\n",
       "      <th>radius</th>\n",
       "      <th>npix_soma</th>\n",
       "      <th>npix</th>\n",
       "      <th>xloc</th>\n",
       "      <th>...</th>\n",
       "      <th>event_rate</th>\n",
       "      <th>cell_id</th>\n",
       "      <th>ref_cell_id</th>\n",
       "      <th>layer</th>\n",
       "      <th>recombinase</th>\n",
       "      <th>session_id</th>\n",
       "      <th>index</th>\n",
       "    </tr>\n",
       "  </thead>\n",
       "  <tbody>\n",
       "    <tr>\n",
       "      <th>2</th>\n",
       "      <td>1.0</td>\n",
       "      <td>0.982721</td>\n",
       "      <td>3.808386</td>\n",
       "      <td>6.495364</td>\n",
       "      <td>128.0</td>\n",
       "      <td>258.0</td>\n",
       "      <td>379.687500</td>\n",
       "      <td>...</td>\n",
       "      <td>0.045876</td>\n",
       "      <td>LPE13959_2025_02_26_0_0002</td>\n",
       "      <td>LPE13959_2025_02_24_0_0191</td>\n",
       "      <td>L2/3</td>\n",
       "      <td>cre</td>\n",
       "      <td>LPE13959_2025_02_26</td>\n",
       "      <td>2</td>\n",
       "    </tr>\n",
       "    <tr>\n",
       "      <th>3</th>\n",
       "      <td>1.0</td>\n",
       "      <td>0.980927</td>\n",
       "      <td>7.510824</td>\n",
       "      <td>4.522302</td>\n",
       "      <td>77.0</td>\n",
       "      <td>105.0</td>\n",
       "      <td>117.187500</td>\n",
       "      <td>...</td>\n",
       "      <td>0.025178</td>\n",
       "      <td>LPE13959_2025_02_26_0_0003</td>\n",
       "      <td>LPE13959_2025_02_24_0_0013</td>\n",
       "      <td>L2/3</td>\n",
       "      <td>non</td>\n",
       "      <td>LPE13959_2025_02_26</td>\n",
       "      <td>3</td>\n",
       "    </tr>\n",
       "    <tr>\n",
       "      <th>5</th>\n",
       "      <td>1.0</td>\n",
       "      <td>0.964768</td>\n",
       "      <td>6.689018</td>\n",
       "      <td>5.174721</td>\n",
       "      <td>105.0</td>\n",
       "      <td>137.0</td>\n",
       "      <td>239.062500</td>\n",
       "      <td>...</td>\n",
       "      <td>0.032283</td>\n",
       "      <td>LPE13959_2025_02_26_0_0005</td>\n",
       "      <td>LPE13959_2025_02_24_0_0144</td>\n",
       "      <td>L2/3</td>\n",
       "      <td>non</td>\n",
       "      <td>LPE13959_2025_02_26</td>\n",
       "      <td>5</td>\n",
       "    </tr>\n",
       "    <tr>\n",
       "      <th>6</th>\n",
       "      <td>1.0</td>\n",
       "      <td>0.993477</td>\n",
       "      <td>12.783983</td>\n",
       "      <td>6.294384</td>\n",
       "      <td>115.0</td>\n",
       "      <td>143.0</td>\n",
       "      <td>154.687500</td>\n",
       "      <td>...</td>\n",
       "      <td>0.022552</td>\n",
       "      <td>LPE13959_2025_02_26_0_0006</td>\n",
       "      <td>LPE13959_2025_02_24_0_0149</td>\n",
       "      <td>L2/3</td>\n",
       "      <td>cre</td>\n",
       "      <td>LPE13959_2025_02_26</td>\n",
       "      <td>6</td>\n",
       "    </tr>\n",
       "    <tr>\n",
       "      <th>7</th>\n",
       "      <td>1.0</td>\n",
       "      <td>0.985999</td>\n",
       "      <td>9.539860</td>\n",
       "      <td>6.158380</td>\n",
       "      <td>99.0</td>\n",
       "      <td>146.0</td>\n",
       "      <td>98.437500</td>\n",
       "      <td>...</td>\n",
       "      <td>0.021934</td>\n",
       "      <td>LPE13959_2025_02_26_0_0007</td>\n",
       "      <td>LPE13959_2025_02_24_0_0146</td>\n",
       "      <td>L2/3</td>\n",
       "      <td>non</td>\n",
       "      <td>LPE13959_2025_02_26</td>\n",
       "      <td>7</td>\n",
       "    </tr>\n",
       "    <tr>\n",
       "      <th>...</th>\n",
       "      <td>...</td>\n",
       "      <td>...</td>\n",
       "      <td>...</td>\n",
       "      <td>...</td>\n",
       "      <td>...</td>\n",
       "      <td>...</td>\n",
       "      <td>...</td>\n",
       "      <td>...</td>\n",
       "      <td>...</td>\n",
       "      <td>...</td>\n",
       "      <td>...</td>\n",
       "      <td>...</td>\n",
       "      <td>...</td>\n",
       "      <td>...</td>\n",
       "      <td>...</td>\n",
       "    </tr>\n",
       "    <tr>\n",
       "      <th>4384</th>\n",
       "      <td>1.0</td>\n",
       "      <td>0.509152</td>\n",
       "      <td>0.373768</td>\n",
       "      <td>5.969197</td>\n",
       "      <td>97.0</td>\n",
       "      <td>111.0</td>\n",
       "      <td>304.687500</td>\n",
       "      <td>...</td>\n",
       "      <td>0.138096</td>\n",
       "      <td>LPE13959_2025_02_26_7_0530</td>\n",
       "      <td>LPE13959_2025_02_24_7_0062</td>\n",
       "      <td>L5</td>\n",
       "      <td>non</td>\n",
       "      <td>LPE13959_2025_02_26</td>\n",
       "      <td>4384</td>\n",
       "    </tr>\n",
       "    <tr>\n",
       "      <th>4392</th>\n",
       "      <td>1.0</td>\n",
       "      <td>0.873712</td>\n",
       "      <td>0.765635</td>\n",
       "      <td>4.753949</td>\n",
       "      <td>86.0</td>\n",
       "      <td>106.0</td>\n",
       "      <td>280.078125</td>\n",
       "      <td>...</td>\n",
       "      <td>0.104885</td>\n",
       "      <td>LPE13959_2025_02_26_7_0586</td>\n",
       "      <td>LPE13959_2025_02_24_7_0068</td>\n",
       "      <td>L5</td>\n",
       "      <td>non</td>\n",
       "      <td>LPE13959_2025_02_26</td>\n",
       "      <td>4392</td>\n",
       "    </tr>\n",
       "    <tr>\n",
       "      <th>4399</th>\n",
       "      <td>1.0</td>\n",
       "      <td>0.768936</td>\n",
       "      <td>1.487261</td>\n",
       "      <td>5.520947</td>\n",
       "      <td>67.0</td>\n",
       "      <td>134.0</td>\n",
       "      <td>329.296875</td>\n",
       "      <td>...</td>\n",
       "      <td>0.098552</td>\n",
       "      <td>LPE13959_2025_02_26_7_0630</td>\n",
       "      <td>LPE13959_2025_02_24_7_0243</td>\n",
       "      <td>L5</td>\n",
       "      <td>non</td>\n",
       "      <td>LPE13959_2025_02_26</td>\n",
       "      <td>4399</td>\n",
       "    </tr>\n",
       "    <tr>\n",
       "      <th>4403</th>\n",
       "      <td>1.0</td>\n",
       "      <td>0.804217</td>\n",
       "      <td>0.656918</td>\n",
       "      <td>5.024975</td>\n",
       "      <td>80.0</td>\n",
       "      <td>101.0</td>\n",
       "      <td>423.046875</td>\n",
       "      <td>...</td>\n",
       "      <td>0.128519</td>\n",
       "      <td>LPE13959_2025_02_26_7_0670</td>\n",
       "      <td>LPE13959_2025_02_24_7_0250</td>\n",
       "      <td>L5</td>\n",
       "      <td>non</td>\n",
       "      <td>LPE13959_2025_02_26</td>\n",
       "      <td>4403</td>\n",
       "    </tr>\n",
       "    <tr>\n",
       "      <th>4409</th>\n",
       "      <td>1.0</td>\n",
       "      <td>0.667418</td>\n",
       "      <td>0.720289</td>\n",
       "      <td>5.676999</td>\n",
       "      <td>91.0</td>\n",
       "      <td>98.0</td>\n",
       "      <td>359.765625</td>\n",
       "      <td>...</td>\n",
       "      <td>0.117706</td>\n",
       "      <td>LPE13959_2025_02_26_7_0733</td>\n",
       "      <td>LPE13959_2025_02_24_7_0233</td>\n",
       "      <td>L5</td>\n",
       "      <td>non</td>\n",
       "      <td>LPE13959_2025_02_26</td>\n",
       "      <td>4409</td>\n",
       "    </tr>\n",
       "  </tbody>\n",
       "</table>\n",
       "<p>713 rows × 31 columns</p>\n",
       "</div>"
      ],
      "text/plain": [
       "      iscell  iscell_prob       skew    radius  npix_soma   npix        xloc  ...  event_rate                     cell_id                 ref_cell_id  layer  recombinase           session_id  index\n",
       "2        1.0     0.982721   3.808386  6.495364      128.0  258.0  379.687500  ...    0.045876  LPE13959_2025_02_26_0_0002  LPE13959_2025_02_24_0_0191   L2/3          cre  LPE13959_2025_02_26      2\n",
       "3        1.0     0.980927   7.510824  4.522302       77.0  105.0  117.187500  ...    0.025178  LPE13959_2025_02_26_0_0003  LPE13959_2025_02_24_0_0013   L2/3          non  LPE13959_2025_02_26      3\n",
       "5        1.0     0.964768   6.689018  5.174721      105.0  137.0  239.062500  ...    0.032283  LPE13959_2025_02_26_0_0005  LPE13959_2025_02_24_0_0144   L2/3          non  LPE13959_2025_02_26      5\n",
       "6        1.0     0.993477  12.783983  6.294384      115.0  143.0  154.687500  ...    0.022552  LPE13959_2025_02_26_0_0006  LPE13959_2025_02_24_0_0149   L2/3          cre  LPE13959_2025_02_26      6\n",
       "7        1.0     0.985999   9.539860  6.158380       99.0  146.0   98.437500  ...    0.021934  LPE13959_2025_02_26_0_0007  LPE13959_2025_02_24_0_0146   L2/3          non  LPE13959_2025_02_26      7\n",
       "...      ...          ...        ...       ...        ...    ...         ...  ...         ...                         ...                         ...    ...          ...                  ...    ...\n",
       "4384     1.0     0.509152   0.373768  5.969197       97.0  111.0  304.687500  ...    0.138096  LPE13959_2025_02_26_7_0530  LPE13959_2025_02_24_7_0062     L5          non  LPE13959_2025_02_26   4384\n",
       "4392     1.0     0.873712   0.765635  4.753949       86.0  106.0  280.078125  ...    0.104885  LPE13959_2025_02_26_7_0586  LPE13959_2025_02_24_7_0068     L5          non  LPE13959_2025_02_26   4392\n",
       "4399     1.0     0.768936   1.487261  5.520947       67.0  134.0  329.296875  ...    0.098552  LPE13959_2025_02_26_7_0630  LPE13959_2025_02_24_7_0243     L5          non  LPE13959_2025_02_26   4399\n",
       "4403     1.0     0.804217   0.656918  5.024975       80.0  101.0  423.046875  ...    0.128519  LPE13959_2025_02_26_7_0670  LPE13959_2025_02_24_7_0250     L5          non  LPE13959_2025_02_26   4403\n",
       "4409     1.0     0.667418   0.720289  5.676999       91.0   98.0  359.765625  ...    0.117706  LPE13959_2025_02_26_7_0733  LPE13959_2025_02_24_7_0233     L5          non  LPE13959_2025_02_26   4409\n",
       "\n",
       "[713 rows x 31 columns]"
      ]
     },
     "execution_count": 14,
     "metadata": {},
     "output_type": "execute_result"
    }
   ],
   "source": [
    "celldata_overlapping['index'] = celldata_overlapping.index\n",
    "celldata_overlapping"
   ]
  },
  {
   "cell_type": "code",
   "execution_count": 15,
   "metadata": {},
   "outputs": [
    {
     "data": {
      "text/html": [
       "<div>\n",
       "<style scoped>\n",
       "    .dataframe tbody tr th:only-of-type {\n",
       "        vertical-align: middle;\n",
       "    }\n",
       "\n",
       "    .dataframe tbody tr th {\n",
       "        vertical-align: top;\n",
       "    }\n",
       "\n",
       "    .dataframe thead th {\n",
       "        text-align: right;\n",
       "    }\n",
       "</style>\n",
       "<table border=\"1\" class=\"dataframe\">\n",
       "  <thead>\n",
       "    <tr style=\"text-align: right;\">\n",
       "      <th></th>\n",
       "      <th>index</th>\n",
       "      <th>image_id</th>\n",
       "      <th>trial_ids_ref</th>\n",
       "      <th>trial_ids_MEI</th>\n",
       "    </tr>\n",
       "  </thead>\n",
       "  <tbody>\n",
       "    <tr>\n",
       "      <th>0</th>\n",
       "      <td>1</td>\n",
       "      <td>227</td>\n",
       "      <td>[1, 172, 1736, 2530, 3086, 3241, 3750, 3851, 4...</td>\n",
       "      <td>[1186, 1334, 1557, 1591, 1655, 2469, 2637, 318...</td>\n",
       "    </tr>\n",
       "    <tr>\n",
       "      <th>1</th>\n",
       "      <td>22</td>\n",
       "      <td>1232</td>\n",
       "      <td>[22, 4735]</td>\n",
       "      <td>[311, 1036, 1199, 1367, 2376, 2911, 3249, 4194...</td>\n",
       "    </tr>\n",
       "    <tr>\n",
       "      <th>2</th>\n",
       "      <td>32</td>\n",
       "      <td>1450</td>\n",
       "      <td>[32, 4819]</td>\n",
       "      <td>[390, 866, 1112, 1392, 3713, 3805, 4406, 4883,...</td>\n",
       "    </tr>\n",
       "    <tr>\n",
       "      <th>3</th>\n",
       "      <td>35</td>\n",
       "      <td>1699</td>\n",
       "      <td>[35, 3220]</td>\n",
       "      <td>[1135, 1166, 1356, 1871, 2025, 2055, 2085, 241...</td>\n",
       "    </tr>\n",
       "    <tr>\n",
       "      <th>4</th>\n",
       "      <td>42</td>\n",
       "      <td>2390</td>\n",
       "      <td>[42, 581, 945, 1455, 1569, 2860, 4111, 4138, 5...</td>\n",
       "      <td>[1231, 1468, 1853, 2667, 2673, 3284, 3346, 489...</td>\n",
       "    </tr>\n",
       "    <tr>\n",
       "      <th>...</th>\n",
       "      <td>...</td>\n",
       "      <td>...</td>\n",
       "      <td>...</td>\n",
       "      <td>...</td>\n",
       "    </tr>\n",
       "    <tr>\n",
       "      <th>255</th>\n",
       "      <td>2378</td>\n",
       "      <td>1835</td>\n",
       "      <td>[5002, 5057]</td>\n",
       "      <td>[773, 1401, 1461, 2344, 2632, 2776, 3287, 3855...</td>\n",
       "    </tr>\n",
       "    <tr>\n",
       "      <th>256</th>\n",
       "      <td>2381</td>\n",
       "      <td>1229</td>\n",
       "      <td>[5049, 5532]</td>\n",
       "      <td>[280, 716, 2173, 2768, 2771, 4666, 4795, 4991,...</td>\n",
       "    </tr>\n",
       "    <tr>\n",
       "      <th>257</th>\n",
       "      <td>2387</td>\n",
       "      <td>2115</td>\n",
       "      <td>[5132, 5276]</td>\n",
       "      <td>[146, 1527, 1894, 2224, 2286, 3019, 3533, 4242...</td>\n",
       "    </tr>\n",
       "    <tr>\n",
       "      <th>258</th>\n",
       "      <td>2392</td>\n",
       "      <td>1640</td>\n",
       "      <td>[5313, 5564]</td>\n",
       "      <td>[567, 704, 1070, 1212, 2202, 3360, 4253, 4427,...</td>\n",
       "    </tr>\n",
       "    <tr>\n",
       "      <th>259</th>\n",
       "      <td>2395</td>\n",
       "      <td>1880</td>\n",
       "      <td>[5349, 5488]</td>\n",
       "      <td>[920, 1315, 1463, 1525, 1605, 1930, 2473, 3209...</td>\n",
       "    </tr>\n",
       "  </tbody>\n",
       "</table>\n",
       "<p>260 rows × 4 columns</p>\n",
       "</div>"
      ],
      "text/plain": [
       "     index  image_id                                      trial_ids_ref                                      trial_ids_MEI\n",
       "0        1       227  [1, 172, 1736, 2530, 3086, 3241, 3750, 3851, 4...  [1186, 1334, 1557, 1591, 1655, 2469, 2637, 318...\n",
       "1       22      1232                                         [22, 4735]  [311, 1036, 1199, 1367, 2376, 2911, 3249, 4194...\n",
       "2       32      1450                                         [32, 4819]  [390, 866, 1112, 1392, 3713, 3805, 4406, 4883,...\n",
       "3       35      1699                                         [35, 3220]  [1135, 1166, 1356, 1871, 2025, 2055, 2085, 241...\n",
       "4       42      2390  [42, 581, 945, 1455, 1569, 2860, 4111, 4138, 5...  [1231, 1468, 1853, 2667, 2673, 3284, 3346, 489...\n",
       "..     ...       ...                                                ...                                                ...\n",
       "255   2378      1835                                       [5002, 5057]  [773, 1401, 1461, 2344, 2632, 2776, 3287, 3855...\n",
       "256   2381      1229                                       [5049, 5532]  [280, 716, 2173, 2768, 2771, 4666, 4795, 4991,...\n",
       "257   2387      2115                                       [5132, 5276]  [146, 1527, 1894, 2224, 2286, 3019, 3533, 4242...\n",
       "258   2392      1640                                       [5313, 5564]  [567, 704, 1070, 1212, 2202, 3360, 4253, 4427,...\n",
       "259   2395      1880                                       [5349, 5488]  [920, 1315, 1463, 1525, 1605, 1930, 2473, 3209...\n",
       "\n",
       "[260 rows x 4 columns]"
      ]
     },
     "execution_count": 15,
     "metadata": {},
     "output_type": "execute_result"
    }
   ],
   "source": [
    "presented_natural_images = pd.DataFrame(sess_ref.trialdata['ImageNumber'].unique(), columns=['image_id'])\n",
    "\n",
    "def find_image_presentation_image_nums(row, trialdata):\n",
    "    image_of_interest = row['image_id']\n",
    "    indices = trialdata.loc[trialdata['ImageNumber'] == image_of_interest].index.to_list()\n",
    "    return indices if indices else None\n",
    "\n",
    "presented_natural_images['trial_ids_ref'] = presented_natural_images.apply(lambda x: find_image_presentation_image_nums(x, sess_ref.trialdata), axis=1)\n",
    "presented_natural_images['trial_ids_MEI'] = presented_natural_images.apply(lambda x: find_image_presentation_image_nums(x, sess_MEI.trialdata), axis=1)\n",
    "presented_natural_images.dropna(subset='trial_ids_MEI', inplace=True)\n",
    "presented_natural_images.reset_index(inplace=True)\n",
    "presented_natural_images"
   ]
  },
  {
   "cell_type": "code",
   "execution_count": 16,
   "metadata": {},
   "outputs": [],
   "source": [
    "respmat_ref = sess_ref.respmat\n",
    "respmat_MEI = sess_MEI.respmat\n",
    "\n",
    "# z score normalization\n",
    "\n",
    "# respmat_ref = (respmat_ref - np.mean(respmat_ref, axis = 1, keepdims=True)) / np.std(respmat_ref, axis=1, keepdims=True)\n",
    "# respmat_MEI = (respmat_MEI - np.mean(respmat_MEI, axis = 1, keepdims=True)) / np.std(respmat_MEI, axis=1, keepdims=True)\n",
    "\n",
    "# linearly normalize each row such that the min response is at 0 and the max response is at 1\n",
    "\n",
    "respmat_ref = (respmat_ref - np.min(respmat_ref, axis = 1, keepdims=True)) / (np.max(respmat_ref, axis=1, keepdims=True) - np.min(respmat_ref, axis=1, keepdims=True))\n",
    "respmat_MEI = (respmat_MEI - np.min(respmat_MEI, axis = 1, keepdims=True)) / (np.max(respmat_MEI, axis=1, keepdims=True) - np.min(respmat_MEI, axis=1, keepdims=True))"
   ]
  },
  {
   "cell_type": "code",
   "execution_count": 17,
   "metadata": {},
   "outputs": [],
   "source": [
    "for i, row in enumerate(respmat_ref):\n",
    "    respmat_ref[i] = (row - np.mean(row, keepdims=True)) / np.std(row, keepdims=True)\n",
    "\n",
    "for i, row in enumerate(respmat_MEI):\n",
    "    respmat_MEI[i] = (row - np.mean(row, keepdims=True)) / np.std(row, keepdims=True)"
   ]
  },
  {
   "cell_type": "code",
   "execution_count": 18,
   "metadata": {},
   "outputs": [],
   "source": [
    "num_neurons_ref = len(sess_ref.celldata)\n",
    "num_neurons_MEI = len(sess_MEI.celldata)\n",
    "num_overlapping_nat_images = len(presented_natural_images)"
   ]
  },
  {
   "cell_type": "code",
   "execution_count": 19,
   "metadata": {},
   "outputs": [
    {
     "name": "stderr",
     "output_type": "stream",
     "text": [
      "100%|██████████| 260/260 [00:00<00:00, 2245.25it/s]\n"
     ]
    }
   ],
   "source": [
    "respmat_nat_images_ref = np.zeros((num_neurons_ref, num_overlapping_nat_images))  # responses of neuron n to image i\n",
    "respmat_nat_images_MEI = np.zeros((num_neurons_MEI, num_overlapping_nat_images))\n",
    "\n",
    "for i in tqdm(range(num_overlapping_nat_images)):  # images\n",
    "    # Extract the trial IDs for the current image\n",
    "    trial_ids_ref = presented_natural_images.iloc[i]['trial_ids_ref']\n",
    "    trial_ids_MEI = presented_natural_images.iloc[i]['trial_ids_MEI']\n",
    "    \n",
    "    # Compute mean responses for all neurons at once for the current image\n",
    "    respmat_nat_images_ref[:, i] = np.mean(respmat_ref[:, trial_ids_ref], axis=1)\n",
    "    respmat_nat_images_MEI[:, i] = np.mean(respmat_MEI[:, trial_ids_MEI], axis=1)"
   ]
  },
  {
   "cell_type": "code",
   "execution_count": 20,
   "metadata": {},
   "outputs": [
    {
     "data": {
      "text/plain": [
       "array([-0.04590194, -0.0731588 , -0.09322129, ..., -0.03793563,\n",
       "        0.09249645,  0.05912595])"
      ]
     },
     "execution_count": 20,
     "metadata": {},
     "output_type": "execute_result"
    }
   ],
   "source": [
    "corr_mat = np.corrcoef(respmat_nat_images_ref, respmat_nat_images_MEI)\n",
    "cross_corr = corr_mat[:num_neurons_ref, num_neurons_ref:]\n",
    "cross_corr = np.diag(cross_corr)\n",
    "cross_corr"
   ]
  },
  {
   "cell_type": "code",
   "execution_count": 21,
   "metadata": {},
   "outputs": [
    {
     "data": {
      "text/plain": [
       "(3636,)"
      ]
     },
     "execution_count": 21,
     "metadata": {},
     "output_type": "execute_result"
    }
   ],
   "source": [
    "cross_corr.shape"
   ]
  },
  {
   "cell_type": "code",
   "execution_count": 23,
   "metadata": {},
   "outputs": [
    {
     "data": {
      "text/plain": [
       "(3636, 4414)"
      ]
     },
     "execution_count": 23,
     "metadata": {},
     "output_type": "execute_result"
    }
   ],
   "source": [
    "num_neurons_ref, num_neurons_MEI"
   ]
  },
  {
   "cell_type": "markdown",
   "metadata": {},
   "source": [
    "only matched neurons lol"
   ]
  },
  {
   "cell_type": "code",
   "execution_count": 24,
   "metadata": {},
   "outputs": [
    {
     "data": {
      "image/png": "[encoded data removed]",
      "text/plain": [
       "<Figure size 640x480 with 1 Axes>"
      ]
     },
     "metadata": {},
     "output_type": "display_data"
    }
   ],
   "source": [
    "plt.hist(cross_corr.flatten(), bins = 100)\n",
    "plt.show()"
   ]
  },
  {
   "cell_type": "code",
   "execution_count": 25,
   "metadata": {},
   "outputs": [],
   "source": [
    "idx_MEIs_start = 2800 # TODO: change this to be 0-indexed on Bonsai"
   ]
  },
  {
   "cell_type": "code",
   "execution_count": 26,
   "metadata": {},
   "outputs": [
    {
     "name": "stdout",
     "output_type": "stream",
     "text": [
      "49\n"
     ]
    },
    {
     "data": {
      "text/html": [
       "<div>\n",
       "<style scoped>\n",
       "    .dataframe tbody tr th:only-of-type {\n",
       "        vertical-align: middle;\n",
       "    }\n",
       "\n",
       "    .dataframe tbody tr th {\n",
       "        vertical-align: top;\n",
       "    }\n",
       "\n",
       "    .dataframe thead th {\n",
       "        text-align: right;\n",
       "    }\n",
       "</style>\n",
       "<table border=\"1\" class=\"dataframe\">\n",
       "  <thead>\n",
       "    <tr style=\"text-align: right;\">\n",
       "      <th></th>\n",
       "      <th>cell_id_ref</th>\n",
       "      <th>neuron_idx_ref</th>\n",
       "      <th>index_MEI_order_ref</th>\n",
       "      <th>cell_id_MEI</th>\n",
       "      <th>neuron_idx_MEI</th>\n",
       "      <th>image_number_MEI</th>\n",
       "    </tr>\n",
       "  </thead>\n",
       "  <tbody>\n",
       "    <tr>\n",
       "      <th>0</th>\n",
       "      <td>LPE13959_2025_02_24_5_0012</td>\n",
       "      <td>12</td>\n",
       "      <td>0</td>\n",
       "      <td>LPE13959_2025_02_26_5_0042</td>\n",
       "      <td>3442</td>\n",
       "      <td>2800</td>\n",
       "    </tr>\n",
       "    <tr>\n",
       "      <th>1</th>\n",
       "      <td>LPE13959_2025_02_24_6_0004</td>\n",
       "      <td>191</td>\n",
       "      <td>4</td>\n",
       "      <td>LPE13959_2025_02_26_6_0014</td>\n",
       "      <td>3699</td>\n",
       "      <td>2804</td>\n",
       "    </tr>\n",
       "    <tr>\n",
       "      <th>2</th>\n",
       "      <td>LPE13959_2025_02_24_3_0001</td>\n",
       "      <td>1833</td>\n",
       "      <td>6</td>\n",
       "      <td>LPE13959_2025_02_26_3_0235</td>\n",
       "      <td>2336</td>\n",
       "      <td>2806</td>\n",
       "    </tr>\n",
       "    <tr>\n",
       "      <th>3</th>\n",
       "      <td>LPE13959_2025_02_24_0_0019</td>\n",
       "      <td>19</td>\n",
       "      <td>7</td>\n",
       "      <td>LPE13959_2025_02_26_0_0249</td>\n",
       "      <td>249</td>\n",
       "      <td>2807</td>\n",
       "    </tr>\n",
       "    <tr>\n",
       "      <th>4</th>\n",
       "      <td>LPE13959_2025_02_24_7_0020</td>\n",
       "      <td>468</td>\n",
       "      <td>8</td>\n",
       "      <td>LPE13959_2025_02_26_7_0245</td>\n",
       "      <td>4287</td>\n",
       "      <td>2808</td>\n",
       "    </tr>\n",
       "    <tr>\n",
       "      <th>5</th>\n",
       "      <td>LPE13959_2025_02_24_1_0010</td>\n",
       "      <td>548</td>\n",
       "      <td>10</td>\n",
       "      <td>LPE13959_2025_02_26_1_0116</td>\n",
       "      <td>782</td>\n",
       "      <td>2810</td>\n",
       "    </tr>\n",
       "    <tr>\n",
       "      <th>6</th>\n",
       "      <td>LPE13959_2025_02_24_4_0251</td>\n",
       "      <td>2703</td>\n",
       "      <td>14</td>\n",
       "      <td>LPE13959_2025_02_26_4_0234</td>\n",
       "      <td>3092</td>\n",
       "      <td>2814</td>\n",
       "    </tr>\n",
       "    <tr>\n",
       "      <th>7</th>\n",
       "      <td>LPE13959_2025_02_24_0_0014</td>\n",
       "      <td>14</td>\n",
       "      <td>15</td>\n",
       "      <td>LPE13959_2025_02_26_0_0166</td>\n",
       "      <td>166</td>\n",
       "      <td>2815</td>\n",
       "    </tr>\n",
       "    <tr>\n",
       "      <th>8</th>\n",
       "      <td>LPE13959_2025_02_24_6_0002</td>\n",
       "      <td>189</td>\n",
       "      <td>16</td>\n",
       "      <td>LPE13959_2025_02_26_6_0076</td>\n",
       "      <td>3759</td>\n",
       "      <td>2816</td>\n",
       "    </tr>\n",
       "    <tr>\n",
       "      <th>9</th>\n",
       "      <td>LPE13959_2025_02_24_1_0007</td>\n",
       "      <td>545</td>\n",
       "      <td>17</td>\n",
       "      <td>LPE13959_2025_02_26_1_0084</td>\n",
       "      <td>750</td>\n",
       "      <td>2817</td>\n",
       "    </tr>\n",
       "    <tr>\n",
       "      <th>10</th>\n",
       "      <td>LPE13959_2025_02_24_1_0003</td>\n",
       "      <td>541</td>\n",
       "      <td>18</td>\n",
       "      <td>LPE13959_2025_02_26_1_0281</td>\n",
       "      <td>947</td>\n",
       "      <td>2818</td>\n",
       "    </tr>\n",
       "    <tr>\n",
       "      <th>11</th>\n",
       "      <td>LPE13959_2025_02_24_6_0003</td>\n",
       "      <td>190</td>\n",
       "      <td>18</td>\n",
       "      <td>LPE13959_2025_02_26_6_0148</td>\n",
       "      <td>3829</td>\n",
       "      <td>2818</td>\n",
       "    </tr>\n",
       "    <tr>\n",
       "      <th>12</th>\n",
       "      <td>LPE13959_2025_02_24_2_0036</td>\n",
       "      <td>1229</td>\n",
       "      <td>21</td>\n",
       "      <td>LPE13959_2025_02_26_2_0253</td>\n",
       "      <td>1663</td>\n",
       "      <td>2821</td>\n",
       "    </tr>\n",
       "    <tr>\n",
       "      <th>13</th>\n",
       "      <td>LPE13959_2025_02_24_6_0016</td>\n",
       "      <td>203</td>\n",
       "      <td>22</td>\n",
       "      <td>LPE13959_2025_02_26_6_0006</td>\n",
       "      <td>3691</td>\n",
       "      <td>2822</td>\n",
       "    </tr>\n",
       "    <tr>\n",
       "      <th>14</th>\n",
       "      <td>LPE13959_2025_02_24_2_0103</td>\n",
       "      <td>1296</td>\n",
       "      <td>23</td>\n",
       "      <td>LPE13959_2025_02_26_2_0132</td>\n",
       "      <td>1542</td>\n",
       "      <td>2823</td>\n",
       "    </tr>\n",
       "    <tr>\n",
       "      <th>15</th>\n",
       "      <td>LPE13959_2025_02_24_6_0006</td>\n",
       "      <td>193</td>\n",
       "      <td>23</td>\n",
       "      <td>LPE13959_2025_02_26_6_0015</td>\n",
       "      <td>3700</td>\n",
       "      <td>2823</td>\n",
       "    </tr>\n",
       "    <tr>\n",
       "      <th>16</th>\n",
       "      <td>LPE13959_2025_02_24_4_0004</td>\n",
       "      <td>2465</td>\n",
       "      <td>25</td>\n",
       "      <td>LPE13959_2025_02_26_4_0035</td>\n",
       "      <td>2895</td>\n",
       "      <td>2825</td>\n",
       "    </tr>\n",
       "    <tr>\n",
       "      <th>17</th>\n",
       "      <td>LPE13959_2025_02_24_7_0012</td>\n",
       "      <td>460</td>\n",
       "      <td>26</td>\n",
       "      <td>LPE13959_2025_02_26_7_0018</td>\n",
       "      <td>4080</td>\n",
       "      <td>2826</td>\n",
       "    </tr>\n",
       "    <tr>\n",
       "      <th>18</th>\n",
       "      <td>LPE13959_2025_02_24_7_0029</td>\n",
       "      <td>477</td>\n",
       "      <td>27</td>\n",
       "      <td>LPE13959_2025_02_26_7_0134</td>\n",
       "      <td>4193</td>\n",
       "      <td>2827</td>\n",
       "    </tr>\n",
       "    <tr>\n",
       "      <th>19</th>\n",
       "      <td>LPE13959_2025_02_24_7_0162</td>\n",
       "      <td>606</td>\n",
       "      <td>30</td>\n",
       "      <td>LPE13959_2025_02_26_7_0158</td>\n",
       "      <td>4214</td>\n",
       "      <td>2830</td>\n",
       "    </tr>\n",
       "    <tr>\n",
       "      <th>20</th>\n",
       "      <td>LPE13959_2025_02_24_1_0014</td>\n",
       "      <td>552</td>\n",
       "      <td>30</td>\n",
       "      <td>LPE13959_2025_02_26_1_0029</td>\n",
       "      <td>695</td>\n",
       "      <td>2830</td>\n",
       "    </tr>\n",
       "    <tr>\n",
       "      <th>21</th>\n",
       "      <td>LPE13959_2025_02_24_4_0252</td>\n",
       "      <td>2704</td>\n",
       "      <td>31</td>\n",
       "      <td>LPE13959_2025_02_26_4_0598</td>\n",
       "      <td>3339</td>\n",
       "      <td>2831</td>\n",
       "    </tr>\n",
       "    <tr>\n",
       "      <th>22</th>\n",
       "      <td>LPE13959_2025_02_24_0_0521</td>\n",
       "      <td>421</td>\n",
       "      <td>34</td>\n",
       "      <td>LPE13959_2025_02_26_0_0369</td>\n",
       "      <td>364</td>\n",
       "      <td>2834</td>\n",
       "    </tr>\n",
       "    <tr>\n",
       "      <th>23</th>\n",
       "      <td>LPE13959_2025_02_24_0_0027</td>\n",
       "      <td>27</td>\n",
       "      <td>35</td>\n",
       "      <td>LPE13959_2025_02_26_0_0049</td>\n",
       "      <td>49</td>\n",
       "      <td>2835</td>\n",
       "    </tr>\n",
       "    <tr>\n",
       "      <th>24</th>\n",
       "      <td>LPE13959_2025_02_24_6_0036</td>\n",
       "      <td>223</td>\n",
       "      <td>36</td>\n",
       "      <td>LPE13959_2025_02_26_6_0064</td>\n",
       "      <td>3747</td>\n",
       "      <td>2836</td>\n",
       "    </tr>\n",
       "    <tr>\n",
       "      <th>25</th>\n",
       "      <td>LPE13959_2025_02_24_6_0019</td>\n",
       "      <td>206</td>\n",
       "      <td>37</td>\n",
       "      <td>LPE13959_2025_02_26_6_0100</td>\n",
       "      <td>3783</td>\n",
       "      <td>2837</td>\n",
       "    </tr>\n",
       "    <tr>\n",
       "      <th>26</th>\n",
       "      <td>LPE13959_2025_02_24_1_0045</td>\n",
       "      <td>582</td>\n",
       "      <td>37</td>\n",
       "      <td>LPE13959_2025_02_26_1_0160</td>\n",
       "      <td>826</td>\n",
       "      <td>2837</td>\n",
       "    </tr>\n",
       "    <tr>\n",
       "      <th>27</th>\n",
       "      <td>LPE13959_2025_02_24_6_0025</td>\n",
       "      <td>212</td>\n",
       "      <td>40</td>\n",
       "      <td>LPE13959_2025_02_26_6_0197</td>\n",
       "      <td>3872</td>\n",
       "      <td>2840</td>\n",
       "    </tr>\n",
       "    <tr>\n",
       "      <th>28</th>\n",
       "      <td>LPE13959_2025_02_24_0_0006</td>\n",
       "      <td>6</td>\n",
       "      <td>40</td>\n",
       "      <td>LPE13959_2025_02_26_0_0029</td>\n",
       "      <td>29</td>\n",
       "      <td>2840</td>\n",
       "    </tr>\n",
       "    <tr>\n",
       "      <th>29</th>\n",
       "      <td>LPE13959_2025_02_24_7_0045</td>\n",
       "      <td>493</td>\n",
       "      <td>41</td>\n",
       "      <td>LPE13959_2025_02_26_7_0036</td>\n",
       "      <td>4097</td>\n",
       "      <td>2841</td>\n",
       "    </tr>\n",
       "    <tr>\n",
       "      <th>30</th>\n",
       "      <td>LPE13959_2025_02_24_1_0134</td>\n",
       "      <td>671</td>\n",
       "      <td>42</td>\n",
       "      <td>LPE13959_2025_02_26_1_0131</td>\n",
       "      <td>797</td>\n",
       "      <td>2842</td>\n",
       "    </tr>\n",
       "    <tr>\n",
       "      <th>31</th>\n",
       "      <td>LPE13959_2025_02_24_7_0110</td>\n",
       "      <td>556</td>\n",
       "      <td>43</td>\n",
       "      <td>LPE13959_2025_02_26_7_0210</td>\n",
       "      <td>4257</td>\n",
       "      <td>2843</td>\n",
       "    </tr>\n",
       "    <tr>\n",
       "      <th>32</th>\n",
       "      <td>LPE13959_2025_02_24_1_0035</td>\n",
       "      <td>572</td>\n",
       "      <td>45</td>\n",
       "      <td>LPE13959_2025_02_26_1_0017</td>\n",
       "      <td>683</td>\n",
       "      <td>2845</td>\n",
       "    </tr>\n",
       "    <tr>\n",
       "      <th>33</th>\n",
       "      <td>LPE13959_2025_02_24_6_0022</td>\n",
       "      <td>209</td>\n",
       "      <td>48</td>\n",
       "      <td>LPE13959_2025_02_26_6_0368</td>\n",
       "      <td>3973</td>\n",
       "      <td>2848</td>\n",
       "    </tr>\n",
       "    <tr>\n",
       "      <th>34</th>\n",
       "      <td>LPE13959_2025_02_24_6_0010</td>\n",
       "      <td>197</td>\n",
       "      <td>53</td>\n",
       "      <td>LPE13959_2025_02_26_6_0007</td>\n",
       "      <td>3692</td>\n",
       "      <td>2853</td>\n",
       "    </tr>\n",
       "    <tr>\n",
       "      <th>35</th>\n",
       "      <td>LPE13959_2025_02_24_0_0096</td>\n",
       "      <td>96</td>\n",
       "      <td>54</td>\n",
       "      <td>LPE13959_2025_02_26_0_0053</td>\n",
       "      <td>53</td>\n",
       "      <td>2854</td>\n",
       "    </tr>\n",
       "    <tr>\n",
       "      <th>36</th>\n",
       "      <td>LPE13959_2025_02_24_6_0015</td>\n",
       "      <td>202</td>\n",
       "      <td>56</td>\n",
       "      <td>LPE13959_2025_02_26_6_0057</td>\n",
       "      <td>3740</td>\n",
       "      <td>2856</td>\n",
       "    </tr>\n",
       "    <tr>\n",
       "      <th>37</th>\n",
       "      <td>LPE13959_2025_02_24_1_0200</td>\n",
       "      <td>737</td>\n",
       "      <td>56</td>\n",
       "      <td>LPE13959_2025_02_26_1_0016</td>\n",
       "      <td>682</td>\n",
       "      <td>2856</td>\n",
       "    </tr>\n",
       "    <tr>\n",
       "      <th>38</th>\n",
       "      <td>LPE13959_2025_02_24_0_0049</td>\n",
       "      <td>49</td>\n",
       "      <td>58</td>\n",
       "      <td>LPE13959_2025_02_26_0_0031</td>\n",
       "      <td>31</td>\n",
       "      <td>2858</td>\n",
       "    </tr>\n",
       "    <tr>\n",
       "      <th>39</th>\n",
       "      <td>LPE13959_2025_02_24_7_0008</td>\n",
       "      <td>456</td>\n",
       "      <td>60</td>\n",
       "      <td>LPE13959_2025_02_26_7_0024</td>\n",
       "      <td>4086</td>\n",
       "      <td>2860</td>\n",
       "    </tr>\n",
       "    <tr>\n",
       "      <th>40</th>\n",
       "      <td>LPE13959_2025_02_24_6_0138</td>\n",
       "      <td>321</td>\n",
       "      <td>65</td>\n",
       "      <td>LPE13959_2025_02_26_6_0161</td>\n",
       "      <td>3842</td>\n",
       "      <td>2865</td>\n",
       "    </tr>\n",
       "    <tr>\n",
       "      <th>41</th>\n",
       "      <td>LPE13959_2025_02_24_7_0087</td>\n",
       "      <td>534</td>\n",
       "      <td>66</td>\n",
       "      <td>LPE13959_2025_02_26_7_0304</td>\n",
       "      <td>4327</td>\n",
       "      <td>2866</td>\n",
       "    </tr>\n",
       "    <tr>\n",
       "      <th>42</th>\n",
       "      <td>LPE13959_2025_02_24_2_0025</td>\n",
       "      <td>1218</td>\n",
       "      <td>67</td>\n",
       "      <td>LPE13959_2025_02_26_2_0123</td>\n",
       "      <td>1533</td>\n",
       "      <td>2867</td>\n",
       "    </tr>\n",
       "    <tr>\n",
       "      <th>43</th>\n",
       "      <td>LPE13959_2025_02_24_6_0055</td>\n",
       "      <td>242</td>\n",
       "      <td>68</td>\n",
       "      <td>LPE13959_2025_02_26_6_0117</td>\n",
       "      <td>3799</td>\n",
       "      <td>2868</td>\n",
       "    </tr>\n",
       "    <tr>\n",
       "      <th>44</th>\n",
       "      <td>LPE13959_2025_02_24_0_0044</td>\n",
       "      <td>44</td>\n",
       "      <td>69</td>\n",
       "      <td>LPE13959_2025_02_26_0_0298</td>\n",
       "      <td>296</td>\n",
       "      <td>2869</td>\n",
       "    </tr>\n",
       "    <tr>\n",
       "      <th>45</th>\n",
       "      <td>LPE13959_2025_02_24_2_0455</td>\n",
       "      <td>1611</td>\n",
       "      <td>72</td>\n",
       "      <td>LPE13959_2025_02_26_2_0320</td>\n",
       "      <td>1728</td>\n",
       "      <td>2872</td>\n",
       "    </tr>\n",
       "    <tr>\n",
       "      <th>46</th>\n",
       "      <td>LPE13959_2025_02_24_0_0001</td>\n",
       "      <td>1</td>\n",
       "      <td>74</td>\n",
       "      <td>LPE13959_2025_02_26_0_0086</td>\n",
       "      <td>86</td>\n",
       "      <td>2874</td>\n",
       "    </tr>\n",
       "    <tr>\n",
       "      <th>47</th>\n",
       "      <td>LPE13959_2025_02_24_5_0006</td>\n",
       "      <td>6</td>\n",
       "      <td>74</td>\n",
       "      <td>LPE13959_2025_02_26_5_0087</td>\n",
       "      <td>3486</td>\n",
       "      <td>2874</td>\n",
       "    </tr>\n",
       "    <tr>\n",
       "      <th>48</th>\n",
       "      <td>LPE13959_2025_02_24_6_0018</td>\n",
       "      <td>205</td>\n",
       "      <td>75</td>\n",
       "      <td>LPE13959_2025_02_26_6_0027</td>\n",
       "      <td>3711</td>\n",
       "      <td>2875</td>\n",
       "    </tr>\n",
       "  </tbody>\n",
       "</table>\n",
       "</div>"
      ],
      "text/plain": [
       "                   cell_id_ref  neuron_idx_ref  index_MEI_order_ref                 cell_id_MEI  neuron_idx_MEI  image_number_MEI\n",
       "0   LPE13959_2025_02_24_5_0012              12                    0  LPE13959_2025_02_26_5_0042            3442              2800\n",
       "1   LPE13959_2025_02_24_6_0004             191                    4  LPE13959_2025_02_26_6_0014            3699              2804\n",
       "2   LPE13959_2025_02_24_3_0001            1833                    6  LPE13959_2025_02_26_3_0235            2336              2806\n",
       "3   LPE13959_2025_02_24_0_0019              19                    7  LPE13959_2025_02_26_0_0249             249              2807\n",
       "4   LPE13959_2025_02_24_7_0020             468                    8  LPE13959_2025_02_26_7_0245            4287              2808\n",
       "5   LPE13959_2025_02_24_1_0010             548                   10  LPE13959_2025_02_26_1_0116             782              2810\n",
       "6   LPE13959_2025_02_24_4_0251            2703                   14  LPE13959_2025_02_26_4_0234            3092              2814\n",
       "7   LPE13959_2025_02_24_0_0014              14                   15  LPE13959_2025_02_26_0_0166             166              2815\n",
       "8   LPE13959_2025_02_24_6_0002             189                   16  LPE13959_2025_02_26_6_0076            3759              2816\n",
       "9   LPE13959_2025_02_24_1_0007             545                   17  LPE13959_2025_02_26_1_0084             750              2817\n",
       "10  LPE13959_2025_02_24_1_0003             541                   18  LPE13959_2025_02_26_1_0281             947              2818\n",
       "11  LPE13959_2025_02_24_6_0003             190                   18  LPE13959_2025_02_26_6_0148            3829              2818\n",
       "12  LPE13959_2025_02_24_2_0036            1229                   21  LPE13959_2025_02_26_2_0253            1663              2821\n",
       "13  LPE13959_2025_02_24_6_0016             203                   22  LPE13959_2025_02_26_6_0006            3691              2822\n",
       "14  LPE13959_2025_02_24_2_0103            1296                   23  LPE13959_2025_02_26_2_0132            1542              2823\n",
       "15  LPE13959_2025_02_24_6_0006             193                   23  LPE13959_2025_02_26_6_0015            3700              2823\n",
       "16  LPE13959_2025_02_24_4_0004            2465                   25  LPE13959_2025_02_26_4_0035            2895              2825\n",
       "17  LPE13959_2025_02_24_7_0012             460                   26  LPE13959_2025_02_26_7_0018            4080              2826\n",
       "18  LPE13959_2025_02_24_7_0029             477                   27  LPE13959_2025_02_26_7_0134            4193              2827\n",
       "19  LPE13959_2025_02_24_7_0162             606                   30  LPE13959_2025_02_26_7_0158            4214              2830\n",
       "20  LPE13959_2025_02_24_1_0014             552                   30  LPE13959_2025_02_26_1_0029             695              2830\n",
       "21  LPE13959_2025_02_24_4_0252            2704                   31  LPE13959_2025_02_26_4_0598            3339              2831\n",
       "22  LPE13959_2025_02_24_0_0521             421                   34  LPE13959_2025_02_26_0_0369             364              2834\n",
       "23  LPE13959_2025_02_24_0_0027              27                   35  LPE13959_2025_02_26_0_0049              49              2835\n",
       "24  LPE13959_2025_02_24_6_0036             223                   36  LPE13959_2025_02_26_6_0064            3747              2836\n",
       "25  LPE13959_2025_02_24_6_0019             206                   37  LPE13959_2025_02_26_6_0100            3783              2837\n",
       "26  LPE13959_2025_02_24_1_0045             582                   37  LPE13959_2025_02_26_1_0160             826              2837\n",
       "27  LPE13959_2025_02_24_6_0025             212                   40  LPE13959_2025_02_26_6_0197            3872              2840\n",
       "28  LPE13959_2025_02_24_0_0006               6                   40  LPE13959_2025_02_26_0_0029              29              2840\n",
       "29  LPE13959_2025_02_24_7_0045             493                   41  LPE13959_2025_02_26_7_0036            4097              2841\n",
       "30  LPE13959_2025_02_24_1_0134             671                   42  LPE13959_2025_02_26_1_0131             797              2842\n",
       "31  LPE13959_2025_02_24_7_0110             556                   43  LPE13959_2025_02_26_7_0210            4257              2843\n",
       "32  LPE13959_2025_02_24_1_0035             572                   45  LPE13959_2025_02_26_1_0017             683              2845\n",
       "33  LPE13959_2025_02_24_6_0022             209                   48  LPE13959_2025_02_26_6_0368            3973              2848\n",
       "34  LPE13959_2025_02_24_6_0010             197                   53  LPE13959_2025_02_26_6_0007            3692              2853\n",
       "35  LPE13959_2025_02_24_0_0096              96                   54  LPE13959_2025_02_26_0_0053              53              2854\n",
       "36  LPE13959_2025_02_24_6_0015             202                   56  LPE13959_2025_02_26_6_0057            3740              2856\n",
       "37  LPE13959_2025_02_24_1_0200             737                   56  LPE13959_2025_02_26_1_0016             682              2856\n",
       "38  LPE13959_2025_02_24_0_0049              49                   58  LPE13959_2025_02_26_0_0031              31              2858\n",
       "39  LPE13959_2025_02_24_7_0008             456                   60  LPE13959_2025_02_26_7_0024            4086              2860\n",
       "40  LPE13959_2025_02_24_6_0138             321                   65  LPE13959_2025_02_26_6_0161            3842              2865\n",
       "41  LPE13959_2025_02_24_7_0087             534                   66  LPE13959_2025_02_26_7_0304            4327              2866\n",
       "42  LPE13959_2025_02_24_2_0025            1218                   67  LPE13959_2025_02_26_2_0123            1533              2867\n",
       "43  LPE13959_2025_02_24_6_0055             242                   68  LPE13959_2025_02_26_6_0117            3799              2868\n",
       "44  LPE13959_2025_02_24_0_0044              44                   69  LPE13959_2025_02_26_0_0298             296              2869\n",
       "45  LPE13959_2025_02_24_2_0455            1611                   72  LPE13959_2025_02_26_2_0320            1728              2872\n",
       "46  LPE13959_2025_02_24_0_0001               1                   74  LPE13959_2025_02_26_0_0086              86              2874\n",
       "47  LPE13959_2025_02_24_5_0006               6                   74  LPE13959_2025_02_26_5_0087            3486              2874\n",
       "48  LPE13959_2025_02_24_6_0018             205                   75  LPE13959_2025_02_26_6_0027            3711              2875"
      ]
     },
     "execution_count": 26,
     "metadata": {},
     "output_type": "execute_result"
    }
   ],
   "source": [
    "validatable_MEIs = MEI_cell_ids.loc[MEI_cell_ids['cell_id'].isin(sess_ref_ids)]\n",
    "validatable_MEIs.rename({\"cell_id\": \"cell_id_ref\", \"neuron_idx\": \"neuron_idx_ref\", \"index\": \"index_MEI_order_ref\"}, axis=1, inplace=True)\n",
    "validatable_MEIs = validatable_MEIs.merge(celldata_overlapping[['cell_id', 'ref_cell_id', 'index']], how='left', left_on='cell_id_ref', right_on='ref_cell_id')\n",
    "validatable_MEIs.rename({\"cell_id\": \"cell_id_MEI\", \"index\": \"neuron_idx_MEI\"}, axis=1, inplace=True)\n",
    "validatable_MEIs.drop('ref_cell_id', axis=1, inplace=True)\n",
    "validatable_MEIs.sort_values('index_MEI_order_ref', inplace=True)\n",
    "validatable_MEIs['image_number_MEI'] = validatable_MEIs['index_MEI_order_ref'] + idx_MEIs_start\n",
    "validatable_MEIs.reset_index(inplace=True, drop=True)\n",
    "\n",
    "num_validatable_MEIs = len(validatable_MEIs)\n",
    "print(num_validatable_MEIs)\n",
    "validatable_MEIs"
   ]
  },
  {
   "cell_type": "code",
   "execution_count": 27,
   "metadata": {},
   "outputs": [
    {
     "data": {
      "text/plain": [
       "((4414, 5740), (49, 5740))"
      ]
     },
     "execution_count": 27,
     "metadata": {},
     "output_type": "execute_result"
    }
   ],
   "source": [
    "respmat_MEI_trunc = respmat_MEI[validatable_MEIs['neuron_idx_MEI'].values] \n",
    "\n",
    "respmat_MEI.shape, respmat_MEI_trunc.shape"
   ]
  },
  {
   "cell_type": "code",
   "execution_count": 28,
   "metadata": {},
   "outputs": [
    {
     "data": {
      "text/html": [
       "<div>\n",
       "<style scoped>\n",
       "    .dataframe tbody tr th:only-of-type {\n",
       "        vertical-align: middle;\n",
       "    }\n",
       "\n",
       "    .dataframe tbody tr th {\n",
       "        vertical-align: top;\n",
       "    }\n",
       "\n",
       "    .dataframe thead th {\n",
       "        text-align: right;\n",
       "    }\n",
       "</style>\n",
       "<table border=\"1\" class=\"dataframe\">\n",
       "  <thead>\n",
       "    <tr style=\"text-align: right;\">\n",
       "      <th></th>\n",
       "      <th>cell_id_ref</th>\n",
       "      <th>neuron_idx_ref</th>\n",
       "      <th>index_MEI_order_ref</th>\n",
       "      <th>cell_id_MEI</th>\n",
       "      <th>neuron_idx_MEI</th>\n",
       "      <th>image_number_MEI</th>\n",
       "      <th>trial_numbers_MEI</th>\n",
       "    </tr>\n",
       "  </thead>\n",
       "  <tbody>\n",
       "    <tr>\n",
       "      <th>0</th>\n",
       "      <td>LPE13959_2025_02_24_5_0012</td>\n",
       "      <td>12</td>\n",
       "      <td>0</td>\n",
       "      <td>LPE13959_2025_02_26_5_0042</td>\n",
       "      <td>3442</td>\n",
       "      <td>2800</td>\n",
       "      <td>[155, 179, 326, 400, 545, 949, 1868, 1992, 229...</td>\n",
       "    </tr>\n",
       "    <tr>\n",
       "      <th>1</th>\n",
       "      <td>LPE13959_2025_02_24_6_0004</td>\n",
       "      <td>191</td>\n",
       "      <td>4</td>\n",
       "      <td>LPE13959_2025_02_26_6_0014</td>\n",
       "      <td>3699</td>\n",
       "      <td>2804</td>\n",
       "      <td>[198, 670, 709, 913, 1045, 1434, 1718, 1869, 1...</td>\n",
       "    </tr>\n",
       "    <tr>\n",
       "      <th>2</th>\n",
       "      <td>LPE13959_2025_02_24_3_0001</td>\n",
       "      <td>1833</td>\n",
       "      <td>6</td>\n",
       "      <td>LPE13959_2025_02_26_3_0235</td>\n",
       "      <td>2336</td>\n",
       "      <td>2806</td>\n",
       "      <td>[107, 363, 443, 706, 1118, 1331, 1360, 1579, 1...</td>\n",
       "    </tr>\n",
       "    <tr>\n",
       "      <th>3</th>\n",
       "      <td>LPE13959_2025_02_24_0_0019</td>\n",
       "      <td>19</td>\n",
       "      <td>7</td>\n",
       "      <td>LPE13959_2025_02_26_0_0249</td>\n",
       "      <td>249</td>\n",
       "      <td>2807</td>\n",
       "      <td>[141, 177, 196, 438, 855, 1059, 1449, 1462, 15...</td>\n",
       "    </tr>\n",
       "    <tr>\n",
       "      <th>4</th>\n",
       "      <td>LPE13959_2025_02_24_7_0020</td>\n",
       "      <td>468</td>\n",
       "      <td>8</td>\n",
       "      <td>LPE13959_2025_02_26_7_0245</td>\n",
       "      <td>4287</td>\n",
       "      <td>2808</td>\n",
       "      <td>[1228, 1599, 1748, 1891, 2073, 2331, 2467, 252...</td>\n",
       "    </tr>\n",
       "    <tr>\n",
       "      <th>5</th>\n",
       "      <td>LPE13959_2025_02_24_1_0010</td>\n",
       "      <td>548</td>\n",
       "      <td>10</td>\n",
       "      <td>LPE13959_2025_02_26_1_0116</td>\n",
       "      <td>782</td>\n",
       "      <td>2810</td>\n",
       "      <td>[250, 644, 786, 965, 1035, 1745, 1890, 2138, 2...</td>\n",
       "    </tr>\n",
       "    <tr>\n",
       "      <th>6</th>\n",
       "      <td>LPE13959_2025_02_24_4_0251</td>\n",
       "      <td>2703</td>\n",
       "      <td>14</td>\n",
       "      <td>LPE13959_2025_02_26_4_0234</td>\n",
       "      <td>3092</td>\n",
       "      <td>2814</td>\n",
       "      <td>[531, 1049, 1221, 1721, 2365, 2395, 3272, 3384...</td>\n",
       "    </tr>\n",
       "    <tr>\n",
       "      <th>7</th>\n",
       "      <td>LPE13959_2025_02_24_0_0014</td>\n",
       "      <td>14</td>\n",
       "      <td>15</td>\n",
       "      <td>LPE13959_2025_02_26_0_0166</td>\n",
       "      <td>166</td>\n",
       "      <td>2815</td>\n",
       "      <td>[55, 312, 836, 1408, 1443, 1548, 1651, 2188, 2...</td>\n",
       "    </tr>\n",
       "    <tr>\n",
       "      <th>8</th>\n",
       "      <td>LPE13959_2025_02_24_6_0002</td>\n",
       "      <td>189</td>\n",
       "      <td>16</td>\n",
       "      <td>LPE13959_2025_02_26_6_0076</td>\n",
       "      <td>3759</td>\n",
       "      <td>2816</td>\n",
       "      <td>[87, 559, 561, 907, 1479, 2358, 2615, 2618, 29...</td>\n",
       "    </tr>\n",
       "    <tr>\n",
       "      <th>9</th>\n",
       "      <td>LPE13959_2025_02_24_1_0007</td>\n",
       "      <td>545</td>\n",
       "      <td>17</td>\n",
       "      <td>LPE13959_2025_02_26_1_0084</td>\n",
       "      <td>750</td>\n",
       "      <td>2817</td>\n",
       "      <td>[327, 1126, 1776, 1962, 1983, 2042, 2794, 3062...</td>\n",
       "    </tr>\n",
       "    <tr>\n",
       "      <th>10</th>\n",
       "      <td>LPE13959_2025_02_24_1_0003</td>\n",
       "      <td>541</td>\n",
       "      <td>18</td>\n",
       "      <td>LPE13959_2025_02_26_1_0281</td>\n",
       "      <td>947</td>\n",
       "      <td>2818</td>\n",
       "      <td>[341, 458, 649, 850, 1489, 1806, 1918, 2748, 2...</td>\n",
       "    </tr>\n",
       "    <tr>\n",
       "      <th>11</th>\n",
       "      <td>LPE13959_2025_02_24_6_0003</td>\n",
       "      <td>190</td>\n",
       "      <td>18</td>\n",
       "      <td>LPE13959_2025_02_26_6_0148</td>\n",
       "      <td>3829</td>\n",
       "      <td>2818</td>\n",
       "      <td>[341, 458, 649, 850, 1489, 1806, 1918, 2748, 2...</td>\n",
       "    </tr>\n",
       "    <tr>\n",
       "      <th>12</th>\n",
       "      <td>LPE13959_2025_02_24_2_0036</td>\n",
       "      <td>1229</td>\n",
       "      <td>21</td>\n",
       "      <td>LPE13959_2025_02_26_2_0253</td>\n",
       "      <td>1663</td>\n",
       "      <td>2821</td>\n",
       "      <td>[57, 133, 159, 445, 618, 887, 1285, 1695, 1768...</td>\n",
       "    </tr>\n",
       "    <tr>\n",
       "      <th>13</th>\n",
       "      <td>LPE13959_2025_02_24_6_0016</td>\n",
       "      <td>203</td>\n",
       "      <td>22</td>\n",
       "      <td>LPE13959_2025_02_26_6_0006</td>\n",
       "      <td>3691</td>\n",
       "      <td>2822</td>\n",
       "      <td>[26, 46, 134, 242, 752, 911, 999, 1370, 1817, ...</td>\n",
       "    </tr>\n",
       "    <tr>\n",
       "      <th>14</th>\n",
       "      <td>LPE13959_2025_02_24_2_0103</td>\n",
       "      <td>1296</td>\n",
       "      <td>23</td>\n",
       "      <td>LPE13959_2025_02_26_2_0132</td>\n",
       "      <td>1542</td>\n",
       "      <td>2823</td>\n",
       "      <td>[590, 724, 840, 897, 1310, 1595, 1673, 1678, 1...</td>\n",
       "    </tr>\n",
       "    <tr>\n",
       "      <th>15</th>\n",
       "      <td>LPE13959_2025_02_24_6_0006</td>\n",
       "      <td>193</td>\n",
       "      <td>23</td>\n",
       "      <td>LPE13959_2025_02_26_6_0015</td>\n",
       "      <td>3700</td>\n",
       "      <td>2823</td>\n",
       "      <td>[590, 724, 840, 897, 1310, 1595, 1673, 1678, 1...</td>\n",
       "    </tr>\n",
       "    <tr>\n",
       "      <th>16</th>\n",
       "      <td>LPE13959_2025_02_24_4_0004</td>\n",
       "      <td>2465</td>\n",
       "      <td>25</td>\n",
       "      <td>LPE13959_2025_02_26_4_0035</td>\n",
       "      <td>2895</td>\n",
       "      <td>2825</td>\n",
       "      <td>[343, 579, 1063, 1330, 1560, 1804, 1996, 2236,...</td>\n",
       "    </tr>\n",
       "    <tr>\n",
       "      <th>17</th>\n",
       "      <td>LPE13959_2025_02_24_7_0012</td>\n",
       "      <td>460</td>\n",
       "      <td>26</td>\n",
       "      <td>LPE13959_2025_02_26_7_0018</td>\n",
       "      <td>4080</td>\n",
       "      <td>2826</td>\n",
       "      <td>[582, 624, 798, 1428, 1505, 1533, 1556, 1848, ...</td>\n",
       "    </tr>\n",
       "    <tr>\n",
       "      <th>18</th>\n",
       "      <td>LPE13959_2025_02_24_7_0029</td>\n",
       "      <td>477</td>\n",
       "      <td>27</td>\n",
       "      <td>LPE13959_2025_02_26_7_0134</td>\n",
       "      <td>4193</td>\n",
       "      <td>2827</td>\n",
       "      <td>[288, 462, 1144, 1265, 1619, 1662, 3439, 3529,...</td>\n",
       "    </tr>\n",
       "    <tr>\n",
       "      <th>19</th>\n",
       "      <td>LPE13959_2025_02_24_7_0162</td>\n",
       "      <td>606</td>\n",
       "      <td>30</td>\n",
       "      <td>LPE13959_2025_02_26_7_0158</td>\n",
       "      <td>4214</td>\n",
       "      <td>2830</td>\n",
       "      <td>[45, 119, 257, 330, 410, 665, 882, 1159, 1684,...</td>\n",
       "    </tr>\n",
       "    <tr>\n",
       "      <th>20</th>\n",
       "      <td>LPE13959_2025_02_24_1_0014</td>\n",
       "      <td>552</td>\n",
       "      <td>30</td>\n",
       "      <td>LPE13959_2025_02_26_1_0029</td>\n",
       "      <td>695</td>\n",
       "      <td>2830</td>\n",
       "      <td>[45, 119, 257, 330, 410, 665, 882, 1159, 1684,...</td>\n",
       "    </tr>\n",
       "    <tr>\n",
       "      <th>21</th>\n",
       "      <td>LPE13959_2025_02_24_4_0252</td>\n",
       "      <td>2704</td>\n",
       "      <td>31</td>\n",
       "      <td>LPE13959_2025_02_26_4_0598</td>\n",
       "      <td>3339</td>\n",
       "      <td>2831</td>\n",
       "      <td>[162, 223, 227, 588, 908, 989, 1088, 1152, 128...</td>\n",
       "    </tr>\n",
       "    <tr>\n",
       "      <th>22</th>\n",
       "      <td>LPE13959_2025_02_24_0_0521</td>\n",
       "      <td>421</td>\n",
       "      <td>34</td>\n",
       "      <td>LPE13959_2025_02_26_0_0369</td>\n",
       "      <td>364</td>\n",
       "      <td>2834</td>\n",
       "      <td>[79, 221, 439, 1078, 1129, 1300, 2320, 2750, 2...</td>\n",
       "    </tr>\n",
       "    <tr>\n",
       "      <th>23</th>\n",
       "      <td>LPE13959_2025_02_24_0_0027</td>\n",
       "      <td>27</td>\n",
       "      <td>35</td>\n",
       "      <td>LPE13959_2025_02_26_0_0049</td>\n",
       "      <td>49</td>\n",
       "      <td>2835</td>\n",
       "      <td>[24, 674, 677, 934, 1103, 1278, 1496, 1675, 24...</td>\n",
       "    </tr>\n",
       "    <tr>\n",
       "      <th>24</th>\n",
       "      <td>LPE13959_2025_02_24_6_0036</td>\n",
       "      <td>223</td>\n",
       "      <td>36</td>\n",
       "      <td>LPE13959_2025_02_26_6_0064</td>\n",
       "      <td>3747</td>\n",
       "      <td>2836</td>\n",
       "      <td>[522, 808, 1494, 1547, 2318, 2343, 2948, 3796,...</td>\n",
       "    </tr>\n",
       "    <tr>\n",
       "      <th>25</th>\n",
       "      <td>LPE13959_2025_02_24_6_0019</td>\n",
       "      <td>206</td>\n",
       "      <td>37</td>\n",
       "      <td>LPE13959_2025_02_26_6_0100</td>\n",
       "      <td>3783</td>\n",
       "      <td>2837</td>\n",
       "      <td>[742, 1226, 1324, 1456, 2248, 2252, 2504, 2906...</td>\n",
       "    </tr>\n",
       "    <tr>\n",
       "      <th>26</th>\n",
       "      <td>LPE13959_2025_02_24_1_0045</td>\n",
       "      <td>582</td>\n",
       "      <td>37</td>\n",
       "      <td>LPE13959_2025_02_26_1_0160</td>\n",
       "      <td>826</td>\n",
       "      <td>2837</td>\n",
       "      <td>[742, 1226, 1324, 1456, 2248, 2252, 2504, 2906...</td>\n",
       "    </tr>\n",
       "    <tr>\n",
       "      <th>27</th>\n",
       "      <td>LPE13959_2025_02_24_6_0025</td>\n",
       "      <td>212</td>\n",
       "      <td>40</td>\n",
       "      <td>LPE13959_2025_02_26_6_0197</td>\n",
       "      <td>3872</td>\n",
       "      <td>2840</td>\n",
       "      <td>[456, 824, 1032, 1182, 1336, 1543, 1622, 2021,...</td>\n",
       "    </tr>\n",
       "    <tr>\n",
       "      <th>28</th>\n",
       "      <td>LPE13959_2025_02_24_0_0006</td>\n",
       "      <td>6</td>\n",
       "      <td>40</td>\n",
       "      <td>LPE13959_2025_02_26_0_0029</td>\n",
       "      <td>29</td>\n",
       "      <td>2840</td>\n",
       "      <td>[456, 824, 1032, 1182, 1336, 1543, 1622, 2021,...</td>\n",
       "    </tr>\n",
       "    <tr>\n",
       "      <th>29</th>\n",
       "      <td>LPE13959_2025_02_24_7_0045</td>\n",
       "      <td>493</td>\n",
       "      <td>41</td>\n",
       "      <td>LPE13959_2025_02_26_7_0036</td>\n",
       "      <td>4097</td>\n",
       "      <td>2841</td>\n",
       "      <td>[586, 978, 1223, 1375, 2356, 2711, 2955, 3243,...</td>\n",
       "    </tr>\n",
       "    <tr>\n",
       "      <th>30</th>\n",
       "      <td>LPE13959_2025_02_24_1_0134</td>\n",
       "      <td>671</td>\n",
       "      <td>42</td>\n",
       "      <td>LPE13959_2025_02_26_1_0131</td>\n",
       "      <td>797</td>\n",
       "      <td>2842</td>\n",
       "      <td>[323, 384, 508, 546, 1128, 1897, 2151, 2634, 3...</td>\n",
       "    </tr>\n",
       "    <tr>\n",
       "      <th>31</th>\n",
       "      <td>LPE13959_2025_02_24_7_0110</td>\n",
       "      <td>556</td>\n",
       "      <td>43</td>\n",
       "      <td>LPE13959_2025_02_26_7_0210</td>\n",
       "      <td>4257</td>\n",
       "      <td>2843</td>\n",
       "      <td>[121, 467, 518, 611, 751, 769, 1352, 1429, 153...</td>\n",
       "    </tr>\n",
       "    <tr>\n",
       "      <th>32</th>\n",
       "      <td>LPE13959_2025_02_24_1_0035</td>\n",
       "      <td>572</td>\n",
       "      <td>45</td>\n",
       "      <td>LPE13959_2025_02_26_1_0017</td>\n",
       "      <td>683</td>\n",
       "      <td>2845</td>\n",
       "      <td>[115, 717, 761, 1143, 1325, 1537, 1895, 2014, ...</td>\n",
       "    </tr>\n",
       "    <tr>\n",
       "      <th>33</th>\n",
       "      <td>LPE13959_2025_02_24_6_0022</td>\n",
       "      <td>209</td>\n",
       "      <td>48</td>\n",
       "      <td>LPE13959_2025_02_26_6_0368</td>\n",
       "      <td>3973</td>\n",
       "      <td>2848</td>\n",
       "      <td>[605, 833, 2479, 2660, 2939, 2987, 3227, 3453,...</td>\n",
       "    </tr>\n",
       "    <tr>\n",
       "      <th>34</th>\n",
       "      <td>LPE13959_2025_02_24_6_0010</td>\n",
       "      <td>197</td>\n",
       "      <td>53</td>\n",
       "      <td>LPE13959_2025_02_26_6_0007</td>\n",
       "      <td>3692</td>\n",
       "      <td>2853</td>\n",
       "      <td>[727, 1111, 1218, 1269, 1628, 1811, 1913, 1947...</td>\n",
       "    </tr>\n",
       "    <tr>\n",
       "      <th>35</th>\n",
       "      <td>LPE13959_2025_02_24_0_0096</td>\n",
       "      <td>96</td>\n",
       "      <td>54</td>\n",
       "      <td>LPE13959_2025_02_26_0_0053</td>\n",
       "      <td>53</td>\n",
       "      <td>2854</td>\n",
       "      <td>[309, 368, 544, 583, 1033, 1043, 1340, 1666, 2...</td>\n",
       "    </tr>\n",
       "    <tr>\n",
       "      <th>36</th>\n",
       "      <td>LPE13959_2025_02_24_6_0015</td>\n",
       "      <td>202</td>\n",
       "      <td>56</td>\n",
       "      <td>LPE13959_2025_02_26_6_0057</td>\n",
       "      <td>3740</td>\n",
       "      <td>2856</td>\n",
       "      <td>[325, 339, 730, 878, 958, 1777, 2039, 2306, 23...</td>\n",
       "    </tr>\n",
       "    <tr>\n",
       "      <th>37</th>\n",
       "      <td>LPE13959_2025_02_24_1_0200</td>\n",
       "      <td>737</td>\n",
       "      <td>56</td>\n",
       "      <td>LPE13959_2025_02_26_1_0016</td>\n",
       "      <td>682</td>\n",
       "      <td>2856</td>\n",
       "      <td>[325, 339, 730, 878, 958, 1777, 2039, 2306, 23...</td>\n",
       "    </tr>\n",
       "    <tr>\n",
       "      <th>38</th>\n",
       "      <td>LPE13959_2025_02_24_0_0049</td>\n",
       "      <td>49</td>\n",
       "      <td>58</td>\n",
       "      <td>LPE13959_2025_02_26_0_0031</td>\n",
       "      <td>31</td>\n",
       "      <td>2858</td>\n",
       "      <td>[102, 778, 797, 1021, 1304, 1467, 1514, 1653, ...</td>\n",
       "    </tr>\n",
       "    <tr>\n",
       "      <th>39</th>\n",
       "      <td>LPE13959_2025_02_24_7_0008</td>\n",
       "      <td>456</td>\n",
       "      <td>60</td>\n",
       "      <td>LPE13959_2025_02_26_7_0024</td>\n",
       "      <td>4086</td>\n",
       "      <td>2860</td>\n",
       "      <td>[297, 506, 1274, 1313, 1644, 1750, 1851, 2377,...</td>\n",
       "    </tr>\n",
       "    <tr>\n",
       "      <th>40</th>\n",
       "      <td>LPE13959_2025_02_24_6_0138</td>\n",
       "      <td>321</td>\n",
       "      <td>65</td>\n",
       "      <td>LPE13959_2025_02_26_6_0161</td>\n",
       "      <td>3842</td>\n",
       "      <td>2865</td>\n",
       "      <td>[281, 345, 863, 1999, 2083, 2453, 2471, 3203, ...</td>\n",
       "    </tr>\n",
       "    <tr>\n",
       "      <th>41</th>\n",
       "      <td>LPE13959_2025_02_24_7_0087</td>\n",
       "      <td>534</td>\n",
       "      <td>66</td>\n",
       "      <td>LPE13959_2025_02_26_7_0304</td>\n",
       "      <td>4327</td>\n",
       "      <td>2866</td>\n",
       "      <td>[578, 777, 950, 1454, 1474, 1642, 2531, 2596, ...</td>\n",
       "    </tr>\n",
       "    <tr>\n",
       "      <th>42</th>\n",
       "      <td>LPE13959_2025_02_24_2_0025</td>\n",
       "      <td>1218</td>\n",
       "      <td>67</td>\n",
       "      <td>LPE13959_2025_02_26_2_0123</td>\n",
       "      <td>1533</td>\n",
       "      <td>2867</td>\n",
       "      <td>[164, 226, 601, 889, 967, 1299, 1611, 2005, 20...</td>\n",
       "    </tr>\n",
       "    <tr>\n",
       "      <th>43</th>\n",
       "      <td>LPE13959_2025_02_24_6_0055</td>\n",
       "      <td>242</td>\n",
       "      <td>68</td>\n",
       "      <td>LPE13959_2025_02_26_6_0117</td>\n",
       "      <td>3799</td>\n",
       "      <td>2868</td>\n",
       "      <td>[13, 434, 551, 581, 749, 891, 1679, 1928, 1982...</td>\n",
       "    </tr>\n",
       "    <tr>\n",
       "      <th>44</th>\n",
       "      <td>LPE13959_2025_02_24_0_0044</td>\n",
       "      <td>44</td>\n",
       "      <td>69</td>\n",
       "      <td>LPE13959_2025_02_26_0_0298</td>\n",
       "      <td>296</td>\n",
       "      <td>2869</td>\n",
       "      <td>[20, 38, 408, 641, 1661, 1677, 2125, 2574, 318...</td>\n",
       "    </tr>\n",
       "    <tr>\n",
       "      <th>45</th>\n",
       "      <td>LPE13959_2025_02_24_2_0455</td>\n",
       "      <td>1611</td>\n",
       "      <td>72</td>\n",
       "      <td>LPE13959_2025_02_26_2_0320</td>\n",
       "      <td>1728</td>\n",
       "      <td>2872</td>\n",
       "      <td>[2, 562, 619, 690, 830, 1060, 1157, 1245, 1301...</td>\n",
       "    </tr>\n",
       "    <tr>\n",
       "      <th>46</th>\n",
       "      <td>LPE13959_2025_02_24_0_0001</td>\n",
       "      <td>1</td>\n",
       "      <td>74</td>\n",
       "      <td>LPE13959_2025_02_26_0_0086</td>\n",
       "      <td>86</td>\n",
       "      <td>2874</td>\n",
       "      <td>[75, 432, 828, 1262, 1312, 1380, 1988, 2460, 2...</td>\n",
       "    </tr>\n",
       "    <tr>\n",
       "      <th>47</th>\n",
       "      <td>LPE13959_2025_02_24_5_0006</td>\n",
       "      <td>6</td>\n",
       "      <td>74</td>\n",
       "      <td>LPE13959_2025_02_26_5_0087</td>\n",
       "      <td>3486</td>\n",
       "      <td>2874</td>\n",
       "      <td>[75, 432, 828, 1262, 1312, 1380, 1988, 2460, 2...</td>\n",
       "    </tr>\n",
       "    <tr>\n",
       "      <th>48</th>\n",
       "      <td>LPE13959_2025_02_24_6_0018</td>\n",
       "      <td>205</td>\n",
       "      <td>75</td>\n",
       "      <td>LPE13959_2025_02_26_6_0027</td>\n",
       "      <td>3711</td>\n",
       "      <td>2875</td>\n",
       "      <td>[189, 262, 1168, 1318, 1576, 2096, 2546, 2858,...</td>\n",
       "    </tr>\n",
       "  </tbody>\n",
       "</table>\n",
       "</div>"
      ],
      "text/plain": [
       "                   cell_id_ref  neuron_idx_ref  index_MEI_order_ref                 cell_id_MEI  neuron_idx_MEI  image_number_MEI                                  trial_numbers_MEI\n",
       "0   LPE13959_2025_02_24_5_0012              12                    0  LPE13959_2025_02_26_5_0042            3442              2800  [155, 179, 326, 400, 545, 949, 1868, 1992, 229...\n",
       "1   LPE13959_2025_02_24_6_0004             191                    4  LPE13959_2025_02_26_6_0014            3699              2804  [198, 670, 709, 913, 1045, 1434, 1718, 1869, 1...\n",
       "2   LPE13959_2025_02_24_3_0001            1833                    6  LPE13959_2025_02_26_3_0235            2336              2806  [107, 363, 443, 706, 1118, 1331, 1360, 1579, 1...\n",
       "3   LPE13959_2025_02_24_0_0019              19                    7  LPE13959_2025_02_26_0_0249             249              2807  [141, 177, 196, 438, 855, 1059, 1449, 1462, 15...\n",
       "4   LPE13959_2025_02_24_7_0020             468                    8  LPE13959_2025_02_26_7_0245            4287              2808  [1228, 1599, 1748, 1891, 2073, 2331, 2467, 252...\n",
       "5   LPE13959_2025_02_24_1_0010             548                   10  LPE13959_2025_02_26_1_0116             782              2810  [250, 644, 786, 965, 1035, 1745, 1890, 2138, 2...\n",
       "6   LPE13959_2025_02_24_4_0251            2703                   14  LPE13959_2025_02_26_4_0234            3092              2814  [531, 1049, 1221, 1721, 2365, 2395, 3272, 3384...\n",
       "7   LPE13959_2025_02_24_0_0014              14                   15  LPE13959_2025_02_26_0_0166             166              2815  [55, 312, 836, 1408, 1443, 1548, 1651, 2188, 2...\n",
       "8   LPE13959_2025_02_24_6_0002             189                   16  LPE13959_2025_02_26_6_0076            3759              2816  [87, 559, 561, 907, 1479, 2358, 2615, 2618, 29...\n",
       "9   LPE13959_2025_02_24_1_0007             545                   17  LPE13959_2025_02_26_1_0084             750              2817  [327, 1126, 1776, 1962, 1983, 2042, 2794, 3062...\n",
       "10  LPE13959_2025_02_24_1_0003             541                   18  LPE13959_2025_02_26_1_0281             947              2818  [341, 458, 649, 850, 1489, 1806, 1918, 2748, 2...\n",
       "11  LPE13959_2025_02_24_6_0003             190                   18  LPE13959_2025_02_26_6_0148            3829              2818  [341, 458, 649, 850, 1489, 1806, 1918, 2748, 2...\n",
       "12  LPE13959_2025_02_24_2_0036            1229                   21  LPE13959_2025_02_26_2_0253            1663              2821  [57, 133, 159, 445, 618, 887, 1285, 1695, 1768...\n",
       "13  LPE13959_2025_02_24_6_0016             203                   22  LPE13959_2025_02_26_6_0006            3691              2822  [26, 46, 134, 242, 752, 911, 999, 1370, 1817, ...\n",
       "14  LPE13959_2025_02_24_2_0103            1296                   23  LPE13959_2025_02_26_2_0132            1542              2823  [590, 724, 840, 897, 1310, 1595, 1673, 1678, 1...\n",
       "15  LPE13959_2025_02_24_6_0006             193                   23  LPE13959_2025_02_26_6_0015            3700              2823  [590, 724, 840, 897, 1310, 1595, 1673, 1678, 1...\n",
       "16  LPE13959_2025_02_24_4_0004            2465                   25  LPE13959_2025_02_26_4_0035            2895              2825  [343, 579, 1063, 1330, 1560, 1804, 1996, 2236,...\n",
       "17  LPE13959_2025_02_24_7_0012             460                   26  LPE13959_2025_02_26_7_0018            4080              2826  [582, 624, 798, 1428, 1505, 1533, 1556, 1848, ...\n",
       "18  LPE13959_2025_02_24_7_0029             477                   27  LPE13959_2025_02_26_7_0134            4193              2827  [288, 462, 1144, 1265, 1619, 1662, 3439, 3529,...\n",
       "19  LPE13959_2025_02_24_7_0162             606                   30  LPE13959_2025_02_26_7_0158            4214              2830  [45, 119, 257, 330, 410, 665, 882, 1159, 1684,...\n",
       "20  LPE13959_2025_02_24_1_0014             552                   30  LPE13959_2025_02_26_1_0029             695              2830  [45, 119, 257, 330, 410, 665, 882, 1159, 1684,...\n",
       "21  LPE13959_2025_02_24_4_0252            2704                   31  LPE13959_2025_02_26_4_0598            3339              2831  [162, 223, 227, 588, 908, 989, 1088, 1152, 128...\n",
       "22  LPE13959_2025_02_24_0_0521             421                   34  LPE13959_2025_02_26_0_0369             364              2834  [79, 221, 439, 1078, 1129, 1300, 2320, 2750, 2...\n",
       "23  LPE13959_2025_02_24_0_0027              27                   35  LPE13959_2025_02_26_0_0049              49              2835  [24, 674, 677, 934, 1103, 1278, 1496, 1675, 24...\n",
       "24  LPE13959_2025_02_24_6_0036             223                   36  LPE13959_2025_02_26_6_0064            3747              2836  [522, 808, 1494, 1547, 2318, 2343, 2948, 3796,...\n",
       "25  LPE13959_2025_02_24_6_0019             206                   37  LPE13959_2025_02_26_6_0100            3783              2837  [742, 1226, 1324, 1456, 2248, 2252, 2504, 2906...\n",
       "26  LPE13959_2025_02_24_1_0045             582                   37  LPE13959_2025_02_26_1_0160             826              2837  [742, 1226, 1324, 1456, 2248, 2252, 2504, 2906...\n",
       "27  LPE13959_2025_02_24_6_0025             212                   40  LPE13959_2025_02_26_6_0197            3872              2840  [456, 824, 1032, 1182, 1336, 1543, 1622, 2021,...\n",
       "28  LPE13959_2025_02_24_0_0006               6                   40  LPE13959_2025_02_26_0_0029              29              2840  [456, 824, 1032, 1182, 1336, 1543, 1622, 2021,...\n",
       "29  LPE13959_2025_02_24_7_0045             493                   41  LPE13959_2025_02_26_7_0036            4097              2841  [586, 978, 1223, 1375, 2356, 2711, 2955, 3243,...\n",
       "30  LPE13959_2025_02_24_1_0134             671                   42  LPE13959_2025_02_26_1_0131             797              2842  [323, 384, 508, 546, 1128, 1897, 2151, 2634, 3...\n",
       "31  LPE13959_2025_02_24_7_0110             556                   43  LPE13959_2025_02_26_7_0210            4257              2843  [121, 467, 518, 611, 751, 769, 1352, 1429, 153...\n",
       "32  LPE13959_2025_02_24_1_0035             572                   45  LPE13959_2025_02_26_1_0017             683              2845  [115, 717, 761, 1143, 1325, 1537, 1895, 2014, ...\n",
       "33  LPE13959_2025_02_24_6_0022             209                   48  LPE13959_2025_02_26_6_0368            3973              2848  [605, 833, 2479, 2660, 2939, 2987, 3227, 3453,...\n",
       "34  LPE13959_2025_02_24_6_0010             197                   53  LPE13959_2025_02_26_6_0007            3692              2853  [727, 1111, 1218, 1269, 1628, 1811, 1913, 1947...\n",
       "35  LPE13959_2025_02_24_0_0096              96                   54  LPE13959_2025_02_26_0_0053              53              2854  [309, 368, 544, 583, 1033, 1043, 1340, 1666, 2...\n",
       "36  LPE13959_2025_02_24_6_0015             202                   56  LPE13959_2025_02_26_6_0057            3740              2856  [325, 339, 730, 878, 958, 1777, 2039, 2306, 23...\n",
       "37  LPE13959_2025_02_24_1_0200             737                   56  LPE13959_2025_02_26_1_0016             682              2856  [325, 339, 730, 878, 958, 1777, 2039, 2306, 23...\n",
       "38  LPE13959_2025_02_24_0_0049              49                   58  LPE13959_2025_02_26_0_0031              31              2858  [102, 778, 797, 1021, 1304, 1467, 1514, 1653, ...\n",
       "39  LPE13959_2025_02_24_7_0008             456                   60  LPE13959_2025_02_26_7_0024            4086              2860  [297, 506, 1274, 1313, 1644, 1750, 1851, 2377,...\n",
       "40  LPE13959_2025_02_24_6_0138             321                   65  LPE13959_2025_02_26_6_0161            3842              2865  [281, 345, 863, 1999, 2083, 2453, 2471, 3203, ...\n",
       "41  LPE13959_2025_02_24_7_0087             534                   66  LPE13959_2025_02_26_7_0304            4327              2866  [578, 777, 950, 1454, 1474, 1642, 2531, 2596, ...\n",
       "42  LPE13959_2025_02_24_2_0025            1218                   67  LPE13959_2025_02_26_2_0123            1533              2867  [164, 226, 601, 889, 967, 1299, 1611, 2005, 20...\n",
       "43  LPE13959_2025_02_24_6_0055             242                   68  LPE13959_2025_02_26_6_0117            3799              2868  [13, 434, 551, 581, 749, 891, 1679, 1928, 1982...\n",
       "44  LPE13959_2025_02_24_0_0044              44                   69  LPE13959_2025_02_26_0_0298             296              2869  [20, 38, 408, 641, 1661, 1677, 2125, 2574, 318...\n",
       "45  LPE13959_2025_02_24_2_0455            1611                   72  LPE13959_2025_02_26_2_0320            1728              2872  [2, 562, 619, 690, 830, 1060, 1157, 1245, 1301...\n",
       "46  LPE13959_2025_02_24_0_0001               1                   74  LPE13959_2025_02_26_0_0086              86              2874  [75, 432, 828, 1262, 1312, 1380, 1988, 2460, 2...\n",
       "47  LPE13959_2025_02_24_5_0006               6                   74  LPE13959_2025_02_26_5_0087            3486              2874  [75, 432, 828, 1262, 1312, 1380, 1988, 2460, 2...\n",
       "48  LPE13959_2025_02_24_6_0018             205                   75  LPE13959_2025_02_26_6_0027            3711              2875  [189, 262, 1168, 1318, 1576, 2096, 2546, 2858,..."
      ]
     },
     "execution_count": 28,
     "metadata": {},
     "output_type": "execute_result"
    }
   ],
   "source": [
    "def find_mei_presentation_image_nums(row, trialdata):\n",
    "    MEI_of_interest = row['image_number_MEI']\n",
    "    indices = trialdata.loc[trialdata['ImageNumber'] == MEI_of_interest].index.to_list()\n",
    "    return indices\n",
    "\n",
    "validatable_MEIs['trial_numbers_MEI'] = validatable_MEIs.apply(lambda x: find_mei_presentation_image_nums(x, sess_MEI.trialdata), axis=1)\n",
    "validatable_MEIs"
   ]
  },
  {
   "cell_type": "code",
   "execution_count": 29,
   "metadata": {},
   "outputs": [],
   "source": [
    "num_validatable_neurons = num_validatable_MEIs # TODO: make this be settable"
   ]
  },
  {
   "cell_type": "code",
   "execution_count": 30,
   "metadata": {},
   "outputs": [
    {
     "name": "stderr",
     "output_type": "stream",
     "text": [
      "100%|██████████| 49/49 [00:00<00:00, 6732.65it/s]\n"
     ]
    }
   ],
   "source": [
    "# Initialize the result matrix\n",
    "respmat_MEI_trunc_mean = np.zeros((num_validatable_neurons, num_validatable_MEIs))  # responses of neuron n to image i\n",
    "\n",
    "# Looping over the images\n",
    "for i in tqdm(range(num_validatable_MEIs)):  # images\n",
    "    # Extract the list of trial numbers for the current image\n",
    "    trial_numbers_MEI = validatable_MEIs.iloc[i]['trial_numbers_MEI']\n",
    "    \n",
    "    # Vectorized mean computation for all neurons for the current image\n",
    "    respmat_MEI_trunc_mean[:, i] = np.mean(respmat_MEI_trunc[:, trial_numbers_MEI], axis=1)\n"
   ]
  },
  {
   "cell_type": "code",
   "execution_count": 35,
   "metadata": {},
   "outputs": [
    {
     "data": {
      "image/png": "[encoded data removed]",
      "text/plain": [
       "<Figure size 640x480 with 1 Axes>"
      ]
     },
     "metadata": {},
     "output_type": "display_data"
    }
   ],
   "source": [
    "plt.imshow(respmat_MEI_trunc_mean)\n",
    "plt.xlabel('MEI image idx')\n",
    "plt.ylabel('MEI Neuron idx')\n",
    "# plt.xticks(np.arange(respmat_MEI_trunc_mean.shape[1])) # set for number of columns, which are the count of x axis\n",
    "# plt.yticks(np.arange(respmat_MEI_trunc_mean.shape[0])) # set for number of rows, which are the count of y axis\n",
    "# plt.gca().xaxis.set_label_position('top')\n",
    "plt.suptitle('Neuronal Responses to MEIs')\n",
    "plt.show()"
   ]
  },
  {
   "cell_type": "code",
   "execution_count": 37,
   "metadata": {},
   "outputs": [
    {
     "data": {
      "image/png": "[encoded data removed]",
      "text/plain": [
       "<Figure size 640x480 with 1 Axes>"
      ]
     },
     "metadata": {},
     "output_type": "display_data"
    }
   ],
   "source": [
    "# normalize the responses\n",
    "\n",
    "for i, row in enumerate(respmat_MEI_trunc_mean):\n",
    "    respmat_MEI_trunc_mean[i] = (row - np.min(row)) / (np.max(row) - np.min(row))\n",
    "\n",
    "plt.imshow(respmat_MEI_trunc_mean)\n",
    "plt.xlabel('MEI image idx')\n",
    "plt.ylabel('MEI Neuron idx')\n",
    "# plt.gca().xaxis.set_label_position('top')\n",
    "plt.suptitle('Normalized Neuronal Responses to MEIs')\n",
    "plt.show()"
   ]
  }
 ],
 "metadata": {
  "kernelspec": {
   "display_name": "molanalysis",
   "language": "python",
   "name": "python3"
  },
  "language_info": {
   "codemirror_mode": {
    "name": "ipython",
    "version": 3
   },
   "file_extension": ".py",
   "mimetype": "text/x-python",
   "name": "python",
   "nbconvert_exporter": "python",
   "pygments_lexer": "ipython3",
   "version": "3.8.12"
  }
 },
 "nbformat": 4,
 "nbformat_minor": 2
}
