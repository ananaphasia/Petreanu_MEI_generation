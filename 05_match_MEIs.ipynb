{
 "cells": [
  {
   "cell_type": "code",
   "execution_count": 1,
   "metadata": {},
   "outputs": [
    {
     "name": "stdout",
     "output_type": "stream",
     "text": [
      "d:\\Python\\Anastasia\\Petreanu Lab\\Petreanu_MEI_generation\n"
     ]
    }
   ],
   "source": [
    "import os, sys\n",
    "\n",
    "os.chdir('Petreanu_MEI_generation')\n",
    "sys.path.append(os.getcwd())\n",
    "\n",
    "print(os.getcwd())"
   ]
  },
  {
   "cell_type": "code",
   "execution_count": 2,
   "metadata": {},
   "outputs": [],
   "source": [
    "MEI_validation_session = [['LPE13959', '2025_02_19']]\n",
    "MEI_validation_session_input_folder = 'D:/Procdata/IM'"
   ]
  },
  {
   "cell_type": "code",
   "execution_count": 3,
   "metadata": {},
   "outputs": [
    {
     "name": "stdout",
     "output_type": "stream",
     "text": [
      "Working directory: d:\\Python\\Anastasia\\Petreanu Lab\\Petreanu_MEI_generation\n",
      "Starting evaluation for V1_MEI_in_vivo_validation_without_grid_mean_predictor with area of interest V1\n",
      "{'data_sets': ['all'], 'dataset_fn': 'sensorium.datasets.static_loaders', 'dataset_config': {'normalize': True, 'include_behavior': True, 'include_eye_position': True, 'batch_size': 128, 'scale': 0.25, 'preload_from_merged_data': True, 'include_trial_id': True, 'include_rank_id': True, 'include_history': True, 'include_behav_state': True, 'adjusted_normalization': True, 'use_ensemble_tier': True, 'ensemble_nr': 0}, 'model_fn': 'sensorium.models.modulated_stacked_core_full_gauss_readout', 'model_seed': 100, 'model_config': {'pad_input': False, 'stack': -1, 'layers': 4, 'input_kern': 9, 'gamma_input': 9.8, 'gamma_readout': 0.48, 'hidden_kern': 10, 'hidden_channels': 64, 'depth_separable': True, 'grid_mean_predictor': None, 'init_sigma': 0.14, 'init_mu_range': 0.8, 'gauss_type': 'full', 'max_jitter': 0, 'max_jitter_x': 0, 'max_jitter_y': 0, 'shifter': True, 'with_modulator': True, 'modulator_type': 'HistoryStateGain', 'modulator_params': {'include_gain': True, 'gain_kernel_std': 30, 'diff_reg': 100, 'include_history': True, 'nr_history': 5, 'behav_state': True, 'nr_behav_state': 10, 'per_neuron_gain_adjust': True, 'gain_adjust_alpha': 0.3, 'alpha_behav': 0.3, 'alpha_hist': 0.3}, 'data_path': 'runs/V1_MEI_in_vivo_validation_without_grid_mean_predictor/data'}, 'use_pretrained_core': False, 'pretrained_model_file': 'no_file', 'trainer_fn': 'sensorium.training.standard_trainer', 'trainer_config': {'max_iter': 200, 'verbose': True, 'lr_decay_steps': 4, 'avg_loss': False, 'lr_init': 0.009, 'track_training': True, 'disable_tqdm': True}, 'verbose': 3, 'save_csv': True, 'save_predictions_npy': True}\n",
      "['runs/V1_MEI_in_vivo_validation_without_grid_mean_predictor/data/LPE09665/2023_03_20', 'runs/V1_MEI_in_vivo_validation_without_grid_mean_predictor/data/LPE10883/2023_10_23', 'runs/V1_MEI_in_vivo_validation_without_grid_mean_predictor/data/LPE10883/2023_10_31', 'runs/V1_MEI_in_vivo_validation_without_grid_mean_predictor/data/LPE10884/2023_10_12', 'runs/V1_MEI_in_vivo_validation_without_grid_mean_predictor/data/LPE10885/2023_10_20', 'runs/V1_MEI_in_vivo_validation_without_grid_mean_predictor/data/LPE10919/2023_11_09', 'runs/V1_MEI_in_vivo_validation_without_grid_mean_predictor/data/LPE11086/2023_12_16', 'runs/V1_MEI_in_vivo_validation_without_grid_mean_predictor/data/LPE11086/2024_01_09', 'runs/V1_MEI_in_vivo_validation_without_grid_mean_predictor/data/LPE11495/2024_02_29', 'runs/V1_MEI_in_vivo_validation_without_grid_mean_predictor/data/LPE11998/2024_05_08', 'runs/V1_MEI_in_vivo_validation_without_grid_mean_predictor/data/LPE12223/2024_06_11', 'runs/V1_MEI_in_vivo_validation_without_grid_mean_predictor/data/LPE13959/2025_02_17']\n"
     ]
    }
   ],
   "source": [
    "import sys\n",
    "import os\n",
    "import torch\n",
    "import numpy as np\n",
    "import pandas as pd\n",
    "import matplotlib.pyplot as plt\n",
    "import seaborn as sns\n",
    "from tqdm.auto import tqdm\n",
    "import warnings\n",
    "from sensorium.utility.training import read_config\n",
    "from sensorium.utility import submission\n",
    "from nnfabrik.builder import get_data, get_model\n",
    "from sensorium.models.ensemble import EnsemblePrediction\n",
    "from sensorium.utility import get_correlations\n",
    "from sensorium.utility.measure_helpers import get_df_for_scores\n",
    "from loaddata.session_info import load_sessions\n",
    "from utils.plotting_style import *  # get all the fixed color schemes\n",
    "from utils.imagelib import load_natural_images\n",
    "from loaddata.get_data_folder import get_local_drive\n",
    "from utils.pair_lib import compute_pairwise_anatomical_distance\n",
    "from utils.rf_lib import *\n",
    "import pickle as pkl\n",
    "\n",
    "# Set working directory to root of repo\n",
    "current_path = os.getcwd()\n",
    "# Identify if path has 'molanalysis' as a folder in it\n",
    "if 'Petreanu_MEI_generation' in current_path:\n",
    "    # If so, set the path to the root of the repo\n",
    "    current_path = current_path.split('Petreanu_MEI_generation')[0] + 'Petreanu_MEI_generation'\n",
    "else:\n",
    "    raise FileNotFoundError(\n",
    "        f'This needs to be run somewhere from within the Petreanu_MEI_generation folder, not {current_path}')\n",
    "os.chdir(current_path)\n",
    "sys.path.append(current_path)\n",
    "\n",
    "print('Working directory:', os.getcwd())\n",
    "\n",
    "run_config = read_config('run_config.yaml') # Must be set\n",
    "\n",
    "RUN_NAME = run_config['current_vals']['RUN_NAME'] # MUST be set. Creates a subfolder in the runs folder with this name, containing data, saved models, etc. IMPORTANT: all values in this folder WILL be deleted.\n",
    "RUN_FOLDER = run_config['current_vals']['RUN_FOLDER']\n",
    "area_of_interest = run_config['current_vals']['data']['area_of_interest']\n",
    "INPUT_FOLDER = run_config['data']['INPUT_FOLDER']\n",
    "sessions_to_keep = run_config['data']['sessions_to_keep']\n",
    "num_models = run_config['dev']['num_models']\n",
    "\n",
    "print(f'Starting evaluation for {RUN_NAME} with area of interest {area_of_interest}')\n",
    "\n",
    "warnings.filterwarnings('ignore')\n",
    "# ### Load configuration for model\n",
    "\n",
    "# Loading config only for ensemble 0, because all 5 models have the same config (except\n",
    "# for the seed and dataloader train/validation split)\n",
    "\n",
    "config_file = f'{RUN_FOLDER}/config_m4_ens0/config.yaml'\n",
    "config = read_config(config_file)\n",
    "config['model_config']['data_path'] = f'{RUN_FOLDER}/data'\n",
    "print(config)\n",
    "# ### Prepare dataloader\n",
    "\n",
    "# Use only one dataloader, since test and final_test are the same for all ensembles\n",
    "# basepath = \"notebooks/data/\"\n",
    "# filenames = [os.path.join(basepath, file) for file in os.listdir(basepath) if \".zip\" in file ]\n",
    "# filenames = [file for file in filenames if 'static26872-17-20' not in file]\n",
    "\n",
    "basepath = f'{RUN_FOLDER}/data'\n",
    "# Add Add folders two levels deep from basepath into a list\n",
    "# First level\n",
    "folders = [os.path.join(basepath, name) for name in os.listdir(\n",
    "    basepath) if os.path.isdir(os.path.join(basepath, name)) and not \"merged_data\" in name]\n",
    "# Second level\n",
    "folders = [os.path.join(folder, name) for folder in folders for name in os.listdir(\n",
    "    folder) if os.path.isdir(os.path.join(folder, name)) and not \"merged_data\" in name]\n",
    "folders = [x.replace(\"\\\\\", \"/\") for x in folders]\n",
    "print(folders)"
   ]
  },
  {
   "cell_type": "code",
   "execution_count": 4,
   "metadata": {},
   "outputs": [
    {
     "name": "stdout",
     "output_type": "stream",
     "text": [
      "[['LPE09665' '2023_03_20']\n",
      " ['LPE10883' '2023_10_23']\n",
      " ['LPE10883' '2023_10_31']\n",
      " ['LPE10884' '2023_10_12']\n",
      " ['LPE10885' '2023_10_20']\n",
      " ['LPE10919' '2023_11_09']\n",
      " ['LPE11086' '2023_12_16']\n",
      " ['LPE11086' '2024_01_09']\n",
      " ['LPE11495' '2024_02_29']\n",
      " ['LPE11998' '2024_05_08']\n",
      " ['LPE12223' '2024_06_11']\n",
      " ['LPE13959' '2025_02_17']\n",
      " ['LPE13959' '2025_02_19']]\n"
     ]
    }
   ],
   "source": [
    "try: \n",
    "    session_folders\n",
    "except NameError:\n",
    "    # First level\n",
    "    session_folders = [os.path.join(INPUT_FOLDER, name) for name in os.listdir(\n",
    "        INPUT_FOLDER) if os.path.isdir(os.path.join(INPUT_FOLDER, name)) and not \"merged_data\" in name]\n",
    "    session_folders = [x.replace(\"\\\\\", \"/\") for x in session_folders]\n",
    "    # Second level\n",
    "    files = [[session_folder, os.path.join(session_folder, name).replace('\\\\', '/')] for session_folder in session_folders for name in os.listdir(\n",
    "        session_folder) if os.path.isdir(os.path.join(session_folder, name)) and not \"merged_data\" in name]\n",
    "    # only get last value after /\n",
    "    session_list = [[session_folder.split(\"/\")[-1], name.split(\"/\")[-1]]\n",
    "                    for session_folder, name in files]\n",
    "\n",
    "    # drop ['LPE10919', '2023_11_08'] because the data is not converted yet\n",
    "    session_list = [x for x in session_list if x != ['LPE10919', '2023_11_08']]\n",
    "\n",
    "if sessions_to_keep != 'all':\n",
    "    session_list = [x for x in session_list if x in sessions_to_keep]\n",
    "\n",
    "session_list = np.array(session_list)\n",
    "\n",
    "print(session_list)"
   ]
  },
  {
   "cell_type": "code",
   "execution_count": 5,
   "metadata": {},
   "outputs": [
    {
     "data": {
      "application/vnd.jupyter.widget-view+json": {
       "model_id": "6478915793954699b10750549b7899e3",
       "version_major": 2,
       "version_minor": 0
      },
      "text/plain": [
       "Computing average response for response matrix:   0%|          | 0/5600 [00:00<?, ?it/s]"
      ]
     },
     "metadata": {},
     "output_type": "display_data"
    },
    {
     "data": {
      "application/vnd.jupyter.widget-view+json": {
       "model_id": "82ecb097ea7444c1952d745dcb4ce0dd",
       "version_major": 2,
       "version_minor": 0
      },
      "text/plain": [
       "Computing average response for runspeed:   0%|          | 0/5600 [00:00<?, ?it/s]"
      ]
     },
     "metadata": {},
     "output_type": "display_data"
    },
    {
     "data": {
      "application/vnd.jupyter.widget-view+json": {
       "model_id": "ad3155b82c0e4b1082090c283a1dd17e",
       "version_major": 2,
       "version_minor": 0
      },
      "text/plain": [
       "Computing average response for motion energy:   0%|          | 0/5600 [00:00<?, ?it/s]"
      ]
     },
     "metadata": {},
     "output_type": "display_data"
    },
    {
     "data": {
      "application/vnd.jupyter.widget-view+json": {
       "model_id": "f488a5e8ce794e86b46ee8dfb778842f",
       "version_major": 2,
       "version_minor": 0
      },
      "text/plain": [
       "Computing average response for pupil x position:   0%|          | 0/5600 [00:00<?, ?it/s]"
      ]
     },
     "metadata": {},
     "output_type": "display_data"
    },
    {
     "data": {
      "application/vnd.jupyter.widget-view+json": {
       "model_id": "c23e1fc06c7c4f42b9f5fcb0a21e2a61",
       "version_major": 2,
       "version_minor": 0
      },
      "text/plain": [
       "Computing average response for pupil y position:   0%|          | 0/5600 [00:00<?, ?it/s]"
      ]
     },
     "metadata": {},
     "output_type": "display_data"
    },
    {
     "data": {
      "application/vnd.jupyter.widget-view+json": {
       "model_id": "840819c2c4654da39e4c45896a59cc8e",
       "version_major": 2,
       "version_minor": 0
      },
      "text/plain": [
       "Computing average response for pupil area:   0%|          | 0/5600 [00:00<?, ?it/s]"
      ]
     },
     "metadata": {},
     "output_type": "display_data"
    },
    {
     "data": {
      "application/vnd.jupyter.widget-view+json": {
       "model_id": "59dfac9e467a490b9ca4f78627ddb6d6",
       "version_major": 2,
       "version_minor": 0
      },
      "text/plain": [
       "Computing average response for response matrix:   0%|          | 0/5600 [00:00<?, ?it/s]"
      ]
     },
     "metadata": {},
     "output_type": "display_data"
    },
    {
     "data": {
      "application/vnd.jupyter.widget-view+json": {
       "model_id": "d42f96999df842e2b97e43d01376c79f",
       "version_major": 2,
       "version_minor": 0
      },
      "text/plain": [
       "Computing average response for runspeed:   0%|          | 0/5600 [00:00<?, ?it/s]"
      ]
     },
     "metadata": {},
     "output_type": "display_data"
    },
    {
     "data": {
      "application/vnd.jupyter.widget-view+json": {
       "model_id": "fb500a21115c4132850fa4726daec44e",
       "version_major": 2,
       "version_minor": 0
      },
      "text/plain": [
       "Computing average response for motion energy:   0%|          | 0/5600 [00:00<?, ?it/s]"
      ]
     },
     "metadata": {},
     "output_type": "display_data"
    },
    {
     "data": {
      "application/vnd.jupyter.widget-view+json": {
       "model_id": "ad8b433c77aa4e258c9d6563ebccc87a",
       "version_major": 2,
       "version_minor": 0
      },
      "text/plain": [
       "Computing average response for pupil x position:   0%|          | 0/5600 [00:00<?, ?it/s]"
      ]
     },
     "metadata": {},
     "output_type": "display_data"
    },
    {
     "data": {
      "application/vnd.jupyter.widget-view+json": {
       "model_id": "58adc5db736b4b08a3e5424caeeb0dbc",
       "version_major": 2,
       "version_minor": 0
      },
      "text/plain": [
       "Computing average response for pupil y position:   0%|          | 0/5600 [00:00<?, ?it/s]"
      ]
     },
     "metadata": {},
     "output_type": "display_data"
    },
    {
     "data": {
      "application/vnd.jupyter.widget-view+json": {
       "model_id": "343b0fc7ccb942edb47f870cc95270da",
       "version_major": 2,
       "version_minor": 0
      },
      "text/plain": [
       "Computing average response for pupil area:   0%|          | 0/5600 [00:00<?, ?it/s]"
      ]
     },
     "metadata": {},
     "output_type": "display_data"
    },
    {
     "data": {
      "application/vnd.jupyter.widget-view+json": {
       "model_id": "fc2456df9a564ad58513f4289c1cbb68",
       "version_major": 2,
       "version_minor": 0
      },
      "text/plain": [
       "Computing average response for response matrix:   0%|          | 0/5600 [00:00<?, ?it/s]"
      ]
     },
     "metadata": {},
     "output_type": "display_data"
    },
    {
     "data": {
      "application/vnd.jupyter.widget-view+json": {
       "model_id": "e0d3ee06c5eb46d49f39627a645b5d84",
       "version_major": 2,
       "version_minor": 0
      },
      "text/plain": [
       "Computing average response for runspeed:   0%|          | 0/5600 [00:00<?, ?it/s]"
      ]
     },
     "metadata": {},
     "output_type": "display_data"
    },
    {
     "data": {
      "application/vnd.jupyter.widget-view+json": {
       "model_id": "5d2433ca18054bb9bec34dbbb45b90ea",
       "version_major": 2,
       "version_minor": 0
      },
      "text/plain": [
       "Computing average response for motion energy:   0%|          | 0/5600 [00:00<?, ?it/s]"
      ]
     },
     "metadata": {},
     "output_type": "display_data"
    },
    {
     "data": {
      "application/vnd.jupyter.widget-view+json": {
       "model_id": "bbf15d8cee3d49d9ae9adc3a2b2df52b",
       "version_major": 2,
       "version_minor": 0
      },
      "text/plain": [
       "Computing average response for pupil x position:   0%|          | 0/5600 [00:00<?, ?it/s]"
      ]
     },
     "metadata": {},
     "output_type": "display_data"
    },
    {
     "data": {
      "application/vnd.jupyter.widget-view+json": {
       "model_id": "087d532a28c84ce69a9efce92dbd61ba",
       "version_major": 2,
       "version_minor": 0
      },
      "text/plain": [
       "Computing average response for pupil y position:   0%|          | 0/5600 [00:00<?, ?it/s]"
      ]
     },
     "metadata": {},
     "output_type": "display_data"
    },
    {
     "data": {
      "application/vnd.jupyter.widget-view+json": {
       "model_id": "6ffbf074ed3a4a419ab7a2cee9636528",
       "version_major": 2,
       "version_minor": 0
      },
      "text/plain": [
       "Computing average response for pupil area:   0%|          | 0/5600 [00:00<?, ?it/s]"
      ]
     },
     "metadata": {},
     "output_type": "display_data"
    },
    {
     "data": {
      "application/vnd.jupyter.widget-view+json": {
       "model_id": "90199678e9e14242b1b211445a1355ef",
       "version_major": 2,
       "version_minor": 0
      },
      "text/plain": [
       "Computing average response for response matrix:   0%|          | 0/5600 [00:00<?, ?it/s]"
      ]
     },
     "metadata": {},
     "output_type": "display_data"
    },
    {
     "data": {
      "application/vnd.jupyter.widget-view+json": {
       "model_id": "51733798e9a54c22aabb7cc82bb51d26",
       "version_major": 2,
       "version_minor": 0
      },
      "text/plain": [
       "Computing average response for runspeed:   0%|          | 0/5600 [00:00<?, ?it/s]"
      ]
     },
     "metadata": {},
     "output_type": "display_data"
    },
    {
     "data": {
      "application/vnd.jupyter.widget-view+json": {
       "model_id": "c48aea7433b74bd982fc16b3c3e8cfcd",
       "version_major": 2,
       "version_minor": 0
      },
      "text/plain": [
       "Computing average response for motion energy:   0%|          | 0/5600 [00:00<?, ?it/s]"
      ]
     },
     "metadata": {},
     "output_type": "display_data"
    },
    {
     "data": {
      "application/vnd.jupyter.widget-view+json": {
       "model_id": "b6d48a867fe8438fa9487178ca57d74c",
       "version_major": 2,
       "version_minor": 0
      },
      "text/plain": [
       "Computing average response for pupil x position:   0%|          | 0/5600 [00:00<?, ?it/s]"
      ]
     },
     "metadata": {},
     "output_type": "display_data"
    },
    {
     "data": {
      "application/vnd.jupyter.widget-view+json": {
       "model_id": "78685f92e83145a28a61bab5fe5c46c9",
       "version_major": 2,
       "version_minor": 0
      },
      "text/plain": [
       "Computing average response for pupil y position:   0%|          | 0/5600 [00:00<?, ?it/s]"
      ]
     },
     "metadata": {},
     "output_type": "display_data"
    },
    {
     "data": {
      "application/vnd.jupyter.widget-view+json": {
       "model_id": "d0d743fd96e44da8aef4373eceb39dd5",
       "version_major": 2,
       "version_minor": 0
      },
      "text/plain": [
       "Computing average response for pupil area:   0%|          | 0/5600 [00:00<?, ?it/s]"
      ]
     },
     "metadata": {},
     "output_type": "display_data"
    },
    {
     "data": {
      "application/vnd.jupyter.widget-view+json": {
       "model_id": "ae43790efd4a438ca79f42d59ead5ab2",
       "version_major": 2,
       "version_minor": 0
      },
      "text/plain": [
       "Computing average response for response matrix:   0%|          | 0/5600 [00:00<?, ?it/s]"
      ]
     },
     "metadata": {},
     "output_type": "display_data"
    },
    {
     "data": {
      "application/vnd.jupyter.widget-view+json": {
       "model_id": "cecae6bd37854ed2a82105daf7292fba",
       "version_major": 2,
       "version_minor": 0
      },
      "text/plain": [
       "Computing average response for runspeed:   0%|          | 0/5600 [00:00<?, ?it/s]"
      ]
     },
     "metadata": {},
     "output_type": "display_data"
    },
    {
     "data": {
      "application/vnd.jupyter.widget-view+json": {
       "model_id": "e3b7c7afefe647a7becdfa38c731db78",
       "version_major": 2,
       "version_minor": 0
      },
      "text/plain": [
       "Computing average response for motion energy:   0%|          | 0/5600 [00:00<?, ?it/s]"
      ]
     },
     "metadata": {},
     "output_type": "display_data"
    },
    {
     "data": {
      "application/vnd.jupyter.widget-view+json": {
       "model_id": "ddccf92f8c58488d918302ae278c9488",
       "version_major": 2,
       "version_minor": 0
      },
      "text/plain": [
       "Computing average response for pupil x position:   0%|          | 0/5600 [00:00<?, ?it/s]"
      ]
     },
     "metadata": {},
     "output_type": "display_data"
    },
    {
     "data": {
      "application/vnd.jupyter.widget-view+json": {
       "model_id": "e42175ed49d84869a50641967abfb023",
       "version_major": 2,
       "version_minor": 0
      },
      "text/plain": [
       "Computing average response for pupil y position:   0%|          | 0/5600 [00:00<?, ?it/s]"
      ]
     },
     "metadata": {},
     "output_type": "display_data"
    },
    {
     "data": {
      "application/vnd.jupyter.widget-view+json": {
       "model_id": "cedf4dd21f4a4f6c8d64db512d40a342",
       "version_major": 2,
       "version_minor": 0
      },
      "text/plain": [
       "Computing average response for pupil area:   0%|          | 0/5600 [00:00<?, ?it/s]"
      ]
     },
     "metadata": {},
     "output_type": "display_data"
    },
    {
     "data": {
      "application/vnd.jupyter.widget-view+json": {
       "model_id": "4fb9a6cfbaa443b8a26b426bad5d462e",
       "version_major": 2,
       "version_minor": 0
      },
      "text/plain": [
       "Computing average response for response matrix:   0%|          | 0/5600 [00:00<?, ?it/s]"
      ]
     },
     "metadata": {},
     "output_type": "display_data"
    },
    {
     "data": {
      "application/vnd.jupyter.widget-view+json": {
       "model_id": "499aadedc232492eb9720cd1e85767d5",
       "version_major": 2,
       "version_minor": 0
      },
      "text/plain": [
       "Computing average response for runspeed:   0%|          | 0/5600 [00:00<?, ?it/s]"
      ]
     },
     "metadata": {},
     "output_type": "display_data"
    },
    {
     "data": {
      "application/vnd.jupyter.widget-view+json": {
       "model_id": "814a5aa3793749ed9783617eb24856e2",
       "version_major": 2,
       "version_minor": 0
      },
      "text/plain": [
       "Computing average response for motion energy:   0%|          | 0/5600 [00:00<?, ?it/s]"
      ]
     },
     "metadata": {},
     "output_type": "display_data"
    },
    {
     "data": {
      "application/vnd.jupyter.widget-view+json": {
       "model_id": "090daeb24ad84ddd8e9c41453836015c",
       "version_major": 2,
       "version_minor": 0
      },
      "text/plain": [
       "Computing average response for pupil x position:   0%|          | 0/5600 [00:00<?, ?it/s]"
      ]
     },
     "metadata": {},
     "output_type": "display_data"
    },
    {
     "data": {
      "application/vnd.jupyter.widget-view+json": {
       "model_id": "6667da34ea6648199a515c4f339666a3",
       "version_major": 2,
       "version_minor": 0
      },
      "text/plain": [
       "Computing average response for pupil y position:   0%|          | 0/5600 [00:00<?, ?it/s]"
      ]
     },
     "metadata": {},
     "output_type": "display_data"
    },
    {
     "data": {
      "application/vnd.jupyter.widget-view+json": {
       "model_id": "b49bf057e50842b3a8f1ab0d0ec83dc6",
       "version_major": 2,
       "version_minor": 0
      },
      "text/plain": [
       "Computing average response for pupil area:   0%|          | 0/5600 [00:00<?, ?it/s]"
      ]
     },
     "metadata": {},
     "output_type": "display_data"
    },
    {
     "data": {
      "application/vnd.jupyter.widget-view+json": {
       "model_id": "0ef9b921e38b412e832ab980c2135a79",
       "version_major": 2,
       "version_minor": 0
      },
      "text/plain": [
       "Computing average response for response matrix:   0%|          | 0/5600 [00:00<?, ?it/s]"
      ]
     },
     "metadata": {},
     "output_type": "display_data"
    },
    {
     "data": {
      "application/vnd.jupyter.widget-view+json": {
       "model_id": "784f1585755545e7b8bef62d40948ead",
       "version_major": 2,
       "version_minor": 0
      },
      "text/plain": [
       "Computing average response for runspeed:   0%|          | 0/5600 [00:00<?, ?it/s]"
      ]
     },
     "metadata": {},
     "output_type": "display_data"
    },
    {
     "data": {
      "application/vnd.jupyter.widget-view+json": {
       "model_id": "1c063c46d3fb48bf85c0c5d0625c28aa",
       "version_major": 2,
       "version_minor": 0
      },
      "text/plain": [
       "Computing average response for motion energy:   0%|          | 0/5600 [00:00<?, ?it/s]"
      ]
     },
     "metadata": {},
     "output_type": "display_data"
    },
    {
     "data": {
      "application/vnd.jupyter.widget-view+json": {
       "model_id": "c7e8e3dc1c384634818647b2a07afac9",
       "version_major": 2,
       "version_minor": 0
      },
      "text/plain": [
       "Computing average response for pupil x position:   0%|          | 0/5600 [00:00<?, ?it/s]"
      ]
     },
     "metadata": {},
     "output_type": "display_data"
    },
    {
     "data": {
      "application/vnd.jupyter.widget-view+json": {
       "model_id": "5e4fa615c9df4ba688b15ffef61bd0fe",
       "version_major": 2,
       "version_minor": 0
      },
      "text/plain": [
       "Computing average response for pupil y position:   0%|          | 0/5600 [00:00<?, ?it/s]"
      ]
     },
     "metadata": {},
     "output_type": "display_data"
    },
    {
     "data": {
      "application/vnd.jupyter.widget-view+json": {
       "model_id": "39c0e33d090a4bb481dec55b073b941b",
       "version_major": 2,
       "version_minor": 0
      },
      "text/plain": [
       "Computing average response for pupil area:   0%|          | 0/5600 [00:00<?, ?it/s]"
      ]
     },
     "metadata": {},
     "output_type": "display_data"
    },
    {
     "data": {
      "application/vnd.jupyter.widget-view+json": {
       "model_id": "6deea8b0078e4a55b0f63a56a0e3f881",
       "version_major": 2,
       "version_minor": 0
      },
      "text/plain": [
       "Computing average response for response matrix:   0%|          | 0/5600 [00:00<?, ?it/s]"
      ]
     },
     "metadata": {},
     "output_type": "display_data"
    },
    {
     "data": {
      "application/vnd.jupyter.widget-view+json": {
       "model_id": "9de7dfaa3fd54b58827b749979b32ad1",
       "version_major": 2,
       "version_minor": 0
      },
      "text/plain": [
       "Computing average response for runspeed:   0%|          | 0/5600 [00:00<?, ?it/s]"
      ]
     },
     "metadata": {},
     "output_type": "display_data"
    },
    {
     "data": {
      "application/vnd.jupyter.widget-view+json": {
       "model_id": "6c016cbf8431438faba8089f4369ea1c",
       "version_major": 2,
       "version_minor": 0
      },
      "text/plain": [
       "Computing average response for motion energy:   0%|          | 0/5600 [00:00<?, ?it/s]"
      ]
     },
     "metadata": {},
     "output_type": "display_data"
    },
    {
     "data": {
      "application/vnd.jupyter.widget-view+json": {
       "model_id": "ea919bc92fba4808ab79a0d897101937",
       "version_major": 2,
       "version_minor": 0
      },
      "text/plain": [
       "Computing average response for pupil x position:   0%|          | 0/5600 [00:00<?, ?it/s]"
      ]
     },
     "metadata": {},
     "output_type": "display_data"
    },
    {
     "data": {
      "application/vnd.jupyter.widget-view+json": {
       "model_id": "f3a60b367f554a079c97a485e2185291",
       "version_major": 2,
       "version_minor": 0
      },
      "text/plain": [
       "Computing average response for pupil y position:   0%|          | 0/5600 [00:00<?, ?it/s]"
      ]
     },
     "metadata": {},
     "output_type": "display_data"
    },
    {
     "data": {
      "application/vnd.jupyter.widget-view+json": {
       "model_id": "d5e75a27d1004b089559886f63b79d01",
       "version_major": 2,
       "version_minor": 0
      },
      "text/plain": [
       "Computing average response for pupil area:   0%|          | 0/5600 [00:00<?, ?it/s]"
      ]
     },
     "metadata": {},
     "output_type": "display_data"
    },
    {
     "data": {
      "application/vnd.jupyter.widget-view+json": {
       "model_id": "5bc3914930f14cf5ac57026c1535b618",
       "version_major": 2,
       "version_minor": 0
      },
      "text/plain": [
       "Computing average response for response matrix:   0%|          | 0/5600 [00:00<?, ?it/s]"
      ]
     },
     "metadata": {},
     "output_type": "display_data"
    },
    {
     "data": {
      "application/vnd.jupyter.widget-view+json": {
       "model_id": "083861470234454dae286af0646abde7",
       "version_major": 2,
       "version_minor": 0
      },
      "text/plain": [
       "Computing average response for runspeed:   0%|          | 0/5600 [00:00<?, ?it/s]"
      ]
     },
     "metadata": {},
     "output_type": "display_data"
    },
    {
     "data": {
      "application/vnd.jupyter.widget-view+json": {
       "model_id": "de433f2089804b1f871c04c23a39d474",
       "version_major": 2,
       "version_minor": 0
      },
      "text/plain": [
       "Computing average response for motion energy:   0%|          | 0/5600 [00:00<?, ?it/s]"
      ]
     },
     "metadata": {},
     "output_type": "display_data"
    },
    {
     "data": {
      "application/vnd.jupyter.widget-view+json": {
       "model_id": "9ebd3c1f3924423eace1b358fb1a547c",
       "version_major": 2,
       "version_minor": 0
      },
      "text/plain": [
       "Computing average response for pupil x position:   0%|          | 0/5600 [00:00<?, ?it/s]"
      ]
     },
     "metadata": {},
     "output_type": "display_data"
    },
    {
     "data": {
      "application/vnd.jupyter.widget-view+json": {
       "model_id": "e22d0776b7da4293832be9b04037c148",
       "version_major": 2,
       "version_minor": 0
      },
      "text/plain": [
       "Computing average response for pupil y position:   0%|          | 0/5600 [00:00<?, ?it/s]"
      ]
     },
     "metadata": {},
     "output_type": "display_data"
    },
    {
     "data": {
      "application/vnd.jupyter.widget-view+json": {
       "model_id": "f949bc3da71740649eb9889dd53aceb5",
       "version_major": 2,
       "version_minor": 0
      },
      "text/plain": [
       "Computing average response for pupil area:   0%|          | 0/5600 [00:00<?, ?it/s]"
      ]
     },
     "metadata": {},
     "output_type": "display_data"
    },
    {
     "data": {
      "application/vnd.jupyter.widget-view+json": {
       "model_id": "1d19eaa381d14f7cb57bf8276c7986d5",
       "version_major": 2,
       "version_minor": 0
      },
      "text/plain": [
       "Computing average response for response matrix:   0%|          | 0/5600 [00:00<?, ?it/s]"
      ]
     },
     "metadata": {},
     "output_type": "display_data"
    },
    {
     "data": {
      "application/vnd.jupyter.widget-view+json": {
       "model_id": "12e9181270024fe7b1c4bf0ec79a9b16",
       "version_major": 2,
       "version_minor": 0
      },
      "text/plain": [
       "Computing average response for runspeed:   0%|          | 0/5600 [00:00<?, ?it/s]"
      ]
     },
     "metadata": {},
     "output_type": "display_data"
    },
    {
     "data": {
      "application/vnd.jupyter.widget-view+json": {
       "model_id": "b165da4a6b784f9fbb1d060158008648",
       "version_major": 2,
       "version_minor": 0
      },
      "text/plain": [
       "Computing average response for motion energy:   0%|          | 0/5600 [00:00<?, ?it/s]"
      ]
     },
     "metadata": {},
     "output_type": "display_data"
    },
    {
     "data": {
      "application/vnd.jupyter.widget-view+json": {
       "model_id": "6231f77c30684b2fbcaff93e5a0a6f8e",
       "version_major": 2,
       "version_minor": 0
      },
      "text/plain": [
       "Computing average response for pupil x position:   0%|          | 0/5600 [00:00<?, ?it/s]"
      ]
     },
     "metadata": {},
     "output_type": "display_data"
    },
    {
     "data": {
      "application/vnd.jupyter.widget-view+json": {
       "model_id": "831536735dab48969cd816f30129ce7d",
       "version_major": 2,
       "version_minor": 0
      },
      "text/plain": [
       "Computing average response for pupil y position:   0%|          | 0/5600 [00:00<?, ?it/s]"
      ]
     },
     "metadata": {},
     "output_type": "display_data"
    },
    {
     "data": {
      "application/vnd.jupyter.widget-view+json": {
       "model_id": "75f43a63fc93445ca8435e97535b6731",
       "version_major": 2,
       "version_minor": 0
      },
      "text/plain": [
       "Computing average response for pupil area:   0%|          | 0/5600 [00:00<?, ?it/s]"
      ]
     },
     "metadata": {},
     "output_type": "display_data"
    },
    {
     "data": {
      "application/vnd.jupyter.widget-view+json": {
       "model_id": "c1f6f657d36643b989912ab5ea8ca202",
       "version_major": 2,
       "version_minor": 0
      },
      "text/plain": [
       "Computing average response for response matrix:   0%|          | 0/5600 [00:00<?, ?it/s]"
      ]
     },
     "metadata": {},
     "output_type": "display_data"
    },
    {
     "data": {
      "application/vnd.jupyter.widget-view+json": {
       "model_id": "f89ed1e73503472799c84d751cd1a292",
       "version_major": 2,
       "version_minor": 0
      },
      "text/plain": [
       "Computing average response for runspeed:   0%|          | 0/5600 [00:00<?, ?it/s]"
      ]
     },
     "metadata": {},
     "output_type": "display_data"
    },
    {
     "data": {
      "application/vnd.jupyter.widget-view+json": {
       "model_id": "b6926e0d63a34941a61335ed722f0969",
       "version_major": 2,
       "version_minor": 0
      },
      "text/plain": [
       "Computing average response for motion energy:   0%|          | 0/5600 [00:00<?, ?it/s]"
      ]
     },
     "metadata": {},
     "output_type": "display_data"
    },
    {
     "data": {
      "application/vnd.jupyter.widget-view+json": {
       "model_id": "48f85c11399e4ba58e853f38fc1bb7d5",
       "version_major": 2,
       "version_minor": 0
      },
      "text/plain": [
       "Computing average response for pupil x position:   0%|          | 0/5600 [00:00<?, ?it/s]"
      ]
     },
     "metadata": {},
     "output_type": "display_data"
    },
    {
     "data": {
      "application/vnd.jupyter.widget-view+json": {
       "model_id": "2d03da11748a48ef89f4a39a24cdf043",
       "version_major": 2,
       "version_minor": 0
      },
      "text/plain": [
       "Computing average response for pupil y position:   0%|          | 0/5600 [00:00<?, ?it/s]"
      ]
     },
     "metadata": {},
     "output_type": "display_data"
    },
    {
     "data": {
      "application/vnd.jupyter.widget-view+json": {
       "model_id": "fee8161105214d47aaf46b5a14cff459",
       "version_major": 2,
       "version_minor": 0
      },
      "text/plain": [
       "Computing average response for pupil area:   0%|          | 0/5600 [00:00<?, ?it/s]"
      ]
     },
     "metadata": {},
     "output_type": "display_data"
    },
    {
     "data": {
      "application/vnd.jupyter.widget-view+json": {
       "model_id": "29cac3fa1e9141b88a1f8be061299a4c",
       "version_major": 2,
       "version_minor": 0
      },
      "text/plain": [
       "Computing average response for response matrix:   0%|          | 0/5600 [00:00<?, ?it/s]"
      ]
     },
     "metadata": {},
     "output_type": "display_data"
    },
    {
     "data": {
      "application/vnd.jupyter.widget-view+json": {
       "model_id": "54990b837363473fb3b8b01f3e83f562",
       "version_major": 2,
       "version_minor": 0
      },
      "text/plain": [
       "Computing average response for runspeed:   0%|          | 0/5600 [00:00<?, ?it/s]"
      ]
     },
     "metadata": {},
     "output_type": "display_data"
    },
    {
     "data": {
      "application/vnd.jupyter.widget-view+json": {
       "model_id": "1d46572e892d4e60ab1f15f0f877c6a1",
       "version_major": 2,
       "version_minor": 0
      },
      "text/plain": [
       "Computing average response for motion energy:   0%|          | 0/5600 [00:00<?, ?it/s]"
      ]
     },
     "metadata": {},
     "output_type": "display_data"
    },
    {
     "data": {
      "application/vnd.jupyter.widget-view+json": {
       "model_id": "16c7a47848aa41cc988b404a15496d7b",
       "version_major": 2,
       "version_minor": 0
      },
      "text/plain": [
       "Computing average response for pupil x position:   0%|          | 0/5600 [00:00<?, ?it/s]"
      ]
     },
     "metadata": {},
     "output_type": "display_data"
    },
    {
     "data": {
      "application/vnd.jupyter.widget-view+json": {
       "model_id": "04afe54d0f0c46f0aa5ebe9ccebde9e7",
       "version_major": 2,
       "version_minor": 0
      },
      "text/plain": [
       "Computing average response for pupil y position:   0%|          | 0/5600 [00:00<?, ?it/s]"
      ]
     },
     "metadata": {},
     "output_type": "display_data"
    },
    {
     "data": {
      "application/vnd.jupyter.widget-view+json": {
       "model_id": "de3331d4092743759bd0d613daeacdb4",
       "version_major": 2,
       "version_minor": 0
      },
      "text/plain": [
       "Computing average response for pupil area:   0%|          | 0/5600 [00:00<?, ?it/s]"
      ]
     },
     "metadata": {},
     "output_type": "display_data"
    },
    {
     "data": {
      "application/vnd.jupyter.widget-view+json": {
       "model_id": "329229a0c8144266b5db0b724180bcbe",
       "version_major": 2,
       "version_minor": 0
      },
      "text/plain": [
       "Computing average response for response matrix:   0%|          | 0/5600 [00:00<?, ?it/s]"
      ]
     },
     "metadata": {},
     "output_type": "display_data"
    },
    {
     "data": {
      "application/vnd.jupyter.widget-view+json": {
       "model_id": "7f02bacf8a2b43dc9cbbbd0014ea8a76",
       "version_major": 2,
       "version_minor": 0
      },
      "text/plain": [
       "Computing average response for runspeed:   0%|          | 0/5600 [00:00<?, ?it/s]"
      ]
     },
     "metadata": {},
     "output_type": "display_data"
    },
    {
     "data": {
      "application/vnd.jupyter.widget-view+json": {
       "model_id": "c86fa5f320214beeacdd2db975f1538d",
       "version_major": 2,
       "version_minor": 0
      },
      "text/plain": [
       "Computing average response for motion energy:   0%|          | 0/5600 [00:00<?, ?it/s]"
      ]
     },
     "metadata": {},
     "output_type": "display_data"
    },
    {
     "data": {
      "application/vnd.jupyter.widget-view+json": {
       "model_id": "e515921afa0e4288896587a9f35bf2d3",
       "version_major": 2,
       "version_minor": 0
      },
      "text/plain": [
       "Computing average response for pupil x position:   0%|          | 0/5600 [00:00<?, ?it/s]"
      ]
     },
     "metadata": {},
     "output_type": "display_data"
    },
    {
     "data": {
      "application/vnd.jupyter.widget-view+json": {
       "model_id": "a3e5d6b802fc49bd879028d566e13600",
       "version_major": 2,
       "version_minor": 0
      },
      "text/plain": [
       "Computing average response for pupil y position:   0%|          | 0/5600 [00:00<?, ?it/s]"
      ]
     },
     "metadata": {},
     "output_type": "display_data"
    },
    {
     "data": {
      "application/vnd.jupyter.widget-view+json": {
       "model_id": "3ca4a54e0ab84bad96cf7615cd0c1a1a",
       "version_major": 2,
       "version_minor": 0
      },
      "text/plain": [
       "Computing average response for pupil area:   0%|          | 0/5600 [00:00<?, ?it/s]"
      ]
     },
     "metadata": {},
     "output_type": "display_data"
    },
    {
     "name": "stderr",
     "output_type": "stream",
     "text": [
      "Computing pairwise anatomical distance for each session: 100%|██████████| 13/13 [00:01<00:00, 10.05it/s]\n",
      "Smoothed interpolation of missing RF: 100%|██████████| 13/13 [00:02<00:00,  4.38it/s]\n",
      "Setting outlier RFs to NaN: 100%|██████████| 13/13 [00:00<?, ?it/s]\n"
     ]
    }
   ],
   "source": [
    "sessions, nSessions = load_sessions(protocol='IM', session_list=session_list, data_folder = INPUT_FOLDER)\n",
    "\n",
    "for ises in range(nSessions):    # Load proper data and compute average trial responses:\n",
    "    sessions[ises].load_respmat(calciumversion='deconv', keepraw=False)\n",
    "\n",
    "sessions = compute_pairwise_anatomical_distance(sessions)\n",
    "sessions = smooth_rf(sessions,radius=75,rf_type='Fneu')\n",
    "sessions = exclude_outlier_rf(sessions) \n",
    "sessions = replace_smooth_with_Fsig(sessions) "
   ]
  },
  {
   "cell_type": "code",
   "execution_count": 6,
   "metadata": {},
   "outputs": [
    {
     "data": {
      "text/html": [
       "<div>\n",
       "<style scoped>\n",
       "    .dataframe tbody tr th:only-of-type {\n",
       "        vertical-align: middle;\n",
       "    }\n",
       "\n",
       "    .dataframe tbody tr th {\n",
       "        vertical-align: top;\n",
       "    }\n",
       "\n",
       "    .dataframe thead th {\n",
       "        text-align: right;\n",
       "    }\n",
       "</style>\n",
       "<table border=\"1\" class=\"dataframe\">\n",
       "  <thead>\n",
       "    <tr style=\"text-align: right;\">\n",
       "      <th></th>\n",
       "      <th>cell_id</th>\n",
       "      <th>neuron_idx</th>\n",
       "      <th>index</th>\n",
       "    </tr>\n",
       "  </thead>\n",
       "  <tbody>\n",
       "    <tr>\n",
       "      <th>6</th>\n",
       "      <td>LPE13959_2025_02_17_0_0001</td>\n",
       "      <td>1</td>\n",
       "      <td>6</td>\n",
       "    </tr>\n",
       "    <tr>\n",
       "      <th>32</th>\n",
       "      <td>LPE13959_2025_02_17_0_0005</td>\n",
       "      <td>5</td>\n",
       "      <td>32</td>\n",
       "    </tr>\n",
       "    <tr>\n",
       "      <th>10</th>\n",
       "      <td>LPE13959_2025_02_17_0_0010</td>\n",
       "      <td>10</td>\n",
       "      <td>10</td>\n",
       "    </tr>\n",
       "    <tr>\n",
       "      <th>20</th>\n",
       "      <td>LPE13959_2025_02_17_0_0013</td>\n",
       "      <td>13</td>\n",
       "      <td>20</td>\n",
       "    </tr>\n",
       "    <tr>\n",
       "      <th>74</th>\n",
       "      <td>LPE13959_2025_02_17_0_0014</td>\n",
       "      <td>14</td>\n",
       "      <td>74</td>\n",
       "    </tr>\n",
       "    <tr>\n",
       "      <th>...</th>\n",
       "      <td>...</td>\n",
       "      <td>...</td>\n",
       "      <td>...</td>\n",
       "    </tr>\n",
       "    <tr>\n",
       "      <th>34</th>\n",
       "      <td>LPE13959_2025_02_17_7_0028</td>\n",
       "      <td>132</td>\n",
       "      <td>34</td>\n",
       "    </tr>\n",
       "    <tr>\n",
       "      <th>71</th>\n",
       "      <td>LPE13959_2025_02_17_7_0030</td>\n",
       "      <td>134</td>\n",
       "      <td>71</td>\n",
       "    </tr>\n",
       "    <tr>\n",
       "      <th>66</th>\n",
       "      <td>LPE13959_2025_02_17_7_0031</td>\n",
       "      <td>135</td>\n",
       "      <td>66</td>\n",
       "    </tr>\n",
       "    <tr>\n",
       "      <th>53</th>\n",
       "      <td>LPE13959_2025_02_17_7_0033</td>\n",
       "      <td>136</td>\n",
       "      <td>53</td>\n",
       "    </tr>\n",
       "    <tr>\n",
       "      <th>55</th>\n",
       "      <td>LPE13959_2025_02_17_7_0043</td>\n",
       "      <td>138</td>\n",
       "      <td>55</td>\n",
       "    </tr>\n",
       "  </tbody>\n",
       "</table>\n",
       "<p>150 rows × 3 columns</p>\n",
       "</div>"
      ],
      "text/plain": [
       "                       cell_id  neuron_idx  index\n",
       "6   LPE13959_2025_02_17_0_0001           1      6\n",
       "32  LPE13959_2025_02_17_0_0005           5     32\n",
       "10  LPE13959_2025_02_17_0_0010          10     10\n",
       "20  LPE13959_2025_02_17_0_0013          13     20\n",
       "74  LPE13959_2025_02_17_0_0014          14     74\n",
       "..                         ...         ...    ...\n",
       "34  LPE13959_2025_02_17_7_0028         132     34\n",
       "71  LPE13959_2025_02_17_7_0030         134     71\n",
       "66  LPE13959_2025_02_17_7_0031         135     66\n",
       "53  LPE13959_2025_02_17_7_0033         136     53\n",
       "55  LPE13959_2025_02_17_7_0043         138     55\n",
       "\n",
       "[150 rows x 3 columns]"
      ]
     },
     "execution_count": 6,
     "metadata": {},
     "output_type": "execute_result"
    }
   ],
   "source": [
    "MEI_cell_ids_V1 = pd.read_csv('runs/V1_MEI_in_vivo_validation_with_grid_mean_predictor/results/cell_ids.csv')\n",
    "MEI_cell_ids_PM = pd.read_csv('runs/PM_MEI_in_vivo_validation_with_grid_mean_predictor/results/cell_ids.csv')\n",
    "\n",
    "MEI_cell_ids = pd.concat([MEI_cell_ids_V1, MEI_cell_ids_PM])\n",
    "MEI_cell_ids['index'] = MEI_cell_ids.index\n",
    "MEI_cell_ids.sort_values('cell_id', inplace=True)\n",
    "MEI_cell_ids"
   ]
  },
  {
   "cell_type": "code",
   "execution_count": 7,
   "metadata": {},
   "outputs": [
    {
     "data": {
      "text/plain": [
       "(11, 12)"
      ]
     },
     "execution_count": 7,
     "metadata": {},
     "output_type": "execute_result"
    }
   ],
   "source": [
    "session_reference = [['LPE13959', '2025_02_17']]\n",
    "session_reference_idx = np.argwhere(np.all(session_list == session_reference, axis=-1))[0, 0]\n",
    "session_MEI_idx = np.argwhere(np.all(session_list == MEI_validation_session, axis=-1))[0, 0]\n",
    "session_reference_idx, session_MEI_idx"
   ]
  },
  {
   "cell_type": "code",
   "execution_count": 8,
   "metadata": {},
   "outputs": [],
   "source": [
    "sess_ref = sessions[session_reference_idx]\n",
    "sess_MEI = sessions[session_MEI_idx]"
   ]
  },
  {
   "cell_type": "code",
   "execution_count": 9,
   "metadata": {},
   "outputs": [
    {
     "data": {
      "text/plain": [
       "Index(['iscell', 'iscell_prob', 'skew', 'radius', 'npix_soma', 'npix', 'xloc', 'yloc', 'redcell', 'frac_of_ROI_red', 'frac_red_in_ROI', 'chan2_prob', 'nredcells', 'plane_idx', 'roi_idx', 'plane_in_roi_idx', 'roi_name', 'depth', 'power_mw', 'labeled', 'arealabel', 'meanF', 'meanF_chan2', 'noise_level', 'event_rate', 'cell_id', 'layer', 'recombinase', 'session_id'], dtype='object')"
      ]
     },
     "execution_count": 9,
     "metadata": {},
     "output_type": "execute_result"
    }
   ],
   "source": [
    "sess_ref.celldata.columns"
   ]
  },
  {
   "cell_type": "code",
   "execution_count": 10,
   "metadata": {},
   "outputs": [
    {
     "name": "stdout",
     "output_type": "stream",
     "text": [
      "145\n"
     ]
    }
   ],
   "source": [
    "celldata_overlapping = sess_MEI.celldata[~sess_MEI.celldata['ref_cell_id'].isna()]\n",
    "sess_MEI_ids = celldata_overlapping['cell_id'].values\n",
    "sess_ref_ids = celldata_overlapping['ref_cell_id'].values\n",
    "print(len(sess_MEI_ids))"
   ]
  },
  {
   "cell_type": "code",
   "execution_count": 11,
   "metadata": {},
   "outputs": [
    {
     "data": {
      "text/html": [
       "<div>\n",
       "<style scoped>\n",
       "    .dataframe tbody tr th:only-of-type {\n",
       "        vertical-align: middle;\n",
       "    }\n",
       "\n",
       "    .dataframe tbody tr th {\n",
       "        vertical-align: top;\n",
       "    }\n",
       "\n",
       "    .dataframe thead th {\n",
       "        text-align: right;\n",
       "    }\n",
       "</style>\n",
       "<table border=\"1\" class=\"dataframe\">\n",
       "  <thead>\n",
       "    <tr style=\"text-align: right;\">\n",
       "      <th></th>\n",
       "      <th>iscell</th>\n",
       "      <th>iscell_prob</th>\n",
       "      <th>skew</th>\n",
       "      <th>radius</th>\n",
       "      <th>npix_soma</th>\n",
       "      <th>npix</th>\n",
       "      <th>xloc</th>\n",
       "      <th>...</th>\n",
       "      <th>event_rate</th>\n",
       "      <th>cell_id</th>\n",
       "      <th>ref_cell_id</th>\n",
       "      <th>layer</th>\n",
       "      <th>recombinase</th>\n",
       "      <th>session_id</th>\n",
       "      <th>index</th>\n",
       "    </tr>\n",
       "  </thead>\n",
       "  <tbody>\n",
       "    <tr>\n",
       "      <th>31</th>\n",
       "      <td>1.0</td>\n",
       "      <td>0.995773</td>\n",
       "      <td>5.691400</td>\n",
       "      <td>6.283003</td>\n",
       "      <td>108.0</td>\n",
       "      <td>122.0</td>\n",
       "      <td>389.062500</td>\n",
       "      <td>...</td>\n",
       "      <td>0.033708</td>\n",
       "      <td>LPE13959_2025_02_19_0_0031</td>\n",
       "      <td>LPE13959_2025_02_17_0_0076</td>\n",
       "      <td>NaN</td>\n",
       "      <td>non</td>\n",
       "      <td>LPE13959_2025_02_19</td>\n",
       "      <td>31</td>\n",
       "    </tr>\n",
       "    <tr>\n",
       "      <th>48</th>\n",
       "      <td>1.0</td>\n",
       "      <td>0.989469</td>\n",
       "      <td>5.756721</td>\n",
       "      <td>5.829976</td>\n",
       "      <td>99.0</td>\n",
       "      <td>105.0</td>\n",
       "      <td>474.609375</td>\n",
       "      <td>...</td>\n",
       "      <td>0.030227</td>\n",
       "      <td>LPE13959_2025_02_19_0_0048</td>\n",
       "      <td>LPE13959_2025_02_17_0_0075</td>\n",
       "      <td>NaN</td>\n",
       "      <td>non</td>\n",
       "      <td>LPE13959_2025_02_19</td>\n",
       "      <td>48</td>\n",
       "    </tr>\n",
       "    <tr>\n",
       "      <th>84</th>\n",
       "      <td>1.0</td>\n",
       "      <td>0.896011</td>\n",
       "      <td>6.586605</td>\n",
       "      <td>4.331490</td>\n",
       "      <td>66.0</td>\n",
       "      <td>84.0</td>\n",
       "      <td>446.484375</td>\n",
       "      <td>...</td>\n",
       "      <td>0.030385</td>\n",
       "      <td>LPE13959_2025_02_19_0_0084</td>\n",
       "      <td>LPE13959_2025_02_17_0_0103</td>\n",
       "      <td>NaN</td>\n",
       "      <td>non</td>\n",
       "      <td>LPE13959_2025_02_19</td>\n",
       "      <td>84</td>\n",
       "    </tr>\n",
       "    <tr>\n",
       "      <th>178</th>\n",
       "      <td>1.0</td>\n",
       "      <td>0.980012</td>\n",
       "      <td>5.666001</td>\n",
       "      <td>3.864922</td>\n",
       "      <td>60.0</td>\n",
       "      <td>76.0</td>\n",
       "      <td>563.671875</td>\n",
       "      <td>...</td>\n",
       "      <td>0.034816</td>\n",
       "      <td>LPE13959_2025_02_19_0_0178</td>\n",
       "      <td>LPE13959_2025_02_17_0_0004</td>\n",
       "      <td>NaN</td>\n",
       "      <td>non</td>\n",
       "      <td>LPE13959_2025_02_19</td>\n",
       "      <td>178</td>\n",
       "    </tr>\n",
       "    <tr>\n",
       "      <th>211</th>\n",
       "      <td>1.0</td>\n",
       "      <td>0.951430</td>\n",
       "      <td>2.203072</td>\n",
       "      <td>5.918382</td>\n",
       "      <td>107.0</td>\n",
       "      <td>132.0</td>\n",
       "      <td>454.687500</td>\n",
       "      <td>...</td>\n",
       "      <td>0.075963</td>\n",
       "      <td>LPE13959_2025_02_19_0_0212</td>\n",
       "      <td>LPE13959_2025_02_17_0_0059</td>\n",
       "      <td>NaN</td>\n",
       "      <td>non</td>\n",
       "      <td>LPE13959_2025_02_19</td>\n",
       "      <td>211</td>\n",
       "    </tr>\n",
       "    <tr>\n",
       "      <th>...</th>\n",
       "      <td>...</td>\n",
       "      <td>...</td>\n",
       "      <td>...</td>\n",
       "      <td>...</td>\n",
       "      <td>...</td>\n",
       "      <td>...</td>\n",
       "      <td>...</td>\n",
       "      <td>...</td>\n",
       "      <td>...</td>\n",
       "      <td>...</td>\n",
       "      <td>...</td>\n",
       "      <td>...</td>\n",
       "      <td>...</td>\n",
       "      <td>...</td>\n",
       "      <td>...</td>\n",
       "    </tr>\n",
       "    <tr>\n",
       "      <th>2557</th>\n",
       "      <td>1.0</td>\n",
       "      <td>0.967917</td>\n",
       "      <td>2.457192</td>\n",
       "      <td>4.700889</td>\n",
       "      <td>67.0</td>\n",
       "      <td>75.0</td>\n",
       "      <td>194.531250</td>\n",
       "      <td>...</td>\n",
       "      <td>0.087993</td>\n",
       "      <td>LPE13959_2025_02_19_4_0634</td>\n",
       "      <td>LPE13959_2025_02_17_4_0001</td>\n",
       "      <td>NaN</td>\n",
       "      <td>non</td>\n",
       "      <td>LPE13959_2025_02_19</td>\n",
       "      <td>2557</td>\n",
       "    </tr>\n",
       "    <tr>\n",
       "      <th>2565</th>\n",
       "      <td>1.0</td>\n",
       "      <td>0.825754</td>\n",
       "      <td>2.321903</td>\n",
       "      <td>6.850117</td>\n",
       "      <td>79.0</td>\n",
       "      <td>84.0</td>\n",
       "      <td>578.906250</td>\n",
       "      <td>...</td>\n",
       "      <td>0.087201</td>\n",
       "      <td>LPE13959_2025_02_19_4_0668</td>\n",
       "      <td>LPE13959_2025_02_17_4_0197</td>\n",
       "      <td>NaN</td>\n",
       "      <td>non</td>\n",
       "      <td>LPE13959_2025_02_19</td>\n",
       "      <td>2565</td>\n",
       "    </tr>\n",
       "    <tr>\n",
       "      <th>2602</th>\n",
       "      <td>1.0</td>\n",
       "      <td>0.918892</td>\n",
       "      <td>3.354251</td>\n",
       "      <td>5.539449</td>\n",
       "      <td>91.0</td>\n",
       "      <td>105.0</td>\n",
       "      <td>575.390625</td>\n",
       "      <td>...</td>\n",
       "      <td>0.054283</td>\n",
       "      <td>LPE13959_2025_02_19_5_0030</td>\n",
       "      <td>LPE13959_2025_02_17_5_0004</td>\n",
       "      <td>NaN</td>\n",
       "      <td>non</td>\n",
       "      <td>LPE13959_2025_02_19</td>\n",
       "      <td>2602</td>\n",
       "    </tr>\n",
       "    <tr>\n",
       "      <th>2640</th>\n",
       "      <td>1.0</td>\n",
       "      <td>0.897049</td>\n",
       "      <td>0.102501</td>\n",
       "      <td>5.508993</td>\n",
       "      <td>95.0</td>\n",
       "      <td>554.0</td>\n",
       "      <td>200.390625</td>\n",
       "      <td>...</td>\n",
       "      <td>0.121386</td>\n",
       "      <td>LPE13959_2025_02_19_5_0097</td>\n",
       "      <td>LPE13959_2025_02_17_5_0003</td>\n",
       "      <td>NaN</td>\n",
       "      <td>non</td>\n",
       "      <td>LPE13959_2025_02_19</td>\n",
       "      <td>2640</td>\n",
       "    </tr>\n",
       "    <tr>\n",
       "      <th>2707</th>\n",
       "      <td>1.0</td>\n",
       "      <td>0.930630</td>\n",
       "      <td>4.224045</td>\n",
       "      <td>5.230083</td>\n",
       "      <td>87.0</td>\n",
       "      <td>91.0</td>\n",
       "      <td>575.390625</td>\n",
       "      <td>...</td>\n",
       "      <td>0.059189</td>\n",
       "      <td>LPE13959_2025_02_19_6_0056</td>\n",
       "      <td>LPE13959_2025_02_17_6_0012</td>\n",
       "      <td>NaN</td>\n",
       "      <td>non</td>\n",
       "      <td>LPE13959_2025_02_19</td>\n",
       "      <td>2707</td>\n",
       "    </tr>\n",
       "  </tbody>\n",
       "</table>\n",
       "<p>145 rows × 31 columns</p>\n",
       "</div>"
      ],
      "text/plain": [
       "      iscell  iscell_prob      skew    radius  npix_soma   npix        xloc  ...  event_rate                     cell_id                 ref_cell_id  layer  recombinase           session_id  index\n",
       "31       1.0     0.995773  5.691400  6.283003      108.0  122.0  389.062500  ...    0.033708  LPE13959_2025_02_19_0_0031  LPE13959_2025_02_17_0_0076    NaN          non  LPE13959_2025_02_19     31\n",
       "48       1.0     0.989469  5.756721  5.829976       99.0  105.0  474.609375  ...    0.030227  LPE13959_2025_02_19_0_0048  LPE13959_2025_02_17_0_0075    NaN          non  LPE13959_2025_02_19     48\n",
       "84       1.0     0.896011  6.586605  4.331490       66.0   84.0  446.484375  ...    0.030385  LPE13959_2025_02_19_0_0084  LPE13959_2025_02_17_0_0103    NaN          non  LPE13959_2025_02_19     84\n",
       "178      1.0     0.980012  5.666001  3.864922       60.0   76.0  563.671875  ...    0.034816  LPE13959_2025_02_19_0_0178  LPE13959_2025_02_17_0_0004    NaN          non  LPE13959_2025_02_19    178\n",
       "211      1.0     0.951430  2.203072  5.918382      107.0  132.0  454.687500  ...    0.075963  LPE13959_2025_02_19_0_0212  LPE13959_2025_02_17_0_0059    NaN          non  LPE13959_2025_02_19    211\n",
       "...      ...          ...       ...       ...        ...    ...         ...  ...         ...                         ...                         ...    ...          ...                  ...    ...\n",
       "2557     1.0     0.967917  2.457192  4.700889       67.0   75.0  194.531250  ...    0.087993  LPE13959_2025_02_19_4_0634  LPE13959_2025_02_17_4_0001    NaN          non  LPE13959_2025_02_19   2557\n",
       "2565     1.0     0.825754  2.321903  6.850117       79.0   84.0  578.906250  ...    0.087201  LPE13959_2025_02_19_4_0668  LPE13959_2025_02_17_4_0197    NaN          non  LPE13959_2025_02_19   2565\n",
       "2602     1.0     0.918892  3.354251  5.539449       91.0  105.0  575.390625  ...    0.054283  LPE13959_2025_02_19_5_0030  LPE13959_2025_02_17_5_0004    NaN          non  LPE13959_2025_02_19   2602\n",
       "2640     1.0     0.897049  0.102501  5.508993       95.0  554.0  200.390625  ...    0.121386  LPE13959_2025_02_19_5_0097  LPE13959_2025_02_17_5_0003    NaN          non  LPE13959_2025_02_19   2640\n",
       "2707     1.0     0.930630  4.224045  5.230083       87.0   91.0  575.390625  ...    0.059189  LPE13959_2025_02_19_6_0056  LPE13959_2025_02_17_6_0012    NaN          non  LPE13959_2025_02_19   2707\n",
       "\n",
       "[145 rows x 31 columns]"
      ]
     },
     "execution_count": 11,
     "metadata": {},
     "output_type": "execute_result"
    }
   ],
   "source": [
    "celldata_overlapping['index'] = celldata_overlapping.index\n",
    "celldata_overlapping"
   ]
  },
  {
   "cell_type": "code",
   "execution_count": 12,
   "metadata": {},
   "outputs": [
    {
     "data": {
      "text/html": [
       "<div>\n",
       "<style scoped>\n",
       "    .dataframe tbody tr th:only-of-type {\n",
       "        vertical-align: middle;\n",
       "    }\n",
       "\n",
       "    .dataframe tbody tr th {\n",
       "        vertical-align: top;\n",
       "    }\n",
       "\n",
       "    .dataframe thead th {\n",
       "        text-align: right;\n",
       "    }\n",
       "</style>\n",
       "<table border=\"1\" class=\"dataframe\">\n",
       "  <thead>\n",
       "    <tr style=\"text-align: right;\">\n",
       "      <th></th>\n",
       "      <th>index</th>\n",
       "      <th>image_id</th>\n",
       "      <th>trial_ids_ref</th>\n",
       "      <th>trial_ids_MEI</th>\n",
       "    </tr>\n",
       "  </thead>\n",
       "  <tbody>\n",
       "    <tr>\n",
       "      <th>0</th>\n",
       "      <td>7</td>\n",
       "      <td>190</td>\n",
       "      <td>[7, 84, 1409, 2022, 2729, 3196, 3558, 4668, 46...</td>\n",
       "      <td>[398, 1634, 2253, 3414, 3586, 4375, 4512, 4740...</td>\n",
       "    </tr>\n",
       "    <tr>\n",
       "      <th>1</th>\n",
       "      <td>8</td>\n",
       "      <td>423</td>\n",
       "      <td>[8, 2278]</td>\n",
       "      <td>[183, 768, 1647, 1806, 1867, 3050, 3057, 3682,...</td>\n",
       "    </tr>\n",
       "    <tr>\n",
       "      <th>2</th>\n",
       "      <td>9</td>\n",
       "      <td>32</td>\n",
       "      <td>[9, 395, 1618, 2409, 3350, 3477, 3925, 4028, 4...</td>\n",
       "      <td>[665, 940, 1483, 1508, 1686, 1953, 3058, 4080,...</td>\n",
       "    </tr>\n",
       "    <tr>\n",
       "      <th>3</th>\n",
       "      <td>15</td>\n",
       "      <td>1515</td>\n",
       "      <td>[15, 4985]</td>\n",
       "      <td>[1185, 1977, 2459, 2783, 3244, 3673, 3858, 399...</td>\n",
       "    </tr>\n",
       "    <tr>\n",
       "      <th>4</th>\n",
       "      <td>18</td>\n",
       "      <td>1178</td>\n",
       "      <td>[18, 881]</td>\n",
       "      <td>[7, 224, 510, 1622, 1924, 2272, 2557, 3947, 42...</td>\n",
       "    </tr>\n",
       "    <tr>\n",
       "      <th>...</th>\n",
       "      <td>...</td>\n",
       "      <td>...</td>\n",
       "      <td>...</td>\n",
       "      <td>...</td>\n",
       "    </tr>\n",
       "    <tr>\n",
       "      <th>210</th>\n",
       "      <td>2363</td>\n",
       "      <td>1233</td>\n",
       "      <td>[4872, 5238]</td>\n",
       "      <td>[1, 121, 615, 1300, 1957, 1980, 2722, 3217, 39...</td>\n",
       "    </tr>\n",
       "    <tr>\n",
       "      <th>211</th>\n",
       "      <td>2372</td>\n",
       "      <td>301</td>\n",
       "      <td>[4962, 5594]</td>\n",
       "      <td>[1383, 2033, 2132, 2352, 2737, 3228, 3260, 409...</td>\n",
       "    </tr>\n",
       "    <tr>\n",
       "      <th>212</th>\n",
       "      <td>2376</td>\n",
       "      <td>1675</td>\n",
       "      <td>[4986, 5224]</td>\n",
       "      <td>[306, 389, 519, 1189, 1773, 2593, 3551, 3833, ...</td>\n",
       "    </tr>\n",
       "    <tr>\n",
       "      <th>213</th>\n",
       "      <td>2389</td>\n",
       "      <td>1503</td>\n",
       "      <td>[5156, 5397]</td>\n",
       "      <td>[508, 592, 1313, 1573, 2148, 2188, 2803, 3361,...</td>\n",
       "    </tr>\n",
       "    <tr>\n",
       "      <th>214</th>\n",
       "      <td>2398</td>\n",
       "      <td>1753</td>\n",
       "      <td>[5402, 5556]</td>\n",
       "      <td>[1246, 1500, 2018, 2113, 2509, 2561, 2763, 392...</td>\n",
       "    </tr>\n",
       "  </tbody>\n",
       "</table>\n",
       "<p>215 rows × 4 columns</p>\n",
       "</div>"
      ],
      "text/plain": [
       "     index  image_id                                      trial_ids_ref                                      trial_ids_MEI\n",
       "0        7       190  [7, 84, 1409, 2022, 2729, 3196, 3558, 4668, 46...  [398, 1634, 2253, 3414, 3586, 4375, 4512, 4740...\n",
       "1        8       423                                          [8, 2278]  [183, 768, 1647, 1806, 1867, 3050, 3057, 3682,...\n",
       "2        9        32  [9, 395, 1618, 2409, 3350, 3477, 3925, 4028, 4...  [665, 940, 1483, 1508, 1686, 1953, 3058, 4080,...\n",
       "3       15      1515                                         [15, 4985]  [1185, 1977, 2459, 2783, 3244, 3673, 3858, 399...\n",
       "4       18      1178                                          [18, 881]  [7, 224, 510, 1622, 1924, 2272, 2557, 3947, 42...\n",
       "..     ...       ...                                                ...                                                ...\n",
       "210   2363      1233                                       [4872, 5238]  [1, 121, 615, 1300, 1957, 1980, 2722, 3217, 39...\n",
       "211   2372       301                                       [4962, 5594]  [1383, 2033, 2132, 2352, 2737, 3228, 3260, 409...\n",
       "212   2376      1675                                       [4986, 5224]  [306, 389, 519, 1189, 1773, 2593, 3551, 3833, ...\n",
       "213   2389      1503                                       [5156, 5397]  [508, 592, 1313, 1573, 2148, 2188, 2803, 3361,...\n",
       "214   2398      1753                                       [5402, 5556]  [1246, 1500, 2018, 2113, 2509, 2561, 2763, 392...\n",
       "\n",
       "[215 rows x 4 columns]"
      ]
     },
     "execution_count": 12,
     "metadata": {},
     "output_type": "execute_result"
    }
   ],
   "source": [
    "presented_natural_images = pd.DataFrame(sess_ref.trialdata['ImageNumber'].unique(), columns=['image_id'])\n",
    "\n",
    "def find_image_presentation_image_nums(row, trialdata):\n",
    "    image_of_interest = row['image_id']\n",
    "    indices = trialdata.loc[trialdata['ImageNumber'] == image_of_interest].index.to_list()\n",
    "    return indices if indices else None\n",
    "\n",
    "presented_natural_images['trial_ids_ref'] = presented_natural_images.apply(lambda x: find_image_presentation_image_nums(x, sess_ref.trialdata), axis=1)\n",
    "presented_natural_images['trial_ids_MEI'] = presented_natural_images.apply(lambda x: find_image_presentation_image_nums(x, sess_MEI.trialdata), axis=1)\n",
    "presented_natural_images.dropna(subset='trial_ids_MEI', inplace=True)\n",
    "presented_natural_images.reset_index(inplace=True)\n",
    "presented_natural_images"
   ]
  },
  {
   "cell_type": "code",
   "execution_count": 14,
   "metadata": {},
   "outputs": [],
   "source": [
    "respmat_ref = sess_ref.respmat\n",
    "respmat_MEI = sess_MEI.respmat\n",
    "\n",
    "# z score normalization\n",
    "\n",
    "respmat_ref = (respmat_ref - np.mean(respmat_ref, axis = 1, keepdims=True)) / np.std(respmat_ref, axis=1, keepdims=True)\n",
    "respmat_MEI = (respmat_MEI - np.mean(respmat_MEI, axis = 1, keepdims=True)) / np.std(respmat_MEI, axis=1, keepdims=True)"
   ]
  },
  {
   "cell_type": "code",
   "execution_count": 15,
   "metadata": {},
   "outputs": [],
   "source": [
    "num_neurons_ref = len(sess_ref.celldata)\n",
    "num_neurons_MEI = len(sess_MEI.celldata)\n",
    "num_overlapping_nat_images = len(presented_natural_images)"
   ]
  },
  {
   "cell_type": "code",
   "execution_count": 16,
   "metadata": {},
   "outputs": [
    {
     "name": "stderr",
     "output_type": "stream",
     "text": [
      "100%|██████████| 215/215 [00:00<00:00, 4228.53it/s]\n"
     ]
    }
   ],
   "source": [
    "respmat_nat_images_ref = np.zeros((num_neurons_ref, num_overlapping_nat_images))  # responses of neuron n to image i\n",
    "respmat_nat_images_MEI = np.zeros((num_neurons_MEI, num_overlapping_nat_images))\n",
    "\n",
    "for i in tqdm(range(num_overlapping_nat_images)):  # images\n",
    "    # Extract the trial IDs for the current image\n",
    "    trial_ids_ref = presented_natural_images.iloc[i]['trial_ids_ref']\n",
    "    trial_ids_MEI = presented_natural_images.iloc[i]['trial_ids_MEI']\n",
    "    \n",
    "    # Compute mean responses for all neurons at once for the current image\n",
    "    respmat_nat_images_ref[:, i] = np.mean(respmat_ref[:, trial_ids_ref], axis=1)\n",
    "    respmat_nat_images_MEI[:, i] = np.mean(respmat_MEI[:, trial_ids_MEI], axis=1)"
   ]
  },
  {
   "cell_type": "code",
   "execution_count": 32,
   "metadata": {},
   "outputs": [
    {
     "data": {
      "text/plain": [
       "array([-0.04058676, -0.00334623, -0.04737682, ...,  0.01601932,\n",
       "       -0.03030675, -0.1007535 ])"
      ]
     },
     "execution_count": 32,
     "metadata": {},
     "output_type": "execute_result"
    }
   ],
   "source": [
    "corr_mat = np.corrcoef(respmat_nat_images_ref, respmat_nat_images_MEI)\n",
    "cross_corr = corr_mat[:num_neurons_ref, num_neurons_ref:]\n",
    "cross_corr = np.diag(cross_corr)\n",
    "cross_corr"
   ]
  },
  {
   "cell_type": "code",
   "execution_count": 34,
   "metadata": {},
   "outputs": [
    {
     "data": {
      "text/plain": [
       "(1742,)"
      ]
     },
     "execution_count": 34,
     "metadata": {},
     "output_type": "execute_result"
    }
   ],
   "source": [
    "cross_corr.shape"
   ]
  },
  {
   "cell_type": "code",
   "execution_count": 36,
   "metadata": {},
   "outputs": [
    {
     "data": {
      "text/plain": [
       "(1742, 2894)"
      ]
     },
     "execution_count": 36,
     "metadata": {},
     "output_type": "execute_result"
    }
   ],
   "source": [
    "num_neurons_ref, num_neurons_MEI"
   ]
  },
  {
   "cell_type": "markdown",
   "metadata": {},
   "source": [
    "only matched neurons lol"
   ]
  },
  {
   "cell_type": "code",
   "execution_count": 35,
   "metadata": {},
   "outputs": [
    {
     "data": {
      "image/png": "[encoded data removed]",
      "text/plain": [
       "<Figure size 640x480 with 1 Axes>"
      ]
     },
     "metadata": {},
     "output_type": "display_data"
    }
   ],
   "source": [
    "plt.hist(cross_corr.flatten(), bins = 100)\n",
    "plt.show()"
   ]
  },
  {
   "cell_type": "code",
   "execution_count": 19,
   "metadata": {},
   "outputs": [
    {
     "data": {
      "image/png": "[encoded data removed]",
      "text/plain": [
       "<Figure size 640x480 with 1 Axes>"
      ]
     },
     "metadata": {},
     "output_type": "display_data"
    }
   ],
   "source": [
    "plt.imshow(respmat_nat_images_ref)\n",
    "plt.xlabel('Image idx')\n",
    "plt.ylabel('Neuron idx')\n",
    "# plt.xticks(np.arange(respmat_nat_images_ref.shape[1])) # set for number of columns, which are the count of x axis\n",
    "# plt.yticks(np.arange(respmat_nat_images_ref.shape[0])) # set for number of rows, which are the count of y axis\n",
    "plt.gca().xaxis.set_label_position('top')\n",
    "plt.suptitle('Response of neurons to the reference images')\n",
    "plt.show()"
   ]
  },
  {
   "cell_type": "code",
   "execution_count": 20,
   "metadata": {},
   "outputs": [
    {
     "data": {
      "image/png": "[encoded data removed]",
      "text/plain": [
       "<Figure size 640x480 with 1 Axes>"
      ]
     },
     "metadata": {},
     "output_type": "display_data"
    }
   ],
   "source": [
    "plt.imshow(respmat_nat_images_MEI)\n",
    "plt.xlabel('Image idx')\n",
    "plt.ylabel('Neuron idx')\n",
    "# plt.xticks(np.arange(respmat_nat_images_MEI.shape[1])) # set for number of columns, which are the count of x axis\n",
    "# plt.yticks(np.arange(respmat_nat_images_MEI.shape[0])) # set for number of rows, which are the count of y axis\n",
    "plt.gca().xaxis.set_label_position('top')\n",
    "plt.suptitle('Response of neurons to the second day of images')\n",
    "plt.show()"
   ]
  },
  {
   "cell_type": "code",
   "execution_count": 23,
   "metadata": {},
   "outputs": [],
   "source": [
    "idx_MEIs_start = 2801 # TODO: change this to be 0-indexed on Bonsai"
   ]
  },
  {
   "cell_type": "code",
   "execution_count": 24,
   "metadata": {},
   "outputs": [
    {
     "name": "stdout",
     "output_type": "stream",
     "text": [
      "9\n"
     ]
    },
    {
     "data": {
      "text/html": [
       "<div>\n",
       "<style scoped>\n",
       "    .dataframe tbody tr th:only-of-type {\n",
       "        vertical-align: middle;\n",
       "    }\n",
       "\n",
       "    .dataframe tbody tr th {\n",
       "        vertical-align: top;\n",
       "    }\n",
       "\n",
       "    .dataframe thead th {\n",
       "        text-align: right;\n",
       "    }\n",
       "</style>\n",
       "<table border=\"1\" class=\"dataframe\">\n",
       "  <thead>\n",
       "    <tr style=\"text-align: right;\">\n",
       "      <th></th>\n",
       "      <th>cell_id_ref</th>\n",
       "      <th>neuron_idx_ref</th>\n",
       "      <th>index_MEI_order_ref</th>\n",
       "      <th>cell_id_MEI</th>\n",
       "      <th>neuron_idx_MEI</th>\n",
       "      <th>image_number_MEI</th>\n",
       "    </tr>\n",
       "  </thead>\n",
       "  <tbody>\n",
       "    <tr>\n",
       "      <th>0</th>\n",
       "      <td>LPE13959_2025_02_17_5_0004</td>\n",
       "      <td>4</td>\n",
       "      <td>0</td>\n",
       "      <td>LPE13959_2025_02_19_5_0030</td>\n",
       "      <td>2602</td>\n",
       "      <td>2801</td>\n",
       "    </tr>\n",
       "    <tr>\n",
       "      <th>1</th>\n",
       "      <td>LPE13959_2025_02_17_1_0003</td>\n",
       "      <td>101</td>\n",
       "      <td>5</td>\n",
       "      <td>LPE13959_2025_02_19_1_0261</td>\n",
       "      <td>672</td>\n",
       "      <td>2806</td>\n",
       "    </tr>\n",
       "    <tr>\n",
       "      <th>2</th>\n",
       "      <td>LPE13959_2025_02_17_4_0161</td>\n",
       "      <td>1442</td>\n",
       "      <td>19</td>\n",
       "      <td>LPE13959_2025_02_19_4_0452</td>\n",
       "      <td>2478</td>\n",
       "      <td>2820</td>\n",
       "    </tr>\n",
       "    <tr>\n",
       "      <th>3</th>\n",
       "      <td>LPE13959_2025_02_17_2_0259</td>\n",
       "      <td>735</td>\n",
       "      <td>21</td>\n",
       "      <td>LPE13959_2025_02_19_2_0535</td>\n",
       "      <td>1424</td>\n",
       "      <td>2822</td>\n",
       "    </tr>\n",
       "    <tr>\n",
       "      <th>4</th>\n",
       "      <td>LPE13959_2025_02_17_3_0152</td>\n",
       "      <td>1077</td>\n",
       "      <td>59</td>\n",
       "      <td>LPE13959_2025_02_19_3_0125</td>\n",
       "      <td>1645</td>\n",
       "      <td>2860</td>\n",
       "    </tr>\n",
       "    <tr>\n",
       "      <th>5</th>\n",
       "      <td>LPE13959_2025_02_17_2_0397</td>\n",
       "      <td>854</td>\n",
       "      <td>62</td>\n",
       "      <td>LPE13959_2025_02_19_2_0349</td>\n",
       "      <td>1292</td>\n",
       "      <td>2863</td>\n",
       "    </tr>\n",
       "    <tr>\n",
       "      <th>6</th>\n",
       "      <td>LPE13959_2025_02_17_5_0003</td>\n",
       "      <td>3</td>\n",
       "      <td>68</td>\n",
       "      <td>LPE13959_2025_02_19_5_0097</td>\n",
       "      <td>2640</td>\n",
       "      <td>2869</td>\n",
       "    </tr>\n",
       "    <tr>\n",
       "      <th>7</th>\n",
       "      <td>LPE13959_2025_02_17_2_0004</td>\n",
       "      <td>482</td>\n",
       "      <td>69</td>\n",
       "      <td>LPE13959_2025_02_19_2_0204</td>\n",
       "      <td>1152</td>\n",
       "      <td>2870</td>\n",
       "    </tr>\n",
       "    <tr>\n",
       "      <th>8</th>\n",
       "      <td>LPE13959_2025_02_17_3_0300</td>\n",
       "      <td>1218</td>\n",
       "      <td>70</td>\n",
       "      <td>LPE13959_2025_02_19_3_0228</td>\n",
       "      <td>1747</td>\n",
       "      <td>2871</td>\n",
       "    </tr>\n",
       "  </tbody>\n",
       "</table>\n",
       "</div>"
      ],
      "text/plain": [
       "                  cell_id_ref  neuron_idx_ref  index_MEI_order_ref                 cell_id_MEI  neuron_idx_MEI  image_number_MEI\n",
       "0  LPE13959_2025_02_17_5_0004               4                    0  LPE13959_2025_02_19_5_0030            2602              2801\n",
       "1  LPE13959_2025_02_17_1_0003             101                    5  LPE13959_2025_02_19_1_0261             672              2806\n",
       "2  LPE13959_2025_02_17_4_0161            1442                   19  LPE13959_2025_02_19_4_0452            2478              2820\n",
       "3  LPE13959_2025_02_17_2_0259             735                   21  LPE13959_2025_02_19_2_0535            1424              2822\n",
       "4  LPE13959_2025_02_17_3_0152            1077                   59  LPE13959_2025_02_19_3_0125            1645              2860\n",
       "5  LPE13959_2025_02_17_2_0397             854                   62  LPE13959_2025_02_19_2_0349            1292              2863\n",
       "6  LPE13959_2025_02_17_5_0003               3                   68  LPE13959_2025_02_19_5_0097            2640              2869\n",
       "7  LPE13959_2025_02_17_2_0004             482                   69  LPE13959_2025_02_19_2_0204            1152              2870\n",
       "8  LPE13959_2025_02_17_3_0300            1218                   70  LPE13959_2025_02_19_3_0228            1747              2871"
      ]
     },
     "execution_count": 24,
     "metadata": {},
     "output_type": "execute_result"
    }
   ],
   "source": [
    "validatable_MEIs = MEI_cell_ids.loc[MEI_cell_ids['cell_id'].isin(sess_ref_ids)]\n",
    "validatable_MEIs.rename({\"cell_id\": \"cell_id_ref\", \"neuron_idx\": \"neuron_idx_ref\", \"index\": \"index_MEI_order_ref\"}, axis=1, inplace=True)\n",
    "validatable_MEIs = validatable_MEIs.merge(celldata_overlapping[['cell_id', 'ref_cell_id', 'index']], how='left', left_on='cell_id_ref', right_on='ref_cell_id')\n",
    "validatable_MEIs.rename({\"cell_id\": \"cell_id_MEI\", \"index\": \"neuron_idx_MEI\"}, axis=1, inplace=True)\n",
    "validatable_MEIs.drop('ref_cell_id', axis=1, inplace=True)\n",
    "validatable_MEIs.sort_values('index_MEI_order_ref', inplace=True)\n",
    "validatable_MEIs['image_number_MEI'] = validatable_MEIs['index_MEI_order_ref'] + idx_MEIs_start\n",
    "validatable_MEIs.reset_index(inplace=True, drop=True)\n",
    "\n",
    "num_validatable_MEIs = len(validatable_MEIs)\n",
    "print(num_validatable_MEIs)\n",
    "validatable_MEIs"
   ]
  },
  {
   "cell_type": "markdown",
   "metadata": {},
   "source": [
    "don't average across all presentations but rather, average only across the presentations of the MEIs"
   ]
  },
  {
   "cell_type": "code",
   "execution_count": 25,
   "metadata": {},
   "outputs": [
    {
     "data": {
      "text/plain": [
       "((2894, 5600), (9, 5600))"
      ]
     },
     "execution_count": 25,
     "metadata": {},
     "output_type": "execute_result"
    }
   ],
   "source": [
    "respmat_MEI_trunc = respmat_MEI[validatable_MEIs['neuron_idx_MEI'].values] \n",
    "\n",
    "respmat_MEI.shape, respmat_MEI_trunc.shape"
   ]
  },
  {
   "cell_type": "code",
   "execution_count": 26,
   "metadata": {},
   "outputs": [
    {
     "data": {
      "text/html": [
       "<div>\n",
       "<style scoped>\n",
       "    .dataframe tbody tr th:only-of-type {\n",
       "        vertical-align: middle;\n",
       "    }\n",
       "\n",
       "    .dataframe tbody tr th {\n",
       "        vertical-align: top;\n",
       "    }\n",
       "\n",
       "    .dataframe thead th {\n",
       "        text-align: right;\n",
       "    }\n",
       "</style>\n",
       "<table border=\"1\" class=\"dataframe\">\n",
       "  <thead>\n",
       "    <tr style=\"text-align: right;\">\n",
       "      <th></th>\n",
       "      <th>cell_id_ref</th>\n",
       "      <th>neuron_idx_ref</th>\n",
       "      <th>index_MEI_order_ref</th>\n",
       "      <th>cell_id_MEI</th>\n",
       "      <th>neuron_idx_MEI</th>\n",
       "      <th>image_number_MEI</th>\n",
       "      <th>trial_numbers_MEI</th>\n",
       "    </tr>\n",
       "  </thead>\n",
       "  <tbody>\n",
       "    <tr>\n",
       "      <th>0</th>\n",
       "      <td>LPE13959_2025_02_17_5_0004</td>\n",
       "      <td>4</td>\n",
       "      <td>0</td>\n",
       "      <td>LPE13959_2025_02_19_5_0030</td>\n",
       "      <td>2602</td>\n",
       "      <td>2801</td>\n",
       "      <td>[542, 1228, 1285, 1380, 1665, 1682, 1710, 1757...</td>\n",
       "    </tr>\n",
       "    <tr>\n",
       "      <th>1</th>\n",
       "      <td>LPE13959_2025_02_17_1_0003</td>\n",
       "      <td>101</td>\n",
       "      <td>5</td>\n",
       "      <td>LPE13959_2025_02_19_1_0261</td>\n",
       "      <td>672</td>\n",
       "      <td>2806</td>\n",
       "      <td>[112, 244, 1474, 1745, 1755, 2610, 2642, 2730,...</td>\n",
       "    </tr>\n",
       "    <tr>\n",
       "      <th>2</th>\n",
       "      <td>LPE13959_2025_02_17_4_0161</td>\n",
       "      <td>1442</td>\n",
       "      <td>19</td>\n",
       "      <td>LPE13959_2025_02_19_4_0452</td>\n",
       "      <td>2478</td>\n",
       "      <td>2820</td>\n",
       "      <td>[56, 109, 344, 380, 1023, 1035, 1591, 2019, 21...</td>\n",
       "    </tr>\n",
       "    <tr>\n",
       "      <th>3</th>\n",
       "      <td>LPE13959_2025_02_17_2_0259</td>\n",
       "      <td>735</td>\n",
       "      <td>21</td>\n",
       "      <td>LPE13959_2025_02_19_2_0535</td>\n",
       "      <td>1424</td>\n",
       "      <td>2822</td>\n",
       "      <td>[383, 403, 504, 710, 894, 1074, 1282, 1491, 15...</td>\n",
       "    </tr>\n",
       "    <tr>\n",
       "      <th>4</th>\n",
       "      <td>LPE13959_2025_02_17_3_0152</td>\n",
       "      <td>1077</td>\n",
       "      <td>59</td>\n",
       "      <td>LPE13959_2025_02_19_3_0125</td>\n",
       "      <td>1645</td>\n",
       "      <td>2860</td>\n",
       "      <td>[275, 391, 1027, 1032, 1166, 1299, 1405, 1681,...</td>\n",
       "    </tr>\n",
       "    <tr>\n",
       "      <th>5</th>\n",
       "      <td>LPE13959_2025_02_17_2_0397</td>\n",
       "      <td>854</td>\n",
       "      <td>62</td>\n",
       "      <td>LPE13959_2025_02_19_2_0349</td>\n",
       "      <td>1292</td>\n",
       "      <td>2863</td>\n",
       "      <td>[384, 448, 892, 1144, 1297, 1409, 1832, 2057, ...</td>\n",
       "    </tr>\n",
       "    <tr>\n",
       "      <th>6</th>\n",
       "      <td>LPE13959_2025_02_17_5_0003</td>\n",
       "      <td>3</td>\n",
       "      <td>68</td>\n",
       "      <td>LPE13959_2025_02_19_5_0097</td>\n",
       "      <td>2640</td>\n",
       "      <td>2869</td>\n",
       "      <td>[110, 280, 321, 558, 705, 721, 1194, 1809, 188...</td>\n",
       "    </tr>\n",
       "    <tr>\n",
       "      <th>7</th>\n",
       "      <td>LPE13959_2025_02_17_2_0004</td>\n",
       "      <td>482</td>\n",
       "      <td>69</td>\n",
       "      <td>LPE13959_2025_02_19_2_0204</td>\n",
       "      <td>1152</td>\n",
       "      <td>2870</td>\n",
       "      <td>[177, 742, 750, 1257, 1626, 1788, 2468, 3119, ...</td>\n",
       "    </tr>\n",
       "    <tr>\n",
       "      <th>8</th>\n",
       "      <td>LPE13959_2025_02_17_3_0300</td>\n",
       "      <td>1218</td>\n",
       "      <td>70</td>\n",
       "      <td>LPE13959_2025_02_19_3_0228</td>\n",
       "      <td>1747</td>\n",
       "      <td>2871</td>\n",
       "      <td>[93, 246, 684, 713, 1007, 1037, 1322, 1337, 14...</td>\n",
       "    </tr>\n",
       "  </tbody>\n",
       "</table>\n",
       "</div>"
      ],
      "text/plain": [
       "                  cell_id_ref  neuron_idx_ref  index_MEI_order_ref                 cell_id_MEI  neuron_idx_MEI  image_number_MEI                                  trial_numbers_MEI\n",
       "0  LPE13959_2025_02_17_5_0004               4                    0  LPE13959_2025_02_19_5_0030            2602              2801  [542, 1228, 1285, 1380, 1665, 1682, 1710, 1757...\n",
       "1  LPE13959_2025_02_17_1_0003             101                    5  LPE13959_2025_02_19_1_0261             672              2806  [112, 244, 1474, 1745, 1755, 2610, 2642, 2730,...\n",
       "2  LPE13959_2025_02_17_4_0161            1442                   19  LPE13959_2025_02_19_4_0452            2478              2820  [56, 109, 344, 380, 1023, 1035, 1591, 2019, 21...\n",
       "3  LPE13959_2025_02_17_2_0259             735                   21  LPE13959_2025_02_19_2_0535            1424              2822  [383, 403, 504, 710, 894, 1074, 1282, 1491, 15...\n",
       "4  LPE13959_2025_02_17_3_0152            1077                   59  LPE13959_2025_02_19_3_0125            1645              2860  [275, 391, 1027, 1032, 1166, 1299, 1405, 1681,...\n",
       "5  LPE13959_2025_02_17_2_0397             854                   62  LPE13959_2025_02_19_2_0349            1292              2863  [384, 448, 892, 1144, 1297, 1409, 1832, 2057, ...\n",
       "6  LPE13959_2025_02_17_5_0003               3                   68  LPE13959_2025_02_19_5_0097            2640              2869  [110, 280, 321, 558, 705, 721, 1194, 1809, 188...\n",
       "7  LPE13959_2025_02_17_2_0004             482                   69  LPE13959_2025_02_19_2_0204            1152              2870  [177, 742, 750, 1257, 1626, 1788, 2468, 3119, ...\n",
       "8  LPE13959_2025_02_17_3_0300            1218                   70  LPE13959_2025_02_19_3_0228            1747              2871  [93, 246, 684, 713, 1007, 1037, 1322, 1337, 14..."
      ]
     },
     "execution_count": 26,
     "metadata": {},
     "output_type": "execute_result"
    }
   ],
   "source": [
    "def find_mei_presentation_image_nums(row, trialdata):\n",
    "    MEI_of_interest = row['image_number_MEI']\n",
    "    indices = trialdata.loc[trialdata['ImageNumber'] == MEI_of_interest].index.to_list()\n",
    "    return indices\n",
    "\n",
    "validatable_MEIs['trial_numbers_MEI'] = validatable_MEIs.apply(lambda x: find_mei_presentation_image_nums(x, sess_MEI.trialdata), axis=1)\n",
    "validatable_MEIs"
   ]
  },
  {
   "cell_type": "code",
   "execution_count": 27,
   "metadata": {},
   "outputs": [],
   "source": [
    "num_validatable_neurons = num_validatable_MEIs # TODO: make this be settable"
   ]
  },
  {
   "cell_type": "code",
   "execution_count": 28,
   "metadata": {},
   "outputs": [
    {
     "name": "stderr",
     "output_type": "stream",
     "text": [
      "100%|██████████| 9/9 [00:00<00:00, 9000.65it/s]\n"
     ]
    }
   ],
   "source": [
    "# Initialize the result matrix\n",
    "respmat_MEI_trunc_mean = np.zeros((num_validatable_neurons, num_validatable_MEIs))  # responses of neuron n to image i\n",
    "\n",
    "# Looping over the images\n",
    "for i in tqdm(range(num_validatable_MEIs)):  # images\n",
    "    # Extract the list of trial numbers for the current image\n",
    "    trial_numbers_MEI = validatable_MEIs.iloc[i]['trial_numbers_MEI']\n",
    "    \n",
    "    # Vectorized mean computation for all neurons for the current image\n",
    "    respmat_MEI_trunc_mean[:, i] = np.mean(respmat_MEI_trunc[:, trial_numbers_MEI], axis=1)\n"
   ]
  },
  {
   "cell_type": "code",
   "execution_count": 29,
   "metadata": {},
   "outputs": [
    {
     "data": {
      "image/png": "[encoded data removed]",
      "text/plain": [
       "<Figure size 640x480 with 1 Axes>"
      ]
     },
     "metadata": {},
     "output_type": "display_data"
    }
   ],
   "source": [
    "plt.imshow(respmat_MEI_trunc_mean)\n",
    "plt.xlabel('MEI image idx')\n",
    "plt.ylabel('MEI Neuron idx')\n",
    "plt.xticks(np.arange(respmat_MEI_trunc_mean.shape[1])) # set for number of columns, which are the count of x axis\n",
    "plt.yticks(np.arange(respmat_MEI_trunc_mean.shape[0])) # set for number of rows, which are the count of y axis\n",
    "plt.gca().xaxis.set_label_position('top')\n",
    "plt.show()"
   ]
  }
 ],
 "metadata": {
  "kernelspec": {
   "display_name": "molanalysis",
   "language": "python",
   "name": "python3"
  },
  "language_info": {
   "codemirror_mode": {
    "name": "ipython",
    "version": 3
   },
   "file_extension": ".py",
   "mimetype": "text/x-python",
   "name": "python",
   "nbconvert_exporter": "python",
   "pygments_lexer": "ipython3",
   "version": "3.8.12"
  }
 },
 "nbformat": 4,
 "nbformat_minor": 2
}
