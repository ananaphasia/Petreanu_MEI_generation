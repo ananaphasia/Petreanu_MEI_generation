{
 "cells": [
  {
   "cell_type": "code",
   "execution_count": 1,
   "metadata": {},
   "outputs": [],
   "source": [
    "import os, sys\n",
    "os.chdir('Petreanu_MEI_generation')\n",
    "sys.path.append(os.getcwd())"
   ]
  },
  {
   "cell_type": "code",
   "execution_count": 2,
   "metadata": {},
   "outputs": [
    {
     "name": "stderr",
     "output_type": "stream",
     "text": [
      "2025-03-11 16:29:20,641 - __main__ - INFO - C:\\Users\\Kerem Sarikaya\\AppData\\Local\\Temp\\ipykernel_31536\\1608138431.py - Current working directory: d:\\Python\\Anastasia\\Petreanu Lab\\Petreanu_MEI_generation\n",
      "2025-03-11 16:29:20,641 - __main__ - INFO - C:\\Users\\Kerem Sarikaya\\AppData\\Local\\Temp\\ipykernel_31536\\1608138431.py - Current working directory: d:\\Python\\Anastasia\\Petreanu Lab\\Petreanu_MEI_generation\n",
      "2025-03-11 16:29:20,641 - __main__ - INFO - C:\\Users\\Kerem Sarikaya\\AppData\\Local\\Temp\\ipykernel_31536\\1608138431.py - Saving figures to D:/OneDrive\\PostDoc\\Figures\\Images\\\n",
      "2025-03-11 16:29:20,641 - __main__ - INFO - C:\\Users\\Kerem Sarikaya\\AppData\\Local\\Temp\\ipykernel_31536\\1608138431.py - Saving figures to D:/OneDrive\\PostDoc\\Figures\\Images\\\n"
     ]
    },
    {
     "name": "stdout",
     "output_type": "stream",
     "text": [
      "{'RUN_NAME_S': ['MEI_in_vivo_validation_with_grid_mean_predictor_2', 'MEI_in_vivo_validation_without_grid_mean_predictor_2'], 'ASK_FOR_CONFIRMATION': False, 'RUN_FOLDER_OVERWRITE': None, 'model': {'init_w_mean_activity': False}, 'data': {'keep_behavioral_info': False, 'areas_of_interest': ['V1', 'PM'], 'sessions_to_keep': 'all', 'INPUT_FOLDER': 'D:/Procdata/IM', 'map_to_ground_truth': False, 'gt_session_id': 'LPE13959', 'gt_date': '2025_02_26'}, 'MEIs': {'num_meis': 75, 'num_labeled_cells': 10, 'session_id': 'LPE13998', 'session_date': '2025_03_10', 'tier': 'all', 'also_output_to_local': False, 'local_output_folder': 'D:/Bonsai/lab-leopoldo-solene-vr/workflows/MEIs/', 'shape': [68, 135], 'validate_MEIs': False, 'validation_session': [['LPE13959', '2025_02_26']], 'validation_session_input_folder': 'D:/Procdata/IM'}, 'dev': {'num_models': 5}, 'current_vals': {'RUN_NAME': 'V1_MEI_in_vivo_validation_with_grid_mean_predictor_2', 'RUN_FOLDER': 'runs/V1_MEI_in_vivo_validation_with_grid_mean_predictor_2', 'area_id': 0, 'data': {'area_of_interest': 'V1'}}}\n",
      "RUN_NAME: V1_MEI_in_vivo_validation_with_grid_mean_predictor_2\n",
      "\n",
      "INPUT FOLDER: D:/Procdata/IM\n",
      "\n",
      "This will delete all files in the runs/V1_MEI_in_vivo_validation_with_grid_mean_predictor_2 folder. Automatically continuing...\n",
      "Deleting existing folder runs/V1_MEI_in_vivo_validation_with_grid_mean_predictor_2\n"
     ]
    },
    {
     "name": "stderr",
     "output_type": "stream",
     "text": [
      "2025-03-11 16:29:45,008 - loaddata.session_info - INFO - d:\\Python\\Anastasia\\Petreanu Lab\\Petreanu_MEI_generation\\loaddata\\session_info.py - ['IM'] dataset: 10 mice, 12 sessions, 67200 trials\n"
     ]
    },
    {
     "name": "stdout",
     "output_type": "stream",
     "text": [
      "[['LPE09665', '2023_03_20'], ['LPE10883', '2023_10_23'], ['LPE10883', '2023_10_31'], ['LPE10884', '2023_10_12'], ['LPE10885', '2023_10_20'], ['LPE10919', '2023_11_09'], ['LPE11086', '2023_12_16'], ['LPE11086', '2024_01_09'], ['LPE11495', '2024_02_29'], ['LPE11998', '2024_05_08'], ['LPE12223', '2024_06_11'], ['LPE13998', '2025_03_10']]\n"
     ]
    },
    {
     "name": "stderr",
     "output_type": "stream",
     "text": [
      "2025-03-11 16:29:45,026 - loaddata.session_info - INFO - d:\\Python\\Anastasia\\Petreanu Lab\\Petreanu_MEI_generation\\loaddata\\session_info.py - Number of neurons in PM: 11739\n",
      "2025-03-11 16:29:45,026 - loaddata.session_info - INFO - d:\\Python\\Anastasia\\Petreanu Lab\\Petreanu_MEI_generation\\loaddata\\session_info.py - Number of neurons in V1: 17642\n",
      "2025-03-11 16:29:45,026 - loaddata.session_info - INFO - d:\\Python\\Anastasia\\Petreanu Lab\\Petreanu_MEI_generation\\loaddata\\session_info.py - Total number of neurons: 29381\n"
     ]
    },
    {
     "data": {
      "application/vnd.jupyter.widget-view+json": {
       "model_id": "9c89ed1be7244753a3c64eba79527934",
       "version_major": 2,
       "version_minor": 0
      },
      "text/plain": [
       "  0%|          | 0/12 [00:00<?, ?it/s]"
      ]
     },
     "metadata": {},
     "output_type": "display_data"
    },
    {
     "data": {
      "application/vnd.jupyter.widget-view+json": {
       "model_id": "550506274b664b489be5d4f6945c1572",
       "version_major": 2,
       "version_minor": 0
      },
      "text/plain": [
       "Computing average response for response matrix:   0%|          | 0/5600 [00:00<?, ?it/s]"
      ]
     },
     "metadata": {},
     "output_type": "display_data"
    },
    {
     "data": {
      "application/vnd.jupyter.widget-view+json": {
       "model_id": "dcc24c4cf485407ead296182e32cc9be",
       "version_major": 2,
       "version_minor": 0
      },
      "text/plain": [
       "Computing average response for runspeed:   0%|          | 0/5600 [00:00<?, ?it/s]"
      ]
     },
     "metadata": {},
     "output_type": "display_data"
    },
    {
     "data": {
      "application/vnd.jupyter.widget-view+json": {
       "model_id": "098ee3f34f1e4ad9a72d9ece12e1a80e",
       "version_major": 2,
       "version_minor": 0
      },
      "text/plain": [
       "Computing average response for motion energy:   0%|          | 0/5600 [00:00<?, ?it/s]"
      ]
     },
     "metadata": {},
     "output_type": "display_data"
    },
    {
     "data": {
      "application/vnd.jupyter.widget-view+json": {
       "model_id": "9079988d591c420eab965626527399aa",
       "version_major": 2,
       "version_minor": 0
      },
      "text/plain": [
       "Computing average response for pupil x position:   0%|          | 0/5600 [00:00<?, ?it/s]"
      ]
     },
     "metadata": {},
     "output_type": "display_data"
    },
    {
     "data": {
      "application/vnd.jupyter.widget-view+json": {
       "model_id": "e02acbcba17b4e218df54f2cce3bfbec",
       "version_major": 2,
       "version_minor": 0
      },
      "text/plain": [
       "Computing average response for pupil y position:   0%|          | 0/5600 [00:00<?, ?it/s]"
      ]
     },
     "metadata": {},
     "output_type": "display_data"
    },
    {
     "data": {
      "application/vnd.jupyter.widget-view+json": {
       "model_id": "62a299ca14ab4678844bf228b5d5c3f9",
       "version_major": 2,
       "version_minor": 0
      },
      "text/plain": [
       "Computing average response for pupil area:   0%|          | 0/5600 [00:00<?, ?it/s]"
      ]
     },
     "metadata": {},
     "output_type": "display_data"
    },
    {
     "data": {
      "application/vnd.jupyter.widget-view+json": {
       "model_id": "a31782b654214cf69661c5c0b73605ac",
       "version_major": 2,
       "version_minor": 0
      },
      "text/plain": [
       "Computing average response for response matrix:   0%|          | 0/5600 [00:00<?, ?it/s]"
      ]
     },
     "metadata": {},
     "output_type": "display_data"
    },
    {
     "data": {
      "application/vnd.jupyter.widget-view+json": {
       "model_id": "e9a336b99d3a45d2b34c3ad8a6e27200",
       "version_major": 2,
       "version_minor": 0
      },
      "text/plain": [
       "Computing average response for runspeed:   0%|          | 0/5600 [00:00<?, ?it/s]"
      ]
     },
     "metadata": {},
     "output_type": "display_data"
    },
    {
     "data": {
      "application/vnd.jupyter.widget-view+json": {
       "model_id": "6709ce541f2941d6a5e8c5333222887d",
       "version_major": 2,
       "version_minor": 0
      },
      "text/plain": [
       "Computing average response for motion energy:   0%|          | 0/5600 [00:00<?, ?it/s]"
      ]
     },
     "metadata": {},
     "output_type": "display_data"
    },
    {
     "data": {
      "application/vnd.jupyter.widget-view+json": {
       "model_id": "4ac0a60fc89248a38b4db26468242ba5",
       "version_major": 2,
       "version_minor": 0
      },
      "text/plain": [
       "Computing average response for pupil x position:   0%|          | 0/5600 [00:00<?, ?it/s]"
      ]
     },
     "metadata": {},
     "output_type": "display_data"
    },
    {
     "data": {
      "application/vnd.jupyter.widget-view+json": {
       "model_id": "090d550bc0874dafb006078a4a1c0ede",
       "version_major": 2,
       "version_minor": 0
      },
      "text/plain": [
       "Computing average response for pupil y position:   0%|          | 0/5600 [00:00<?, ?it/s]"
      ]
     },
     "metadata": {},
     "output_type": "display_data"
    },
    {
     "data": {
      "application/vnd.jupyter.widget-view+json": {
       "model_id": "ecdcf7173e904b3e9f00827f82385a2f",
       "version_major": 2,
       "version_minor": 0
      },
      "text/plain": [
       "Computing average response for pupil area:   0%|          | 0/5600 [00:00<?, ?it/s]"
      ]
     },
     "metadata": {},
     "output_type": "display_data"
    },
    {
     "data": {
      "application/vnd.jupyter.widget-view+json": {
       "model_id": "1465e01b1ff945a290e2ad4968eec675",
       "version_major": 2,
       "version_minor": 0
      },
      "text/plain": [
       "Computing average response for response matrix:   0%|          | 0/5600 [00:00<?, ?it/s]"
      ]
     },
     "metadata": {},
     "output_type": "display_data"
    },
    {
     "data": {
      "application/vnd.jupyter.widget-view+json": {
       "model_id": "3377423fe17c4db2bfaeac7273ea3ce1",
       "version_major": 2,
       "version_minor": 0
      },
      "text/plain": [
       "Computing average response for runspeed:   0%|          | 0/5600 [00:00<?, ?it/s]"
      ]
     },
     "metadata": {},
     "output_type": "display_data"
    },
    {
     "data": {
      "application/vnd.jupyter.widget-view+json": {
       "model_id": "ec32c50b1b544836bd8309e84f172e8e",
       "version_major": 2,
       "version_minor": 0
      },
      "text/plain": [
       "Computing average response for motion energy:   0%|          | 0/5600 [00:00<?, ?it/s]"
      ]
     },
     "metadata": {},
     "output_type": "display_data"
    },
    {
     "data": {
      "application/vnd.jupyter.widget-view+json": {
       "model_id": "2d38267c5e784009b27a4b4c87b96d4f",
       "version_major": 2,
       "version_minor": 0
      },
      "text/plain": [
       "Computing average response for pupil x position:   0%|          | 0/5600 [00:00<?, ?it/s]"
      ]
     },
     "metadata": {},
     "output_type": "display_data"
    },
    {
     "data": {
      "application/vnd.jupyter.widget-view+json": {
       "model_id": "7c8c8bcfc2574bef9d0273984fdf86f0",
       "version_major": 2,
       "version_minor": 0
      },
      "text/plain": [
       "Computing average response for pupil y position:   0%|          | 0/5600 [00:00<?, ?it/s]"
      ]
     },
     "metadata": {},
     "output_type": "display_data"
    },
    {
     "data": {
      "application/vnd.jupyter.widget-view+json": {
       "model_id": "78b5aef5bded488c948cfd250e6f414e",
       "version_major": 2,
       "version_minor": 0
      },
      "text/plain": [
       "Computing average response for pupil area:   0%|          | 0/5600 [00:00<?, ?it/s]"
      ]
     },
     "metadata": {},
     "output_type": "display_data"
    },
    {
     "data": {
      "application/vnd.jupyter.widget-view+json": {
       "model_id": "8cd39b6891c64e25b56ae6a7eb1c969e",
       "version_major": 2,
       "version_minor": 0
      },
      "text/plain": [
       "Computing average response for response matrix:   0%|          | 0/5600 [00:00<?, ?it/s]"
      ]
     },
     "metadata": {},
     "output_type": "display_data"
    },
    {
     "data": {
      "application/vnd.jupyter.widget-view+json": {
       "model_id": "678f2af2e5a341129fb8195adfe9d96c",
       "version_major": 2,
       "version_minor": 0
      },
      "text/plain": [
       "Computing average response for runspeed:   0%|          | 0/5600 [00:00<?, ?it/s]"
      ]
     },
     "metadata": {},
     "output_type": "display_data"
    },
    {
     "data": {
      "application/vnd.jupyter.widget-view+json": {
       "model_id": "d0fefbd3146e48f4b791713d93a2e9f0",
       "version_major": 2,
       "version_minor": 0
      },
      "text/plain": [
       "Computing average response for motion energy:   0%|          | 0/5600 [00:00<?, ?it/s]"
      ]
     },
     "metadata": {},
     "output_type": "display_data"
    },
    {
     "data": {
      "application/vnd.jupyter.widget-view+json": {
       "model_id": "ee9f6d41fef746008bf1c337f951611d",
       "version_major": 2,
       "version_minor": 0
      },
      "text/plain": [
       "Computing average response for pupil x position:   0%|          | 0/5600 [00:00<?, ?it/s]"
      ]
     },
     "metadata": {},
     "output_type": "display_data"
    },
    {
     "data": {
      "application/vnd.jupyter.widget-view+json": {
       "model_id": "a66e78d614c4421b8002ce5997746859",
       "version_major": 2,
       "version_minor": 0
      },
      "text/plain": [
       "Computing average response for pupil y position:   0%|          | 0/5600 [00:00<?, ?it/s]"
      ]
     },
     "metadata": {},
     "output_type": "display_data"
    },
    {
     "data": {
      "application/vnd.jupyter.widget-view+json": {
       "model_id": "ef628d68fc1844ebb6fe621c2874e203",
       "version_major": 2,
       "version_minor": 0
      },
      "text/plain": [
       "Computing average response for pupil area:   0%|          | 0/5600 [00:00<?, ?it/s]"
      ]
     },
     "metadata": {},
     "output_type": "display_data"
    },
    {
     "data": {
      "application/vnd.jupyter.widget-view+json": {
       "model_id": "68984245eff0444694a90a0ee999e9cd",
       "version_major": 2,
       "version_minor": 0
      },
      "text/plain": [
       "Computing average response for response matrix:   0%|          | 0/5600 [00:00<?, ?it/s]"
      ]
     },
     "metadata": {},
     "output_type": "display_data"
    },
    {
     "data": {
      "application/vnd.jupyter.widget-view+json": {
       "model_id": "458216f7701645689f9e9051d26996cd",
       "version_major": 2,
       "version_minor": 0
      },
      "text/plain": [
       "Computing average response for runspeed:   0%|          | 0/5600 [00:00<?, ?it/s]"
      ]
     },
     "metadata": {},
     "output_type": "display_data"
    },
    {
     "data": {
      "application/vnd.jupyter.widget-view+json": {
       "model_id": "0c6d3573591a4054837ba737a265ef38",
       "version_major": 2,
       "version_minor": 0
      },
      "text/plain": [
       "Computing average response for motion energy:   0%|          | 0/5600 [00:00<?, ?it/s]"
      ]
     },
     "metadata": {},
     "output_type": "display_data"
    },
    {
     "data": {
      "application/vnd.jupyter.widget-view+json": {
       "model_id": "3c3d64a73d9542bd83b412a66ad5d909",
       "version_major": 2,
       "version_minor": 0
      },
      "text/plain": [
       "Computing average response for pupil x position:   0%|          | 0/5600 [00:00<?, ?it/s]"
      ]
     },
     "metadata": {},
     "output_type": "display_data"
    },
    {
     "data": {
      "application/vnd.jupyter.widget-view+json": {
       "model_id": "795bd1faf74744b2a1c1846ad8cdcf6d",
       "version_major": 2,
       "version_minor": 0
      },
      "text/plain": [
       "Computing average response for pupil y position:   0%|          | 0/5600 [00:00<?, ?it/s]"
      ]
     },
     "metadata": {},
     "output_type": "display_data"
    },
    {
     "data": {
      "application/vnd.jupyter.widget-view+json": {
       "model_id": "8ae6d5a65bca49cebfe018bec230a1c4",
       "version_major": 2,
       "version_minor": 0
      },
      "text/plain": [
       "Computing average response for pupil area:   0%|          | 0/5600 [00:00<?, ?it/s]"
      ]
     },
     "metadata": {},
     "output_type": "display_data"
    },
    {
     "data": {
      "application/vnd.jupyter.widget-view+json": {
       "model_id": "c4b36f807bdc4167a387c95d2b2935cf",
       "version_major": 2,
       "version_minor": 0
      },
      "text/plain": [
       "Computing average response for response matrix:   0%|          | 0/5600 [00:00<?, ?it/s]"
      ]
     },
     "metadata": {},
     "output_type": "display_data"
    },
    {
     "data": {
      "application/vnd.jupyter.widget-view+json": {
       "model_id": "db889afc1438407e9565ff90256ca5e9",
       "version_major": 2,
       "version_minor": 0
      },
      "text/plain": [
       "Computing average response for runspeed:   0%|          | 0/5600 [00:00<?, ?it/s]"
      ]
     },
     "metadata": {},
     "output_type": "display_data"
    },
    {
     "data": {
      "application/vnd.jupyter.widget-view+json": {
       "model_id": "bd13efdd96f94af0873cee0383f2f062",
       "version_major": 2,
       "version_minor": 0
      },
      "text/plain": [
       "Computing average response for motion energy:   0%|          | 0/5600 [00:00<?, ?it/s]"
      ]
     },
     "metadata": {},
     "output_type": "display_data"
    },
    {
     "data": {
      "application/vnd.jupyter.widget-view+json": {
       "model_id": "46660cb6c3d84789939e766609aef391",
       "version_major": 2,
       "version_minor": 0
      },
      "text/plain": [
       "Computing average response for pupil x position:   0%|          | 0/5600 [00:00<?, ?it/s]"
      ]
     },
     "metadata": {},
     "output_type": "display_data"
    },
    {
     "data": {
      "application/vnd.jupyter.widget-view+json": {
       "model_id": "2cdb082f14d84418a06afcca9d8ccb2e",
       "version_major": 2,
       "version_minor": 0
      },
      "text/plain": [
       "Computing average response for pupil y position:   0%|          | 0/5600 [00:00<?, ?it/s]"
      ]
     },
     "metadata": {},
     "output_type": "display_data"
    },
    {
     "data": {
      "application/vnd.jupyter.widget-view+json": {
       "model_id": "236b4992ff0940089b41706adc4f9f8c",
       "version_major": 2,
       "version_minor": 0
      },
      "text/plain": [
       "Computing average response for pupil area:   0%|          | 0/5600 [00:00<?, ?it/s]"
      ]
     },
     "metadata": {},
     "output_type": "display_data"
    },
    {
     "data": {
      "application/vnd.jupyter.widget-view+json": {
       "model_id": "bca636a828fc43cabce379cd48f1bf7c",
       "version_major": 2,
       "version_minor": 0
      },
      "text/plain": [
       "Computing average response for response matrix:   0%|          | 0/5600 [00:00<?, ?it/s]"
      ]
     },
     "metadata": {},
     "output_type": "display_data"
    },
    {
     "data": {
      "application/vnd.jupyter.widget-view+json": {
       "model_id": "e06442ad4513417c86d7e8c525aae2f2",
       "version_major": 2,
       "version_minor": 0
      },
      "text/plain": [
       "Computing average response for runspeed:   0%|          | 0/5600 [00:00<?, ?it/s]"
      ]
     },
     "metadata": {},
     "output_type": "display_data"
    },
    {
     "data": {
      "application/vnd.jupyter.widget-view+json": {
       "model_id": "3b9174efde554863b8a7f445071b0055",
       "version_major": 2,
       "version_minor": 0
      },
      "text/plain": [
       "Computing average response for motion energy:   0%|          | 0/5600 [00:00<?, ?it/s]"
      ]
     },
     "metadata": {},
     "output_type": "display_data"
    },
    {
     "data": {
      "application/vnd.jupyter.widget-view+json": {
       "model_id": "b811a1fda68f4bec9a68c91d39803381",
       "version_major": 2,
       "version_minor": 0
      },
      "text/plain": [
       "Computing average response for pupil x position:   0%|          | 0/5600 [00:00<?, ?it/s]"
      ]
     },
     "metadata": {},
     "output_type": "display_data"
    },
    {
     "data": {
      "application/vnd.jupyter.widget-view+json": {
       "model_id": "e4e9dee3058e4d669a776389196381e8",
       "version_major": 2,
       "version_minor": 0
      },
      "text/plain": [
       "Computing average response for pupil y position:   0%|          | 0/5600 [00:00<?, ?it/s]"
      ]
     },
     "metadata": {},
     "output_type": "display_data"
    },
    {
     "data": {
      "application/vnd.jupyter.widget-view+json": {
       "model_id": "0be04ef6c5d148a98042a83f1e6d99df",
       "version_major": 2,
       "version_minor": 0
      },
      "text/plain": [
       "Computing average response for pupil area:   0%|          | 0/5600 [00:00<?, ?it/s]"
      ]
     },
     "metadata": {},
     "output_type": "display_data"
    },
    {
     "data": {
      "application/vnd.jupyter.widget-view+json": {
       "model_id": "04a3d9e63ce14a6dbab759ba23f4658a",
       "version_major": 2,
       "version_minor": 0
      },
      "text/plain": [
       "Computing average response for response matrix:   0%|          | 0/5600 [00:00<?, ?it/s]"
      ]
     },
     "metadata": {},
     "output_type": "display_data"
    },
    {
     "data": {
      "application/vnd.jupyter.widget-view+json": {
       "model_id": "f327318e490d4effa54f4f3f408dd6ca",
       "version_major": 2,
       "version_minor": 0
      },
      "text/plain": [
       "Computing average response for runspeed:   0%|          | 0/5600 [00:00<?, ?it/s]"
      ]
     },
     "metadata": {},
     "output_type": "display_data"
    },
    {
     "data": {
      "application/vnd.jupyter.widget-view+json": {
       "model_id": "c5d373b72e044ac4a5fd599112e57d46",
       "version_major": 2,
       "version_minor": 0
      },
      "text/plain": [
       "Computing average response for motion energy:   0%|          | 0/5600 [00:00<?, ?it/s]"
      ]
     },
     "metadata": {},
     "output_type": "display_data"
    },
    {
     "data": {
      "application/vnd.jupyter.widget-view+json": {
       "model_id": "e3fe3c15b22c432d9dba6cc54c173f19",
       "version_major": 2,
       "version_minor": 0
      },
      "text/plain": [
       "Computing average response for pupil x position:   0%|          | 0/5600 [00:00<?, ?it/s]"
      ]
     },
     "metadata": {},
     "output_type": "display_data"
    },
    {
     "data": {
      "application/vnd.jupyter.widget-view+json": {
       "model_id": "0ad83199bfc84a70ac7ca700e6e5a2be",
       "version_major": 2,
       "version_minor": 0
      },
      "text/plain": [
       "Computing average response for pupil y position:   0%|          | 0/5600 [00:00<?, ?it/s]"
      ]
     },
     "metadata": {},
     "output_type": "display_data"
    },
    {
     "data": {
      "application/vnd.jupyter.widget-view+json": {
       "model_id": "ef624622cfdd4c07a1e58586fd376ad8",
       "version_major": 2,
       "version_minor": 0
      },
      "text/plain": [
       "Computing average response for pupil area:   0%|          | 0/5600 [00:00<?, ?it/s]"
      ]
     },
     "metadata": {},
     "output_type": "display_data"
    },
    {
     "data": {
      "application/vnd.jupyter.widget-view+json": {
       "model_id": "299bdc4b123e4b4ba65b5e6dc7094d0a",
       "version_major": 2,
       "version_minor": 0
      },
      "text/plain": [
       "Computing average response for response matrix:   0%|          | 0/5600 [00:00<?, ?it/s]"
      ]
     },
     "metadata": {},
     "output_type": "display_data"
    },
    {
     "data": {
      "application/vnd.jupyter.widget-view+json": {
       "model_id": "f6d0e991817f48ac9adc89bfdf2be4a1",
       "version_major": 2,
       "version_minor": 0
      },
      "text/plain": [
       "Computing average response for runspeed:   0%|          | 0/5600 [00:00<?, ?it/s]"
      ]
     },
     "metadata": {},
     "output_type": "display_data"
    },
    {
     "data": {
      "application/vnd.jupyter.widget-view+json": {
       "model_id": "1c777845839744dea31887d309b757da",
       "version_major": 2,
       "version_minor": 0
      },
      "text/plain": [
       "Computing average response for motion energy:   0%|          | 0/5600 [00:00<?, ?it/s]"
      ]
     },
     "metadata": {},
     "output_type": "display_data"
    },
    {
     "data": {
      "application/vnd.jupyter.widget-view+json": {
       "model_id": "39dee5fb65ed44e5a502fe829d650a4a",
       "version_major": 2,
       "version_minor": 0
      },
      "text/plain": [
       "Computing average response for pupil x position:   0%|          | 0/5600 [00:00<?, ?it/s]"
      ]
     },
     "metadata": {},
     "output_type": "display_data"
    },
    {
     "data": {
      "application/vnd.jupyter.widget-view+json": {
       "model_id": "d5600f09a73f4f298bca8514630833d0",
       "version_major": 2,
       "version_minor": 0
      },
      "text/plain": [
       "Computing average response for pupil y position:   0%|          | 0/5600 [00:00<?, ?it/s]"
      ]
     },
     "metadata": {},
     "output_type": "display_data"
    },
    {
     "data": {
      "application/vnd.jupyter.widget-view+json": {
       "model_id": "d2d9901ddf3a4ea6b3aaeb00992b137b",
       "version_major": 2,
       "version_minor": 0
      },
      "text/plain": [
       "Computing average response for pupil area:   0%|          | 0/5600 [00:00<?, ?it/s]"
      ]
     },
     "metadata": {},
     "output_type": "display_data"
    },
    {
     "data": {
      "application/vnd.jupyter.widget-view+json": {
       "model_id": "76e868b77ba44905a78de5347d558bb9",
       "version_major": 2,
       "version_minor": 0
      },
      "text/plain": [
       "Computing average response for response matrix:   0%|          | 0/5600 [00:00<?, ?it/s]"
      ]
     },
     "metadata": {},
     "output_type": "display_data"
    },
    {
     "data": {
      "application/vnd.jupyter.widget-view+json": {
       "model_id": "3e919818d484444aa448c19220f8f9ad",
       "version_major": 2,
       "version_minor": 0
      },
      "text/plain": [
       "Computing average response for runspeed:   0%|          | 0/5600 [00:00<?, ?it/s]"
      ]
     },
     "metadata": {},
     "output_type": "display_data"
    },
    {
     "data": {
      "application/vnd.jupyter.widget-view+json": {
       "model_id": "235e1551c680476695a7b40e7ec2aa70",
       "version_major": 2,
       "version_minor": 0
      },
      "text/plain": [
       "Computing average response for motion energy:   0%|          | 0/5600 [00:00<?, ?it/s]"
      ]
     },
     "metadata": {},
     "output_type": "display_data"
    },
    {
     "data": {
      "application/vnd.jupyter.widget-view+json": {
       "model_id": "34de676d94094ed78c2280fd51048f9e",
       "version_major": 2,
       "version_minor": 0
      },
      "text/plain": [
       "Computing average response for pupil x position:   0%|          | 0/5600 [00:00<?, ?it/s]"
      ]
     },
     "metadata": {},
     "output_type": "display_data"
    },
    {
     "data": {
      "application/vnd.jupyter.widget-view+json": {
       "model_id": "2baa3b4d15224e74b9e56ff6b75f770b",
       "version_major": 2,
       "version_minor": 0
      },
      "text/plain": [
       "Computing average response for pupil y position:   0%|          | 0/5600 [00:00<?, ?it/s]"
      ]
     },
     "metadata": {},
     "output_type": "display_data"
    },
    {
     "data": {
      "application/vnd.jupyter.widget-view+json": {
       "model_id": "3e3526901f9a4a3fa1703816f20fc3eb",
       "version_major": 2,
       "version_minor": 0
      },
      "text/plain": [
       "Computing average response for pupil area:   0%|          | 0/5600 [00:00<?, ?it/s]"
      ]
     },
     "metadata": {},
     "output_type": "display_data"
    },
    {
     "data": {
      "application/vnd.jupyter.widget-view+json": {
       "model_id": "c17a809fc63e46e4bb770b7a8862c6d4",
       "version_major": 2,
       "version_minor": 0
      },
      "text/plain": [
       "Computing average response for response matrix:   0%|          | 0/5600 [00:00<?, ?it/s]"
      ]
     },
     "metadata": {},
     "output_type": "display_data"
    },
    {
     "data": {
      "application/vnd.jupyter.widget-view+json": {
       "model_id": "d6d4b1f51599402e9935344fd5cd1220",
       "version_major": 2,
       "version_minor": 0
      },
      "text/plain": [
       "Computing average response for runspeed:   0%|          | 0/5600 [00:00<?, ?it/s]"
      ]
     },
     "metadata": {},
     "output_type": "display_data"
    },
    {
     "data": {
      "application/vnd.jupyter.widget-view+json": {
       "model_id": "16e128878c504822bac8cb171e7a2c74",
       "version_major": 2,
       "version_minor": 0
      },
      "text/plain": [
       "Computing average response for motion energy:   0%|          | 0/5600 [00:00<?, ?it/s]"
      ]
     },
     "metadata": {},
     "output_type": "display_data"
    },
    {
     "data": {
      "application/vnd.jupyter.widget-view+json": {
       "model_id": "9476f9b4d0254b04922f06905ef3f865",
       "version_major": 2,
       "version_minor": 0
      },
      "text/plain": [
       "Computing average response for pupil x position:   0%|          | 0/5600 [00:00<?, ?it/s]"
      ]
     },
     "metadata": {},
     "output_type": "display_data"
    },
    {
     "data": {
      "application/vnd.jupyter.widget-view+json": {
       "model_id": "e638a1d0152343138c190e75b5325025",
       "version_major": 2,
       "version_minor": 0
      },
      "text/plain": [
       "Computing average response for pupil y position:   0%|          | 0/5600 [00:00<?, ?it/s]"
      ]
     },
     "metadata": {},
     "output_type": "display_data"
    },
    {
     "data": {
      "application/vnd.jupyter.widget-view+json": {
       "model_id": "02196982597e4f78a1a400386a6b26f1",
       "version_major": 2,
       "version_minor": 0
      },
      "text/plain": [
       "Computing average response for pupil area:   0%|          | 0/5600 [00:00<?, ?it/s]"
      ]
     },
     "metadata": {},
     "output_type": "display_data"
    },
    {
     "data": {
      "application/vnd.jupyter.widget-view+json": {
       "model_id": "9c30d14c11cf425d87dbc8b531bcd77d",
       "version_major": 2,
       "version_minor": 0
      },
      "text/plain": [
       "Computing average response for response matrix:   0%|          | 0/5600 [00:00<?, ?it/s]"
      ]
     },
     "metadata": {},
     "output_type": "display_data"
    },
    {
     "data": {
      "application/vnd.jupyter.widget-view+json": {
       "model_id": "121dc6b908124fdf81a97a4a403a418f",
       "version_major": 2,
       "version_minor": 0
      },
      "text/plain": [
       "Computing average response for runspeed:   0%|          | 0/5600 [00:00<?, ?it/s]"
      ]
     },
     "metadata": {},
     "output_type": "display_data"
    },
    {
     "data": {
      "application/vnd.jupyter.widget-view+json": {
       "model_id": "04b5d22624be43d49fba43a270a30221",
       "version_major": 2,
       "version_minor": 0
      },
      "text/plain": [
       "Computing average response for motion energy:   0%|          | 0/5600 [00:00<?, ?it/s]"
      ]
     },
     "metadata": {},
     "output_type": "display_data"
    },
    {
     "data": {
      "application/vnd.jupyter.widget-view+json": {
       "model_id": "f2bdd8aac76e41219191017b3eed1af3",
       "version_major": 2,
       "version_minor": 0
      },
      "text/plain": [
       "Computing average response for pupil x position:   0%|          | 0/5600 [00:00<?, ?it/s]"
      ]
     },
     "metadata": {},
     "output_type": "display_data"
    },
    {
     "data": {
      "application/vnd.jupyter.widget-view+json": {
       "model_id": "c676d1f7402e40cca5270ee5dd83893c",
       "version_major": 2,
       "version_minor": 0
      },
      "text/plain": [
       "Computing average response for pupil y position:   0%|          | 0/5600 [00:00<?, ?it/s]"
      ]
     },
     "metadata": {},
     "output_type": "display_data"
    },
    {
     "data": {
      "application/vnd.jupyter.widget-view+json": {
       "model_id": "86e72696df1a472b816bbdd214007994",
       "version_major": 2,
       "version_minor": 0
      },
      "text/plain": [
       "Computing average response for pupil area:   0%|          | 0/5600 [00:00<?, ?it/s]"
      ]
     },
     "metadata": {},
     "output_type": "display_data"
    }
   ],
   "source": [
    "import os\n",
    "import logging\n",
    "from sklearn.preprocessing import normalize\n",
    "import numpy as np\n",
    "import pandas as pd\n",
    "import matplotlib.pyplot as plt\n",
    "import scipy.stats as st\n",
    "from scipy import ndimage\n",
    "from tqdm.auto import tqdm\n",
    "import sys\n",
    "from sensorium.utility.training import read_config\n",
    "from loaddata.session_info import load_sessions\n",
    "from utils.imagelib import load_natural_images\n",
    "from utils.tuning import mean_resp_image\n",
    "from utils.explorefigs import *\n",
    "from loaddata.get_data_folder import get_local_drive\n",
    "import shutil\n",
    "import torch\n",
    "\n",
    "\n",
    "# If you want to save a subset of the data, define these manually here. All three variables have to be defined. Else, leave this blank\n",
    "\n",
    "# session_list = np.array([['LPE10885', '2023_10_20']])\n",
    "# session_list = np.array(session_list)\n",
    "# folders = [os.path.join(INPUT_FOLDER, 'LPE10885')]\n",
    "# files = [[folder, os.path.join(folder, '2023_10_20')]\n",
    "#          for folder in folders]\n",
    "\n",
    "# Imports\n",
    "# -*- coding: utf-8 -*-\n",
    "\"\"\"\n",
    "This script analyzes neural and behavioral data in a multi-area calcium imaging\n",
    "dataset with labeled projection neurons. The visual stimuli are natural images.\n",
    "Matthijs Oude Lohuis, 2023, Champalimaud Center\n",
    "Anastasia Simonoff, 2024, Bernstein Center for Computational Neuroscience Berlin\n",
    "\"\"\"\n",
    "\n",
    "# Set working directory to root of repo\n",
    "current_path = os.getcwd()\n",
    "# Identify if path has 'Petreanu_MEI_generation' as a folder in it\n",
    "if 'Petreanu_MEI_generation' in current_path:\n",
    "    # If so, set the path to the root of the repo\n",
    "    current_path = current_path.split('Petreanu_MEI_generation')[0] + 'Petreanu_MEI_generation'\n",
    "else:\n",
    "    raise FileNotFoundError(\n",
    "        f'This needs to be run somewhere from within the Petreanu_MEI_generation folder, not {current_path}')\n",
    "os.chdir(current_path)\n",
    "sys.path.append(current_path)\n",
    "\n",
    "run_config = read_config('run_config.yaml') # Must be set\n",
    "print(run_config)\n",
    "\n",
    "RUN_NAME = run_config['current_vals']['RUN_NAME'] # MUST be set. Creates a subfolder in the runs folder with this name, containing data, saved models, etc. IMPORTANT: all values in this folder WILL be deleted.\n",
    "RUN_FOLDER = run_config['current_vals']['RUN_FOLDER']\n",
    "\n",
    "keep_behavioral_info = run_config['data']['keep_behavioral_info']\n",
    "area_of_interest = run_config['current_vals']['data']['area_of_interest']\n",
    "sessions_to_keep = run_config['data']['sessions_to_keep']\n",
    "INPUT_FOLDER = run_config['data']['INPUT_FOLDER']\n",
    "OUTPUT_FOLDER = f'{RUN_FOLDER}/data_preprocessed' # relative to molanalysis root folder\n",
    "\n",
    "if run_config['ASK_FOR_CONFIRMATION']:\n",
    "    input(f'RUN_NAME: {RUN_NAME}\\n\\nINPUT FOLDER: {INPUT_FOLDER}\\n\\nThis will delete all files in the {RUN_FOLDER} folder. Press Enter to continue or Ctrl+C to cancel.')\n",
    "else:\n",
    "    print(f'RUN_NAME: {RUN_NAME}\\n\\nINPUT FOLDER: {INPUT_FOLDER}\\n\\nThis will delete all files in the {RUN_FOLDER} folder. Automatically continuing...')\n",
    "\n",
    "# Set up logging\n",
    "logging.basicConfig(level=logging.INFO,\n",
    "                    format='%(asctime)s - %(name)s - %(levelname)s - %(pathname)s - %(message)s', handlers=[logging.StreamHandler()])\n",
    "logger = logging.getLogger(__name__)\n",
    "logger.setLevel(logging.INFO)\n",
    "# Create a StreamHandler\n",
    "console_handler = logging.StreamHandler()\n",
    "console_handler.setLevel(logging.INFO)  # Set the logging level for the handler\n",
    "# Create a Formatter and attach it to the handler\n",
    "formatter = logging.Formatter(\n",
    "    '%(asctime)s - %(name)s - %(levelname)s - %(pathname)s - %(message)s')\n",
    "console_handler.setFormatter(formatter)\n",
    "# Add the handler to the logger\n",
    "logger.addHandler(console_handler)\n",
    "\n",
    "logger.info('Current working directory: %s', os.getcwd())\n",
    "\n",
    "# TODO: Fix this so it outputs correctly during figure generation\n",
    "rmap_logger = logging.getLogger('rastermap')\n",
    "rmap_logger.setLevel(logging.WARNING)\n",
    "rmap_logger.addHandler(console_handler)\n",
    "rmap_logger.propagate = False\n",
    "\n",
    "# Updated by Anastasia Simonoff for her local computer, etc. This should be updated for your local computer, too.\n",
    "\n",
    "savedir = os.path.join(get_local_drive(\n",
    "), 'Users\\\\asimo\\\\Documents\\\\BCCN\\\\Lab Rotations\\\\Petreanu Lab\\\\Figures\\\\Images' if os.environ['USERDOMAIN'] == 'ULTINTELLIGENCE' else 'OneDrive\\\\PostDoc\\\\Figures\\\\Images\\\\')\n",
    "logger.info(f'Saving figures to {savedir}')\n",
    "\n",
    "# INPUT_FOLDER = '../sensorium/notebooks/data/IM_prezipped'\n",
    "# Add Add folders two levels deep from INPUT_FOLDER into a list\n",
    "\n",
    "# delete all files in the run folder\n",
    "if os.path.exists(RUN_FOLDER):\n",
    "    print(f'Deleting existing folder {RUN_FOLDER}')\n",
    "    shutil.rmtree(RUN_FOLDER)\n",
    "else:\n",
    "    os.makedirs(RUN_FOLDER, exist_ok=True)\n",
    "\n",
    "# Delete anything in OUTPUT_FOLDER\n",
    "try:\n",
    "    shutil.rmtree(OUTPUT_FOLDER)\n",
    "except FileNotFoundError:\n",
    "    os.makedirs(OUTPUT_FOLDER, exist_ok=True)\n",
    "    \n",
    "# test if folders already defined \n",
    "try: \n",
    "    folders\n",
    "except NameError:\n",
    "    # First level\n",
    "    folders = [os.path.join(INPUT_FOLDER, name) for name in os.listdir(\n",
    "        INPUT_FOLDER) if os.path.isdir(os.path.join(INPUT_FOLDER, name)) and not \"merged_data\" in name]\n",
    "    folders = [x.replace(\"\\\\\", \"/\") for x in folders]\n",
    "    # Second level\n",
    "    files = [[folder, os.path.join(folder, name).replace('\\\\', '/')] for folder in folders for name in os.listdir(\n",
    "        folder) if os.path.isdir(os.path.join(folder, name)) and not \"merged_data\" in name]\n",
    "    # only get last value after /\n",
    "    session_list = [[folder.split(\"/\")[-1], name.split(\"/\")[-1]]\n",
    "                    for folder, name in files]\n",
    "\n",
    "    # drop ['LPE10919', '2023_11_08'] because the data is not converted yet\n",
    "    session_list = [x for x in session_list if x != ['LPE10919', '2023_11_08']]\n",
    "    print(session_list)\n",
    "\n",
    "if not isinstance(sessions_to_keep, str):\n",
    "    sessions_to_keep = [tuple(x) for x in sessions_to_keep]\n",
    "    session_list = [tuple(x) for x in session_list]\n",
    "    session_list = [x for x in session_list if x in sessions_to_keep]\n",
    "    session_list = [list(x) for x in session_list]\n",
    "elif sessions_to_keep == 'all':\n",
    "    pass\n",
    "\n",
    "session_list = np.array(session_list)\n",
    "\n",
    "# Load one session including raw data: ################################################\n",
    "# example session with good responses\n",
    "\n",
    "# Load sessions lazy: (no calciumdata, behaviordata etc.,)\n",
    "sessions, nSessions = load_sessions(protocol='IM', session_list=session_list, data_folder=INPUT_FOLDER)\n",
    "\n",
    "# Load proper data and compute average trial responses:\n",
    "for ises in tqdm(range(nSessions)):    # iterate over sessions\n",
    "\n",
    "    os.makedirs(os.path.join(OUTPUT_FOLDER, session_list[ises][0], session_list[ises][1], 'data'), exist_ok=True)\n",
    "\n",
    "    sessions[ises].load_respmat(calciumversion='deconv', keepraw=True)\n",
    "\n",
    "    # Save respmat\n",
    "    # np.save(os.path.join(files[ises][1], 'respmat.npy'), sessions[ises].respmat)\n",
    "    np.save(os.path.join(OUTPUT_FOLDER, session_list[ises][0], session_list[ises][1], 'data', 'respmat.npy'), sessions[ises].respmat)\n"
   ]
  },
  {
   "cell_type": "code",
   "execution_count": 6,
   "metadata": {},
   "outputs": [],
   "source": [
    "\n",
    "def replace_nan_with_avg(arr):\n",
    "    arr = arr.copy()  # Copy the array to avoid modifying the original\n",
    "    nan_indices = np.where(np.isnan(arr))[0]  # Get indices of NaN values\n",
    "\n",
    "    for i in nan_indices:\n",
    "        # Handle cases where NaN is at the start or end of the array\n",
    "        if i == 0:\n",
    "            arr[i] = arr[i + 1]\n",
    "        elif i == len(arr) - 1:\n",
    "            arr[i] = arr[i - 1]\n",
    "        else:\n",
    "            # Replace NaN with the average of adjacent values\n",
    "            arr[i] = np.nanmean([arr[i - 1], arr[i + 1]])\n",
    "\n",
    "    return arr\n",
    "\n",
    "# Save behavior data in sensorium format\n",
    "\n",
    "idx_to_delete = []"
   ]
  },
  {
   "cell_type": "code",
   "execution_count": 10,
   "metadata": {},
   "outputs": [
    {
     "data": {
      "text/plain": [
       "'LPE13998'"
      ]
     },
     "execution_count": 10,
     "metadata": {},
     "output_type": "execute_result"
    }
   ],
   "source": [
    "sess_obj.animal_id"
   ]
  },
  {
   "cell_type": "code",
   "execution_count": 11,
   "metadata": {},
   "outputs": [
    {
     "data": {
      "application/vnd.jupyter.widget-view+json": {
       "model_id": "f9dc840ab8c94e84903b095d35562d1c",
       "version_major": 2,
       "version_minor": 0
      },
      "text/plain": [
       "Saving behavior data for session LPE09665/2023_03_20:   0%|          | 0/5600 [00:00<?, ?it/s]"
      ]
     },
     "metadata": {},
     "output_type": "display_data"
    },
    {
     "data": {
      "application/vnd.jupyter.widget-view+json": {
       "model_id": "769653da715446b5bf2f66abf185033a",
       "version_major": 2,
       "version_minor": 0
      },
      "text/plain": [
       "Saving behavior data for session LPE10883/2023_10_23:   0%|          | 0/5600 [00:00<?, ?it/s]"
      ]
     },
     "metadata": {},
     "output_type": "display_data"
    },
    {
     "data": {
      "application/vnd.jupyter.widget-view+json": {
       "model_id": "5d5a3723293f490a82eb27bc831a64d1",
       "version_major": 2,
       "version_minor": 0
      },
      "text/plain": [
       "Saving behavior data for session LPE10883/2023_10_31:   0%|          | 0/5600 [00:00<?, ?it/s]"
      ]
     },
     "metadata": {},
     "output_type": "display_data"
    },
    {
     "data": {
      "application/vnd.jupyter.widget-view+json": {
       "model_id": "ea7be8104d4d48a38b804789725e5ea7",
       "version_major": 2,
       "version_minor": 0
      },
      "text/plain": [
       "Saving behavior data for session LPE10884/2023_10_12:   0%|          | 0/5600 [00:00<?, ?it/s]"
      ]
     },
     "metadata": {},
     "output_type": "display_data"
    },
    {
     "data": {
      "application/vnd.jupyter.widget-view+json": {
       "model_id": "ee19a5cbc5274d2dae863a8cdec572d1",
       "version_major": 2,
       "version_minor": 0
      },
      "text/plain": [
       "Saving behavior data for session LPE10885/2023_10_20:   0%|          | 0/5600 [00:00<?, ?it/s]"
      ]
     },
     "metadata": {},
     "output_type": "display_data"
    },
    {
     "data": {
      "application/vnd.jupyter.widget-view+json": {
       "model_id": "97130760b5634a7fa4d8989e108c230d",
       "version_major": 2,
       "version_minor": 0
      },
      "text/plain": [
       "Saving behavior data for session LPE10919/2023_11_09:   0%|          | 0/5600 [00:00<?, ?it/s]"
      ]
     },
     "metadata": {},
     "output_type": "display_data"
    },
    {
     "data": {
      "application/vnd.jupyter.widget-view+json": {
       "model_id": "1d65d15384654645afbcffcb193ba3ae",
       "version_major": 2,
       "version_minor": 0
      },
      "text/plain": [
       "Saving behavior data for session LPE11086/2023_12_16:   0%|          | 0/5600 [00:00<?, ?it/s]"
      ]
     },
     "metadata": {},
     "output_type": "display_data"
    },
    {
     "data": {
      "application/vnd.jupyter.widget-view+json": {
       "model_id": "d6fb3b60dbac4ed59c2d602864e3fadd",
       "version_major": 2,
       "version_minor": 0
      },
      "text/plain": [
       "Saving behavior data for session LPE11086/2024_01_09:   0%|          | 0/5600 [00:00<?, ?it/s]"
      ]
     },
     "metadata": {},
     "output_type": "display_data"
    },
    {
     "data": {
      "application/vnd.jupyter.widget-view+json": {
       "model_id": "64de4f5213644b3fbd7319171de5fc93",
       "version_major": 2,
       "version_minor": 0
      },
      "text/plain": [
       "Saving behavior data for session LPE11495/2024_02_29:   0%|          | 0/5600 [00:00<?, ?it/s]"
      ]
     },
     "metadata": {},
     "output_type": "display_data"
    },
    {
     "data": {
      "application/vnd.jupyter.widget-view+json": {
       "model_id": "f5b7af7243594d4ab57e335abcfe5e08",
       "version_major": 2,
       "version_minor": 0
      },
      "text/plain": [
       "Saving behavior data for session LPE11998/2024_05_08:   0%|          | 0/5600 [00:00<?, ?it/s]"
      ]
     },
     "metadata": {},
     "output_type": "display_data"
    },
    {
     "data": {
      "application/vnd.jupyter.widget-view+json": {
       "model_id": "7dead2d599394bcc9ca8691afe3d5c6b",
       "version_major": 2,
       "version_minor": 0
      },
      "text/plain": [
       "Saving behavior data for session LPE12223/2024_06_11:   0%|          | 0/5600 [00:00<?, ?it/s]"
      ]
     },
     "metadata": {},
     "output_type": "display_data"
    },
    {
     "data": {
      "application/vnd.jupyter.widget-view+json": {
       "model_id": "5ec30c2347ea4a9d9b58cc1cf44b15cd",
       "version_major": 2,
       "version_minor": 0
      },
      "text/plain": [
       "Saving behavior data for session LPE13998/2025_03_10:   0%|          | 0/5600 [00:00<?, ?it/s]"
      ]
     },
     "metadata": {},
     "output_type": "display_data"
    },
    {
     "name": "stderr",
     "output_type": "stream",
     "text": [
      "2025-03-11 16:35:35,229 - __main__ - WARNING - C:\\Users\\Kerem Sarikaya\\AppData\\Local\\Temp\\ipykernel_31536\\3313610747.py - Removing sessions idx = [] from sessions lists.\n",
      "2025-03-11 16:35:35,229 - __main__ - WARNING - C:\\Users\\Kerem Sarikaya\\AppData\\Local\\Temp\\ipykernel_31536\\3313610747.py - Removing sessions idx = [] from sessions lists.\n"
     ]
    }
   ],
   "source": [
    "\n",
    "for i, (sess, sess_obj) in enumerate(zip(session_list, sessions)):\n",
    "    folder_base = f'{OUTPUT_FOLDER}/{sess[0]}/{sess[1]}'\n",
    "\n",
    "    pupil_size = sess_obj.respmat_pupilarea.reshape(-1, 1)\n",
    "    change_of_pupil_size = sess_obj.respmat_pupilareaderiv.reshape(-1, 1)\n",
    "    locotomion_speed = sess_obj.respmat_runspeed.reshape(-1, 1)\n",
    "\n",
    "    # Data\n",
    "    folder = f'{folder_base}/data/behavior'\n",
    "    os.makedirs(folder, exist_ok=True)\n",
    "\n",
    "    if np.isnan(pupil_size).all() or np.isnan(change_of_pupil_size).all() or np.isnan(locotomion_speed).all():\n",
    "        logger.warning(\n",
    "            f'All values in behavior data for session {sess[0]}/{sess[1]} are NaN. Session will be removed.')\n",
    "        # Drop session from list\n",
    "        # session_list = np.delete(session_list, i, axis=0)\n",
    "        # sessions = np.delete(sessions, i, axis=0)\n",
    "        idx_to_delete.append(i)\n",
    "        # Remove folder\n",
    "        shutil.rmtree(folder_base)\n",
    "        try:\n",
    "            os.rmdir(folder_base)\n",
    "        except FileNotFoundError:\n",
    "            pass\n",
    "        try:\n",
    "            shutil.rmtree(f'{INPUT_FOLDER}/{sess[0]}/{sess[1]}/')\n",
    "            if len(os.listdir(f'{INPUT_FOLDER}/{sess[0]}')) == 0:\n",
    "                os.rmdir(f'{INPUT_FOLDER}/{sess[0]}/')\n",
    "        except FileNotFoundError:\n",
    "            pass\n",
    "        continue\n",
    "\n",
    "    behavior = np.hstack((pupil_size, change_of_pupil_size, locotomion_speed))\n",
    "    if keep_behavioral_info:\n",
    "        behavior = replace_nan_with_avg(behavior)\n",
    "        assert not np.isnan(behavior).any(), 'There are still NaN values in the behavior data'\n",
    "    else:\n",
    "        behavior = np.random.default_rng().normal(size=behavior.shape)\n",
    "\n",
    "    for i in tqdm(range(behavior.shape[0]), desc=f'Saving behavior data for session {sess[0]}/{sess[1]}'):\n",
    "        np.save(f'{folder}/{i}.npy', behavior[i, :])\n",
    "\n",
    "    # Meta\n",
    "    # There is also a /stimulus_Frame, but I'm not sure what the difference is\n",
    "    folder = f'{folder_base}/meta/statistics/behavior/all'\n",
    "    os.makedirs(folder, exist_ok=True)\n",
    "\n",
    "    # Mean\n",
    "    mean = np.mean(behavior, axis=0)\n",
    "    np.save(f'{folder}/mean.npy', mean)\n",
    "\n",
    "    # Std\n",
    "    std = np.std(behavior, axis=0)\n",
    "    np.save(f'{folder}/std.npy', std)\n",
    "\n",
    "    # Min\n",
    "    min = np.min(behavior, axis=0)\n",
    "    np.save(f'{folder}/min.npy', min)\n",
    "\n",
    "    # Max\n",
    "    max = np.max(behavior, axis=0)\n",
    "    np.save(f'{folder}/max.npy', max)\n",
    "\n",
    "    # Median\n",
    "    median = np.median(behavior, axis=0)\n",
    "    np.save(f'{folder}/median.npy', median)\n",
    "\n",
    "    # There is also a /stimulus_Frame, but I'm not sure what the difference is\n",
    "    folder = f'{folder_base}/meta/statistics/behavior/stimulus_Frame'\n",
    "    os.makedirs(folder, exist_ok=True)\n",
    "\n",
    "    # Mean\n",
    "    mean = np.mean(behavior, axis=0)\n",
    "    np.save(f'{folder}/mean.npy', mean)\n",
    "\n",
    "    # Std\n",
    "    std = np.std(behavior, axis=0)\n",
    "    np.save(f'{folder}/std.npy', std)\n",
    "\n",
    "    # Min\n",
    "    min = np.min(behavior, axis=0)\n",
    "    np.save(f'{folder}/min.npy', min)\n",
    "\n",
    "    # Max\n",
    "    max = np.max(behavior, axis=0)\n",
    "    np.save(f'{folder}/max.npy', max)\n",
    "\n",
    "    # Median\n",
    "    median = np.median(behavior, axis=0)\n",
    "    np.save(f'{folder}/median.npy', median)\n",
    "\n",
    "logger.warning(f'Removing sessions idx = {idx_to_delete} from sessions lists.')\n",
    "session_list = np.delete(session_list, idx_to_delete, axis=0)\n",
    "sessions = np.delete(sessions, idx_to_delete, axis=0)"
   ]
  },
  {
   "cell_type": "code",
   "execution_count": 16,
   "metadata": {},
   "outputs": [
    {
     "data": {
      "text/html": [
       "<div>\n",
       "<style scoped>\n",
       "    .dataframe tbody tr th:only-of-type {\n",
       "        vertical-align: middle;\n",
       "    }\n",
       "\n",
       "    .dataframe tbody tr th {\n",
       "        vertical-align: top;\n",
       "    }\n",
       "\n",
       "    .dataframe thead th {\n",
       "        text-align: right;\n",
       "    }\n",
       "</style>\n",
       "<table border=\"1\" class=\"dataframe\">\n",
       "  <thead>\n",
       "    <tr style=\"text-align: right;\">\n",
       "      <th></th>\n",
       "      <th>iscell</th>\n",
       "      <th>iscell_prob</th>\n",
       "      <th>skew</th>\n",
       "      <th>radius</th>\n",
       "      <th>npix_soma</th>\n",
       "      <th>npix</th>\n",
       "      <th>xloc</th>\n",
       "      <th>...</th>\n",
       "      <th>meanF_chan2</th>\n",
       "      <th>noise_level</th>\n",
       "      <th>event_rate</th>\n",
       "      <th>cell_id</th>\n",
       "      <th>layer</th>\n",
       "      <th>recombinase</th>\n",
       "      <th>session_id</th>\n",
       "    </tr>\n",
       "  </thead>\n",
       "  <tbody>\n",
       "    <tr>\n",
       "      <th>0</th>\n",
       "      <td>1.0</td>\n",
       "      <td>0.726542</td>\n",
       "      <td>3.867022</td>\n",
       "      <td>5.795738</td>\n",
       "      <td>130.0</td>\n",
       "      <td>171.0</td>\n",
       "      <td>113.671875</td>\n",
       "      <td>...</td>\n",
       "      <td>24.775822</td>\n",
       "      <td>12.294749</td>\n",
       "      <td>0.031356</td>\n",
       "      <td>LPE13998_2025_03_10_0_0000</td>\n",
       "      <td>L5</td>\n",
       "      <td>non</td>\n",
       "      <td>LPE13998_2025_03_10</td>\n",
       "    </tr>\n",
       "    <tr>\n",
       "      <th>1</th>\n",
       "      <td>1.0</td>\n",
       "      <td>0.973829</td>\n",
       "      <td>3.422527</td>\n",
       "      <td>4.668617</td>\n",
       "      <td>100.0</td>\n",
       "      <td>124.0</td>\n",
       "      <td>460.546875</td>\n",
       "      <td>...</td>\n",
       "      <td>4.981840</td>\n",
       "      <td>16.920766</td>\n",
       "      <td>0.048776</td>\n",
       "      <td>LPE13998_2025_03_10_0_0001</td>\n",
       "      <td>L5</td>\n",
       "      <td>non</td>\n",
       "      <td>LPE13998_2025_03_10</td>\n",
       "    </tr>\n",
       "    <tr>\n",
       "      <th>2</th>\n",
       "      <td>1.0</td>\n",
       "      <td>0.908098</td>\n",
       "      <td>2.972464</td>\n",
       "      <td>5.387129</td>\n",
       "      <td>100.0</td>\n",
       "      <td>115.0</td>\n",
       "      <td>507.421875</td>\n",
       "      <td>...</td>\n",
       "      <td>4.348712</td>\n",
       "      <td>18.714983</td>\n",
       "      <td>0.048935</td>\n",
       "      <td>LPE13998_2025_03_10_0_0002</td>\n",
       "      <td>L5</td>\n",
       "      <td>non</td>\n",
       "      <td>LPE13998_2025_03_10</td>\n",
       "    </tr>\n",
       "    <tr>\n",
       "      <th>3</th>\n",
       "      <td>1.0</td>\n",
       "      <td>0.978134</td>\n",
       "      <td>4.848788</td>\n",
       "      <td>3.799625</td>\n",
       "      <td>61.0</td>\n",
       "      <td>87.0</td>\n",
       "      <td>128.906250</td>\n",
       "      <td>...</td>\n",
       "      <td>15.207923</td>\n",
       "      <td>22.702727</td>\n",
       "      <td>0.032782</td>\n",
       "      <td>LPE13998_2025_03_10_0_0003</td>\n",
       "      <td>L5</td>\n",
       "      <td>non</td>\n",
       "      <td>LPE13998_2025_03_10</td>\n",
       "    </tr>\n",
       "    <tr>\n",
       "      <th>4</th>\n",
       "      <td>1.0</td>\n",
       "      <td>0.836163</td>\n",
       "      <td>2.538514</td>\n",
       "      <td>5.334969</td>\n",
       "      <td>102.0</td>\n",
       "      <td>120.0</td>\n",
       "      <td>221.484375</td>\n",
       "      <td>...</td>\n",
       "      <td>5.121335</td>\n",
       "      <td>16.121289</td>\n",
       "      <td>0.073481</td>\n",
       "      <td>LPE13998_2025_03_10_0_0004</td>\n",
       "      <td>L5</td>\n",
       "      <td>non</td>\n",
       "      <td>LPE13998_2025_03_10</td>\n",
       "    </tr>\n",
       "    <tr>\n",
       "      <th>...</th>\n",
       "      <td>...</td>\n",
       "      <td>...</td>\n",
       "      <td>...</td>\n",
       "      <td>...</td>\n",
       "      <td>...</td>\n",
       "      <td>...</td>\n",
       "      <td>...</td>\n",
       "      <td>...</td>\n",
       "      <td>...</td>\n",
       "      <td>...</td>\n",
       "      <td>...</td>\n",
       "      <td>...</td>\n",
       "      <td>...</td>\n",
       "      <td>...</td>\n",
       "      <td>...</td>\n",
       "    </tr>\n",
       "    <tr>\n",
       "      <th>353</th>\n",
       "      <td>1.0</td>\n",
       "      <td>0.760555</td>\n",
       "      <td>1.289780</td>\n",
       "      <td>4.393959</td>\n",
       "      <td>50.0</td>\n",
       "      <td>77.0</td>\n",
       "      <td>367.968750</td>\n",
       "      <td>...</td>\n",
       "      <td>23.315962</td>\n",
       "      <td>11.453989</td>\n",
       "      <td>0.139203</td>\n",
       "      <td>LPE13998_2025_03_10_4_0102</td>\n",
       "      <td>L5</td>\n",
       "      <td>non</td>\n",
       "      <td>LPE13998_2025_03_10</td>\n",
       "    </tr>\n",
       "    <tr>\n",
       "      <th>354</th>\n",
       "      <td>1.0</td>\n",
       "      <td>0.606522</td>\n",
       "      <td>0.865586</td>\n",
       "      <td>6.454663</td>\n",
       "      <td>87.0</td>\n",
       "      <td>116.0</td>\n",
       "      <td>86.718750</td>\n",
       "      <td>...</td>\n",
       "      <td>11.268409</td>\n",
       "      <td>10.780393</td>\n",
       "      <td>0.138886</td>\n",
       "      <td>LPE13998_2025_03_10_4_0103</td>\n",
       "      <td>L5</td>\n",
       "      <td>non</td>\n",
       "      <td>LPE13998_2025_03_10</td>\n",
       "    </tr>\n",
       "    <tr>\n",
       "      <th>355</th>\n",
       "      <td>1.0</td>\n",
       "      <td>0.923202</td>\n",
       "      <td>0.689729</td>\n",
       "      <td>5.988932</td>\n",
       "      <td>107.0</td>\n",
       "      <td>120.0</td>\n",
       "      <td>113.671875</td>\n",
       "      <td>...</td>\n",
       "      <td>219.035320</td>\n",
       "      <td>11.514083</td>\n",
       "      <td>0.133185</td>\n",
       "      <td>LPE13998_2025_03_10_4_0105</td>\n",
       "      <td>L5</td>\n",
       "      <td>non</td>\n",
       "      <td>LPE13998_2025_03_10</td>\n",
       "    </tr>\n",
       "    <tr>\n",
       "      <th>356</th>\n",
       "      <td>1.0</td>\n",
       "      <td>0.811561</td>\n",
       "      <td>0.832167</td>\n",
       "      <td>4.987968</td>\n",
       "      <td>83.0</td>\n",
       "      <td>91.0</td>\n",
       "      <td>198.046875</td>\n",
       "      <td>...</td>\n",
       "      <td>18.099546</td>\n",
       "      <td>9.633444</td>\n",
       "      <td>0.146013</td>\n",
       "      <td>LPE13998_2025_03_10_4_0106</td>\n",
       "      <td>L5</td>\n",
       "      <td>non</td>\n",
       "      <td>LPE13998_2025_03_10</td>\n",
       "    </tr>\n",
       "    <tr>\n",
       "      <th>357</th>\n",
       "      <td>1.0</td>\n",
       "      <td>0.523070</td>\n",
       "      <td>0.670972</td>\n",
       "      <td>4.978359</td>\n",
       "      <td>64.0</td>\n",
       "      <td>79.0</td>\n",
       "      <td>166.406250</td>\n",
       "      <td>...</td>\n",
       "      <td>14.612960</td>\n",
       "      <td>10.288503</td>\n",
       "      <td>0.142687</td>\n",
       "      <td>LPE13998_2025_03_10_4_0108</td>\n",
       "      <td>L5</td>\n",
       "      <td>non</td>\n",
       "      <td>LPE13998_2025_03_10</td>\n",
       "    </tr>\n",
       "  </tbody>\n",
       "</table>\n",
       "<p>358 rows × 29 columns</p>\n",
       "</div>"
      ],
      "text/plain": [
       "     iscell  iscell_prob      skew    radius  npix_soma   npix        xloc  ...  meanF_chan2  noise_level  event_rate                     cell_id  layer  recombinase           session_id\n",
       "0       1.0     0.726542  3.867022  5.795738      130.0  171.0  113.671875  ...    24.775822    12.294749    0.031356  LPE13998_2025_03_10_0_0000     L5          non  LPE13998_2025_03_10\n",
       "1       1.0     0.973829  3.422527  4.668617      100.0  124.0  460.546875  ...     4.981840    16.920766    0.048776  LPE13998_2025_03_10_0_0001     L5          non  LPE13998_2025_03_10\n",
       "2       1.0     0.908098  2.972464  5.387129      100.0  115.0  507.421875  ...     4.348712    18.714983    0.048935  LPE13998_2025_03_10_0_0002     L5          non  LPE13998_2025_03_10\n",
       "3       1.0     0.978134  4.848788  3.799625       61.0   87.0  128.906250  ...    15.207923    22.702727    0.032782  LPE13998_2025_03_10_0_0003     L5          non  LPE13998_2025_03_10\n",
       "4       1.0     0.836163  2.538514  5.334969      102.0  120.0  221.484375  ...     5.121335    16.121289    0.073481  LPE13998_2025_03_10_0_0004     L5          non  LPE13998_2025_03_10\n",
       "..      ...          ...       ...       ...        ...    ...         ...  ...          ...          ...         ...                         ...    ...          ...                  ...\n",
       "353     1.0     0.760555  1.289780  4.393959       50.0   77.0  367.968750  ...    23.315962    11.453989    0.139203  LPE13998_2025_03_10_4_0102     L5          non  LPE13998_2025_03_10\n",
       "354     1.0     0.606522  0.865586  6.454663       87.0  116.0   86.718750  ...    11.268409    10.780393    0.138886  LPE13998_2025_03_10_4_0103     L5          non  LPE13998_2025_03_10\n",
       "355     1.0     0.923202  0.689729  5.988932      107.0  120.0  113.671875  ...   219.035320    11.514083    0.133185  LPE13998_2025_03_10_4_0105     L5          non  LPE13998_2025_03_10\n",
       "356     1.0     0.811561  0.832167  4.987968       83.0   91.0  198.046875  ...    18.099546     9.633444    0.146013  LPE13998_2025_03_10_4_0106     L5          non  LPE13998_2025_03_10\n",
       "357     1.0     0.523070  0.670972  4.978359       64.0   79.0  166.406250  ...    14.612960    10.288503    0.142687  LPE13998_2025_03_10_4_0108     L5          non  LPE13998_2025_03_10\n",
       "\n",
       "[358 rows x 29 columns]"
      ]
     },
     "execution_count": 16,
     "metadata": {},
     "output_type": "execute_result"
    }
   ],
   "source": [
    "sessions[-1].celldata"
   ]
  },
  {
   "cell_type": "code",
   "execution_count": 17,
   "metadata": {},
   "outputs": [],
   "source": [
    "sess_obj = sessions[-1]\n",
    "\n",
    "celldata = sess_obj.celldata.copy()\n",
    "\n",
    "# layer\n",
    "# V1\n",
    "celldata.loc[(celldata['roi_name'] == 'V1') & (\n",
    "    celldata['depth'] < 250), 'layer'] = 'L2/3'\n",
    "celldata.loc[(celldata['roi_name'] == 'V1') & (\n",
    "    celldata['depth'] >= 250) & (celldata['depth'] < 350), 'layer'] = 'L4'\n",
    "celldata.loc[(celldata['roi_name'] == 'V1') & (\n",
    "    celldata['depth'] >= 350), 'layer'] = 'L5/6'\n",
    "\n",
    "# PM\n",
    "celldata.loc[(celldata['roi_name'] == 'PM') & (\n",
    "    celldata['depth'] < 250), 'layer'] = 'L2/3'\n",
    "celldata.loc[(celldata['roi_name'] == 'PM') & (\n",
    "    celldata['depth'] >= 250) & (celldata['depth'] < 325), 'layer'] = 'L4'\n",
    "celldata.loc[(celldata['roi_name'] == 'PM') & (\n",
    "    celldata['depth'] >= 325), 'layer'] = 'L5'"
   ]
  },
  {
   "cell_type": "code",
   "execution_count": 20,
   "metadata": {},
   "outputs": [
    {
     "data": {
      "text/plain": [
       "array(['PM'], dtype=object)"
      ]
     },
     "execution_count": 20,
     "metadata": {},
     "output_type": "execute_result"
    }
   ],
   "source": [
    "celldata['roi_name'].unique()"
   ]
  },
  {
   "cell_type": "code",
   "execution_count": 8,
   "metadata": {},
   "outputs": [
    {
     "data": {
      "text/plain": [
       "[]"
      ]
     },
     "execution_count": 8,
     "metadata": {},
     "output_type": "execute_result"
    }
   ],
   "source": [
    "for sess, sess_obj in zip(session_list, sessions):\n",
    "    folder_base = f'{OUTPUT_FOLDER}/{sess[0]}/{sess[1]}'\n",
    "    folder = f'{folder_base}/meta/neurons'\n",
    "    os.makedirs(folder, exist_ok=True)\n",
    "\n",
    "    celldata = sess_obj.celldata.copy()\n",
    "\n",
    "    # layer\n",
    "    # V1\n",
    "    celldata.loc[(celldata['roi_name'] == 'V1') & (\n",
    "        celldata['depth'] < 250), 'layer'] = 'L2/3'\n",
    "    celldata.loc[(celldata['roi_name'] == 'V1') & (\n",
    "        celldata['depth'] >= 250) & (celldata['depth'] < 350), 'layer'] = 'L4'\n",
    "    celldata.loc[(celldata['roi_name'] == 'V1') & (\n",
    "        celldata['depth'] >= 350), 'layer'] = 'L5/6'\n",
    "\n",
    "    # PM\n",
    "    celldata.loc[(celldata['roi_name'] == 'PM') & (\n",
    "        celldata['depth'] < 250), 'layer'] = 'L2/3'\n",
    "    celldata.loc[(celldata['roi_name'] == 'PM') & (\n",
    "        celldata['depth'] >= 250) & (celldata['depth'] < 325), 'layer'] = 'L4'\n",
    "    celldata.loc[(celldata['roi_name'] == 'PM') & (\n",
    "        celldata['depth'] >= 325), 'layer'] = 'L5'\n",
    "    \n",
    "    celldata = celldata.loc[celldata['roi_name'] == area_of_interest] if area_of_interest is not None else celldata\n",
    "    \n",
    "    # Save celldata to obj\n",
    "    sess_obj.celldata = celldata.copy()\n",
    "\n",
    "    num_neurons = len(celldata)\n",
    "    \n",
    "    # layer\n",
    "    np.save(f'{folder}/layer.npy',\n",
    "            celldata['layer'].to_numpy(dtype='<U32'))\n",
    "    \n",
    "    # animal ids\n",
    "    np.save(f'{folder}/animal_ids.npy',\n",
    "            np.full((num_neurons, ), sess_obj.animal_id, dtype='<U32'))\n",
    "\n",
    "    # area\n",
    "    np.save(f'{folder}/area.npy',\n",
    "            celldata['roi_name'].to_numpy(dtype='<U32'))\n",
    "\n",
    "    # cell motor coordinates\n",
    "    np.save(f'{folder}/cell_motor_coordinates.npy',\n",
    "            celldata[['xloc', 'yloc', 'depth']].to_numpy(dtype=int))\n",
    "\n",
    "    # scan idx\n",
    "    np.save(f'{folder}/scan_idx.npy',\n",
    "            np.full((num_neurons, ), 0))\n",
    "\n",
    "    # sessions\n",
    "    np.save(f'{folder}/sessions.npy',\n",
    "            celldata['session_id'].to_numpy(dtype='<U32'))\n",
    "\n",
    "    # unit ids\n",
    "    np.save(f'{folder}/unit_ids.npy',\n",
    "            celldata['cell_id'].to_numpy(dtype='<U32'))"
   ]
  }
 ],
 "metadata": {
  "kernelspec": {
   "display_name": "molanalysis",
   "language": "python",
   "name": "python3"
  },
  "language_info": {
   "codemirror_mode": {
    "name": "ipython",
    "version": 3
   },
   "file_extension": ".py",
   "mimetype": "text/x-python",
   "name": "python",
   "nbconvert_exporter": "python",
   "pygments_lexer": "ipython3",
   "version": "3.8.12"
  }
 },
 "nbformat": 4,
 "nbformat_minor": 2
}
